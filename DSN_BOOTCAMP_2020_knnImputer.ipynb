{
  "nbformat": 4,
  "nbformat_minor": 0,
  "metadata": {
    "colab": {
      "name": "DSN_BOOTCAMP_2020_knnImputer.ipynb",
      "provenance": [],
      "collapsed_sections": [],
      "include_colab_link": true
    },
    "kernelspec": {
      "name": "python3",
      "display_name": "Python 3"
    }
  },
  "cells": [
    {
      "cell_type": "markdown",
      "metadata": {
        "id": "view-in-github",
        "colab_type": "text"
      },
      "source": [
        "<a href=\"https://colab.research.google.com/github/Ayanlola2002/Data-Science-Nigeria/blob/master/DSN_BOOTCAMP_2020_knnImputer.ipynb\" target=\"_parent\"><img src=\"https://colab.research.google.com/assets/colab-badge.svg\" alt=\"Open In Colab\"/></a>"
      ]
    },
    {
      "cell_type": "code",
      "metadata": {
        "id": "nrx0zAs4Okhc",
        "outputId": "90f75f56-6347-463c-86b9-879821957ba4",
        "colab": {
          "base_uri": "https://localhost:8080/",
          "height": 54
        }
      },
      "source": [
        "#mounting Gdrive\n",
        "from google.colab import drive\n",
        "drive.mount('/content/drive')"
      ],
      "execution_count": 292,
      "outputs": [
        {
          "output_type": "stream",
          "text": [
            "Drive already mounted at /content/drive; to attempt to forcibly remount, call drive.mount(\"/content/drive\", force_remount=True).\n"
          ],
          "name": "stdout"
        }
      ]
    },
    {
      "cell_type": "code",
      "metadata": {
        "id": "jl4gZ1L3O2NC"
      },
      "source": [
        "import pandas as pd\n",
        "import numpy as np\n",
        "#pd.set_option('display.float_format', lambda x: '{:.3f}'.format(x)) #Limiting floats output to 3 decimal points"
      ],
      "execution_count": 293,
      "outputs": []
    },
    {
      "cell_type": "code",
      "metadata": {
        "id": "XGTxDu2ETOGX"
      },
      "source": [
        "train_df=pd.read_csv('/content/drive/My Drive/DSN_BOOTCAMP/Train.csv')\n",
        "test_df=pd.read_csv('/content/drive/My Drive/DSN_BOOTCAMP/Test.csv')"
      ],
      "execution_count": 294,
      "outputs": []
    },
    {
      "cell_type": "code",
      "metadata": {
        "id": "2MzVWzArWzPv",
        "outputId": "52d90e77-34ac-40fd-9ce4-d0dc4012c7d1",
        "colab": {
          "base_uri": "https://localhost:8080/",
          "height": 215
        }
      },
      "source": [
        "\n",
        "train_df.head()"
      ],
      "execution_count": 295,
      "outputs": [
        {
          "output_type": "execute_result",
          "data": {
            "text/html": [
              "<div>\n",
              "<style scoped>\n",
              "    .dataframe tbody tr th:only-of-type {\n",
              "        vertical-align: middle;\n",
              "    }\n",
              "\n",
              "    .dataframe tbody tr th {\n",
              "        vertical-align: top;\n",
              "    }\n",
              "\n",
              "    .dataframe thead th {\n",
              "        text-align: right;\n",
              "    }\n",
              "</style>\n",
              "<table border=\"1\" class=\"dataframe\">\n",
              "  <thead>\n",
              "    <tr style=\"text-align: right;\">\n",
              "      <th></th>\n",
              "      <th>Applicant_ID</th>\n",
              "      <th>form_field1</th>\n",
              "      <th>form_field2</th>\n",
              "      <th>form_field3</th>\n",
              "      <th>form_field4</th>\n",
              "      <th>form_field5</th>\n",
              "      <th>form_field6</th>\n",
              "      <th>form_field7</th>\n",
              "      <th>form_field8</th>\n",
              "      <th>form_field9</th>\n",
              "      <th>form_field10</th>\n",
              "      <th>form_field11</th>\n",
              "      <th>form_field12</th>\n",
              "      <th>form_field13</th>\n",
              "      <th>form_field14</th>\n",
              "      <th>form_field15</th>\n",
              "      <th>form_field16</th>\n",
              "      <th>form_field17</th>\n",
              "      <th>form_field18</th>\n",
              "      <th>form_field19</th>\n",
              "      <th>form_field20</th>\n",
              "      <th>form_field21</th>\n",
              "      <th>form_field22</th>\n",
              "      <th>form_field23</th>\n",
              "      <th>form_field24</th>\n",
              "      <th>form_field25</th>\n",
              "      <th>form_field26</th>\n",
              "      <th>form_field27</th>\n",
              "      <th>form_field28</th>\n",
              "      <th>form_field29</th>\n",
              "      <th>form_field30</th>\n",
              "      <th>form_field31</th>\n",
              "      <th>form_field32</th>\n",
              "      <th>form_field33</th>\n",
              "      <th>form_field34</th>\n",
              "      <th>form_field35</th>\n",
              "      <th>form_field36</th>\n",
              "      <th>form_field37</th>\n",
              "      <th>form_field38</th>\n",
              "      <th>form_field39</th>\n",
              "      <th>form_field40</th>\n",
              "      <th>form_field41</th>\n",
              "      <th>form_field42</th>\n",
              "      <th>form_field43</th>\n",
              "      <th>form_field44</th>\n",
              "      <th>form_field45</th>\n",
              "      <th>form_field46</th>\n",
              "      <th>form_field47</th>\n",
              "      <th>form_field48</th>\n",
              "      <th>form_field49</th>\n",
              "      <th>form_field50</th>\n",
              "      <th>default_status</th>\n",
              "    </tr>\n",
              "  </thead>\n",
              "  <tbody>\n",
              "    <tr>\n",
              "      <th>0</th>\n",
              "      <td>Apcnt_1000000</td>\n",
              "      <td>3436.0</td>\n",
              "      <td>0.28505</td>\n",
              "      <td>1.6560</td>\n",
              "      <td>0.0</td>\n",
              "      <td>0.000</td>\n",
              "      <td>0.0</td>\n",
              "      <td>10689720.0</td>\n",
              "      <td>252072.0</td>\n",
              "      <td>4272776.0</td>\n",
              "      <td>11333126.0</td>\n",
              "      <td>4397256.0</td>\n",
              "      <td>2301324.0</td>\n",
              "      <td>7875694.0</td>\n",
              "      <td>96375139</td>\n",
              "      <td>112181765.0</td>\n",
              "      <td>1.0</td>\n",
              "      <td>1.0</td>\n",
              "      <td>1.0</td>\n",
              "      <td>3.0</td>\n",
              "      <td>3.0</td>\n",
              "      <td>134.655</td>\n",
              "      <td>NaN</td>\n",
              "      <td>NaN</td>\n",
              "      <td>134.655</td>\n",
              "      <td>4000.5</td>\n",
              "      <td>17064.0</td>\n",
              "      <td>11376.0</td>\n",
              "      <td>60.0</td>\n",
              "      <td>17064.0</td>\n",
              "      <td>5962.0</td>\n",
              "      <td>NaN</td>\n",
              "      <td>1052.0</td>\n",
              "      <td>8.0000</td>\n",
              "      <td>2.0</td>\n",
              "      <td>NaN</td>\n",
              "      <td>12.0</td>\n",
              "      <td>12.0</td>\n",
              "      <td>4.0</td>\n",
              "      <td>0.0</td>\n",
              "      <td>NaN</td>\n",
              "      <td>NaN</td>\n",
              "      <td>0.392854</td>\n",
              "      <td>2.02</td>\n",
              "      <td>0.711632</td>\n",
              "      <td>0.0</td>\n",
              "      <td>0.0</td>\n",
              "      <td>charge</td>\n",
              "      <td>NaN</td>\n",
              "      <td>1.129518</td>\n",
              "      <td>0.044335</td>\n",
              "      <td>no</td>\n",
              "    </tr>\n",
              "    <tr>\n",
              "      <th>1</th>\n",
              "      <td>Apcnt_1000004</td>\n",
              "      <td>3456.0</td>\n",
              "      <td>0.67400</td>\n",
              "      <td>0.2342</td>\n",
              "      <td>0.0</td>\n",
              "      <td>0.000</td>\n",
              "      <td>0.0</td>\n",
              "      <td>898979.0</td>\n",
              "      <td>497531.0</td>\n",
              "      <td>9073814.0</td>\n",
              "      <td>2533168.0</td>\n",
              "      <td>244292.0</td>\n",
              "      <td>3982971.0</td>\n",
              "      <td>2141445.0</td>\n",
              "      <td>28141427</td>\n",
              "      <td>45169902.0</td>\n",
              "      <td>1.0</td>\n",
              "      <td>1.0</td>\n",
              "      <td>1.0</td>\n",
              "      <td>2.0</td>\n",
              "      <td>2.0</td>\n",
              "      <td>109.230</td>\n",
              "      <td>11385.24</td>\n",
              "      <td>14584.29</td>\n",
              "      <td>86.685</td>\n",
              "      <td>4161.0</td>\n",
              "      <td>13413.0</td>\n",
              "      <td>8942.0</td>\n",
              "      <td>304.0</td>\n",
              "      <td>13413.0</td>\n",
              "      <td>5780.0</td>\n",
              "      <td>NaN</td>\n",
              "      <td>2554.0</td>\n",
              "      <td>17.5000</td>\n",
              "      <td>0.0</td>\n",
              "      <td>0.0</td>\n",
              "      <td>16.0</td>\n",
              "      <td>24.0</td>\n",
              "      <td>8.0</td>\n",
              "      <td>0.0</td>\n",
              "      <td>NaN</td>\n",
              "      <td>NaN</td>\n",
              "      <td>0.314281</td>\n",
              "      <td>8.08</td>\n",
              "      <td>0.183584</td>\n",
              "      <td>NaN</td>\n",
              "      <td>0.0</td>\n",
              "      <td>charge</td>\n",
              "      <td>349.805730</td>\n",
              "      <td>1.620483</td>\n",
              "      <td>0.322436</td>\n",
              "      <td>no</td>\n",
              "    </tr>\n",
              "    <tr>\n",
              "      <th>2</th>\n",
              "      <td>Apcnt_1000008</td>\n",
              "      <td>3276.0</td>\n",
              "      <td>0.53845</td>\n",
              "      <td>3.1510</td>\n",
              "      <td>0.0</td>\n",
              "      <td>6.282</td>\n",
              "      <td>NaN</td>\n",
              "      <td>956940.0</td>\n",
              "      <td>NaN</td>\n",
              "      <td>192944.0</td>\n",
              "      <td>1079864.0</td>\n",
              "      <td>NaN</td>\n",
              "      <td>NaN</td>\n",
              "      <td>0.0</td>\n",
              "      <td>16576457</td>\n",
              "      <td>22452691.0</td>\n",
              "      <td>NaN</td>\n",
              "      <td>NaN</td>\n",
              "      <td>NaN</td>\n",
              "      <td>0.0</td>\n",
              "      <td>0.0</td>\n",
              "      <td>NaN</td>\n",
              "      <td>NaN</td>\n",
              "      <td>NaN</td>\n",
              "      <td>NaN</td>\n",
              "      <td>1597.5</td>\n",
              "      <td>4746.0</td>\n",
              "      <td>3164.0</td>\n",
              "      <td>60.0</td>\n",
              "      <td>15696.0</td>\n",
              "      <td>NaN</td>\n",
              "      <td>14508.0</td>\n",
              "      <td>70.0</td>\n",
              "      <td>0.6666</td>\n",
              "      <td>0.0</td>\n",
              "      <td>NaN</td>\n",
              "      <td>12.0</td>\n",
              "      <td>0.0</td>\n",
              "      <td>6.0</td>\n",
              "      <td>0.0</td>\n",
              "      <td>149.6805</td>\n",
              "      <td>NaN</td>\n",
              "      <td>0.162965</td>\n",
              "      <td>18.18</td>\n",
              "      <td>0.791136</td>\n",
              "      <td>0.0</td>\n",
              "      <td>0.0</td>\n",
              "      <td>charge</td>\n",
              "      <td>NaN</td>\n",
              "      <td>1.513370</td>\n",
              "      <td>0.011640</td>\n",
              "      <td>yes</td>\n",
              "    </tr>\n",
              "    <tr>\n",
              "      <th>3</th>\n",
              "      <td>Apcnt_1000012</td>\n",
              "      <td>3372.0</td>\n",
              "      <td>0.17005</td>\n",
              "      <td>0.5050</td>\n",
              "      <td>0.0</td>\n",
              "      <td>0.000</td>\n",
              "      <td>192166.0</td>\n",
              "      <td>3044703.0</td>\n",
              "      <td>385499.0</td>\n",
              "      <td>3986472.0</td>\n",
              "      <td>3621979.0</td>\n",
              "      <td>NaN</td>\n",
              "      <td>771776.0</td>\n",
              "      <td>1186839.0</td>\n",
              "      <td>48187375</td>\n",
              "      <td>136297820.0</td>\n",
              "      <td>0.0</td>\n",
              "      <td>0.0</td>\n",
              "      <td>0.0</td>\n",
              "      <td>1.0</td>\n",
              "      <td>1.0</td>\n",
              "      <td>120.120</td>\n",
              "      <td>8580.00</td>\n",
              "      <td>0.00</td>\n",
              "      <td>85.800</td>\n",
              "      <td>1701.0</td>\n",
              "      <td>4014.0</td>\n",
              "      <td>2676.0</td>\n",
              "      <td>60.0</td>\n",
              "      <td>11679.0</td>\n",
              "      <td>NaN</td>\n",
              "      <td>NaN</td>\n",
              "      <td>522.0</td>\n",
              "      <td>7.8334</td>\n",
              "      <td>1.0</td>\n",
              "      <td>1.0</td>\n",
              "      <td>4.0</td>\n",
              "      <td>8.0</td>\n",
              "      <td>4.0</td>\n",
              "      <td>1.0</td>\n",
              "      <td>NaN</td>\n",
              "      <td>NaN</td>\n",
              "      <td>0.488884</td>\n",
              "      <td>2.02</td>\n",
              "      <td>0.685168</td>\n",
              "      <td>NaN</td>\n",
              "      <td>0.0</td>\n",
              "      <td>charge</td>\n",
              "      <td>89.940100</td>\n",
              "      <td>0.664452</td>\n",
              "      <td>0.082729</td>\n",
              "      <td>no</td>\n",
              "    </tr>\n",
              "    <tr>\n",
              "      <th>4</th>\n",
              "      <td>Apcnt_1000016</td>\n",
              "      <td>3370.0</td>\n",
              "      <td>0.77270</td>\n",
              "      <td>1.1010</td>\n",
              "      <td>0.0</td>\n",
              "      <td>0.000</td>\n",
              "      <td>1556.0</td>\n",
              "      <td>214728.0</td>\n",
              "      <td>214728.0</td>\n",
              "      <td>1284089.0</td>\n",
              "      <td>361770.0</td>\n",
              "      <td>396391.0</td>\n",
              "      <td>818456.0</td>\n",
              "      <td>511535.0</td>\n",
              "      <td>28141427</td>\n",
              "      <td>15292757.0</td>\n",
              "      <td>0.0</td>\n",
              "      <td>0.0</td>\n",
              "      <td>0.0</td>\n",
              "      <td>3.0</td>\n",
              "      <td>3.0</td>\n",
              "      <td>104.535</td>\n",
              "      <td>8360.19</td>\n",
              "      <td>10326.45</td>\n",
              "      <td>115.335</td>\n",
              "      <td>1551.0</td>\n",
              "      <td>3285.0</td>\n",
              "      <td>2190.0</td>\n",
              "      <td>60.0</td>\n",
              "      <td>19437.0</td>\n",
              "      <td>12958.0</td>\n",
              "      <td>5202.0</td>\n",
              "      <td>272.0</td>\n",
              "      <td>1.0000</td>\n",
              "      <td>0.0</td>\n",
              "      <td>0.0</td>\n",
              "      <td>24.0</td>\n",
              "      <td>2.0</td>\n",
              "      <td>24.0</td>\n",
              "      <td>0.0</td>\n",
              "      <td>150.0135</td>\n",
              "      <td>NaN</td>\n",
              "      <td>0.275000</td>\n",
              "      <td>12.12</td>\n",
              "      <td>0.438168</td>\n",
              "      <td>0.0</td>\n",
              "      <td>0.0</td>\n",
              "      <td>charge</td>\n",
              "      <td>97.887502</td>\n",
              "      <td>1.427891</td>\n",
              "      <td>0.045630</td>\n",
              "      <td>no</td>\n",
              "    </tr>\n",
              "  </tbody>\n",
              "</table>\n",
              "</div>"
            ],
            "text/plain": [
              "    Applicant_ID  form_field1  ...  form_field50  default_status\n",
              "0  Apcnt_1000000       3436.0  ...      0.044335              no\n",
              "1  Apcnt_1000004       3456.0  ...      0.322436              no\n",
              "2  Apcnt_1000008       3276.0  ...      0.011640             yes\n",
              "3  Apcnt_1000012       3372.0  ...      0.082729              no\n",
              "4  Apcnt_1000016       3370.0  ...      0.045630              no\n",
              "\n",
              "[5 rows x 52 columns]"
            ]
          },
          "metadata": {
            "tags": []
          },
          "execution_count": 295
        }
      ]
    },
    {
      "cell_type": "code",
      "metadata": {
        "id": "LTKd1ptl4xhk",
        "outputId": "96d7d386-32fc-48c2-84e0-7e6cb348ab98",
        "colab": {
          "base_uri": "https://localhost:8080/",
          "height": 215
        }
      },
      "source": [
        "test_df.head()"
      ],
      "execution_count": 296,
      "outputs": [
        {
          "output_type": "execute_result",
          "data": {
            "text/html": [
              "<div>\n",
              "<style scoped>\n",
              "    .dataframe tbody tr th:only-of-type {\n",
              "        vertical-align: middle;\n",
              "    }\n",
              "\n",
              "    .dataframe tbody tr th {\n",
              "        vertical-align: top;\n",
              "    }\n",
              "\n",
              "    .dataframe thead th {\n",
              "        text-align: right;\n",
              "    }\n",
              "</style>\n",
              "<table border=\"1\" class=\"dataframe\">\n",
              "  <thead>\n",
              "    <tr style=\"text-align: right;\">\n",
              "      <th></th>\n",
              "      <th>Applicant_ID</th>\n",
              "      <th>form_field1</th>\n",
              "      <th>form_field2</th>\n",
              "      <th>form_field3</th>\n",
              "      <th>form_field4</th>\n",
              "      <th>form_field5</th>\n",
              "      <th>form_field6</th>\n",
              "      <th>form_field7</th>\n",
              "      <th>form_field8</th>\n",
              "      <th>form_field9</th>\n",
              "      <th>form_field10</th>\n",
              "      <th>form_field11</th>\n",
              "      <th>form_field12</th>\n",
              "      <th>form_field13</th>\n",
              "      <th>form_field14</th>\n",
              "      <th>form_field15</th>\n",
              "      <th>form_field16</th>\n",
              "      <th>form_field17</th>\n",
              "      <th>form_field18</th>\n",
              "      <th>form_field19</th>\n",
              "      <th>form_field20</th>\n",
              "      <th>form_field21</th>\n",
              "      <th>form_field22</th>\n",
              "      <th>form_field23</th>\n",
              "      <th>form_field24</th>\n",
              "      <th>form_field25</th>\n",
              "      <th>form_field26</th>\n",
              "      <th>form_field27</th>\n",
              "      <th>form_field28</th>\n",
              "      <th>form_field29</th>\n",
              "      <th>form_field30</th>\n",
              "      <th>form_field31</th>\n",
              "      <th>form_field32</th>\n",
              "      <th>form_field33</th>\n",
              "      <th>form_field34</th>\n",
              "      <th>form_field35</th>\n",
              "      <th>form_field36</th>\n",
              "      <th>form_field37</th>\n",
              "      <th>form_field38</th>\n",
              "      <th>form_field39</th>\n",
              "      <th>form_field40</th>\n",
              "      <th>form_field41</th>\n",
              "      <th>form_field42</th>\n",
              "      <th>form_field43</th>\n",
              "      <th>form_field44</th>\n",
              "      <th>form_field45</th>\n",
              "      <th>form_field46</th>\n",
              "      <th>form_field47</th>\n",
              "      <th>form_field48</th>\n",
              "      <th>form_field49</th>\n",
              "      <th>form_field50</th>\n",
              "    </tr>\n",
              "  </thead>\n",
              "  <tbody>\n",
              "    <tr>\n",
              "      <th>0</th>\n",
              "      <td>Apcnt_1000032</td>\n",
              "      <td>3236.0</td>\n",
              "      <td>0.34875</td>\n",
              "      <td>10.2006</td>\n",
              "      <td>0.0000</td>\n",
              "      <td>0.0</td>\n",
              "      <td>418564.0</td>\n",
              "      <td>418564.0</td>\n",
              "      <td>418564.0</td>\n",
              "      <td>540710.0</td>\n",
              "      <td>0.0</td>\n",
              "      <td>1649749.0</td>\n",
              "      <td>5446.0</td>\n",
              "      <td>0.0</td>\n",
              "      <td>48187375</td>\n",
              "      <td>114686147.0</td>\n",
              "      <td>0.0</td>\n",
              "      <td>0.0</td>\n",
              "      <td>0.0</td>\n",
              "      <td>0.0</td>\n",
              "      <td>0.0</td>\n",
              "      <td>NaN</td>\n",
              "      <td>NaN</td>\n",
              "      <td>NaN</td>\n",
              "      <td>NaN</td>\n",
              "      <td>1086.0</td>\n",
              "      <td>6204.0</td>\n",
              "      <td>2676.0</td>\n",
              "      <td>60.0</td>\n",
              "      <td>14691.0</td>\n",
              "      <td>9794.0</td>\n",
              "      <td>NaN</td>\n",
              "      <td>238.0</td>\n",
              "      <td>1.8334</td>\n",
              "      <td>0.0</td>\n",
              "      <td>NaN</td>\n",
              "      <td>22.0</td>\n",
              "      <td>2.0</td>\n",
              "      <td>14.0</td>\n",
              "      <td>0.0</td>\n",
              "      <td>NaN</td>\n",
              "      <td>NaN</td>\n",
              "      <td>0.825000</td>\n",
              "      <td>1.01</td>\n",
              "      <td>0.800000</td>\n",
              "      <td>NaN</td>\n",
              "      <td>0.0</td>\n",
              "      <td>charge</td>\n",
              "      <td>NaN</td>\n",
              "      <td>0.000000</td>\n",
              "      <td>0.011221</td>\n",
              "    </tr>\n",
              "    <tr>\n",
              "      <th>1</th>\n",
              "      <td>Apcnt_1000048</td>\n",
              "      <td>3284.0</td>\n",
              "      <td>1.27360</td>\n",
              "      <td>2.9606</td>\n",
              "      <td>9.0198</td>\n",
              "      <td>0.0</td>\n",
              "      <td>0.0</td>\n",
              "      <td>9858816.0</td>\n",
              "      <td>49014.0</td>\n",
              "      <td>1510098.0</td>\n",
              "      <td>18308285.0</td>\n",
              "      <td>622789.0</td>\n",
              "      <td>1025793.0</td>\n",
              "      <td>1396510.0</td>\n",
              "      <td>34694910</td>\n",
              "      <td>87479487.0</td>\n",
              "      <td>1.0</td>\n",
              "      <td>1.0</td>\n",
              "      <td>1.0</td>\n",
              "      <td>2.0</td>\n",
              "      <td>2.0</td>\n",
              "      <td>142.560</td>\n",
              "      <td>NaN</td>\n",
              "      <td>NaN</td>\n",
              "      <td>570.585</td>\n",
              "      <td>3082.5</td>\n",
              "      <td>10221.0</td>\n",
              "      <td>6814.0</td>\n",
              "      <td>60.0</td>\n",
              "      <td>11955.0</td>\n",
              "      <td>3528.0</td>\n",
              "      <td>NaN</td>\n",
              "      <td>1216.0</td>\n",
              "      <td>19.5000</td>\n",
              "      <td>3.0</td>\n",
              "      <td>NaN</td>\n",
              "      <td>30.0</td>\n",
              "      <td>18.0</td>\n",
              "      <td>14.0</td>\n",
              "      <td>2.0</td>\n",
              "      <td>NaN</td>\n",
              "      <td>18.8415</td>\n",
              "      <td>0.507694</td>\n",
              "      <td>4.04</td>\n",
              "      <td>0.623248</td>\n",
              "      <td>1.0</td>\n",
              "      <td>0.0</td>\n",
              "      <td>lending</td>\n",
              "      <td>NaN</td>\n",
              "      <td>0.504974</td>\n",
              "      <td>0.043525</td>\n",
              "    </tr>\n",
              "    <tr>\n",
              "      <th>2</th>\n",
              "      <td>Apcnt_1000052</td>\n",
              "      <td>NaN</td>\n",
              "      <td>0.27505</td>\n",
              "      <td>0.0600</td>\n",
              "      <td>0.0000</td>\n",
              "      <td>0.0</td>\n",
              "      <td>NaN</td>\n",
              "      <td>NaN</td>\n",
              "      <td>NaN</td>\n",
              "      <td>NaN</td>\n",
              "      <td>0.0</td>\n",
              "      <td>118256.0</td>\n",
              "      <td>NaN</td>\n",
              "      <td>NaN</td>\n",
              "      <td>21973443</td>\n",
              "      <td>NaN</td>\n",
              "      <td>NaN</td>\n",
              "      <td>NaN</td>\n",
              "      <td>NaN</td>\n",
              "      <td>0.0</td>\n",
              "      <td>0.0</td>\n",
              "      <td>NaN</td>\n",
              "      <td>NaN</td>\n",
              "      <td>NaN</td>\n",
              "      <td>NaN</td>\n",
              "      <td>NaN</td>\n",
              "      <td>NaN</td>\n",
              "      <td>NaN</td>\n",
              "      <td>852.0</td>\n",
              "      <td>4836.0</td>\n",
              "      <td>NaN</td>\n",
              "      <td>NaN</td>\n",
              "      <td>NaN</td>\n",
              "      <td>7.8334</td>\n",
              "      <td>0.0</td>\n",
              "      <td>NaN</td>\n",
              "      <td>2.0</td>\n",
              "      <td>NaN</td>\n",
              "      <td>0.0</td>\n",
              "      <td>NaN</td>\n",
              "      <td>NaN</td>\n",
              "      <td>NaN</td>\n",
              "      <td>NaN</td>\n",
              "      <td>0.00</td>\n",
              "      <td>NaN</td>\n",
              "      <td>NaN</td>\n",
              "      <td>NaN</td>\n",
              "      <td>charge</td>\n",
              "      <td>NaN</td>\n",
              "      <td>0.000000</td>\n",
              "      <td>NaN</td>\n",
              "    </tr>\n",
              "    <tr>\n",
              "      <th>3</th>\n",
              "      <td>Apcnt_1000076</td>\n",
              "      <td>3232.0</td>\n",
              "      <td>0.28505</td>\n",
              "      <td>2.8032</td>\n",
              "      <td>0.0000</td>\n",
              "      <td>0.0</td>\n",
              "      <td>0.0</td>\n",
              "      <td>473802.0</td>\n",
              "      <td>473802.0</td>\n",
              "      <td>1724437.0</td>\n",
              "      <td>493641.0</td>\n",
              "      <td>1391064.0</td>\n",
              "      <td>1176725.0</td>\n",
              "      <td>1220293.0</td>\n",
              "      <td>16576457</td>\n",
              "      <td>NaN</td>\n",
              "      <td>2.0</td>\n",
              "      <td>2.0</td>\n",
              "      <td>2.0</td>\n",
              "      <td>3.0</td>\n",
              "      <td>3.0</td>\n",
              "      <td>109.005</td>\n",
              "      <td>13050.00</td>\n",
              "      <td>NaN</td>\n",
              "      <td>109.005</td>\n",
              "      <td>1414.5</td>\n",
              "      <td>4197.0</td>\n",
              "      <td>2798.0</td>\n",
              "      <td>60.0</td>\n",
              "      <td>14964.0</td>\n",
              "      <td>NaN</td>\n",
              "      <td>NaN</td>\n",
              "      <td>248.0</td>\n",
              "      <td>9.0000</td>\n",
              "      <td>1.0</td>\n",
              "      <td>1.0</td>\n",
              "      <td>36.0</td>\n",
              "      <td>0.0</td>\n",
              "      <td>26.0</td>\n",
              "      <td>0.0</td>\n",
              "      <td>NaN</td>\n",
              "      <td>NaN</td>\n",
              "      <td>0.916663</td>\n",
              "      <td>2.02</td>\n",
              "      <td>0.464224</td>\n",
              "      <td>NaN</td>\n",
              "      <td>NaN</td>\n",
              "      <td>charge</td>\n",
              "      <td>90.163742</td>\n",
              "      <td>0.788809</td>\n",
              "      <td>0.104029</td>\n",
              "    </tr>\n",
              "    <tr>\n",
              "      <th>4</th>\n",
              "      <td>Apcnt_1000080</td>\n",
              "      <td>3466.0</td>\n",
              "      <td>2.09545</td>\n",
              "      <td>0.8318</td>\n",
              "      <td>2.5182</td>\n",
              "      <td>0.0</td>\n",
              "      <td>19839.0</td>\n",
              "      <td>1150662.0</td>\n",
              "      <td>1150662.0</td>\n",
              "      <td>7860523.0</td>\n",
              "      <td>5752921.0</td>\n",
              "      <td>271133.0</td>\n",
              "      <td>613064.0</td>\n",
              "      <td>4779643.0</td>\n",
              "      <td>48187375</td>\n",
              "      <td>72049802.0</td>\n",
              "      <td>0.0</td>\n",
              "      <td>0.0</td>\n",
              "      <td>0.0</td>\n",
              "      <td>3.0</td>\n",
              "      <td>3.0</td>\n",
              "      <td>139.065</td>\n",
              "      <td>469.29</td>\n",
              "      <td>469.29</td>\n",
              "      <td>15.180</td>\n",
              "      <td>2724.0</td>\n",
              "      <td>9855.0</td>\n",
              "      <td>6570.0</td>\n",
              "      <td>182.0</td>\n",
              "      <td>11679.0</td>\n",
              "      <td>5900.0</td>\n",
              "      <td>NaN</td>\n",
              "      <td>2388.0</td>\n",
              "      <td>16.6666</td>\n",
              "      <td>1.0</td>\n",
              "      <td>0.0</td>\n",
              "      <td>24.0</td>\n",
              "      <td>28.0</td>\n",
              "      <td>20.0</td>\n",
              "      <td>0.0</td>\n",
              "      <td>NaN</td>\n",
              "      <td>NaN</td>\n",
              "      <td>0.234047</td>\n",
              "      <td>23.23</td>\n",
              "      <td>0.726688</td>\n",
              "      <td>0.0</td>\n",
              "      <td>0.0</td>\n",
              "      <td>lending</td>\n",
              "      <td>1303.587148</td>\n",
              "      <td>1.637733</td>\n",
              "      <td>0.163124</td>\n",
              "    </tr>\n",
              "  </tbody>\n",
              "</table>\n",
              "</div>"
            ],
            "text/plain": [
              "    Applicant_ID  form_field1  ...  form_field49  form_field50\n",
              "0  Apcnt_1000032       3236.0  ...      0.000000      0.011221\n",
              "1  Apcnt_1000048       3284.0  ...      0.504974      0.043525\n",
              "2  Apcnt_1000052          NaN  ...      0.000000           NaN\n",
              "3  Apcnt_1000076       3232.0  ...      0.788809      0.104029\n",
              "4  Apcnt_1000080       3466.0  ...      1.637733      0.163124\n",
              "\n",
              "[5 rows x 51 columns]"
            ]
          },
          "metadata": {
            "tags": []
          },
          "execution_count": 296
        }
      ]
    },
    {
      "cell_type": "code",
      "metadata": {
        "id": "cHJSmWxpznNt"
      },
      "source": [
        "Application_id=test_df['Applicant_ID']"
      ],
      "execution_count": 297,
      "outputs": []
    },
    {
      "cell_type": "code",
      "metadata": {
        "id": "YqX6tU3IyfUi"
      },
      "source": [
        " train_df.dropna(thresh=train_df.shape[1]*0.7,how='all',axis=0,inplace=True)"
      ],
      "execution_count": 298,
      "outputs": []
    },
    {
      "cell_type": "code",
      "metadata": {
        "id": "c6h-MB_SXH_P",
        "outputId": "4e10fb2b-c2e8-488c-8452-06be88f1dfa3",
        "colab": {
          "base_uri": "https://localhost:8080/",
          "height": 50
        }
      },
      "source": [
        "\n",
        "print(train_df.shape)\n",
        "print(test_df.shape)"
      ],
      "execution_count": 299,
      "outputs": [
        {
          "output_type": "stream",
          "text": [
            "(45546, 52)\n",
            "(24000, 51)\n"
          ],
          "name": "stdout"
        }
      ]
    },
    {
      "cell_type": "code",
      "metadata": {
        "id": "XXyGbAVGzQyA",
        "outputId": "5a744d39-a20b-402b-8802-18173875333f",
        "colab": {
          "base_uri": "https://localhost:8080/",
          "height": 34
        }
      },
      "source": [
        "train_df.shape"
      ],
      "execution_count": 300,
      "outputs": [
        {
          "output_type": "execute_result",
          "data": {
            "text/plain": [
              "(45546, 52)"
            ]
          },
          "metadata": {
            "tags": []
          },
          "execution_count": 300
        }
      ]
    },
    {
      "cell_type": "code",
      "metadata": {
        "id": "VZ6XFSK9iDyq",
        "outputId": "b1464e34-b608-44d1-c5a8-ac1b52893e97",
        "colab": {
          "base_uri": "https://localhost:8080/",
          "height": 34
        }
      },
      "source": [
        "train_df.default_status.unique()"
      ],
      "execution_count": 301,
      "outputs": [
        {
          "output_type": "execute_result",
          "data": {
            "text/plain": [
              "array(['no', 'yes'], dtype=object)"
            ]
          },
          "metadata": {
            "tags": []
          },
          "execution_count": 301
        }
      ]
    },
    {
      "cell_type": "code",
      "metadata": {
        "id": "dXMim_IzhOpg"
      },
      "source": [
        "#target varriable\n",
        "train_df.loc[train_df.default_status=='no','default_status']=0\n",
        "#target varriable\n",
        "train_df.loc[train_df.default_status=='yes','default_status']=1"
      ],
      "execution_count": 302,
      "outputs": []
    },
    {
      "cell_type": "code",
      "metadata": {
        "id": "WuJS5ZhY6xOd"
      },
      "source": [
        "#saving the order Id column and predictor column\n",
        "#Application_id=test_df['Applicant_ID']\n",
        "y_train=train_df.iloc[:,-1].astype('int')"
      ],
      "execution_count": 303,
      "outputs": []
    },
    {
      "cell_type": "code",
      "metadata": {
        "id": "A7A60GlDoNv6",
        "outputId": "f5a7ac4e-d702-41f0-cbae-1cabc2efac3d",
        "colab": {
          "base_uri": "https://localhost:8080/",
          "height": 218
        }
      },
      "source": [
        "y_train"
      ],
      "execution_count": 304,
      "outputs": [
        {
          "output_type": "execute_result",
          "data": {
            "text/plain": [
              "0        0\n",
              "1        0\n",
              "2        1\n",
              "3        0\n",
              "4        0\n",
              "        ..\n",
              "55993    0\n",
              "55995    0\n",
              "55996    1\n",
              "55997    0\n",
              "55999    0\n",
              "Name: default_status, Length: 45546, dtype: int64"
            ]
          },
          "metadata": {
            "tags": []
          },
          "execution_count": 304
        }
      ]
    },
    {
      "cell_type": "code",
      "metadata": {
        "id": "kpAfzliNT7iT",
        "outputId": "c7706771-008f-41d1-d4de-40caf3808963",
        "colab": {
          "base_uri": "https://localhost:8080/",
          "height": 907
        }
      },
      "source": [
        "#type(train_df.isnull().sum())\n",
        "train_df.isnull().sum()"
      ],
      "execution_count": 305,
      "outputs": [
        {
          "output_type": "execute_result",
          "data": {
            "text/plain": [
              "Applicant_ID          0\n",
              "form_field1         170\n",
              "form_field2        2612\n",
              "form_field3           0\n",
              "form_field4           0\n",
              "form_field5           0\n",
              "form_field6        3106\n",
              "form_field7         118\n",
              "form_field8        3106\n",
              "form_field9         992\n",
              "form_field10          0\n",
              "form_field11      29154\n",
              "form_field12        799\n",
              "form_field13       1256\n",
              "form_field14          0\n",
              "form_field15      16929\n",
              "form_field16       2845\n",
              "form_field17       1372\n",
              "form_field18       1169\n",
              "form_field19          0\n",
              "form_field20          0\n",
              "form_field21       5629\n",
              "form_field22      10604\n",
              "form_field23      17894\n",
              "form_field24       3338\n",
              "form_field25        210\n",
              "form_field26        724\n",
              "form_field27       1744\n",
              "form_field28          0\n",
              "form_field29          0\n",
              "form_field30      18536\n",
              "form_field31      32140\n",
              "form_field32        210\n",
              "form_field33        793\n",
              "form_field34          0\n",
              "form_field35      13464\n",
              "form_field36        936\n",
              "form_field37        210\n",
              "form_field38          0\n",
              "form_field39         10\n",
              "form_field40      35363\n",
              "form_field41      29182\n",
              "form_field42        412\n",
              "form_field43         48\n",
              "form_field44        640\n",
              "form_field45      22550\n",
              "form_field46      10620\n",
              "form_field47          0\n",
              "form_field48      10715\n",
              "form_field49          0\n",
              "form_field50       3572\n",
              "default_status        0\n",
              "dtype: int64"
            ]
          },
          "metadata": {
            "tags": []
          },
          "execution_count": 305
        }
      ]
    },
    {
      "cell_type": "code",
      "metadata": {
        "id": "kdb0kwT1T_Yo",
        "outputId": "fbc8340a-d963-4e08-a786-051fc4039e3d",
        "colab": {
          "base_uri": "https://localhost:8080/",
          "height": 1000
        }
      },
      "source": [
        "train_df.info()"
      ],
      "execution_count": 306,
      "outputs": [
        {
          "output_type": "stream",
          "text": [
            "<class 'pandas.core.frame.DataFrame'>\n",
            "Int64Index: 45546 entries, 0 to 55999\n",
            "Data columns (total 52 columns):\n",
            " #   Column          Non-Null Count  Dtype  \n",
            "---  ------          --------------  -----  \n",
            " 0   Applicant_ID    45546 non-null  object \n",
            " 1   form_field1     45376 non-null  float64\n",
            " 2   form_field2     42934 non-null  float64\n",
            " 3   form_field3     45546 non-null  float64\n",
            " 4   form_field4     45546 non-null  float64\n",
            " 5   form_field5     45546 non-null  float64\n",
            " 6   form_field6     42440 non-null  float64\n",
            " 7   form_field7     45428 non-null  float64\n",
            " 8   form_field8     42440 non-null  float64\n",
            " 9   form_field9     44554 non-null  float64\n",
            " 10  form_field10    45546 non-null  float64\n",
            " 11  form_field11    16392 non-null  float64\n",
            " 12  form_field12    44747 non-null  float64\n",
            " 13  form_field13    44290 non-null  float64\n",
            " 14  form_field14    45546 non-null  int64  \n",
            " 15  form_field15    28617 non-null  float64\n",
            " 16  form_field16    42701 non-null  float64\n",
            " 17  form_field17    44174 non-null  float64\n",
            " 18  form_field18    44377 non-null  float64\n",
            " 19  form_field19    45546 non-null  float64\n",
            " 20  form_field20    45546 non-null  float64\n",
            " 21  form_field21    39917 non-null  float64\n",
            " 22  form_field22    34942 non-null  float64\n",
            " 23  form_field23    27652 non-null  float64\n",
            " 24  form_field24    42208 non-null  float64\n",
            " 25  form_field25    45336 non-null  float64\n",
            " 26  form_field26    44822 non-null  float64\n",
            " 27  form_field27    43802 non-null  float64\n",
            " 28  form_field28    45546 non-null  float64\n",
            " 29  form_field29    45546 non-null  float64\n",
            " 30  form_field30    27010 non-null  float64\n",
            " 31  form_field31    13406 non-null  float64\n",
            " 32  form_field32    45336 non-null  float64\n",
            " 33  form_field33    44753 non-null  float64\n",
            " 34  form_field34    45546 non-null  float64\n",
            " 35  form_field35    32082 non-null  float64\n",
            " 36  form_field36    44610 non-null  float64\n",
            " 37  form_field37    45336 non-null  float64\n",
            " 38  form_field38    45546 non-null  float64\n",
            " 39  form_field39    45536 non-null  float64\n",
            " 40  form_field40    10183 non-null  float64\n",
            " 41  form_field41    16364 non-null  float64\n",
            " 42  form_field42    45134 non-null  float64\n",
            " 43  form_field43    45498 non-null  float64\n",
            " 44  form_field44    44906 non-null  float64\n",
            " 45  form_field45    22996 non-null  float64\n",
            " 46  form_field46    34926 non-null  float64\n",
            " 47  form_field47    45546 non-null  object \n",
            " 48  form_field48    34831 non-null  float64\n",
            " 49  form_field49    45546 non-null  float64\n",
            " 50  form_field50    41974 non-null  float64\n",
            " 51  default_status  45546 non-null  object \n",
            "dtypes: float64(48), int64(1), object(3)\n",
            "memory usage: 18.4+ MB\n"
          ],
          "name": "stdout"
        }
      ]
    },
    {
      "cell_type": "code",
      "metadata": {
        "id": "icxhAjnKNnDL",
        "outputId": "f856730d-d110-4afb-d260-d599e2796a42",
        "colab": {
          "base_uri": "https://localhost:8080/",
          "height": 34
        }
      },
      "source": [
        "train_df.form_field40.unique()\n",
        "#fill form_field40 with mean,median"
      ],
      "execution_count": 307,
      "outputs": [
        {
          "output_type": "execute_result",
          "data": {
            "text/plain": [
              "array([     nan, 149.6805, 150.0135, ..., 110.334 , 178.371 , 158.025 ])"
            ]
          },
          "metadata": {
            "tags": []
          },
          "execution_count": 307
        }
      ]
    },
    {
      "cell_type": "code",
      "metadata": {
        "id": "NSerJRt5qLpO",
        "outputId": "f8b4443f-fe1d-45f9-b07b-22b61f4c6573",
        "colab": {
          "base_uri": "https://localhost:8080/",
          "height": 34
        }
      },
      "source": [
        "train_df.form_field47.unique()"
      ],
      "execution_count": 308,
      "outputs": [
        {
          "output_type": "execute_result",
          "data": {
            "text/plain": [
              "array(['charge', 'lending'], dtype=object)"
            ]
          },
          "metadata": {
            "tags": []
          },
          "execution_count": 308
        }
      ]
    },
    {
      "cell_type": "code",
      "metadata": {
        "id": "VUEdtMDfOJXM",
        "outputId": "e75a21ba-270f-4c58-ed35-6fee68116005",
        "colab": {
          "base_uri": "https://localhost:8080/",
          "height": 840
        }
      },
      "source": [
        "train_df.form_field31.unique()\n",
        "#mean,median\n",
        "#its also better to check the distribution with respect to some other fields.\n",
        "#bivariate analysis"
      ],
      "execution_count": 309,
      "outputs": [
        {
          "output_type": "execute_result",
          "data": {
            "text/plain": [
              "array([   nan, 14508.,  5202., 17430., 21990., 11499.,  8031., 31845.,\n",
              "       17703., 13506.,  8943.,  4014.,  1917.,  9945.,  5019., 15879.,\n",
              "        6024., 11955., 17064., 10767., 12867.,  6114., 13413., 16152.,\n",
              "       10584.,  6936., 12684., 22629.,  6204., 10494., 15057., 15969.,\n",
              "       20622., 18069.,  3468.,  8670., 12135., 23451.,  4746., 10311.,\n",
              "       16974.,  7299., 16791., 10404., 10677., 10128.,  9489., 15786.,\n",
              "       11316.,   822., 11772., 13140.,  3834.,  8577., 13869., 12318.,\n",
              "        3375.,  7026.,  2829.,  7755., 22083.,  1368.,  9399.,  5385.,\n",
              "       10038., 14145., 15696., 13779.,  1185., 20805.,  4929.,  2463.,\n",
              "       14418.,  7119.,  6297., 19164., 19983.,  8304.,  3741.,  6753.,\n",
              "        4653., 11679., 12501.,   729., 18798., 10221., 29019., 11406.,\n",
              "         273., 27465., 25368., 15513., 14235., 17154.,  9672.,  4470.,\n",
              "       21444., 23724.,  5109., 13962., 14784., 14325.,  2373.,  5565.,\n",
              "       13596.,  3924., 12774.,  4563.,  1005., 18981.,  3102., 20439.,\n",
              "       11133.,   639.,  1551., 20259., 16059., 28014.,  7392., 24273.,\n",
              "        7209.,  9582., 17886.,  5658., 13323.,  1824., 19344.,  5931.,\n",
              "       13689., 16515., 16608., 14691.,  8394., 15603., 14601., 18159.,\n",
              "       16881.,  6480., 22539., 18615., 25275.,  4836.,  1644., 29838.,\n",
              "       15240., 18249., 15330., 19620.,  6843.,  7938., 24363.,  2919.,\n",
              "        7848.,  5292.,   456., 18888., 19254.,  9765., 16698., 12045.,\n",
              "       22449.,  6570., 20349., 24546., 38598.,  1734., 11223., 10860.,\n",
              "         912.,  2556.,  3195., 15420.,  1278., 17976., 21354., 11589.,\n",
              "        2190., 20895.,  8121., 12411., 12228., 12594., 17610.,  9216.,\n",
              "       24819.,  3651., 20988., 10950., 14874.,  7665., 14964., 17793.,\n",
              "       20076., 21534.,  5475.,  2646.,  4290., 21900., 23634., 19893.,\n",
              "       19710.,  5748., 13230.,  9309., 11862., 18432., 13050.,  7482.,\n",
              "       22356.,  2739.,  5841.,  6660., 28104., 11040.,  8214.,  4380.,\n",
              "       29382.,  4107.,  9855., 33306., 22266., 23085., 15147., 26553.,\n",
              "       18705., 20715., 17247.,  8487., 27924.,  6387.,  8760.,  9033.,\n",
              "       32211., 29109., 29565., 17337.,  3558.,  7575.,  8850., 21078.,\n",
              "       20532., 16335., 18525., 19437.,    90., 12957., 24456., 30477.,\n",
              "       26463., 24639.,  9126., 14052.,  1095.,   549., 19800., 22905.,\n",
              "        3012., 21171., 16425.,  2007., 25185., 18342., 23544., 23907.,\n",
              "       22812., 28653., 19071.,  2280.,  2100.,  4197., 30021., 22722.,\n",
              "       29748., 28560., 26829., 23178., 33672., 35589., 25002., 21627.,\n",
              "       27009.,   366., 24729., 31389., 34401., 28197., 26736., 27375.,\n",
              "       21717.,  1461., 16242., 23817., 39054., 19527., 17520., 25824.,\n",
              "       33033.,     0., 27648., 21810., 31299., 23268., 25458., 42066.,\n",
              "       28836., 21261., 36135., 29655., 27558., 29292., 27192., 24090.,\n",
              "       26007., 22173., 30204., 28926., 23361., 20166., 32484., 30843.,\n",
              "       22995.,  3285., 26097., 27831., 32304., 43617., 25914., 37869.,\n",
              "       24912., 30387.,   183., 27285., 32667., 26919., 30114., 25641.,\n",
              "       37047., 28743., 32760., 36957., 28380., 31026., 24000., 28470.,\n",
              "       26280., 26190., 25095., 31482., 30660., 35406., 29931., 24180.,\n",
              "       31572., 25734., 37413., 31755., 35223., 47085., 28287., 32850.,\n",
              "       30294., 27102., 26370., 37779., 34311., 32394., 26646., 30933.,\n",
              "       34128., 31665., 31938., 25551., 32577., 30750., 27741., 36225.,\n",
              "       34218., 33123., 33216., 30570., 29199., 29475., 37686., 31209.,\n",
              "       36864., 39876., 33399., 36408.])"
            ]
          },
          "metadata": {
            "tags": []
          },
          "execution_count": 309
        }
      ]
    },
    {
      "cell_type": "code",
      "metadata": {
        "id": "RjNyNVI9g26p",
        "outputId": "6447ff0f-5e73-4762-a507-c759f625e5f4",
        "colab": {
          "base_uri": "https://localhost:8080/",
          "height": 34
        }
      },
      "source": [
        "(train_df.form_field6.isnull().sum()/len(train_df))*100"
      ],
      "execution_count": 310,
      "outputs": [
        {
          "output_type": "execute_result",
          "data": {
            "text/plain": [
              "6.819479207833838"
            ]
          },
          "metadata": {
            "tags": []
          },
          "execution_count": 310
        }
      ]
    },
    {
      "cell_type": "code",
      "metadata": {
        "id": "7t-NjkE1lCIb"
      },
      "source": [
        "#filling field6 and field7 nan values with zeros\n",
        "train_df.fillna({'form_field6':0,'form_field7':0},inplace=True)\n",
        "test_df.fillna({'form_field6':0,'form_field7':0},inplace=True)"
      ],
      "execution_count": 311,
      "outputs": []
    },
    {
      "cell_type": "code",
      "metadata": {
        "id": "Bp1NvvuBDyYK"
      },
      "source": [
        "#Now drop the  'Id' colum since it's unnecessary for  the prediction process.\n",
        "train_df.drop(\"Applicant_ID\", axis = 1, inplace = True)\n",
        "test_df.drop(\"Applicant_ID\", axis = 1, inplace = True)"
      ],
      "execution_count": 312,
      "outputs": []
    },
    {
      "cell_type": "code",
      "metadata": {
        "id": "HZYYU6MOkKZg"
      },
      "source": [
        "# let's delete the last column from the dataset to  concat train and test\n",
        "train_df = train_df.drop(['default_status'], axis = 1)"
      ],
      "execution_count": 313,
      "outputs": []
    },
    {
      "cell_type": "code",
      "metadata": {
        "id": "hqpkc1RxmDDH",
        "outputId": "365acf46-232c-4848-a0bd-de0e5e916540",
        "colab": {
          "base_uri": "https://localhost:8080/",
          "height": 34
        }
      },
      "source": [
        "train_df.shape\n"
      ],
      "execution_count": 314,
      "outputs": [
        {
          "output_type": "execute_result",
          "data": {
            "text/plain": [
              "(45546, 50)"
            ]
          },
          "metadata": {
            "tags": []
          },
          "execution_count": 314
        }
      ]
    },
    {
      "cell_type": "code",
      "metadata": {
        "id": "maBQW_QckaBd",
        "outputId": "0a03c3e6-fc34-4513-be1d-ea93f6838259",
        "colab": {
          "base_uri": "https://localhost:8080/",
          "height": 34
        }
      },
      "source": [
        "# lets concat the train and test sets for preprocessing and visualizations\n",
        "all_data = pd.concat([train_df, test_df], axis = 0)\n",
        "\n",
        "# let's check the shape\n",
        "all_data.shape"
      ],
      "execution_count": 315,
      "outputs": [
        {
          "output_type": "execute_result",
          "data": {
            "text/plain": [
              "(69546, 50)"
            ]
          },
          "metadata": {
            "tags": []
          },
          "execution_count": 315
        }
      ]
    },
    {
      "cell_type": "code",
      "metadata": {
        "id": "7lFOC2DDxgol"
      },
      "source": [
        "categorical_columns = []\n",
        "numeric_columns = []\n",
        "for c in all_data.columns:\n",
        "    if all_data[c].map(type).eq(str).any(): #check if there are any strings in column\n",
        "        categorical_columns.append(c)\n",
        "    else:\n",
        "        numeric_columns.append(c)\n",
        "\n",
        "#create two DataFrames, one for each data type\n",
        "data_numeric = all_data[numeric_columns]\n",
        "data_categorical = pd.DataFrame(all_data[categorical_columns])\n",
        "\n",
        "\n",
        "#from sklearn.experimental import enable_iterative_imputer\n",
        "#from sklearn.impute import IterativeImputer\n",
        "#imp= IterativeImputer()\n",
        "from sklearn.impute import SimpleImputer\n",
        "imp =SimpleImputer(missing_values=np.nan, strategy='mean')\n",
        "data_numeric = pd.DataFrame(imp.fit_transform(data_numeric), columns = data_numeric.columns) #only apply imputer to numeric columns\n",
        "data_numeric.reset_index(drop=True, inplace=True)\n",
        "data_categorical.reset_index(drop=True, inplace=True)\n",
        "\n",
        "#you could do something like one-hot-encoding of data_categorical here\n",
        "\n",
        "#join the two masked dataframes back together\n",
        "#data_joined = pd.concat([data_numeric, data_categorical], axis = 1)"
      ],
      "execution_count": 316,
      "outputs": []
    },
    {
      "cell_type": "code",
      "metadata": {
        "id": "Uo-oZ1Ky-FtU",
        "outputId": "8e9b421d-37a0-4d73-805e-592d3ac2741f",
        "colab": {
          "base_uri": "https://localhost:8080/",
          "height": 50
        }
      },
      "source": [
        "print(data_categorical.shape)\n",
        "print(data_numeric.shape)"
      ],
      "execution_count": 317,
      "outputs": [
        {
          "output_type": "stream",
          "text": [
            "(69546, 1)\n",
            "(69546, 49)\n"
          ],
          "name": "stdout"
        }
      ]
    },
    {
      "cell_type": "code",
      "metadata": {
        "id": "yatJHiY-AnC2"
      },
      "source": [
        "#join the two masked dataframes back together\n",
        "data_joined = pd.concat([data_numeric, data_categorical], axis = 1)"
      ],
      "execution_count": 318,
      "outputs": []
    },
    {
      "cell_type": "code",
      "metadata": {
        "id": "cfMcO-QxiO5v",
        "outputId": "dbc0832d-7198-4b20-a18a-f1145c28f656",
        "colab": {
          "base_uri": "https://localhost:8080/",
          "height": 34
        }
      },
      "source": [
        "data_joined.shape"
      ],
      "execution_count": 319,
      "outputs": [
        {
          "output_type": "execute_result",
          "data": {
            "text/plain": [
              "(69546, 50)"
            ]
          },
          "metadata": {
            "tags": []
          },
          "execution_count": 319
        }
      ]
    },
    {
      "cell_type": "code",
      "metadata": {
        "id": "IPyUlptOglAc",
        "outputId": "6635d136-53fa-449d-9548-c60c3f0bae08",
        "colab": {
          "base_uri": "https://localhost:8080/",
          "height": 119
        }
      },
      "source": [
        "'''\n",
        "from sklearn.impute import SimpleImputer\n",
        "imp =SimpleImputer(missing_values=np.nan, strategy='mean')\n",
        "data_numeric = pd.DataFrame(imp.fit_transform(data_numeric), columns = data_numeric.columns) #only apply imputer to numeric columns\n",
        "#you could do something like one-hot-encoding of data_categorical here\n",
        "from sklearn.preprocessing import LabelEncoder\n",
        "le = LabelEncoder()\n",
        "data_categorical['form_field47'] = le.fit_transform(data_categorical['form_field47'])\n",
        "# removing unnecassary columns\n",
        "\n",
        "#all_data = all_data.drop(['form_field47'], axis = 1)\n",
        "'''"
      ],
      "execution_count": 320,
      "outputs": [
        {
          "output_type": "execute_result",
          "data": {
            "application/vnd.google.colaboratory.intrinsic+json": {
              "type": "string"
            },
            "text/plain": [
              "\"\\nfrom sklearn.impute import SimpleImputer\\nimp =SimpleImputer(missing_values=np.nan, strategy='mean')\\ndata_numeric = pd.DataFrame(imp.fit_transform(data_numeric), columns = data_numeric.columns) #only apply imputer to numeric columns\\n#you could do something like one-hot-encoding of data_categorical here\\nfrom sklearn.preprocessing import LabelEncoder\\nle = LabelEncoder()\\ndata_categorical['form_field47'] = le.fit_transform(data_categorical['form_field47'])\\n# removing unnecassary columns\\n\\n#all_data = all_data.drop(['form_field47'], axis = 1)\\n\""
            ]
          },
          "metadata": {
            "tags": []
          },
          "execution_count": 320
        }
      ]
    },
    {
      "cell_type": "code",
      "metadata": {
        "id": "bGVpGpt96V4E",
        "outputId": "993ad6e0-7d00-4a0d-f89a-3dafd25cdb25",
        "colab": {
          "base_uri": "https://localhost:8080/",
          "height": 422
        }
      },
      "source": [
        "\n",
        "data_joined"
      ],
      "execution_count": 321,
      "outputs": [
        {
          "output_type": "execute_result",
          "data": {
            "text/html": [
              "<div>\n",
              "<style scoped>\n",
              "    .dataframe tbody tr th:only-of-type {\n",
              "        vertical-align: middle;\n",
              "    }\n",
              "\n",
              "    .dataframe tbody tr th {\n",
              "        vertical-align: top;\n",
              "    }\n",
              "\n",
              "    .dataframe thead th {\n",
              "        text-align: right;\n",
              "    }\n",
              "</style>\n",
              "<table border=\"1\" class=\"dataframe\">\n",
              "  <thead>\n",
              "    <tr style=\"text-align: right;\">\n",
              "      <th></th>\n",
              "      <th>form_field1</th>\n",
              "      <th>form_field2</th>\n",
              "      <th>form_field3</th>\n",
              "      <th>form_field4</th>\n",
              "      <th>form_field5</th>\n",
              "      <th>form_field6</th>\n",
              "      <th>form_field7</th>\n",
              "      <th>form_field8</th>\n",
              "      <th>form_field9</th>\n",
              "      <th>form_field10</th>\n",
              "      <th>form_field11</th>\n",
              "      <th>form_field12</th>\n",
              "      <th>form_field13</th>\n",
              "      <th>form_field14</th>\n",
              "      <th>form_field15</th>\n",
              "      <th>form_field16</th>\n",
              "      <th>form_field17</th>\n",
              "      <th>form_field18</th>\n",
              "      <th>form_field19</th>\n",
              "      <th>form_field20</th>\n",
              "      <th>form_field21</th>\n",
              "      <th>form_field22</th>\n",
              "      <th>form_field23</th>\n",
              "      <th>form_field24</th>\n",
              "      <th>form_field25</th>\n",
              "      <th>form_field26</th>\n",
              "      <th>form_field27</th>\n",
              "      <th>form_field28</th>\n",
              "      <th>form_field29</th>\n",
              "      <th>form_field30</th>\n",
              "      <th>form_field31</th>\n",
              "      <th>form_field32</th>\n",
              "      <th>form_field33</th>\n",
              "      <th>form_field34</th>\n",
              "      <th>form_field35</th>\n",
              "      <th>form_field36</th>\n",
              "      <th>form_field37</th>\n",
              "      <th>form_field38</th>\n",
              "      <th>form_field39</th>\n",
              "      <th>form_field40</th>\n",
              "      <th>form_field41</th>\n",
              "      <th>form_field42</th>\n",
              "      <th>form_field43</th>\n",
              "      <th>form_field44</th>\n",
              "      <th>form_field45</th>\n",
              "      <th>form_field46</th>\n",
              "      <th>form_field48</th>\n",
              "      <th>form_field49</th>\n",
              "      <th>form_field50</th>\n",
              "      <th>form_field47</th>\n",
              "    </tr>\n",
              "  </thead>\n",
              "  <tbody>\n",
              "    <tr>\n",
              "      <th>0</th>\n",
              "      <td>3436.0</td>\n",
              "      <td>0.28505</td>\n",
              "      <td>1.6560</td>\n",
              "      <td>0.0000</td>\n",
              "      <td>0.0000</td>\n",
              "      <td>0.0</td>\n",
              "      <td>10689720.0</td>\n",
              "      <td>2.520720e+05</td>\n",
              "      <td>4.272776e+06</td>\n",
              "      <td>11333126.0</td>\n",
              "      <td>4.397256e+06</td>\n",
              "      <td>2.301324e+06</td>\n",
              "      <td>7875694.0</td>\n",
              "      <td>96375139.0</td>\n",
              "      <td>1.121818e+08</td>\n",
              "      <td>1.000000</td>\n",
              "      <td>1.000000</td>\n",
              "      <td>1.000000</td>\n",
              "      <td>3.0</td>\n",
              "      <td>3.0</td>\n",
              "      <td>134.655000</td>\n",
              "      <td>6629.392793</td>\n",
              "      <td>6464.585433</td>\n",
              "      <td>134.655000</td>\n",
              "      <td>4000.5</td>\n",
              "      <td>17064.000000</td>\n",
              "      <td>11376.000000</td>\n",
              "      <td>60.0</td>\n",
              "      <td>17064.0</td>\n",
              "      <td>5962.000000</td>\n",
              "      <td>11140.459361</td>\n",
              "      <td>1052.0</td>\n",
              "      <td>8.0000</td>\n",
              "      <td>2.0</td>\n",
              "      <td>0.18433</td>\n",
              "      <td>12.0</td>\n",
              "      <td>12.0</td>\n",
              "      <td>4.0</td>\n",
              "      <td>0.0</td>\n",
              "      <td>145.959524</td>\n",
              "      <td>107.579985</td>\n",
              "      <td>0.392854</td>\n",
              "      <td>2.02</td>\n",
              "      <td>0.711632</td>\n",
              "      <td>0.000000</td>\n",
              "      <td>0.0</td>\n",
              "      <td>305803.368641</td>\n",
              "      <td>1.129518</td>\n",
              "      <td>0.044335</td>\n",
              "      <td>charge</td>\n",
              "    </tr>\n",
              "    <tr>\n",
              "      <th>1</th>\n",
              "      <td>3456.0</td>\n",
              "      <td>0.67400</td>\n",
              "      <td>0.2342</td>\n",
              "      <td>0.0000</td>\n",
              "      <td>0.0000</td>\n",
              "      <td>0.0</td>\n",
              "      <td>898979.0</td>\n",
              "      <td>4.975310e+05</td>\n",
              "      <td>9.073814e+06</td>\n",
              "      <td>2533168.0</td>\n",
              "      <td>2.442920e+05</td>\n",
              "      <td>3.982971e+06</td>\n",
              "      <td>2141445.0</td>\n",
              "      <td>28141427.0</td>\n",
              "      <td>4.516990e+07</td>\n",
              "      <td>1.000000</td>\n",
              "      <td>1.000000</td>\n",
              "      <td>1.000000</td>\n",
              "      <td>2.0</td>\n",
              "      <td>2.0</td>\n",
              "      <td>109.230000</td>\n",
              "      <td>11385.240000</td>\n",
              "      <td>14584.290000</td>\n",
              "      <td>86.685000</td>\n",
              "      <td>4161.0</td>\n",
              "      <td>13413.000000</td>\n",
              "      <td>8942.000000</td>\n",
              "      <td>304.0</td>\n",
              "      <td>13413.0</td>\n",
              "      <td>5780.000000</td>\n",
              "      <td>11140.459361</td>\n",
              "      <td>2554.0</td>\n",
              "      <td>17.5000</td>\n",
              "      <td>0.0</td>\n",
              "      <td>0.00000</td>\n",
              "      <td>16.0</td>\n",
              "      <td>24.0</td>\n",
              "      <td>8.0</td>\n",
              "      <td>0.0</td>\n",
              "      <td>145.959524</td>\n",
              "      <td>107.579985</td>\n",
              "      <td>0.314281</td>\n",
              "      <td>8.08</td>\n",
              "      <td>0.183584</td>\n",
              "      <td>0.063722</td>\n",
              "      <td>0.0</td>\n",
              "      <td>349.805730</td>\n",
              "      <td>1.620483</td>\n",
              "      <td>0.322436</td>\n",
              "      <td>charge</td>\n",
              "    </tr>\n",
              "    <tr>\n",
              "      <th>2</th>\n",
              "      <td>3276.0</td>\n",
              "      <td>0.53845</td>\n",
              "      <td>3.1510</td>\n",
              "      <td>0.0000</td>\n",
              "      <td>6.2820</td>\n",
              "      <td>0.0</td>\n",
              "      <td>956940.0</td>\n",
              "      <td>2.634311e+06</td>\n",
              "      <td>1.929440e+05</td>\n",
              "      <td>1079864.0</td>\n",
              "      <td>1.902489e+06</td>\n",
              "      <td>2.822816e+06</td>\n",
              "      <td>0.0</td>\n",
              "      <td>16576457.0</td>\n",
              "      <td>2.245269e+07</td>\n",
              "      <td>0.232495</td>\n",
              "      <td>0.268609</td>\n",
              "      <td>0.276169</td>\n",
              "      <td>0.0</td>\n",
              "      <td>0.0</td>\n",
              "      <td>86.630252</td>\n",
              "      <td>6629.392793</td>\n",
              "      <td>6464.585433</td>\n",
              "      <td>104.934393</td>\n",
              "      <td>1597.5</td>\n",
              "      <td>4746.000000</td>\n",
              "      <td>3164.000000</td>\n",
              "      <td>60.0</td>\n",
              "      <td>15696.0</td>\n",
              "      <td>5278.537829</td>\n",
              "      <td>14508.000000</td>\n",
              "      <td>70.0</td>\n",
              "      <td>0.6666</td>\n",
              "      <td>0.0</td>\n",
              "      <td>0.18433</td>\n",
              "      <td>12.0</td>\n",
              "      <td>0.0</td>\n",
              "      <td>6.0</td>\n",
              "      <td>0.0</td>\n",
              "      <td>149.680500</td>\n",
              "      <td>107.579985</td>\n",
              "      <td>0.162965</td>\n",
              "      <td>18.18</td>\n",
              "      <td>0.791136</td>\n",
              "      <td>0.000000</td>\n",
              "      <td>0.0</td>\n",
              "      <td>305803.368641</td>\n",
              "      <td>1.513370</td>\n",
              "      <td>0.011640</td>\n",
              "      <td>charge</td>\n",
              "    </tr>\n",
              "    <tr>\n",
              "      <th>3</th>\n",
              "      <td>3372.0</td>\n",
              "      <td>0.17005</td>\n",
              "      <td>0.5050</td>\n",
              "      <td>0.0000</td>\n",
              "      <td>0.0000</td>\n",
              "      <td>192166.0</td>\n",
              "      <td>3044703.0</td>\n",
              "      <td>3.854990e+05</td>\n",
              "      <td>3.986472e+06</td>\n",
              "      <td>3621979.0</td>\n",
              "      <td>1.902489e+06</td>\n",
              "      <td>7.717760e+05</td>\n",
              "      <td>1186839.0</td>\n",
              "      <td>48187375.0</td>\n",
              "      <td>1.362978e+08</td>\n",
              "      <td>0.000000</td>\n",
              "      <td>0.000000</td>\n",
              "      <td>0.000000</td>\n",
              "      <td>1.0</td>\n",
              "      <td>1.0</td>\n",
              "      <td>120.120000</td>\n",
              "      <td>8580.000000</td>\n",
              "      <td>0.000000</td>\n",
              "      <td>85.800000</td>\n",
              "      <td>1701.0</td>\n",
              "      <td>4014.000000</td>\n",
              "      <td>2676.000000</td>\n",
              "      <td>60.0</td>\n",
              "      <td>11679.0</td>\n",
              "      <td>5278.537829</td>\n",
              "      <td>11140.459361</td>\n",
              "      <td>522.0</td>\n",
              "      <td>7.8334</td>\n",
              "      <td>1.0</td>\n",
              "      <td>1.00000</td>\n",
              "      <td>4.0</td>\n",
              "      <td>8.0</td>\n",
              "      <td>4.0</td>\n",
              "      <td>1.0</td>\n",
              "      <td>145.959524</td>\n",
              "      <td>107.579985</td>\n",
              "      <td>0.488884</td>\n",
              "      <td>2.02</td>\n",
              "      <td>0.685168</td>\n",
              "      <td>0.063722</td>\n",
              "      <td>0.0</td>\n",
              "      <td>89.940100</td>\n",
              "      <td>0.664452</td>\n",
              "      <td>0.082729</td>\n",
              "      <td>charge</td>\n",
              "    </tr>\n",
              "    <tr>\n",
              "      <th>4</th>\n",
              "      <td>3370.0</td>\n",
              "      <td>0.77270</td>\n",
              "      <td>1.1010</td>\n",
              "      <td>0.0000</td>\n",
              "      <td>0.0000</td>\n",
              "      <td>1556.0</td>\n",
              "      <td>214728.0</td>\n",
              "      <td>2.147280e+05</td>\n",
              "      <td>1.284089e+06</td>\n",
              "      <td>361770.0</td>\n",
              "      <td>3.963910e+05</td>\n",
              "      <td>8.184560e+05</td>\n",
              "      <td>511535.0</td>\n",
              "      <td>28141427.0</td>\n",
              "      <td>1.529276e+07</td>\n",
              "      <td>0.000000</td>\n",
              "      <td>0.000000</td>\n",
              "      <td>0.000000</td>\n",
              "      <td>3.0</td>\n",
              "      <td>3.0</td>\n",
              "      <td>104.535000</td>\n",
              "      <td>8360.190000</td>\n",
              "      <td>10326.450000</td>\n",
              "      <td>115.335000</td>\n",
              "      <td>1551.0</td>\n",
              "      <td>3285.000000</td>\n",
              "      <td>2190.000000</td>\n",
              "      <td>60.0</td>\n",
              "      <td>19437.0</td>\n",
              "      <td>12958.000000</td>\n",
              "      <td>5202.000000</td>\n",
              "      <td>272.0</td>\n",
              "      <td>1.0000</td>\n",
              "      <td>0.0</td>\n",
              "      <td>0.00000</td>\n",
              "      <td>24.0</td>\n",
              "      <td>2.0</td>\n",
              "      <td>24.0</td>\n",
              "      <td>0.0</td>\n",
              "      <td>150.013500</td>\n",
              "      <td>107.579985</td>\n",
              "      <td>0.275000</td>\n",
              "      <td>12.12</td>\n",
              "      <td>0.438168</td>\n",
              "      <td>0.000000</td>\n",
              "      <td>0.0</td>\n",
              "      <td>97.887502</td>\n",
              "      <td>1.427891</td>\n",
              "      <td>0.045630</td>\n",
              "      <td>charge</td>\n",
              "    </tr>\n",
              "    <tr>\n",
              "      <th>...</th>\n",
              "      <td>...</td>\n",
              "      <td>...</td>\n",
              "      <td>...</td>\n",
              "      <td>...</td>\n",
              "      <td>...</td>\n",
              "      <td>...</td>\n",
              "      <td>...</td>\n",
              "      <td>...</td>\n",
              "      <td>...</td>\n",
              "      <td>...</td>\n",
              "      <td>...</td>\n",
              "      <td>...</td>\n",
              "      <td>...</td>\n",
              "      <td>...</td>\n",
              "      <td>...</td>\n",
              "      <td>...</td>\n",
              "      <td>...</td>\n",
              "      <td>...</td>\n",
              "      <td>...</td>\n",
              "      <td>...</td>\n",
              "      <td>...</td>\n",
              "      <td>...</td>\n",
              "      <td>...</td>\n",
              "      <td>...</td>\n",
              "      <td>...</td>\n",
              "      <td>...</td>\n",
              "      <td>...</td>\n",
              "      <td>...</td>\n",
              "      <td>...</td>\n",
              "      <td>...</td>\n",
              "      <td>...</td>\n",
              "      <td>...</td>\n",
              "      <td>...</td>\n",
              "      <td>...</td>\n",
              "      <td>...</td>\n",
              "      <td>...</td>\n",
              "      <td>...</td>\n",
              "      <td>...</td>\n",
              "      <td>...</td>\n",
              "      <td>...</td>\n",
              "      <td>...</td>\n",
              "      <td>...</td>\n",
              "      <td>...</td>\n",
              "      <td>...</td>\n",
              "      <td>...</td>\n",
              "      <td>...</td>\n",
              "      <td>...</td>\n",
              "      <td>...</td>\n",
              "      <td>...</td>\n",
              "      <td>...</td>\n",
              "    </tr>\n",
              "    <tr>\n",
              "      <th>69541</th>\n",
              "      <td>3258.0</td>\n",
              "      <td>0.37925</td>\n",
              "      <td>0.5698</td>\n",
              "      <td>5.1282</td>\n",
              "      <td>0.0000</td>\n",
              "      <td>0.0</td>\n",
              "      <td>2280318.0</td>\n",
              "      <td>2.634311e+06</td>\n",
              "      <td>1.384694e+07</td>\n",
              "      <td>2280318.0</td>\n",
              "      <td>1.743887e+06</td>\n",
              "      <td>2.822816e+06</td>\n",
              "      <td>0.0</td>\n",
              "      <td>21973443.0</td>\n",
              "      <td>1.261290e+08</td>\n",
              "      <td>0.232495</td>\n",
              "      <td>0.268609</td>\n",
              "      <td>0.276169</td>\n",
              "      <td>0.0</td>\n",
              "      <td>0.0</td>\n",
              "      <td>86.630252</td>\n",
              "      <td>6629.392793</td>\n",
              "      <td>6464.585433</td>\n",
              "      <td>104.934393</td>\n",
              "      <td>547.5</td>\n",
              "      <td>10325.058005</td>\n",
              "      <td>6283.223627</td>\n",
              "      <td>304.0</td>\n",
              "      <td>3741.0</td>\n",
              "      <td>2068.000000</td>\n",
              "      <td>11140.459361</td>\n",
              "      <td>24.0</td>\n",
              "      <td>0.3334</td>\n",
              "      <td>0.0</td>\n",
              "      <td>0.00000</td>\n",
              "      <td>6.0</td>\n",
              "      <td>0.0</td>\n",
              "      <td>6.0</td>\n",
              "      <td>0.0</td>\n",
              "      <td>145.959524</td>\n",
              "      <td>92.691000</td>\n",
              "      <td>1.100000</td>\n",
              "      <td>0.00</td>\n",
              "      <td>0.800000</td>\n",
              "      <td>0.063722</td>\n",
              "      <td>1.0</td>\n",
              "      <td>305803.368641</td>\n",
              "      <td>0.000000</td>\n",
              "      <td>647295.770789</td>\n",
              "      <td>charge</td>\n",
              "    </tr>\n",
              "    <tr>\n",
              "      <th>69542</th>\n",
              "      <td>3514.0</td>\n",
              "      <td>0.95260</td>\n",
              "      <td>0.0000</td>\n",
              "      <td>0.0000</td>\n",
              "      <td>0.0000</td>\n",
              "      <td>1494538.0</td>\n",
              "      <td>4773419.0</td>\n",
              "      <td>4.773419e+06</td>\n",
              "      <td>8.971857e+07</td>\n",
              "      <td>12999991.0</td>\n",
              "      <td>1.902489e+06</td>\n",
              "      <td>4.898988e+07</td>\n",
              "      <td>97696961.0</td>\n",
              "      <td>96375139.0</td>\n",
              "      <td>1.178530e+08</td>\n",
              "      <td>0.000000</td>\n",
              "      <td>0.000000</td>\n",
              "      <td>0.000000</td>\n",
              "      <td>3.0</td>\n",
              "      <td>3.0</td>\n",
              "      <td>123.195000</td>\n",
              "      <td>11663.055000</td>\n",
              "      <td>6464.585433</td>\n",
              "      <td>123.195000</td>\n",
              "      <td>1485.0</td>\n",
              "      <td>6387.000000</td>\n",
              "      <td>4258.000000</td>\n",
              "      <td>60772.0</td>\n",
              "      <td>14691.0</td>\n",
              "      <td>3286.000000</td>\n",
              "      <td>11140.459361</td>\n",
              "      <td>586.0</td>\n",
              "      <td>14.1666</td>\n",
              "      <td>0.0</td>\n",
              "      <td>0.00000</td>\n",
              "      <td>10.0</td>\n",
              "      <td>2.0</td>\n",
              "      <td>8.0</td>\n",
              "      <td>0.0</td>\n",
              "      <td>145.959524</td>\n",
              "      <td>125.022000</td>\n",
              "      <td>0.000000</td>\n",
              "      <td>12.12</td>\n",
              "      <td>0.196400</td>\n",
              "      <td>0.000000</td>\n",
              "      <td>0.0</td>\n",
              "      <td>4200.072959</td>\n",
              "      <td>3.000000</td>\n",
              "      <td>0.930931</td>\n",
              "      <td>charge</td>\n",
              "    </tr>\n",
              "    <tr>\n",
              "      <th>69543</th>\n",
              "      <td>3302.0</td>\n",
              "      <td>0.05755</td>\n",
              "      <td>4.2394</td>\n",
              "      <td>0.0000</td>\n",
              "      <td>25.4376</td>\n",
              "      <td>0.0</td>\n",
              "      <td>49403.0</td>\n",
              "      <td>2.634311e+06</td>\n",
              "      <td>1.384694e+07</td>\n",
              "      <td>49403.0</td>\n",
              "      <td>2.158950e+05</td>\n",
              "      <td>2.822816e+06</td>\n",
              "      <td>0.0</td>\n",
              "      <td>21973443.0</td>\n",
              "      <td>1.178530e+08</td>\n",
              "      <td>0.232495</td>\n",
              "      <td>0.268609</td>\n",
              "      <td>0.000000</td>\n",
              "      <td>0.0</td>\n",
              "      <td>1.0</td>\n",
              "      <td>86.630252</td>\n",
              "      <td>13080.000000</td>\n",
              "      <td>6464.585433</td>\n",
              "      <td>104.934393</td>\n",
              "      <td>2304.0</td>\n",
              "      <td>10325.058005</td>\n",
              "      <td>6283.223627</td>\n",
              "      <td>60.0</td>\n",
              "      <td>10038.0</td>\n",
              "      <td>5278.537829</td>\n",
              "      <td>5109.000000</td>\n",
              "      <td>202.0</td>\n",
              "      <td>5.3334</td>\n",
              "      <td>0.0</td>\n",
              "      <td>0.18433</td>\n",
              "      <td>8.0</td>\n",
              "      <td>4.0</td>\n",
              "      <td>2.0</td>\n",
              "      <td>0.0</td>\n",
              "      <td>145.959524</td>\n",
              "      <td>107.579985</td>\n",
              "      <td>1.100000</td>\n",
              "      <td>1.01</td>\n",
              "      <td>0.800000</td>\n",
              "      <td>0.063722</td>\n",
              "      <td>0.0</td>\n",
              "      <td>305803.368641</td>\n",
              "      <td>4.855060</td>\n",
              "      <td>647295.770789</td>\n",
              "      <td>charge</td>\n",
              "    </tr>\n",
              "    <tr>\n",
              "      <th>69544</th>\n",
              "      <td>3334.0</td>\n",
              "      <td>0.75670</td>\n",
              "      <td>1.4428</td>\n",
              "      <td>0.0000</td>\n",
              "      <td>0.0000</td>\n",
              "      <td>0.0</td>\n",
              "      <td>2513329.0</td>\n",
              "      <td>3.773300e+04</td>\n",
              "      <td>3.936680e+05</td>\n",
              "      <td>2551062.0</td>\n",
              "      <td>1.217570e+05</td>\n",
              "      <td>3.559350e+05</td>\n",
              "      <td>673748.0</td>\n",
              "      <td>16576457.0</td>\n",
              "      <td>1.178530e+08</td>\n",
              "      <td>1.000000</td>\n",
              "      <td>2.000000</td>\n",
              "      <td>2.000000</td>\n",
              "      <td>2.0</td>\n",
              "      <td>2.0</td>\n",
              "      <td>129.435000</td>\n",
              "      <td>13024.995000</td>\n",
              "      <td>13024.995000</td>\n",
              "      <td>138.450000</td>\n",
              "      <td>706.5</td>\n",
              "      <td>2463.000000</td>\n",
              "      <td>1642.000000</td>\n",
              "      <td>0.0</td>\n",
              "      <td>6297.0</td>\n",
              "      <td>2312.000000</td>\n",
              "      <td>11140.459361</td>\n",
              "      <td>62.0</td>\n",
              "      <td>2.6666</td>\n",
              "      <td>0.0</td>\n",
              "      <td>0.00000</td>\n",
              "      <td>12.0</td>\n",
              "      <td>0.0</td>\n",
              "      <td>4.0</td>\n",
              "      <td>0.0</td>\n",
              "      <td>145.959524</td>\n",
              "      <td>31.195500</td>\n",
              "      <td>0.440000</td>\n",
              "      <td>2.02</td>\n",
              "      <td>0.519776</td>\n",
              "      <td>0.063722</td>\n",
              "      <td>0.0</td>\n",
              "      <td>27.325129</td>\n",
              "      <td>0.818733</td>\n",
              "      <td>0.023749</td>\n",
              "      <td>charge</td>\n",
              "    </tr>\n",
              "    <tr>\n",
              "      <th>69545</th>\n",
              "      <td>3324.0</td>\n",
              "      <td>0.44840</td>\n",
              "      <td>2.3170</td>\n",
              "      <td>6.7176</td>\n",
              "      <td>0.0000</td>\n",
              "      <td>0.0</td>\n",
              "      <td>5305182.0</td>\n",
              "      <td>2.634311e+06</td>\n",
              "      <td>1.888595e+07</td>\n",
              "      <td>5361587.0</td>\n",
              "      <td>1.121098e+06</td>\n",
              "      <td>0.000000e+00</td>\n",
              "      <td>3031477.0</td>\n",
              "      <td>48187375.0</td>\n",
              "      <td>1.178530e+08</td>\n",
              "      <td>0.000000</td>\n",
              "      <td>0.000000</td>\n",
              "      <td>0.000000</td>\n",
              "      <td>0.0</td>\n",
              "      <td>1.0</td>\n",
              "      <td>86.630252</td>\n",
              "      <td>6629.392793</td>\n",
              "      <td>6464.585433</td>\n",
              "      <td>124.980000</td>\n",
              "      <td>9319.5</td>\n",
              "      <td>30204.000000</td>\n",
              "      <td>20136.000000</td>\n",
              "      <td>60.0</td>\n",
              "      <td>30204.0</td>\n",
              "      <td>9672.000000</td>\n",
              "      <td>11140.459361</td>\n",
              "      <td>1634.0</td>\n",
              "      <td>24.8334</td>\n",
              "      <td>0.0</td>\n",
              "      <td>0.18433</td>\n",
              "      <td>6.0</td>\n",
              "      <td>8.0</td>\n",
              "      <td>0.0</td>\n",
              "      <td>0.0</td>\n",
              "      <td>145.959524</td>\n",
              "      <td>112.303500</td>\n",
              "      <td>0.314281</td>\n",
              "      <td>3.03</td>\n",
              "      <td>0.544352</td>\n",
              "      <td>0.000000</td>\n",
              "      <td>1.0</td>\n",
              "      <td>305803.368641</td>\n",
              "      <td>0.000000</td>\n",
              "      <td>0.391927</td>\n",
              "      <td>charge</td>\n",
              "    </tr>\n",
              "  </tbody>\n",
              "</table>\n",
              "<p>69546 rows × 50 columns</p>\n",
              "</div>"
            ],
            "text/plain": [
              "       form_field1  form_field2  ...   form_field50  form_field47\n",
              "0           3436.0      0.28505  ...       0.044335        charge\n",
              "1           3456.0      0.67400  ...       0.322436        charge\n",
              "2           3276.0      0.53845  ...       0.011640        charge\n",
              "3           3372.0      0.17005  ...       0.082729        charge\n",
              "4           3370.0      0.77270  ...       0.045630        charge\n",
              "...            ...          ...  ...            ...           ...\n",
              "69541       3258.0      0.37925  ...  647295.770789        charge\n",
              "69542       3514.0      0.95260  ...       0.930931        charge\n",
              "69543       3302.0      0.05755  ...  647295.770789        charge\n",
              "69544       3334.0      0.75670  ...       0.023749        charge\n",
              "69545       3324.0      0.44840  ...       0.391927        charge\n",
              "\n",
              "[69546 rows x 50 columns]"
            ]
          },
          "metadata": {
            "tags": []
          },
          "execution_count": 321
        }
      ]
    },
    {
      "cell_type": "code",
      "metadata": {
        "id": "3fsYbfsYnNHB"
      },
      "source": [
        "from sklearn.preprocessing import LabelEncoder\n",
        "\n",
        "le = LabelEncoder()\n",
        "data_joined['form_field47'] = le.fit_transform(data_joined['form_field47'])\n",
        "# removing unnecassary columns\n",
        "\n",
        "data_joined =data_joined.drop(['form_field47'], axis = 1)"
      ],
      "execution_count": 322,
      "outputs": []
    },
    {
      "cell_type": "code",
      "metadata": {
        "id": "7g2Wz29yoY85",
        "outputId": "6d3fdc2f-4a07-4a8b-c8b4-f3366aec30dd",
        "colab": {
          "base_uri": "https://localhost:8080/",
          "height": 50
        }
      },
      "source": [
        "\n",
        "# separating train and test datasets from data\n",
        "\n",
        "x_train = data_joined.iloc[:45546,:]\n",
        "x_test = data_joined.iloc[45546:,:]\n",
        "\n",
        "# checking the shape of train and test\n",
        "print(\"Shape of train :\", x_train.shape)\n",
        "print(\"Shape of test :\", x_test.shape)"
      ],
      "execution_count": 323,
      "outputs": [
        {
          "output_type": "stream",
          "text": [
            "Shape of train : (45546, 49)\n",
            "Shape of test : (24000, 49)\n"
          ],
          "name": "stdout"
        }
      ]
    },
    {
      "cell_type": "code",
      "metadata": {
        "id": "E9g2EnKUlj82",
        "outputId": "da635363-58b9-40aa-d95c-3159f7439722",
        "colab": {
          "base_uri": "https://localhost:8080/",
          "height": 84
        }
      },
      "source": [
        "# train and valid sets from train\n",
        "from sklearn.model_selection import train_test_split\n",
        "\n",
        "x_train, x_valid, y_train, y_valid = train_test_split(x_train, y_train, test_size = 0.2, random_state = 0)\n",
        "\n",
        "# checking the shapes\n",
        "print(x_train.shape)\n",
        "print(y_train.shape)\n",
        "print(x_valid.shape)\n",
        "print(y_valid.shape)"
      ],
      "execution_count": 324,
      "outputs": [
        {
          "output_type": "stream",
          "text": [
            "(36436, 49)\n",
            "(36436,)\n",
            "(9110, 49)\n",
            "(9110,)\n"
          ],
          "name": "stdout"
        }
      ]
    },
    {
      "cell_type": "code",
      "metadata": {
        "id": "IOXrwP5opjbs"
      },
      "source": [
        "\n",
        "# standardization techniques\n",
        "\n",
        "from sklearn.preprocessing import StandardScaler\n",
        "\n",
        "sc = StandardScaler()\n",
        "x_train = sc.fit_transform(x_train)\n",
        "x_valid = sc.transform(x_valid)\n",
        "x_test = sc.transform(x_test)"
      ],
      "execution_count": 325,
      "outputs": []
    },
    {
      "cell_type": "code",
      "metadata": {
        "id": "DGkVX7EJjURA"
      },
      "source": [
        "#import numpy as np\n",
        "#import pandas as pd\n",
        "\n",
        "from hyperopt import hp, tpe\n",
        "from hyperopt.fmin import fmin\n",
        "\n",
        "from sklearn.model_selection import cross_val_score, StratifiedKFold\n",
        "#from sklearn.ensemble import RandomForestClassifier\n",
        "from sklearn.metrics import make_scorer"
      ],
      "execution_count": 326,
      "outputs": []
    },
    {
      "cell_type": "code",
      "metadata": {
        "id": "xaMbirMDgRXv",
        "outputId": "aa0dc270-f844-4cef-e727-3b772047ab74",
        "colab": {
          "base_uri": "https://localhost:8080/",
          "height": 153
        }
      },
      "source": [
        "\n",
        "'''#gini functions\n",
        "def gini(truth, predictions):\n",
        "    g = np.asarray(np.c_[truth, predictions, np.arange(len(truth)) ], dtype=np.float)\n",
        "    g = g[np.lexsort((g[:,2], -1*g[:,1]))]\n",
        "    gs = g[:,0].cumsum().sum() / g[:,0].sum()\n",
        "    gs -= (len(truth) + 1) / 2.\n",
        "    return gs / len(truth)\n",
        "\n",
        "def gini_xgb(predictions, truth):\n",
        "    truth = truth.get_label()\n",
        "    return 'gini', -1.0 * gini(truth, predictions) / gini(truth, truth)\n",
        "\n",
        "def gini_lgb(truth, predictions):\n",
        "    score = gini(truth, predictions) / gini(truth, truth)\n",
        "    return 'gini', score, True\n",
        "\n",
        "def gini_sklearn(truth, predictions):\n",
        "    return gini(truth, predictions) / gini(truth, truth)\n",
        "\n",
        "gini_scorer = make_scorer(gini_sklearn, greater_is_better=True, needs_proba=True)'''"
      ],
      "execution_count": 327,
      "outputs": [
        {
          "output_type": "execute_result",
          "data": {
            "application/vnd.google.colaboratory.intrinsic+json": {
              "type": "string"
            },
            "text/plain": [
              "\"#gini functions\\ndef gini(truth, predictions):\\n    g = np.asarray(np.c_[truth, predictions, np.arange(len(truth)) ], dtype=np.float)\\n    g = g[np.lexsort((g[:,2], -1*g[:,1]))]\\n    gs = g[:,0].cumsum().sum() / g[:,0].sum()\\n    gs -= (len(truth) + 1) / 2.\\n    return gs / len(truth)\\n\\ndef gini_xgb(predictions, truth):\\n    truth = truth.get_label()\\n    return 'gini', -1.0 * gini(truth, predictions) / gini(truth, truth)\\n\\ndef gini_lgb(truth, predictions):\\n    score = gini(truth, predictions) / gini(truth, truth)\\n    return 'gini', score, True\\n\\ndef gini_sklearn(truth, predictions):\\n    return gini(truth, predictions) / gini(truth, truth)\\n\\ngini_scorer = make_scorer(gini_sklearn, greater_is_better=True, needs_proba=True)\""
            ]
          },
          "metadata": {
            "tags": []
          },
          "execution_count": 327
        }
      ]
    },
    {
      "cell_type": "code",
      "metadata": {
        "id": "9pGY41B3hKId",
        "outputId": "9ec84caa-6396-49c1-cf74-c0b04eaae4a1",
        "colab": {
          "base_uri": "https://localhost:8080/",
          "height": 203
        }
      },
      "source": [
        "#tuning xgboost\n",
        "'''\n",
        "def objective(params):\n",
        "    params = {\n",
        "        'max_depth': int(params['max_depth']),\n",
        "        'gamma': \"{:.3f}\".format(params['gamma']),\n",
        "        'colsample_bytree': '{:.3f}'.format(params['colsample_bytree']),\n",
        "    }\n",
        "    \n",
        "    clf = XGBClassifier(\n",
        "        n_estimators=200,\n",
        "        learning_rate=0.05,\n",
        "        n_jobs=4,\n",
        "        **params\n",
        "    )\n",
        "    \n",
        "    score = cross_val_score(clf,x_train, y_train, scoring=gini_scorer, cv=StratifiedKFold()).mean()\n",
        "    print(\"Gini {:.3f} params {}\".format(score, params))\n",
        "    return score\n",
        "\n",
        "space = {\n",
        "    'max_depth': hp.quniform('max_depth', 2, 8, 1),\n",
        "    'colsample_bytree': hp.uniform('colsample_bytree', 0.3, 1.0),\n",
        "    'min_child_weight': hp.uniform('min_child_weight', 1, 6),\n",
        "    'gamma': hp.uniform('gamma', 0.0, 0.5),\n",
        "    'reg_alpha': hp.uniform('reg_alpha', 0.01, 0.07)\n",
        "}\n",
        "\n",
        "best = fmin(fn=objective,\n",
        "            space=space,\n",
        "            algo=tpe.suggest,\n",
        "            max_evals=10)\n",
        "\n",
        "'''\n"
      ],
      "execution_count": 328,
      "outputs": [
        {
          "output_type": "execute_result",
          "data": {
            "application/vnd.google.colaboratory.intrinsic+json": {
              "type": "string"
            },
            "text/plain": [
              "'\\ndef objective(params):\\n    params = {\\n        \\'max_depth\\': int(params[\\'max_depth\\']),\\n        \\'gamma\\': \"{:.3f}\".format(params[\\'gamma\\']),\\n        \\'colsample_bytree\\': \\'{:.3f}\\'.format(params[\\'colsample_bytree\\']),\\n    }\\n    \\n    clf = XGBClassifier(\\n        n_estimators=200,\\n        learning_rate=0.05,\\n        n_jobs=4,\\n        **params\\n    )\\n    \\n    score = cross_val_score(clf,x_train, y_train, scoring=gini_scorer, cv=StratifiedKFold()).mean()\\n    print(\"Gini {:.3f} params {}\".format(score, params))\\n    return score\\n\\nspace = {\\n    \\'max_depth\\': hp.quniform(\\'max_depth\\', 2, 8, 1),\\n    \\'colsample_bytree\\': hp.uniform(\\'colsample_bytree\\', 0.3, 1.0),\\n    \\'min_child_weight\\': hp.uniform(\\'min_child_weight\\', 1, 6),\\n    \\'gamma\\': hp.uniform(\\'gamma\\', 0.0, 0.5),\\n    \\'reg_alpha\\': hp.uniform(\\'reg_alpha\\', 0.01, 0.07)\\n}\\n\\nbest = fmin(fn=objective,\\n            space=space,\\n            algo=tpe.suggest,\\n            max_evals=10)\\n\\n'"
            ]
          },
          "metadata": {
            "tags": []
          },
          "execution_count": 328
        }
      ]
    },
    {
      "cell_type": "code",
      "metadata": {
        "id": "4uFDp6CVhszX"
      },
      "source": [
        "#optimum parameter for xgboost\n",
        "#print(\"Hyperopt estimated optimum {}\".format(best))"
      ],
      "execution_count": 329,
      "outputs": []
    },
    {
      "cell_type": "code",
      "metadata": {
        "id": "RtpYrEBZsZVP",
        "outputId": "a63c64a3-6e27-4e3b-852a-00709830cb2f",
        "colab": {
          "base_uri": "https://localhost:8080/",
          "height": 50
        }
      },
      "source": [
        "# Appllying RANDOM FOREST CLASSIFIER\n",
        "\n",
        "import seaborn as sns\n",
        "from sklearn.ensemble import RandomForestClassifier\n",
        "from sklearn.metrics import confusion_matrix\n",
        "from sklearn.metrics import classification_report\n",
        "\n",
        "model_rf = RandomForestClassifier(n_estimators=250,\n",
        "                                max_depth=7,\n",
        "                                random_state=1,\n",
        "                                n_jobs=1)\n",
        "model_rf.fit(x_train, y_train)\n",
        "\n",
        "y_pred = model_xg.predict_proba(x_valid)[:,1]\n",
        "\n",
        "print(\"Training Accuracy: \", model_rf.score(x_train, y_train))\n",
        "print('Testing Accuarcy: ', model_rf.score(x_valid, y_valid))\n",
        "\n",
        "# making a classification report\n",
        "#cr = classification_report(y_valid,  y_pred)\n",
        "#print(cr)\n",
        "\n",
        "# making a confusion matrix\n",
        "#cm = confusion_matrix(y_valid, y_pred)\n",
        "#sns.heatmap(cm, annot = True)\n",
        "\n",
        "y_pred = model_xg.predict_proba(x_test)[:,1]\n",
        "\n"
      ],
      "execution_count": 330,
      "outputs": [
        {
          "output_type": "stream",
          "text": [
            "Training Accuracy:  0.8342847733011307\n",
            "Testing Accuarcy:  0.8236004390779363\n"
          ],
          "name": "stdout"
        }
      ]
    },
    {
      "cell_type": "code",
      "metadata": {
        "id": "tclr_iuIrbaD",
        "outputId": "708a1f93-c9b1-45c5-c064-aa14da207a68",
        "colab": {
          "base_uri": "https://localhost:8080/",
          "height": 69
        }
      },
      "source": [
        "# Appllying Xgboost CLASSIFIER\n",
        "#import seaborn as sns\n",
        "#from xgboost import XGBClassifier\n",
        "#from sklearn.metrics import confusion_matrix\n",
        "#from sklearn.metrics import classification_report\n",
        "\n",
        "#model_xg = XGBClassifier()\n",
        "'''model_xg = XGBClassifier(\n",
        " learning_rate =0.1,\n",
        " n_estimators=200,\n",
        " max_depth=4,\n",
        " min_child_weight=7.0,\n",
        " gamma=0.3,\n",
        " subsample=0.9,\n",
        " colsample_bytree=0.9,\n",
        " reg_alpha=0.03,\n",
        " objective= 'binary:logistic',\n",
        " seed=20\n",
        " )'''\n",
        "\n",
        "#model_xg.fit(x_train, y_train)\n",
        "\n",
        "#y_pred = model_xg.predict_proba(x_valid)[:,1]\n",
        "\n",
        "#print(\"Training Accuracy: \", model_xg.score(x_train, y_train))\n",
        "#print('Testing Accuarcy: ', model_xg.score(x_valid, y_valid))\n",
        "\n",
        "# making a classification report\n",
        "#cr = classification_report(y_valid,  y_pred)\n",
        "#print(cr)\n",
        "\n",
        "# making a confusion matrix\n",
        "#cm = confusion_matrix(y_valid, y_pred)\n",
        "#sns.heatmap(cm, annot = True)\n",
        "\n",
        "#y_pred = model_xg.predict_proba(x_test)[:,1]\n",
        "\n"
      ],
      "execution_count": 331,
      "outputs": [
        {
          "output_type": "execute_result",
          "data": {
            "application/vnd.google.colaboratory.intrinsic+json": {
              "type": "string"
            },
            "text/plain": [
              "\"model_xg = XGBClassifier(\\n learning_rate =0.1,\\n n_estimators=200,\\n max_depth=4,\\n min_child_weight=7.0,\\n gamma=0.3,\\n subsample=0.9,\\n colsample_bytree=0.9,\\n reg_alpha=0.03,\\n objective= 'binary:logistic',\\n seed=20\\n )\""
            ]
          },
          "metadata": {
            "tags": []
          },
          "execution_count": 331
        }
      ]
    },
    {
      "cell_type": "code",
      "metadata": {
        "id": "sjO5RC_Ftfij"
      },
      "source": [
        "\n",
        "#Prepare our Submission file\n",
        "my_submission = pd.DataFrame({'Application ID':Application_id, 'default_status':y_pred})\n",
        "my_submission.to_csv('submission_ayanlolaRf_simple_median_hyperopt_70percent.csv', index=False)"
      ],
      "execution_count": 332,
      "outputs": []
    },
    {
      "cell_type": "code",
      "metadata": {
        "id": "m2P7Fi61xDJ8"
      },
      "source": [
        ""
      ],
      "execution_count": 332,
      "outputs": []
    }
  ]
}