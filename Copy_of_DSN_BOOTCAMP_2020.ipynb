{
  "nbformat": 4,
  "nbformat_minor": 0,
  "metadata": {
    "colab": {
      "name": "Copy of DSN_BOOTCAMP_2020.ipynb",
      "provenance": [],
      "collapsed_sections": [],
      "include_colab_link": true
    },
    "kernelspec": {
      "name": "python3",
      "display_name": "Python 3"
    }
  },
  "cells": [
    {
      "cell_type": "markdown",
      "metadata": {
        "id": "view-in-github",
        "colab_type": "text"
      },
      "source": [
        "<a href=\"https://colab.research.google.com/github/Ayanlola2002/Data-Science-Nigeria/blob/master/Copy_of_DSN_BOOTCAMP_2020.ipynb\" target=\"_parent\"><img src=\"https://colab.research.google.com/assets/colab-badge.svg\" alt=\"Open In Colab\"/></a>"
      ]
    },
    {
      "cell_type": "code",
      "metadata": {
        "id": "nrx0zAs4Okhc",
        "colab_type": "code",
        "colab": {
          "base_uri": "https://localhost:8080/",
          "height": 54
        },
        "outputId": "1a97ccf2-85d2-47b2-8f62-4a28e05ae582"
      },
      "source": [
        "#mounting Gdrive\n",
        "from google.colab import drive\n",
        "drive.mount('/content/drive')"
      ],
      "execution_count": 62,
      "outputs": [
        {
          "output_type": "stream",
          "text": [
            "Drive already mounted at /content/drive; to attempt to forcibly remount, call drive.mount(\"/content/drive\", force_remount=True).\n"
          ],
          "name": "stdout"
        }
      ]
    },
    {
      "cell_type": "code",
      "metadata": {
        "id": "jl4gZ1L3O2NC",
        "colab_type": "code",
        "colab": {}
      },
      "source": [
        "import pandas as pd\n",
        "import numpy as np\n",
        "pd.set_option('display.float_format', lambda x: '{:.3f}'.format(x)) #Limiting floats output to 3 decimal points"
      ],
      "execution_count": 63,
      "outputs": []
    },
    {
      "cell_type": "code",
      "metadata": {
        "id": "XGTxDu2ETOGX",
        "colab_type": "code",
        "colab": {}
      },
      "source": [
        "train_df=pd.read_csv('/content/drive/My Drive/DSN_BOOTCAMP/Train.csv')\n",
        "test_df=pd.read_csv('/content/drive/My Drive/DSN_BOOTCAMP/Test.csv')"
      ],
      "execution_count": 64,
      "outputs": []
    },
    {
      "cell_type": "code",
      "metadata": {
        "id": "2MzVWzArWzPv",
        "colab_type": "code",
        "colab": {
          "base_uri": "https://localhost:8080/",
          "height": 215
        },
        "outputId": "264e5c1c-56a7-4bbc-d3cf-b7d35d91f401"
      },
      "source": [
        "\n",
        "train_df.head()"
      ],
      "execution_count": 65,
      "outputs": [
        {
          "output_type": "execute_result",
          "data": {
            "text/html": [
              "<div>\n",
              "<style scoped>\n",
              "    .dataframe tbody tr th:only-of-type {\n",
              "        vertical-align: middle;\n",
              "    }\n",
              "\n",
              "    .dataframe tbody tr th {\n",
              "        vertical-align: top;\n",
              "    }\n",
              "\n",
              "    .dataframe thead th {\n",
              "        text-align: right;\n",
              "    }\n",
              "</style>\n",
              "<table border=\"1\" class=\"dataframe\">\n",
              "  <thead>\n",
              "    <tr style=\"text-align: right;\">\n",
              "      <th></th>\n",
              "      <th>Applicant_ID</th>\n",
              "      <th>form_field1</th>\n",
              "      <th>form_field2</th>\n",
              "      <th>form_field3</th>\n",
              "      <th>form_field4</th>\n",
              "      <th>form_field5</th>\n",
              "      <th>form_field6</th>\n",
              "      <th>form_field7</th>\n",
              "      <th>form_field8</th>\n",
              "      <th>form_field9</th>\n",
              "      <th>form_field10</th>\n",
              "      <th>form_field11</th>\n",
              "      <th>form_field12</th>\n",
              "      <th>form_field13</th>\n",
              "      <th>form_field14</th>\n",
              "      <th>form_field15</th>\n",
              "      <th>form_field16</th>\n",
              "      <th>form_field17</th>\n",
              "      <th>form_field18</th>\n",
              "      <th>form_field19</th>\n",
              "      <th>form_field20</th>\n",
              "      <th>form_field21</th>\n",
              "      <th>form_field22</th>\n",
              "      <th>form_field23</th>\n",
              "      <th>form_field24</th>\n",
              "      <th>form_field25</th>\n",
              "      <th>form_field26</th>\n",
              "      <th>form_field27</th>\n",
              "      <th>form_field28</th>\n",
              "      <th>form_field29</th>\n",
              "      <th>form_field30</th>\n",
              "      <th>form_field31</th>\n",
              "      <th>form_field32</th>\n",
              "      <th>form_field33</th>\n",
              "      <th>form_field34</th>\n",
              "      <th>form_field35</th>\n",
              "      <th>form_field36</th>\n",
              "      <th>form_field37</th>\n",
              "      <th>form_field38</th>\n",
              "      <th>form_field39</th>\n",
              "      <th>form_field40</th>\n",
              "      <th>form_field41</th>\n",
              "      <th>form_field42</th>\n",
              "      <th>form_field43</th>\n",
              "      <th>form_field44</th>\n",
              "      <th>form_field45</th>\n",
              "      <th>form_field46</th>\n",
              "      <th>form_field47</th>\n",
              "      <th>form_field48</th>\n",
              "      <th>form_field49</th>\n",
              "      <th>form_field50</th>\n",
              "      <th>default_status</th>\n",
              "    </tr>\n",
              "  </thead>\n",
              "  <tbody>\n",
              "    <tr>\n",
              "      <th>0</th>\n",
              "      <td>Apcnt_1000000</td>\n",
              "      <td>3436.000</td>\n",
              "      <td>0.285</td>\n",
              "      <td>1.656</td>\n",
              "      <td>0.000</td>\n",
              "      <td>0.000</td>\n",
              "      <td>0.000</td>\n",
              "      <td>10689720.000</td>\n",
              "      <td>252072.000</td>\n",
              "      <td>4272776.000</td>\n",
              "      <td>11333126.000</td>\n",
              "      <td>4397256.000</td>\n",
              "      <td>2301324.000</td>\n",
              "      <td>7875694.000</td>\n",
              "      <td>96375139</td>\n",
              "      <td>112181765.000</td>\n",
              "      <td>1.000</td>\n",
              "      <td>1.000</td>\n",
              "      <td>1.000</td>\n",
              "      <td>3.000</td>\n",
              "      <td>3.000</td>\n",
              "      <td>134.655</td>\n",
              "      <td>nan</td>\n",
              "      <td>nan</td>\n",
              "      <td>134.655</td>\n",
              "      <td>4000.500</td>\n",
              "      <td>17064.000</td>\n",
              "      <td>11376.000</td>\n",
              "      <td>60.000</td>\n",
              "      <td>17064.000</td>\n",
              "      <td>5962.000</td>\n",
              "      <td>nan</td>\n",
              "      <td>1052.000</td>\n",
              "      <td>8.000</td>\n",
              "      <td>2.000</td>\n",
              "      <td>nan</td>\n",
              "      <td>12.000</td>\n",
              "      <td>12.000</td>\n",
              "      <td>4.000</td>\n",
              "      <td>0.000</td>\n",
              "      <td>nan</td>\n",
              "      <td>nan</td>\n",
              "      <td>0.393</td>\n",
              "      <td>2.020</td>\n",
              "      <td>0.712</td>\n",
              "      <td>0.000</td>\n",
              "      <td>0.000</td>\n",
              "      <td>charge</td>\n",
              "      <td>nan</td>\n",
              "      <td>1.130</td>\n",
              "      <td>0.044</td>\n",
              "      <td>no</td>\n",
              "    </tr>\n",
              "    <tr>\n",
              "      <th>1</th>\n",
              "      <td>Apcnt_1000004</td>\n",
              "      <td>3456.000</td>\n",
              "      <td>0.674</td>\n",
              "      <td>0.234</td>\n",
              "      <td>0.000</td>\n",
              "      <td>0.000</td>\n",
              "      <td>0.000</td>\n",
              "      <td>898979.000</td>\n",
              "      <td>497531.000</td>\n",
              "      <td>9073814.000</td>\n",
              "      <td>2533168.000</td>\n",
              "      <td>244292.000</td>\n",
              "      <td>3982971.000</td>\n",
              "      <td>2141445.000</td>\n",
              "      <td>28141427</td>\n",
              "      <td>45169902.000</td>\n",
              "      <td>1.000</td>\n",
              "      <td>1.000</td>\n",
              "      <td>1.000</td>\n",
              "      <td>2.000</td>\n",
              "      <td>2.000</td>\n",
              "      <td>109.230</td>\n",
              "      <td>11385.240</td>\n",
              "      <td>14584.290</td>\n",
              "      <td>86.685</td>\n",
              "      <td>4161.000</td>\n",
              "      <td>13413.000</td>\n",
              "      <td>8942.000</td>\n",
              "      <td>304.000</td>\n",
              "      <td>13413.000</td>\n",
              "      <td>5780.000</td>\n",
              "      <td>nan</td>\n",
              "      <td>2554.000</td>\n",
              "      <td>17.500</td>\n",
              "      <td>0.000</td>\n",
              "      <td>0.000</td>\n",
              "      <td>16.000</td>\n",
              "      <td>24.000</td>\n",
              "      <td>8.000</td>\n",
              "      <td>0.000</td>\n",
              "      <td>nan</td>\n",
              "      <td>nan</td>\n",
              "      <td>0.314</td>\n",
              "      <td>8.080</td>\n",
              "      <td>0.184</td>\n",
              "      <td>nan</td>\n",
              "      <td>0.000</td>\n",
              "      <td>charge</td>\n",
              "      <td>349.806</td>\n",
              "      <td>1.620</td>\n",
              "      <td>0.322</td>\n",
              "      <td>no</td>\n",
              "    </tr>\n",
              "    <tr>\n",
              "      <th>2</th>\n",
              "      <td>Apcnt_1000008</td>\n",
              "      <td>3276.000</td>\n",
              "      <td>0.538</td>\n",
              "      <td>3.151</td>\n",
              "      <td>0.000</td>\n",
              "      <td>6.282</td>\n",
              "      <td>nan</td>\n",
              "      <td>956940.000</td>\n",
              "      <td>nan</td>\n",
              "      <td>192944.000</td>\n",
              "      <td>1079864.000</td>\n",
              "      <td>nan</td>\n",
              "      <td>nan</td>\n",
              "      <td>0.000</td>\n",
              "      <td>16576457</td>\n",
              "      <td>22452691.000</td>\n",
              "      <td>nan</td>\n",
              "      <td>nan</td>\n",
              "      <td>nan</td>\n",
              "      <td>0.000</td>\n",
              "      <td>0.000</td>\n",
              "      <td>nan</td>\n",
              "      <td>nan</td>\n",
              "      <td>nan</td>\n",
              "      <td>nan</td>\n",
              "      <td>1597.500</td>\n",
              "      <td>4746.000</td>\n",
              "      <td>3164.000</td>\n",
              "      <td>60.000</td>\n",
              "      <td>15696.000</td>\n",
              "      <td>nan</td>\n",
              "      <td>14508.000</td>\n",
              "      <td>70.000</td>\n",
              "      <td>0.667</td>\n",
              "      <td>0.000</td>\n",
              "      <td>nan</td>\n",
              "      <td>12.000</td>\n",
              "      <td>0.000</td>\n",
              "      <td>6.000</td>\n",
              "      <td>0.000</td>\n",
              "      <td>149.680</td>\n",
              "      <td>nan</td>\n",
              "      <td>0.163</td>\n",
              "      <td>18.180</td>\n",
              "      <td>0.791</td>\n",
              "      <td>0.000</td>\n",
              "      <td>0.000</td>\n",
              "      <td>charge</td>\n",
              "      <td>nan</td>\n",
              "      <td>1.513</td>\n",
              "      <td>0.012</td>\n",
              "      <td>yes</td>\n",
              "    </tr>\n",
              "    <tr>\n",
              "      <th>3</th>\n",
              "      <td>Apcnt_1000012</td>\n",
              "      <td>3372.000</td>\n",
              "      <td>0.170</td>\n",
              "      <td>0.505</td>\n",
              "      <td>0.000</td>\n",
              "      <td>0.000</td>\n",
              "      <td>192166.000</td>\n",
              "      <td>3044703.000</td>\n",
              "      <td>385499.000</td>\n",
              "      <td>3986472.000</td>\n",
              "      <td>3621979.000</td>\n",
              "      <td>nan</td>\n",
              "      <td>771776.000</td>\n",
              "      <td>1186839.000</td>\n",
              "      <td>48187375</td>\n",
              "      <td>136297820.000</td>\n",
              "      <td>0.000</td>\n",
              "      <td>0.000</td>\n",
              "      <td>0.000</td>\n",
              "      <td>1.000</td>\n",
              "      <td>1.000</td>\n",
              "      <td>120.120</td>\n",
              "      <td>8580.000</td>\n",
              "      <td>0.000</td>\n",
              "      <td>85.800</td>\n",
              "      <td>1701.000</td>\n",
              "      <td>4014.000</td>\n",
              "      <td>2676.000</td>\n",
              "      <td>60.000</td>\n",
              "      <td>11679.000</td>\n",
              "      <td>nan</td>\n",
              "      <td>nan</td>\n",
              "      <td>522.000</td>\n",
              "      <td>7.833</td>\n",
              "      <td>1.000</td>\n",
              "      <td>1.000</td>\n",
              "      <td>4.000</td>\n",
              "      <td>8.000</td>\n",
              "      <td>4.000</td>\n",
              "      <td>1.000</td>\n",
              "      <td>nan</td>\n",
              "      <td>nan</td>\n",
              "      <td>0.489</td>\n",
              "      <td>2.020</td>\n",
              "      <td>0.685</td>\n",
              "      <td>nan</td>\n",
              "      <td>0.000</td>\n",
              "      <td>charge</td>\n",
              "      <td>89.940</td>\n",
              "      <td>0.664</td>\n",
              "      <td>0.083</td>\n",
              "      <td>no</td>\n",
              "    </tr>\n",
              "    <tr>\n",
              "      <th>4</th>\n",
              "      <td>Apcnt_1000016</td>\n",
              "      <td>3370.000</td>\n",
              "      <td>0.773</td>\n",
              "      <td>1.101</td>\n",
              "      <td>0.000</td>\n",
              "      <td>0.000</td>\n",
              "      <td>1556.000</td>\n",
              "      <td>214728.000</td>\n",
              "      <td>214728.000</td>\n",
              "      <td>1284089.000</td>\n",
              "      <td>361770.000</td>\n",
              "      <td>396391.000</td>\n",
              "      <td>818456.000</td>\n",
              "      <td>511535.000</td>\n",
              "      <td>28141427</td>\n",
              "      <td>15292757.000</td>\n",
              "      <td>0.000</td>\n",
              "      <td>0.000</td>\n",
              "      <td>0.000</td>\n",
              "      <td>3.000</td>\n",
              "      <td>3.000</td>\n",
              "      <td>104.535</td>\n",
              "      <td>8360.190</td>\n",
              "      <td>10326.450</td>\n",
              "      <td>115.335</td>\n",
              "      <td>1551.000</td>\n",
              "      <td>3285.000</td>\n",
              "      <td>2190.000</td>\n",
              "      <td>60.000</td>\n",
              "      <td>19437.000</td>\n",
              "      <td>12958.000</td>\n",
              "      <td>5202.000</td>\n",
              "      <td>272.000</td>\n",
              "      <td>1.000</td>\n",
              "      <td>0.000</td>\n",
              "      <td>0.000</td>\n",
              "      <td>24.000</td>\n",
              "      <td>2.000</td>\n",
              "      <td>24.000</td>\n",
              "      <td>0.000</td>\n",
              "      <td>150.013</td>\n",
              "      <td>nan</td>\n",
              "      <td>0.275</td>\n",
              "      <td>12.120</td>\n",
              "      <td>0.438</td>\n",
              "      <td>0.000</td>\n",
              "      <td>0.000</td>\n",
              "      <td>charge</td>\n",
              "      <td>97.888</td>\n",
              "      <td>1.428</td>\n",
              "      <td>0.046</td>\n",
              "      <td>no</td>\n",
              "    </tr>\n",
              "  </tbody>\n",
              "</table>\n",
              "</div>"
            ],
            "text/plain": [
              "    Applicant_ID  form_field1  ...  form_field50  default_status\n",
              "0  Apcnt_1000000     3436.000  ...         0.044              no\n",
              "1  Apcnt_1000004     3456.000  ...         0.322              no\n",
              "2  Apcnt_1000008     3276.000  ...         0.012             yes\n",
              "3  Apcnt_1000012     3372.000  ...         0.083              no\n",
              "4  Apcnt_1000016     3370.000  ...         0.046              no\n",
              "\n",
              "[5 rows x 52 columns]"
            ]
          },
          "metadata": {
            "tags": []
          },
          "execution_count": 65
        }
      ]
    },
    {
      "cell_type": "code",
      "metadata": {
        "id": "LTKd1ptl4xhk",
        "colab_type": "code",
        "colab": {
          "base_uri": "https://localhost:8080/",
          "height": 215
        },
        "outputId": "6cc663c9-bc8d-4ef3-9208-2c4dddd098b2"
      },
      "source": [
        "test_df.head()"
      ],
      "execution_count": 66,
      "outputs": [
        {
          "output_type": "execute_result",
          "data": {
            "text/html": [
              "<div>\n",
              "<style scoped>\n",
              "    .dataframe tbody tr th:only-of-type {\n",
              "        vertical-align: middle;\n",
              "    }\n",
              "\n",
              "    .dataframe tbody tr th {\n",
              "        vertical-align: top;\n",
              "    }\n",
              "\n",
              "    .dataframe thead th {\n",
              "        text-align: right;\n",
              "    }\n",
              "</style>\n",
              "<table border=\"1\" class=\"dataframe\">\n",
              "  <thead>\n",
              "    <tr style=\"text-align: right;\">\n",
              "      <th></th>\n",
              "      <th>Applicant_ID</th>\n",
              "      <th>form_field1</th>\n",
              "      <th>form_field2</th>\n",
              "      <th>form_field3</th>\n",
              "      <th>form_field4</th>\n",
              "      <th>form_field5</th>\n",
              "      <th>form_field6</th>\n",
              "      <th>form_field7</th>\n",
              "      <th>form_field8</th>\n",
              "      <th>form_field9</th>\n",
              "      <th>form_field10</th>\n",
              "      <th>form_field11</th>\n",
              "      <th>form_field12</th>\n",
              "      <th>form_field13</th>\n",
              "      <th>form_field14</th>\n",
              "      <th>form_field15</th>\n",
              "      <th>form_field16</th>\n",
              "      <th>form_field17</th>\n",
              "      <th>form_field18</th>\n",
              "      <th>form_field19</th>\n",
              "      <th>form_field20</th>\n",
              "      <th>form_field21</th>\n",
              "      <th>form_field22</th>\n",
              "      <th>form_field23</th>\n",
              "      <th>form_field24</th>\n",
              "      <th>form_field25</th>\n",
              "      <th>form_field26</th>\n",
              "      <th>form_field27</th>\n",
              "      <th>form_field28</th>\n",
              "      <th>form_field29</th>\n",
              "      <th>form_field30</th>\n",
              "      <th>form_field31</th>\n",
              "      <th>form_field32</th>\n",
              "      <th>form_field33</th>\n",
              "      <th>form_field34</th>\n",
              "      <th>form_field35</th>\n",
              "      <th>form_field36</th>\n",
              "      <th>form_field37</th>\n",
              "      <th>form_field38</th>\n",
              "      <th>form_field39</th>\n",
              "      <th>form_field40</th>\n",
              "      <th>form_field41</th>\n",
              "      <th>form_field42</th>\n",
              "      <th>form_field43</th>\n",
              "      <th>form_field44</th>\n",
              "      <th>form_field45</th>\n",
              "      <th>form_field46</th>\n",
              "      <th>form_field47</th>\n",
              "      <th>form_field48</th>\n",
              "      <th>form_field49</th>\n",
              "      <th>form_field50</th>\n",
              "    </tr>\n",
              "  </thead>\n",
              "  <tbody>\n",
              "    <tr>\n",
              "      <th>0</th>\n",
              "      <td>Apcnt_1000032</td>\n",
              "      <td>3236.000</td>\n",
              "      <td>0.349</td>\n",
              "      <td>10.201</td>\n",
              "      <td>0.000</td>\n",
              "      <td>0.000</td>\n",
              "      <td>418564.000</td>\n",
              "      <td>418564.000</td>\n",
              "      <td>418564.000</td>\n",
              "      <td>540710.000</td>\n",
              "      <td>0.000</td>\n",
              "      <td>1649749.000</td>\n",
              "      <td>5446.000</td>\n",
              "      <td>0.000</td>\n",
              "      <td>48187375</td>\n",
              "      <td>114686147.000</td>\n",
              "      <td>0.000</td>\n",
              "      <td>0.000</td>\n",
              "      <td>0.000</td>\n",
              "      <td>0.000</td>\n",
              "      <td>0.000</td>\n",
              "      <td>nan</td>\n",
              "      <td>nan</td>\n",
              "      <td>nan</td>\n",
              "      <td>nan</td>\n",
              "      <td>1086.000</td>\n",
              "      <td>6204.000</td>\n",
              "      <td>2676.000</td>\n",
              "      <td>60.000</td>\n",
              "      <td>14691.000</td>\n",
              "      <td>9794.000</td>\n",
              "      <td>nan</td>\n",
              "      <td>238.000</td>\n",
              "      <td>1.833</td>\n",
              "      <td>0.000</td>\n",
              "      <td>nan</td>\n",
              "      <td>22.000</td>\n",
              "      <td>2.000</td>\n",
              "      <td>14.000</td>\n",
              "      <td>0.000</td>\n",
              "      <td>nan</td>\n",
              "      <td>nan</td>\n",
              "      <td>0.825</td>\n",
              "      <td>1.010</td>\n",
              "      <td>0.800</td>\n",
              "      <td>nan</td>\n",
              "      <td>0.000</td>\n",
              "      <td>charge</td>\n",
              "      <td>nan</td>\n",
              "      <td>0.000</td>\n",
              "      <td>0.011</td>\n",
              "    </tr>\n",
              "    <tr>\n",
              "      <th>1</th>\n",
              "      <td>Apcnt_1000048</td>\n",
              "      <td>3284.000</td>\n",
              "      <td>1.274</td>\n",
              "      <td>2.961</td>\n",
              "      <td>9.020</td>\n",
              "      <td>0.000</td>\n",
              "      <td>0.000</td>\n",
              "      <td>9858816.000</td>\n",
              "      <td>49014.000</td>\n",
              "      <td>1510098.000</td>\n",
              "      <td>18308285.000</td>\n",
              "      <td>622789.000</td>\n",
              "      <td>1025793.000</td>\n",
              "      <td>1396510.000</td>\n",
              "      <td>34694910</td>\n",
              "      <td>87479487.000</td>\n",
              "      <td>1.000</td>\n",
              "      <td>1.000</td>\n",
              "      <td>1.000</td>\n",
              "      <td>2.000</td>\n",
              "      <td>2.000</td>\n",
              "      <td>142.560</td>\n",
              "      <td>nan</td>\n",
              "      <td>nan</td>\n",
              "      <td>570.585</td>\n",
              "      <td>3082.500</td>\n",
              "      <td>10221.000</td>\n",
              "      <td>6814.000</td>\n",
              "      <td>60.000</td>\n",
              "      <td>11955.000</td>\n",
              "      <td>3528.000</td>\n",
              "      <td>nan</td>\n",
              "      <td>1216.000</td>\n",
              "      <td>19.500</td>\n",
              "      <td>3.000</td>\n",
              "      <td>nan</td>\n",
              "      <td>30.000</td>\n",
              "      <td>18.000</td>\n",
              "      <td>14.000</td>\n",
              "      <td>2.000</td>\n",
              "      <td>nan</td>\n",
              "      <td>18.841</td>\n",
              "      <td>0.508</td>\n",
              "      <td>4.040</td>\n",
              "      <td>0.623</td>\n",
              "      <td>1.000</td>\n",
              "      <td>0.000</td>\n",
              "      <td>lending</td>\n",
              "      <td>nan</td>\n",
              "      <td>0.505</td>\n",
              "      <td>0.044</td>\n",
              "    </tr>\n",
              "    <tr>\n",
              "      <th>2</th>\n",
              "      <td>Apcnt_1000052</td>\n",
              "      <td>nan</td>\n",
              "      <td>0.275</td>\n",
              "      <td>0.060</td>\n",
              "      <td>0.000</td>\n",
              "      <td>0.000</td>\n",
              "      <td>nan</td>\n",
              "      <td>nan</td>\n",
              "      <td>nan</td>\n",
              "      <td>nan</td>\n",
              "      <td>0.000</td>\n",
              "      <td>118256.000</td>\n",
              "      <td>nan</td>\n",
              "      <td>nan</td>\n",
              "      <td>21973443</td>\n",
              "      <td>nan</td>\n",
              "      <td>nan</td>\n",
              "      <td>nan</td>\n",
              "      <td>nan</td>\n",
              "      <td>0.000</td>\n",
              "      <td>0.000</td>\n",
              "      <td>nan</td>\n",
              "      <td>nan</td>\n",
              "      <td>nan</td>\n",
              "      <td>nan</td>\n",
              "      <td>nan</td>\n",
              "      <td>nan</td>\n",
              "      <td>nan</td>\n",
              "      <td>852.000</td>\n",
              "      <td>4836.000</td>\n",
              "      <td>nan</td>\n",
              "      <td>nan</td>\n",
              "      <td>nan</td>\n",
              "      <td>7.833</td>\n",
              "      <td>0.000</td>\n",
              "      <td>nan</td>\n",
              "      <td>2.000</td>\n",
              "      <td>nan</td>\n",
              "      <td>0.000</td>\n",
              "      <td>nan</td>\n",
              "      <td>nan</td>\n",
              "      <td>nan</td>\n",
              "      <td>nan</td>\n",
              "      <td>0.000</td>\n",
              "      <td>nan</td>\n",
              "      <td>nan</td>\n",
              "      <td>nan</td>\n",
              "      <td>charge</td>\n",
              "      <td>nan</td>\n",
              "      <td>0.000</td>\n",
              "      <td>nan</td>\n",
              "    </tr>\n",
              "    <tr>\n",
              "      <th>3</th>\n",
              "      <td>Apcnt_1000076</td>\n",
              "      <td>3232.000</td>\n",
              "      <td>0.285</td>\n",
              "      <td>2.803</td>\n",
              "      <td>0.000</td>\n",
              "      <td>0.000</td>\n",
              "      <td>0.000</td>\n",
              "      <td>473802.000</td>\n",
              "      <td>473802.000</td>\n",
              "      <td>1724437.000</td>\n",
              "      <td>493641.000</td>\n",
              "      <td>1391064.000</td>\n",
              "      <td>1176725.000</td>\n",
              "      <td>1220293.000</td>\n",
              "      <td>16576457</td>\n",
              "      <td>nan</td>\n",
              "      <td>2.000</td>\n",
              "      <td>2.000</td>\n",
              "      <td>2.000</td>\n",
              "      <td>3.000</td>\n",
              "      <td>3.000</td>\n",
              "      <td>109.005</td>\n",
              "      <td>13050.000</td>\n",
              "      <td>nan</td>\n",
              "      <td>109.005</td>\n",
              "      <td>1414.500</td>\n",
              "      <td>4197.000</td>\n",
              "      <td>2798.000</td>\n",
              "      <td>60.000</td>\n",
              "      <td>14964.000</td>\n",
              "      <td>nan</td>\n",
              "      <td>nan</td>\n",
              "      <td>248.000</td>\n",
              "      <td>9.000</td>\n",
              "      <td>1.000</td>\n",
              "      <td>1.000</td>\n",
              "      <td>36.000</td>\n",
              "      <td>0.000</td>\n",
              "      <td>26.000</td>\n",
              "      <td>0.000</td>\n",
              "      <td>nan</td>\n",
              "      <td>nan</td>\n",
              "      <td>0.917</td>\n",
              "      <td>2.020</td>\n",
              "      <td>0.464</td>\n",
              "      <td>nan</td>\n",
              "      <td>nan</td>\n",
              "      <td>charge</td>\n",
              "      <td>90.164</td>\n",
              "      <td>0.789</td>\n",
              "      <td>0.104</td>\n",
              "    </tr>\n",
              "    <tr>\n",
              "      <th>4</th>\n",
              "      <td>Apcnt_1000080</td>\n",
              "      <td>3466.000</td>\n",
              "      <td>2.095</td>\n",
              "      <td>0.832</td>\n",
              "      <td>2.518</td>\n",
              "      <td>0.000</td>\n",
              "      <td>19839.000</td>\n",
              "      <td>1150662.000</td>\n",
              "      <td>1150662.000</td>\n",
              "      <td>7860523.000</td>\n",
              "      <td>5752921.000</td>\n",
              "      <td>271133.000</td>\n",
              "      <td>613064.000</td>\n",
              "      <td>4779643.000</td>\n",
              "      <td>48187375</td>\n",
              "      <td>72049802.000</td>\n",
              "      <td>0.000</td>\n",
              "      <td>0.000</td>\n",
              "      <td>0.000</td>\n",
              "      <td>3.000</td>\n",
              "      <td>3.000</td>\n",
              "      <td>139.065</td>\n",
              "      <td>469.290</td>\n",
              "      <td>469.290</td>\n",
              "      <td>15.180</td>\n",
              "      <td>2724.000</td>\n",
              "      <td>9855.000</td>\n",
              "      <td>6570.000</td>\n",
              "      <td>182.000</td>\n",
              "      <td>11679.000</td>\n",
              "      <td>5900.000</td>\n",
              "      <td>nan</td>\n",
              "      <td>2388.000</td>\n",
              "      <td>16.667</td>\n",
              "      <td>1.000</td>\n",
              "      <td>0.000</td>\n",
              "      <td>24.000</td>\n",
              "      <td>28.000</td>\n",
              "      <td>20.000</td>\n",
              "      <td>0.000</td>\n",
              "      <td>nan</td>\n",
              "      <td>nan</td>\n",
              "      <td>0.234</td>\n",
              "      <td>23.230</td>\n",
              "      <td>0.727</td>\n",
              "      <td>0.000</td>\n",
              "      <td>0.000</td>\n",
              "      <td>lending</td>\n",
              "      <td>1303.587</td>\n",
              "      <td>1.638</td>\n",
              "      <td>0.163</td>\n",
              "    </tr>\n",
              "  </tbody>\n",
              "</table>\n",
              "</div>"
            ],
            "text/plain": [
              "    Applicant_ID  form_field1  ...  form_field49  form_field50\n",
              "0  Apcnt_1000032     3236.000  ...         0.000         0.011\n",
              "1  Apcnt_1000048     3284.000  ...         0.505         0.044\n",
              "2  Apcnt_1000052          nan  ...         0.000           nan\n",
              "3  Apcnt_1000076     3232.000  ...         0.789         0.104\n",
              "4  Apcnt_1000080     3466.000  ...         1.638         0.163\n",
              "\n",
              "[5 rows x 51 columns]"
            ]
          },
          "metadata": {
            "tags": []
          },
          "execution_count": 66
        }
      ]
    },
    {
      "cell_type": "code",
      "metadata": {
        "id": "c6h-MB_SXH_P",
        "colab_type": "code",
        "colab": {
          "base_uri": "https://localhost:8080/",
          "height": 50
        },
        "outputId": "1d80d1d1-5431-4e0e-8bef-f0e00aba7eb2"
      },
      "source": [
        "\n",
        "print(train_df.shape)\n",
        "print(test_df.shape)"
      ],
      "execution_count": 67,
      "outputs": [
        {
          "output_type": "stream",
          "text": [
            "(56000, 52)\n",
            "(24000, 51)\n"
          ],
          "name": "stdout"
        }
      ]
    },
    {
      "cell_type": "code",
      "metadata": {
        "id": "cHJSmWxpznNt",
        "colab_type": "code",
        "colab": {}
      },
      "source": [
        "Application_id=test_df['Applicant_ID']"
      ],
      "execution_count": 68,
      "outputs": []
    },
    {
      "cell_type": "code",
      "metadata": {
        "id": "VZ6XFSK9iDyq",
        "colab_type": "code",
        "colab": {
          "base_uri": "https://localhost:8080/",
          "height": 34
        },
        "outputId": "db96c884-e7e2-4cba-8ff3-98628b222977"
      },
      "source": [
        "train_df.default_status.unique()"
      ],
      "execution_count": 69,
      "outputs": [
        {
          "output_type": "execute_result",
          "data": {
            "text/plain": [
              "array(['no', 'yes'], dtype=object)"
            ]
          },
          "metadata": {
            "tags": []
          },
          "execution_count": 69
        }
      ]
    },
    {
      "cell_type": "code",
      "metadata": {
        "id": "dXMim_IzhOpg",
        "colab_type": "code",
        "colab": {}
      },
      "source": [
        "#target varriable\n",
        "train_df.loc[train_df.default_status=='no','default_status']=0\n",
        "#target varriable\n",
        "train_df.loc[train_df.default_status=='yes','default_status']=1"
      ],
      "execution_count": 70,
      "outputs": []
    },
    {
      "cell_type": "code",
      "metadata": {
        "id": "WuJS5ZhY6xOd",
        "colab_type": "code",
        "colab": {}
      },
      "source": [
        "#saving the order Id column and predictor column\n",
        "#Application_id=test_df['Applicant_ID']\n",
        "y_train=train_df.iloc[:,-1].astype('int')"
      ],
      "execution_count": 71,
      "outputs": []
    },
    {
      "cell_type": "code",
      "metadata": {
        "id": "A7A60GlDoNv6",
        "colab_type": "code",
        "colab": {
          "base_uri": "https://localhost:8080/",
          "height": 218
        },
        "outputId": "41da657c-fa2d-46eb-8196-0848abe9355a"
      },
      "source": [
        "y_train"
      ],
      "execution_count": 72,
      "outputs": [
        {
          "output_type": "execute_result",
          "data": {
            "text/plain": [
              "0        0\n",
              "1        0\n",
              "2        1\n",
              "3        0\n",
              "4        0\n",
              "        ..\n",
              "55995    0\n",
              "55996    1\n",
              "55997    0\n",
              "55998    0\n",
              "55999    0\n",
              "Name: default_status, Length: 56000, dtype: int64"
            ]
          },
          "metadata": {
            "tags": []
          },
          "execution_count": 72
        }
      ]
    },
    {
      "cell_type": "code",
      "metadata": {
        "id": "kpAfzliNT7iT",
        "colab_type": "code",
        "colab": {
          "base_uri": "https://localhost:8080/",
          "height": 907
        },
        "outputId": "8ac3d99a-da3b-46d6-aef3-a828cd950d3f"
      },
      "source": [
        "#type(train_df.isnull().sum())\n",
        "train_df.isnull().sum()"
      ],
      "execution_count": 73,
      "outputs": [
        {
          "output_type": "execute_result",
          "data": {
            "text/plain": [
              "Applicant_ID          0\n",
              "form_field1        2529\n",
              "form_field2        3844\n",
              "form_field3         355\n",
              "form_field4         355\n",
              "form_field5         355\n",
              "form_field6       13360\n",
              "form_field7        5163\n",
              "form_field8       13360\n",
              "form_field9        8008\n",
              "form_field10        355\n",
              "form_field11      31421\n",
              "form_field12       9895\n",
              "form_field13       5889\n",
              "form_field14          0\n",
              "form_field15      22475\n",
              "form_field16      13036\n",
              "form_field17      11151\n",
              "form_field18      10402\n",
              "form_field19          4\n",
              "form_field20        355\n",
              "form_field21      15854\n",
              "form_field22      20400\n",
              "form_field23      28123\n",
              "form_field24      13297\n",
              "form_field25       5450\n",
              "form_field26       7438\n",
              "form_field27       9299\n",
              "form_field28        355\n",
              "form_field29        355\n",
              "form_field30      25509\n",
              "form_field31      39408\n",
              "form_field32       5450\n",
              "form_field33       1256\n",
              "form_field34        355\n",
              "form_field35      23148\n",
              "form_field36       1995\n",
              "form_field37       5450\n",
              "form_field38        355\n",
              "form_field39       4211\n",
              "form_field40      43729\n",
              "form_field41      38229\n",
              "form_field42       1323\n",
              "form_field43        568\n",
              "form_field44       5383\n",
              "form_field45      31317\n",
              "form_field46      15904\n",
              "form_field47          0\n",
              "form_field48      20889\n",
              "form_field49        355\n",
              "form_field50      11056\n",
              "default_status        0\n",
              "dtype: int64"
            ]
          },
          "metadata": {
            "tags": []
          },
          "execution_count": 73
        }
      ]
    },
    {
      "cell_type": "code",
      "metadata": {
        "id": "kdb0kwT1T_Yo",
        "colab_type": "code",
        "colab": {
          "base_uri": "https://localhost:8080/",
          "height": 1000
        },
        "outputId": "7db16672-df51-47fd-cf9e-dd81e58e6922"
      },
      "source": [
        "train_df.info()"
      ],
      "execution_count": 74,
      "outputs": [
        {
          "output_type": "stream",
          "text": [
            "<class 'pandas.core.frame.DataFrame'>\n",
            "RangeIndex: 56000 entries, 0 to 55999\n",
            "Data columns (total 52 columns):\n",
            " #   Column          Non-Null Count  Dtype  \n",
            "---  ------          --------------  -----  \n",
            " 0   Applicant_ID    56000 non-null  object \n",
            " 1   form_field1     53471 non-null  float64\n",
            " 2   form_field2     52156 non-null  float64\n",
            " 3   form_field3     55645 non-null  float64\n",
            " 4   form_field4     55645 non-null  float64\n",
            " 5   form_field5     55645 non-null  float64\n",
            " 6   form_field6     42640 non-null  float64\n",
            " 7   form_field7     50837 non-null  float64\n",
            " 8   form_field8     42640 non-null  float64\n",
            " 9   form_field9     47992 non-null  float64\n",
            " 10  form_field10    55645 non-null  float64\n",
            " 11  form_field11    24579 non-null  float64\n",
            " 12  form_field12    46105 non-null  float64\n",
            " 13  form_field13    50111 non-null  float64\n",
            " 14  form_field14    56000 non-null  int64  \n",
            " 15  form_field15    33525 non-null  float64\n",
            " 16  form_field16    42964 non-null  float64\n",
            " 17  form_field17    44849 non-null  float64\n",
            " 18  form_field18    45598 non-null  float64\n",
            " 19  form_field19    55996 non-null  float64\n",
            " 20  form_field20    55645 non-null  float64\n",
            " 21  form_field21    40146 non-null  float64\n",
            " 22  form_field22    35600 non-null  float64\n",
            " 23  form_field23    27877 non-null  float64\n",
            " 24  form_field24    42703 non-null  float64\n",
            " 25  form_field25    50550 non-null  float64\n",
            " 26  form_field26    48562 non-null  float64\n",
            " 27  form_field27    46701 non-null  float64\n",
            " 28  form_field28    55645 non-null  float64\n",
            " 29  form_field29    55645 non-null  float64\n",
            " 30  form_field30    30491 non-null  float64\n",
            " 31  form_field31    16592 non-null  float64\n",
            " 32  form_field32    50550 non-null  float64\n",
            " 33  form_field33    54744 non-null  float64\n",
            " 34  form_field34    55645 non-null  float64\n",
            " 35  form_field35    32852 non-null  float64\n",
            " 36  form_field36    54005 non-null  float64\n",
            " 37  form_field37    50550 non-null  float64\n",
            " 38  form_field38    55645 non-null  float64\n",
            " 39  form_field39    51789 non-null  float64\n",
            " 40  form_field40    12271 non-null  float64\n",
            " 41  form_field41    17771 non-null  float64\n",
            " 42  form_field42    54677 non-null  float64\n",
            " 43  form_field43    55432 non-null  float64\n",
            " 44  form_field44    50617 non-null  float64\n",
            " 45  form_field45    24683 non-null  float64\n",
            " 46  form_field46    40096 non-null  float64\n",
            " 47  form_field47    56000 non-null  object \n",
            " 48  form_field48    35111 non-null  float64\n",
            " 49  form_field49    55645 non-null  float64\n",
            " 50  form_field50    44944 non-null  float64\n",
            " 51  default_status  56000 non-null  object \n",
            "dtypes: float64(48), int64(1), object(3)\n",
            "memory usage: 22.2+ MB\n"
          ],
          "name": "stdout"
        }
      ]
    },
    {
      "cell_type": "code",
      "metadata": {
        "id": "icxhAjnKNnDL",
        "colab_type": "code",
        "colab": {
          "base_uri": "https://localhost:8080/",
          "height": 34
        },
        "outputId": "867916bb-7ef7-4ebc-bddd-d0538a2054d4"
      },
      "source": [
        "train_df.form_field40.unique()\n",
        "#fill form_field40 with mean,median"
      ],
      "execution_count": 75,
      "outputs": [
        {
          "output_type": "execute_result",
          "data": {
            "text/plain": [
              "array([     nan, 149.6805, 150.0135, ..., 110.334 , 178.371 , 158.025 ])"
            ]
          },
          "metadata": {
            "tags": []
          },
          "execution_count": 75
        }
      ]
    },
    {
      "cell_type": "code",
      "metadata": {
        "id": "NSerJRt5qLpO",
        "colab_type": "code",
        "colab": {
          "base_uri": "https://localhost:8080/",
          "height": 34
        },
        "outputId": "8974f745-41c8-4b96-e42c-c611af49a7fc"
      },
      "source": [
        "train_df.form_field47.unique()"
      ],
      "execution_count": 76,
      "outputs": [
        {
          "output_type": "execute_result",
          "data": {
            "text/plain": [
              "array(['charge', 'lending'], dtype=object)"
            ]
          },
          "metadata": {
            "tags": []
          },
          "execution_count": 76
        }
      ]
    },
    {
      "cell_type": "code",
      "metadata": {
        "id": "VUEdtMDfOJXM",
        "colab_type": "code",
        "colab": {
          "base_uri": "https://localhost:8080/",
          "height": 857
        },
        "outputId": "6eb8baf1-2bae-4671-f9ed-c51f5ef5ac2c"
      },
      "source": [
        "train_df.form_field31.unique()\n",
        "#mean,median\n",
        "#its also better to check the distribution with respect to some other fields.\n",
        "#bivariate analysis"
      ],
      "execution_count": 77,
      "outputs": [
        {
          "output_type": "execute_result",
          "data": {
            "text/plain": [
              "array([   nan, 14508.,  5202., 13413.,   273., 17430., 21990., 15879.,\n",
              "       11499.,  8031., 31845., 17703., 12684., 13506.,  8943.,  4014.,\n",
              "       14874.,  1917.,  9945.,  8121.,  5019.,  6024., 11955., 17064.,\n",
              "       10767., 12867.,  5748.,  6114., 16152., 10584.,  6936.,  3834.,\n",
              "       22629.,  6204., 10494., 15057., 15969., 21354., 20622., 18069.,\n",
              "        3468.,  8670., 12135., 23451.,  4746., 10311., 16974.,  7299.,\n",
              "       16791., 13869., 10404., 10677.,  5385., 10128.,  9489., 15786.,\n",
              "       11316.,   822., 11772., 13140.,  8577., 12318.,  3375.,  7026.,\n",
              "        6570.,  2829.,  7755.,  9399., 22083.,  1368., 10038.,   456.,\n",
              "        2556., 14145.,  9765., 15696., 13779., 15603.,  1185., 15513.,\n",
              "       20805.,  4929.,  2463., 14418.,  7119.,  6297., 19164., 19983.,\n",
              "        8304.,  3741., 20349.,  6753.,  4653., 11679., 12501.,   729.,\n",
              "       18798., 10221., 29019., 11406., 27465.,  7575., 25368., 21810.,\n",
              "       14235., 17154.,  9672.,  4470., 21444., 23724., 11589.,  5109.,\n",
              "       13962., 14784., 27285., 14325.,  2373.,  5565.,  5841., 17976.,\n",
              "       25734., 13596., 11133.,  3924., 12774.,  4563.,  1005., 18981.,\n",
              "        3102., 20439.,  7848.,   639.,  1551.,  8487., 20259., 12594.,\n",
              "       16059., 28014.,  7392., 10950., 24273.,  7209.,  9582., 17886.,\n",
              "       17610.,  5658., 13323.,  1824., 19344.,  5931., 13689., 16515.,\n",
              "       16608., 14691.,  8394., 14601., 18159., 16881.,  6480., 22539.,\n",
              "       18615., 25275.,  4836.,  1644., 29838., 15240., 18249., 15330.,\n",
              "       19620.,  4380.,  6843.,  7938., 24363.,  2919., 11223.,  5292.,\n",
              "       18888., 19254., 16698., 12045., 19710., 22449., 24546., 38598.,\n",
              "        1734., 10860.,   912.,  4197.,  4107.,  3195., 15420.,  1278.,\n",
              "        2190., 20895., 12411., 23178., 12228.,  9216., 24819.,  3651.,\n",
              "       20988.,  7665., 14964., 17793., 20076., 21534.,  5475.,  2646.,\n",
              "        4290., 21900., 23634., 27558., 19893., 13230.,  9309.,  2007.,\n",
              "       11862., 18432., 13050.,  2739.,  7482., 22356.,     0.,  3558.,\n",
              "        6660., 28104., 11040.,  8214., 29382.,  9855., 33306., 22266.,\n",
              "       23085., 15147., 26553., 18705., 20715., 17247., 27924.,   549.,\n",
              "        6387.,  8760., 21717.,  9033., 32211., 29109., 29565., 17337.,\n",
              "        8850., 21078.,  2100., 20532., 16335., 18525., 19437.,    90.,\n",
              "       12957., 24456., 30477., 26463., 24639.,  9126., 14052.,  1095.,\n",
              "       19800., 22905.,  3012., 21171., 16425.,  1461., 25185., 21261.,\n",
              "       34401., 18342., 23544., 23907., 22812., 28653., 19071.,  2280.,\n",
              "       30021., 22722., 29748., 28560., 26829., 33672., 30843., 35589.,\n",
              "       25002., 21627., 27009.,   366., 24729., 31389., 28197., 26736.,\n",
              "       27375., 16242., 23817., 39054., 19527., 17520., 25824., 33033.,\n",
              "       27648., 31299., 23268., 25458., 42066.,  3285., 28836., 36135.,\n",
              "       29655., 29292., 27192., 37959., 24090., 26007., 22173., 30204.,\n",
              "       28926., 23361., 20166., 32484., 22995., 26097., 27831., 25914.,\n",
              "       27102., 32304., 43617., 37869., 24912., 33762., 30387.,   183.,\n",
              "       32121., 35952., 32667., 26919., 30114., 25641., 37047., 29475.,\n",
              "       28743., 32760., 36957., 28380., 31026., 29199., 24000., 28470.,\n",
              "       26280., 26190., 25095., 31482., 30660., 35406., 29931., 24180.,\n",
              "       31572., 37413., 31755., 35223., 47085., 30570., 28287., 32850.,\n",
              "       26646., 30294., 26370., 37779., 34311., 32394., 31116., 30933.,\n",
              "       34128., 31665., 31938., 25551., 32577., 30750., 27741., 36225.,\n",
              "       34218., 33123., 33216., 32940., 37686., 31209., 36864., 39876.,\n",
              "       33399., 44073., 36408.])"
            ]
          },
          "metadata": {
            "tags": []
          },
          "execution_count": 77
        }
      ]
    },
    {
      "cell_type": "code",
      "metadata": {
        "id": "Bp1NvvuBDyYK",
        "colab_type": "code",
        "colab": {}
      },
      "source": [
        "#Now drop the  'Id' colum since it's unnecessary for  the prediction process.\n",
        "train_df.drop(\"Applicant_ID\", axis = 1, inplace = True)\n",
        "test_df.drop(\"Applicant_ID\", axis = 1, inplace = True)"
      ],
      "execution_count": 78,
      "outputs": []
    },
    {
      "cell_type": "code",
      "metadata": {
        "id": "HZYYU6MOkKZg",
        "colab_type": "code",
        "colab": {}
      },
      "source": [
        "# let's delete the last column from the dataset to  concat train and test\n",
        "train_df = train_df.drop(['default_status'], axis = 1)"
      ],
      "execution_count": 79,
      "outputs": []
    },
    {
      "cell_type": "code",
      "metadata": {
        "id": "hqpkc1RxmDDH",
        "colab_type": "code",
        "colab": {
          "base_uri": "https://localhost:8080/",
          "height": 34
        },
        "outputId": "9943db37-3fca-4d28-e8e4-25b9bab85a03"
      },
      "source": [
        "train_df.shape"
      ],
      "execution_count": 80,
      "outputs": [
        {
          "output_type": "execute_result",
          "data": {
            "text/plain": [
              "(56000, 50)"
            ]
          },
          "metadata": {
            "tags": []
          },
          "execution_count": 80
        }
      ]
    },
    {
      "cell_type": "code",
      "metadata": {
        "id": "maBQW_QckaBd",
        "colab_type": "code",
        "colab": {
          "base_uri": "https://localhost:8080/",
          "height": 34
        },
        "outputId": "caa4ade7-6ac3-449a-9ca2-5d148ac85553"
      },
      "source": [
        "# lets concat the train and test sets for preprocessing and visualizations\n",
        "all_data = pd.concat([train_df, test_df], axis = 0)\n",
        "\n",
        "# let's check the shape\n",
        "all_data.shape"
      ],
      "execution_count": 81,
      "outputs": [
        {
          "output_type": "execute_result",
          "data": {
            "text/plain": [
              "(80000, 50)"
            ]
          },
          "metadata": {
            "tags": []
          },
          "execution_count": 81
        }
      ]
    },
    {
      "cell_type": "code",
      "metadata": {
        "id": "DCJLKLFlVwRG",
        "colab_type": "code",
        "colab": {}
      },
      "source": [
        "#separate categorical varriable from numerical varriable\n",
        "data_numeric =all_data[[f for f in all_data.columns if all_data.dtypes[f] != 'object']]\n",
        "\n",
        "\n",
        "data_categorical =pd.DataFrame(all_data[[f for f in all_data.columns if all_data.dtypes[f] == 'object']],columns=['form_field47'])\n"
      ],
      "execution_count": 82,
      "outputs": []
    },
    {
      "cell_type": "code",
      "metadata": {
        "id": "cfMcO-QxiO5v",
        "colab_type": "code",
        "colab": {
          "base_uri": "https://localhost:8080/",
          "height": 402
        },
        "outputId": "5b14db3b-e965-4ea1-ab52-ee78e57e2464"
      },
      "source": [
        "data_categorical"
      ],
      "execution_count": 83,
      "outputs": [
        {
          "output_type": "execute_result",
          "data": {
            "text/html": [
              "<div>\n",
              "<style scoped>\n",
              "    .dataframe tbody tr th:only-of-type {\n",
              "        vertical-align: middle;\n",
              "    }\n",
              "\n",
              "    .dataframe tbody tr th {\n",
              "        vertical-align: top;\n",
              "    }\n",
              "\n",
              "    .dataframe thead th {\n",
              "        text-align: right;\n",
              "    }\n",
              "</style>\n",
              "<table border=\"1\" class=\"dataframe\">\n",
              "  <thead>\n",
              "    <tr style=\"text-align: right;\">\n",
              "      <th></th>\n",
              "      <th>form_field47</th>\n",
              "    </tr>\n",
              "  </thead>\n",
              "  <tbody>\n",
              "    <tr>\n",
              "      <th>0</th>\n",
              "      <td>charge</td>\n",
              "    </tr>\n",
              "    <tr>\n",
              "      <th>1</th>\n",
              "      <td>charge</td>\n",
              "    </tr>\n",
              "    <tr>\n",
              "      <th>2</th>\n",
              "      <td>charge</td>\n",
              "    </tr>\n",
              "    <tr>\n",
              "      <th>3</th>\n",
              "      <td>charge</td>\n",
              "    </tr>\n",
              "    <tr>\n",
              "      <th>4</th>\n",
              "      <td>charge</td>\n",
              "    </tr>\n",
              "    <tr>\n",
              "      <th>...</th>\n",
              "      <td>...</td>\n",
              "    </tr>\n",
              "    <tr>\n",
              "      <th>23995</th>\n",
              "      <td>charge</td>\n",
              "    </tr>\n",
              "    <tr>\n",
              "      <th>23996</th>\n",
              "      <td>charge</td>\n",
              "    </tr>\n",
              "    <tr>\n",
              "      <th>23997</th>\n",
              "      <td>charge</td>\n",
              "    </tr>\n",
              "    <tr>\n",
              "      <th>23998</th>\n",
              "      <td>charge</td>\n",
              "    </tr>\n",
              "    <tr>\n",
              "      <th>23999</th>\n",
              "      <td>charge</td>\n",
              "    </tr>\n",
              "  </tbody>\n",
              "</table>\n",
              "<p>80000 rows × 1 columns</p>\n",
              "</div>"
            ],
            "text/plain": [
              "      form_field47\n",
              "0           charge\n",
              "1           charge\n",
              "2           charge\n",
              "3           charge\n",
              "4           charge\n",
              "...            ...\n",
              "23995       charge\n",
              "23996       charge\n",
              "23997       charge\n",
              "23998       charge\n",
              "23999       charge\n",
              "\n",
              "[80000 rows x 1 columns]"
            ]
          },
          "metadata": {
            "tags": []
          },
          "execution_count": 83
        }
      ]
    },
    {
      "cell_type": "code",
      "metadata": {
        "id": "IPyUlptOglAc",
        "colab_type": "code",
        "colab": {}
      },
      "source": [
        "from sklearn.impute import SimpleImputer\n",
        "imp =SimpleImputer(missing_values=np.nan, strategy='mean')\n",
        "data_numeric = pd.DataFrame(imp.fit_transform(data_numeric), columns = data_numeric.columns) #only apply imputer to numeric columns\n",
        "#you could do something like one-hot-encoding of data_categorical here\n",
        "from sklearn.preprocessing import LabelEncoder\n",
        "le = LabelEncoder()\n",
        "data_categorical['form_field47'] = le.fit_transform(data_categorical['form_field47'])\n",
        "# removing unnecassary columns\n",
        "\n",
        "#all_data = all_data.drop(['form_field47'], axis = 1)"
      ],
      "execution_count": 85,
      "outputs": []
    },
    {
      "cell_type": "code",
      "metadata": {
        "id": "WF3IyxQcgxG7",
        "colab_type": "code",
        "colab": {
          "base_uri": "https://localhost:8080/",
          "height": 337
        },
        "outputId": "fa1b156d-2dd9-49e2-84b3-56d8cc03a9cf"
      },
      "source": [
        "#join the two masked dataframes back together\n",
        "data_joined = pd.concat([data_numeric, data_categorical], axis = 1)"
      ],
      "execution_count": 86,
      "outputs": [
        {
          "output_type": "error",
          "ename": "ValueError",
          "evalue": "ignored",
          "traceback": [
            "\u001b[0;31m---------------------------------------------------------------------------\u001b[0m",
            "\u001b[0;31mValueError\u001b[0m                                Traceback (most recent call last)",
            "\u001b[0;32m<ipython-input-86-bcef939787e0>\u001b[0m in \u001b[0;36m<module>\u001b[0;34m()\u001b[0m\n\u001b[1;32m      1\u001b[0m \u001b[0;31m#join the two masked dataframes back together\u001b[0m\u001b[0;34m\u001b[0m\u001b[0;34m\u001b[0m\u001b[0;34m\u001b[0m\u001b[0m\n\u001b[0;32m----> 2\u001b[0;31m \u001b[0mdata_joined\u001b[0m \u001b[0;34m=\u001b[0m \u001b[0mpd\u001b[0m\u001b[0;34m.\u001b[0m\u001b[0mconcat\u001b[0m\u001b[0;34m(\u001b[0m\u001b[0;34m[\u001b[0m\u001b[0mdata_numeric\u001b[0m\u001b[0;34m,\u001b[0m \u001b[0mdata_categorical\u001b[0m\u001b[0;34m]\u001b[0m\u001b[0;34m,\u001b[0m \u001b[0maxis\u001b[0m \u001b[0;34m=\u001b[0m \u001b[0;36m1\u001b[0m\u001b[0;34m)\u001b[0m\u001b[0;34m\u001b[0m\u001b[0;34m\u001b[0m\u001b[0m\n\u001b[0m",
            "\u001b[0;32m/usr/local/lib/python3.6/dist-packages/pandas/core/reshape/concat.py\u001b[0m in \u001b[0;36mconcat\u001b[0;34m(objs, axis, join, ignore_index, keys, levels, names, verify_integrity, sort, copy)\u001b[0m\n\u001b[1;32m    282\u001b[0m     )\n\u001b[1;32m    283\u001b[0m \u001b[0;34m\u001b[0m\u001b[0m\n\u001b[0;32m--> 284\u001b[0;31m     \u001b[0;32mreturn\u001b[0m \u001b[0mop\u001b[0m\u001b[0;34m.\u001b[0m\u001b[0mget_result\u001b[0m\u001b[0;34m(\u001b[0m\u001b[0;34m)\u001b[0m\u001b[0;34m\u001b[0m\u001b[0;34m\u001b[0m\u001b[0m\n\u001b[0m\u001b[1;32m    285\u001b[0m \u001b[0;34m\u001b[0m\u001b[0m\n\u001b[1;32m    286\u001b[0m \u001b[0;34m\u001b[0m\u001b[0m\n",
            "\u001b[0;32m/usr/local/lib/python3.6/dist-packages/pandas/core/reshape/concat.py\u001b[0m in \u001b[0;36mget_result\u001b[0;34m(self)\u001b[0m\n\u001b[1;32m    495\u001b[0m \u001b[0;34m\u001b[0m\u001b[0m\n\u001b[1;32m    496\u001b[0m             new_data = concatenate_block_managers(\n\u001b[0;32m--> 497\u001b[0;31m                 \u001b[0mmgrs_indexers\u001b[0m\u001b[0;34m,\u001b[0m \u001b[0mself\u001b[0m\u001b[0;34m.\u001b[0m\u001b[0mnew_axes\u001b[0m\u001b[0;34m,\u001b[0m \u001b[0mconcat_axis\u001b[0m\u001b[0;34m=\u001b[0m\u001b[0mself\u001b[0m\u001b[0;34m.\u001b[0m\u001b[0maxis\u001b[0m\u001b[0;34m,\u001b[0m \u001b[0mcopy\u001b[0m\u001b[0;34m=\u001b[0m\u001b[0mself\u001b[0m\u001b[0;34m.\u001b[0m\u001b[0mcopy\u001b[0m\u001b[0;34m\u001b[0m\u001b[0;34m\u001b[0m\u001b[0m\n\u001b[0m\u001b[1;32m    498\u001b[0m             )\n\u001b[1;32m    499\u001b[0m             \u001b[0;32mif\u001b[0m \u001b[0;32mnot\u001b[0m \u001b[0mself\u001b[0m\u001b[0;34m.\u001b[0m\u001b[0mcopy\u001b[0m\u001b[0;34m:\u001b[0m\u001b[0;34m\u001b[0m\u001b[0;34m\u001b[0m\u001b[0m\n",
            "\u001b[0;32m/usr/local/lib/python3.6/dist-packages/pandas/core/internals/managers.py\u001b[0m in \u001b[0;36mconcatenate_block_managers\u001b[0;34m(mgrs_indexers, axes, concat_axis, copy)\u001b[0m\n\u001b[1;32m   2025\u001b[0m         \u001b[0mblocks\u001b[0m\u001b[0;34m.\u001b[0m\u001b[0mappend\u001b[0m\u001b[0;34m(\u001b[0m\u001b[0mb\u001b[0m\u001b[0;34m)\u001b[0m\u001b[0;34m\u001b[0m\u001b[0;34m\u001b[0m\u001b[0m\n\u001b[1;32m   2026\u001b[0m \u001b[0;34m\u001b[0m\u001b[0m\n\u001b[0;32m-> 2027\u001b[0;31m     \u001b[0;32mreturn\u001b[0m \u001b[0mBlockManager\u001b[0m\u001b[0;34m(\u001b[0m\u001b[0mblocks\u001b[0m\u001b[0;34m,\u001b[0m \u001b[0maxes\u001b[0m\u001b[0;34m)\u001b[0m\u001b[0;34m\u001b[0m\u001b[0;34m\u001b[0m\u001b[0m\n\u001b[0m",
            "\u001b[0;32m/usr/local/lib/python3.6/dist-packages/pandas/core/internals/managers.py\u001b[0m in \u001b[0;36m__init__\u001b[0;34m(self, blocks, axes, do_integrity_check)\u001b[0m\n\u001b[1;32m    137\u001b[0m \u001b[0;34m\u001b[0m\u001b[0m\n\u001b[1;32m    138\u001b[0m         \u001b[0;32mif\u001b[0m \u001b[0mdo_integrity_check\u001b[0m\u001b[0;34m:\u001b[0m\u001b[0;34m\u001b[0m\u001b[0;34m\u001b[0m\u001b[0m\n\u001b[0;32m--> 139\u001b[0;31m             \u001b[0mself\u001b[0m\u001b[0;34m.\u001b[0m\u001b[0m_verify_integrity\u001b[0m\u001b[0;34m(\u001b[0m\u001b[0;34m)\u001b[0m\u001b[0;34m\u001b[0m\u001b[0;34m\u001b[0m\u001b[0m\n\u001b[0m\u001b[1;32m    140\u001b[0m \u001b[0;34m\u001b[0m\u001b[0m\n\u001b[1;32m    141\u001b[0m         \u001b[0mself\u001b[0m\u001b[0;34m.\u001b[0m\u001b[0m_consolidate_check\u001b[0m\u001b[0;34m(\u001b[0m\u001b[0;34m)\u001b[0m\u001b[0;34m\u001b[0m\u001b[0;34m\u001b[0m\u001b[0m\n",
            "\u001b[0;32m/usr/local/lib/python3.6/dist-packages/pandas/core/internals/managers.py\u001b[0m in \u001b[0;36m_verify_integrity\u001b[0;34m(self)\u001b[0m\n\u001b[1;32m    332\u001b[0m         \u001b[0;32mfor\u001b[0m \u001b[0mblock\u001b[0m \u001b[0;32min\u001b[0m \u001b[0mself\u001b[0m\u001b[0;34m.\u001b[0m\u001b[0mblocks\u001b[0m\u001b[0;34m:\u001b[0m\u001b[0;34m\u001b[0m\u001b[0;34m\u001b[0m\u001b[0m\n\u001b[1;32m    333\u001b[0m             \u001b[0;32mif\u001b[0m \u001b[0mblock\u001b[0m\u001b[0;34m.\u001b[0m\u001b[0m_verify_integrity\u001b[0m \u001b[0;32mand\u001b[0m \u001b[0mblock\u001b[0m\u001b[0;34m.\u001b[0m\u001b[0mshape\u001b[0m\u001b[0;34m[\u001b[0m\u001b[0;36m1\u001b[0m\u001b[0;34m:\u001b[0m\u001b[0;34m]\u001b[0m \u001b[0;34m!=\u001b[0m \u001b[0mmgr_shape\u001b[0m\u001b[0;34m[\u001b[0m\u001b[0;36m1\u001b[0m\u001b[0;34m:\u001b[0m\u001b[0;34m]\u001b[0m\u001b[0;34m:\u001b[0m\u001b[0;34m\u001b[0m\u001b[0;34m\u001b[0m\u001b[0m\n\u001b[0;32m--> 334\u001b[0;31m                 \u001b[0mconstruction_error\u001b[0m\u001b[0;34m(\u001b[0m\u001b[0mtot_items\u001b[0m\u001b[0;34m,\u001b[0m \u001b[0mblock\u001b[0m\u001b[0;34m.\u001b[0m\u001b[0mshape\u001b[0m\u001b[0;34m[\u001b[0m\u001b[0;36m1\u001b[0m\u001b[0;34m:\u001b[0m\u001b[0;34m]\u001b[0m\u001b[0;34m,\u001b[0m \u001b[0mself\u001b[0m\u001b[0;34m.\u001b[0m\u001b[0maxes\u001b[0m\u001b[0;34m)\u001b[0m\u001b[0;34m\u001b[0m\u001b[0;34m\u001b[0m\u001b[0m\n\u001b[0m\u001b[1;32m    335\u001b[0m         \u001b[0;32mif\u001b[0m \u001b[0mlen\u001b[0m\u001b[0;34m(\u001b[0m\u001b[0mself\u001b[0m\u001b[0;34m.\u001b[0m\u001b[0mitems\u001b[0m\u001b[0;34m)\u001b[0m \u001b[0;34m!=\u001b[0m \u001b[0mtot_items\u001b[0m\u001b[0;34m:\u001b[0m\u001b[0;34m\u001b[0m\u001b[0;34m\u001b[0m\u001b[0m\n\u001b[1;32m    336\u001b[0m             raise AssertionError(\n",
            "\u001b[0;32m/usr/local/lib/python3.6/dist-packages/pandas/core/internals/managers.py\u001b[0m in \u001b[0;36mconstruction_error\u001b[0;34m(tot_items, block_shape, axes, e)\u001b[0m\n\u001b[1;32m   1692\u001b[0m     \u001b[0;32mif\u001b[0m \u001b[0mblock_shape\u001b[0m\u001b[0;34m[\u001b[0m\u001b[0;36m0\u001b[0m\u001b[0;34m]\u001b[0m \u001b[0;34m==\u001b[0m \u001b[0;36m0\u001b[0m\u001b[0;34m:\u001b[0m\u001b[0;34m\u001b[0m\u001b[0;34m\u001b[0m\u001b[0m\n\u001b[1;32m   1693\u001b[0m         \u001b[0;32mraise\u001b[0m \u001b[0mValueError\u001b[0m\u001b[0;34m(\u001b[0m\u001b[0;34m\"Empty data passed with indices specified.\"\u001b[0m\u001b[0;34m)\u001b[0m\u001b[0;34m\u001b[0m\u001b[0;34m\u001b[0m\u001b[0m\n\u001b[0;32m-> 1694\u001b[0;31m     \u001b[0;32mraise\u001b[0m \u001b[0mValueError\u001b[0m\u001b[0;34m(\u001b[0m\u001b[0;34mf\"Shape of passed values is {passed}, indices imply {implied}\"\u001b[0m\u001b[0;34m)\u001b[0m\u001b[0;34m\u001b[0m\u001b[0;34m\u001b[0m\u001b[0m\n\u001b[0m\u001b[1;32m   1695\u001b[0m \u001b[0;34m\u001b[0m\u001b[0m\n\u001b[1;32m   1696\u001b[0m \u001b[0;34m\u001b[0m\u001b[0m\n",
            "\u001b[0;31mValueError\u001b[0m: Shape of passed values is (104000, 50), indices imply (80000, 50)"
          ]
        }
      ]
    },
    {
      "cell_type": "code",
      "metadata": {
        "id": "7g2Wz29yoY85",
        "colab_type": "code",
        "colab": {
          "base_uri": "https://localhost:8080/",
          "height": 50
        },
        "outputId": "f27f556d-dac2-4930-9450-3e4778640cd3"
      },
      "source": [
        "\n",
        "# separating train and test datasets from data\n",
        "\n",
        "x_train = all_data.iloc[:56000,:]\n",
        "x_test = all_data.iloc[56000:,:]\n",
        "\n",
        "# checking the shape of train and test\n",
        "print(\"Shape of train :\", x_train.shape)\n",
        "print(\"Shape of test :\", x_test.shape)"
      ],
      "execution_count": null,
      "outputs": [
        {
          "output_type": "stream",
          "text": [
            "Shape of train : (195, 50)\n",
            "Shape of test : (81, 50)\n"
          ],
          "name": "stdout"
        }
      ]
    },
    {
      "cell_type": "code",
      "metadata": {
        "id": "E9g2EnKUlj82",
        "colab_type": "code",
        "colab": {
          "base_uri": "https://localhost:8080/",
          "height": 84
        },
        "outputId": "c526463e-481e-41d3-d9f9-c9777099e7b9"
      },
      "source": [
        "# train and valid sets from train\n",
        "from sklearn.model_selection import train_test_split\n",
        "\n",
        "x_train, x_valid, y_train, y_valid = train_test_split(x_train, y_train, test_size = 0.2, random_state = 0)\n",
        "\n",
        "# checking the shapes\n",
        "print(x_train.shape)\n",
        "print(y_train.shape)\n",
        "print(x_valid.shape)\n",
        "print(y_valid.shape)"
      ],
      "execution_count": null,
      "outputs": [
        {
          "output_type": "stream",
          "text": [
            "(156, 50)\n",
            "(156,)\n",
            "(39, 50)\n",
            "(39,)\n"
          ],
          "name": "stdout"
        }
      ]
    },
    {
      "cell_type": "code",
      "metadata": {
        "id": "IOXrwP5opjbs",
        "colab_type": "code",
        "colab": {}
      },
      "source": [
        "\n",
        "# standardization techniques\n",
        "\n",
        "from sklearn.preprocessing import StandardScaler\n",
        "\n",
        "sc = StandardScaler()\n",
        "x_train = sc.fit_transform(x_train)\n",
        "x_valid = sc.transform(x_valid)\n",
        "x_test = sc.transform(x_test)"
      ],
      "execution_count": null,
      "outputs": []
    },
    {
      "cell_type": "code",
      "metadata": {
        "id": "RtpYrEBZsZVP",
        "colab_type": "code",
        "colab": {
          "base_uri": "https://localhost:8080/",
          "height": 450
        },
        "outputId": "15d6785b-6450-4ee2-ca73-3c2f4ffb3d17"
      },
      "source": [
        "# Appllying RANDOM FOREST CLASSIFIER\n",
        "import seaborn as sns\n",
        "from sklearn.ensemble import RandomForestClassifier\n",
        "from sklearn.metrics import confusion_matrix\n",
        "from sklearn.metrics import classification_report\n",
        "\n",
        "model_rf = RandomForestClassifier()\n",
        "model_rf.fit(x_train, y_train)\n",
        "\n",
        "y_pred = model_rf.predict(x_valid)\n",
        "\n",
        "print(\"Training Accuracy: \", model_rf.score(x_train, y_train))\n",
        "print('Testing Accuarcy: ', model_rf.score(x_valid, y_valid))\n",
        "\n",
        "# making a classification report\n",
        "cr = classification_report(y_valid,  y_pred)\n",
        "print(cr)\n",
        "\n",
        "# making a confusion matrix\n",
        "cm = confusion_matrix(y_valid, y_pred)\n",
        "sns.heatmap(cm, annot = True)\n",
        "\n",
        "y_pred = model_rf.predict(x_test)\n"
      ],
      "execution_count": null,
      "outputs": [
        {
          "output_type": "stream",
          "text": [
            "Training Accuracy:  1.0\n",
            "Testing Accuarcy:  0.7692307692307693\n",
            "              precision    recall  f1-score   support\n",
            "\n",
            "           0       0.80      0.93      0.86        30\n",
            "           1       0.50      0.22      0.31         9\n",
            "\n",
            "    accuracy                           0.77        39\n",
            "   macro avg       0.65      0.58      0.58        39\n",
            "weighted avg       0.73      0.77      0.73        39\n",
            "\n"
          ],
          "name": "stdout"
        },
        {
          "output_type": "display_data",
          "data": {
            "image/png": "[encoded data removed]",
            "text/plain": [
              "<Figure size 432x288 with 2 Axes>"
            ]
          },
          "metadata": {
            "tags": [],
            "needs_background": "light"
          }
        }
      ]
    },
    {
      "cell_type": "code",
      "metadata": {
        "id": "sjO5RC_Ftfij",
        "colab_type": "code",
        "colab": {
          "base_uri": "https://localhost:8080/",
          "height": 387
        },
        "outputId": "2652fa2b-c200-41d9-bec8-d4c9e0008216"
      },
      "source": [
        "\n",
        "#Prepare our Submission file\n",
        "my_submission = pd.DataFrame({'Application ID':Application_id, 'default_status':y_pred})\n",
        "my_submission.to_csv('submission_ayanlola.csv', index=False)"
      ],
      "execution_count": null,
      "outputs": [
        {
          "output_type": "error",
          "ename": "ValueError",
          "evalue": "ignored",
          "traceback": [
            "\u001b[0;31m---------------------------------------------------------------------------\u001b[0m",
            "\u001b[0;31mValueError\u001b[0m                                Traceback (most recent call last)",
            "\u001b[0;32m<ipython-input-204-63216244a14c>\u001b[0m in \u001b[0;36m<module>\u001b[0;34m()\u001b[0m\n\u001b[1;32m      1\u001b[0m \u001b[0;34m\u001b[0m\u001b[0m\n\u001b[1;32m      2\u001b[0m \u001b[0;31m#Prepare our Submission file\u001b[0m\u001b[0;34m\u001b[0m\u001b[0;34m\u001b[0m\u001b[0;34m\u001b[0m\u001b[0m\n\u001b[0;32m----> 3\u001b[0;31m \u001b[0mmy_submission\u001b[0m \u001b[0;34m=\u001b[0m \u001b[0mpd\u001b[0m\u001b[0;34m.\u001b[0m\u001b[0mDataFrame\u001b[0m\u001b[0;34m(\u001b[0m\u001b[0;34m{\u001b[0m\u001b[0;34m'Application ID'\u001b[0m\u001b[0;34m:\u001b[0m\u001b[0mApplication_id\u001b[0m\u001b[0;34m,\u001b[0m \u001b[0;34m'default_status'\u001b[0m\u001b[0;34m:\u001b[0m\u001b[0my_pred\u001b[0m\u001b[0;34m}\u001b[0m\u001b[0;34m)\u001b[0m\u001b[0;34m\u001b[0m\u001b[0;34m\u001b[0m\u001b[0m\n\u001b[0m\u001b[1;32m      4\u001b[0m \u001b[0mmy_submission\u001b[0m\u001b[0;34m.\u001b[0m\u001b[0mto_csv\u001b[0m\u001b[0;34m(\u001b[0m\u001b[0;34m'submission_ayanlola.csv'\u001b[0m\u001b[0;34m,\u001b[0m \u001b[0mindex\u001b[0m\u001b[0;34m=\u001b[0m\u001b[0;32mFalse\u001b[0m\u001b[0;34m)\u001b[0m\u001b[0;34m\u001b[0m\u001b[0;34m\u001b[0m\u001b[0m\n",
            "\u001b[0;32m/usr/local/lib/python3.6/dist-packages/pandas/core/frame.py\u001b[0m in \u001b[0;36m__init__\u001b[0;34m(self, data, index, columns, dtype, copy)\u001b[0m\n\u001b[1;32m    433\u001b[0m             )\n\u001b[1;32m    434\u001b[0m         \u001b[0;32melif\u001b[0m \u001b[0misinstance\u001b[0m\u001b[0;34m(\u001b[0m\u001b[0mdata\u001b[0m\u001b[0;34m,\u001b[0m \u001b[0mdict\u001b[0m\u001b[0;34m)\u001b[0m\u001b[0;34m:\u001b[0m\u001b[0;34m\u001b[0m\u001b[0;34m\u001b[0m\u001b[0m\n\u001b[0;32m--> 435\u001b[0;31m             \u001b[0mmgr\u001b[0m \u001b[0;34m=\u001b[0m \u001b[0minit_dict\u001b[0m\u001b[0;34m(\u001b[0m\u001b[0mdata\u001b[0m\u001b[0;34m,\u001b[0m \u001b[0mindex\u001b[0m\u001b[0;34m,\u001b[0m \u001b[0mcolumns\u001b[0m\u001b[0;34m,\u001b[0m \u001b[0mdtype\u001b[0m\u001b[0;34m=\u001b[0m\u001b[0mdtype\u001b[0m\u001b[0;34m)\u001b[0m\u001b[0;34m\u001b[0m\u001b[0;34m\u001b[0m\u001b[0m\n\u001b[0m\u001b[1;32m    436\u001b[0m         \u001b[0;32melif\u001b[0m \u001b[0misinstance\u001b[0m\u001b[0;34m(\u001b[0m\u001b[0mdata\u001b[0m\u001b[0;34m,\u001b[0m \u001b[0mma\u001b[0m\u001b[0;34m.\u001b[0m\u001b[0mMaskedArray\u001b[0m\u001b[0;34m)\u001b[0m\u001b[0;34m:\u001b[0m\u001b[0;34m\u001b[0m\u001b[0;34m\u001b[0m\u001b[0m\n\u001b[1;32m    437\u001b[0m             \u001b[0;32mimport\u001b[0m \u001b[0mnumpy\u001b[0m\u001b[0;34m.\u001b[0m\u001b[0mma\u001b[0m\u001b[0;34m.\u001b[0m\u001b[0mmrecords\u001b[0m \u001b[0;32mas\u001b[0m \u001b[0mmrecords\u001b[0m\u001b[0;34m\u001b[0m\u001b[0;34m\u001b[0m\u001b[0m\n",
            "\u001b[0;32m/usr/local/lib/python3.6/dist-packages/pandas/core/internals/construction.py\u001b[0m in \u001b[0;36minit_dict\u001b[0;34m(data, index, columns, dtype)\u001b[0m\n\u001b[1;32m    252\u001b[0m             \u001b[0marr\u001b[0m \u001b[0;32mif\u001b[0m \u001b[0;32mnot\u001b[0m \u001b[0mis_datetime64tz_dtype\u001b[0m\u001b[0;34m(\u001b[0m\u001b[0marr\u001b[0m\u001b[0;34m)\u001b[0m \u001b[0;32melse\u001b[0m \u001b[0marr\u001b[0m\u001b[0;34m.\u001b[0m\u001b[0mcopy\u001b[0m\u001b[0;34m(\u001b[0m\u001b[0;34m)\u001b[0m \u001b[0;32mfor\u001b[0m \u001b[0marr\u001b[0m \u001b[0;32min\u001b[0m \u001b[0marrays\u001b[0m\u001b[0;34m\u001b[0m\u001b[0;34m\u001b[0m\u001b[0m\n\u001b[1;32m    253\u001b[0m         ]\n\u001b[0;32m--> 254\u001b[0;31m     \u001b[0;32mreturn\u001b[0m \u001b[0marrays_to_mgr\u001b[0m\u001b[0;34m(\u001b[0m\u001b[0marrays\u001b[0m\u001b[0;34m,\u001b[0m \u001b[0mdata_names\u001b[0m\u001b[0;34m,\u001b[0m \u001b[0mindex\u001b[0m\u001b[0;34m,\u001b[0m \u001b[0mcolumns\u001b[0m\u001b[0;34m,\u001b[0m \u001b[0mdtype\u001b[0m\u001b[0;34m=\u001b[0m\u001b[0mdtype\u001b[0m\u001b[0;34m)\u001b[0m\u001b[0;34m\u001b[0m\u001b[0;34m\u001b[0m\u001b[0m\n\u001b[0m\u001b[1;32m    255\u001b[0m \u001b[0;34m\u001b[0m\u001b[0m\n\u001b[1;32m    256\u001b[0m \u001b[0;34m\u001b[0m\u001b[0m\n",
            "\u001b[0;32m/usr/local/lib/python3.6/dist-packages/pandas/core/internals/construction.py\u001b[0m in \u001b[0;36marrays_to_mgr\u001b[0;34m(arrays, arr_names, index, columns, dtype)\u001b[0m\n\u001b[1;32m     62\u001b[0m     \u001b[0;31m# figure out the index, if necessary\u001b[0m\u001b[0;34m\u001b[0m\u001b[0;34m\u001b[0m\u001b[0;34m\u001b[0m\u001b[0m\n\u001b[1;32m     63\u001b[0m     \u001b[0;32mif\u001b[0m \u001b[0mindex\u001b[0m \u001b[0;32mis\u001b[0m \u001b[0;32mNone\u001b[0m\u001b[0;34m:\u001b[0m\u001b[0;34m\u001b[0m\u001b[0;34m\u001b[0m\u001b[0m\n\u001b[0;32m---> 64\u001b[0;31m         \u001b[0mindex\u001b[0m \u001b[0;34m=\u001b[0m \u001b[0mextract_index\u001b[0m\u001b[0;34m(\u001b[0m\u001b[0marrays\u001b[0m\u001b[0;34m)\u001b[0m\u001b[0;34m\u001b[0m\u001b[0;34m\u001b[0m\u001b[0m\n\u001b[0m\u001b[1;32m     65\u001b[0m     \u001b[0;32melse\u001b[0m\u001b[0;34m:\u001b[0m\u001b[0;34m\u001b[0m\u001b[0;34m\u001b[0m\u001b[0m\n\u001b[1;32m     66\u001b[0m         \u001b[0mindex\u001b[0m \u001b[0;34m=\u001b[0m \u001b[0mensure_index\u001b[0m\u001b[0;34m(\u001b[0m\u001b[0mindex\u001b[0m\u001b[0;34m)\u001b[0m\u001b[0;34m\u001b[0m\u001b[0;34m\u001b[0m\u001b[0m\n",
            "\u001b[0;32m/usr/local/lib/python3.6/dist-packages/pandas/core/internals/construction.py\u001b[0m in \u001b[0;36mextract_index\u001b[0;34m(data)\u001b[0m\n\u001b[1;32m    376\u001b[0m                         \u001b[0;34mf\"length {len(index)}\"\u001b[0m\u001b[0;34m\u001b[0m\u001b[0;34m\u001b[0m\u001b[0m\n\u001b[1;32m    377\u001b[0m                     )\n\u001b[0;32m--> 378\u001b[0;31m                     \u001b[0;32mraise\u001b[0m \u001b[0mValueError\u001b[0m\u001b[0;34m(\u001b[0m\u001b[0mmsg\u001b[0m\u001b[0;34m)\u001b[0m\u001b[0;34m\u001b[0m\u001b[0;34m\u001b[0m\u001b[0m\n\u001b[0m\u001b[1;32m    379\u001b[0m             \u001b[0;32melse\u001b[0m\u001b[0;34m:\u001b[0m\u001b[0;34m\u001b[0m\u001b[0;34m\u001b[0m\u001b[0m\n\u001b[1;32m    380\u001b[0m                 \u001b[0mindex\u001b[0m \u001b[0;34m=\u001b[0m \u001b[0mibase\u001b[0m\u001b[0;34m.\u001b[0m\u001b[0mdefault_index\u001b[0m\u001b[0;34m(\u001b[0m\u001b[0mlengths\u001b[0m\u001b[0;34m[\u001b[0m\u001b[0;36m0\u001b[0m\u001b[0;34m]\u001b[0m\u001b[0;34m)\u001b[0m\u001b[0;34m\u001b[0m\u001b[0;34m\u001b[0m\u001b[0m\n",
            "\u001b[0;31mValueError\u001b[0m: array length 81 does not match index length 24000"
          ]
        }
      ]
    },
    {
      "cell_type": "code",
      "metadata": {
        "id": "m2P7Fi61xDJ8",
        "colab_type": "code",
        "colab": {}
      },
      "source": [
        ""
      ],
      "execution_count": null,
      "outputs": []
    }
  ]
}