{
  "nbformat": 4,
  "nbformat_minor": 0,
  "metadata": {
    "colab": {
      "name": "best_car_price.ipynb",
      "version": "0.3.2",
      "provenance": [],
      "collapsed_sections": [],
      "include_colab_link": true
    },
    "kernelspec": {
      "name": "python3",
      "display_name": "Python 3"
    }
  },
  "cells": [
    {
      "cell_type": "markdown",
      "metadata": {
        "id": "view-in-github",
        "colab_type": "text"
      },
      "source": [
        "<a href=\"https://colab.research.google.com/github/Ayanlola2002/Data-Science-Nigeria/blob/DSN_best_car_price_prediction_2019/best_car_price.ipynb\" target=\"_parent\"><img src=\"https://colab.research.google.com/assets/colab-badge.svg\" alt=\"Open In Colab\"/></a>"
      ]
    },
    {
      "cell_type": "code",
      "metadata": {
        "id": "KI6RYq7ZMnHx",
        "colab_type": "code",
        "colab": {}
      },
      "source": [
        "!pip install -q kaggle\n",
        "!mkdir -p ~/.kaggle\n",
        "!cp kaggle.json ~/.kaggle"
      ],
      "execution_count": 0,
      "outputs": []
    },
    {
      "cell_type": "code",
      "metadata": {
        "id": "jcc_nqrbcCIX",
        "colab_type": "code",
        "colab": {}
      },
      "source": [
        "!chmod 600 /root/.kaggle/kaggle.json"
      ],
      "execution_count": 0,
      "outputs": []
    },
    {
      "cell_type": "code",
      "metadata": {
        "id": "5jEvPL0_cH8p",
        "colab_type": "code",
        "outputId": "ce27f7cb-75cb-4b3d-9ea7-5f6dc13d9ecc",
        "colab": {
          "base_uri": "https://localhost:8080/",
          "height": 88
        }
      },
      "source": [
        "!kaggle competitions download -c dsn-recruitment-service-test"
      ],
      "execution_count": 142,
      "outputs": [
        {
          "output_type": "stream",
          "text": [
            "sample_submission.csv.zip: Skipping, found more recently modified local copy (use --force to force download)\n",
            "test.csv.zip: Skipping, found more recently modified local copy (use --force to force download)\n",
            "train.csv.zip: Skipping, found more recently modified local copy (use --force to force download)\n"
          ],
          "name": "stdout"
        }
      ]
    },
    {
      "cell_type": "code",
      "metadata": {
        "id": "1XdcYq2rcU-N",
        "colab_type": "code",
        "colab": {}
      },
      "source": [
        "#unzippig the us-data file\n",
        "from shutil import unpack_archive\n",
        "#unpack_archive('all.zip')\n",
        "unpack_archive('train.csv.zip')\n",
        "unpack_archive('test.csv.zip')"
      ],
      "execution_count": 0,
      "outputs": []
    },
    {
      "cell_type": "code",
      "metadata": {
        "id": "WKk9P-2Ncoul",
        "colab_type": "code",
        "colab": {}
      },
      "source": [
        "import numpy as np # linear algebra\n",
        "import pandas as pd # data processing, CSV file I/O (e.g. pd.read_csv)\n",
        "%matplotlib inline\n",
        "import matplotlib.pyplot as plt  # Matlab-style plotting\n",
        "from sklearn.feature_selection import SelectKBest\n",
        "from sklearn.feature_selection import chi2\n",
        "import seaborn as sns\n",
        "color = sns.color_palette()\n",
        "sns.set_style('darkgrid')\n",
        "import warnings\n",
        "def ignore_warn(*args, **kwargs):\n",
        "    pass\n",
        "warnings.warn = ignore_warn #ignore annoying warning (from sklearn and seaborn)"
      ],
      "execution_count": 0,
      "outputs": []
    },
    {
      "cell_type": "code",
      "metadata": {
        "id": "Y8nLxpTfcuOR",
        "colab_type": "code",
        "colab": {}
      },
      "source": [
        "from scipy import stats\n",
        "from scipy.stats import norm, skew #for some statistics"
      ],
      "execution_count": 0,
      "outputs": []
    },
    {
      "cell_type": "code",
      "metadata": {
        "id": "6M9bYVZnc0hS",
        "colab_type": "code",
        "colab": {}
      },
      "source": [
        "pd.set_option('display.float_format', lambda x: '{:.3f}'.format(x)) #Limiting floats output to 3 decimal points"
      ],
      "execution_count": 0,
      "outputs": []
    },
    {
      "cell_type": "code",
      "metadata": {
        "id": "jcOoeNSqc36i",
        "colab_type": "code",
        "colab": {}
      },
      "source": [
        "#train = pd.read_csv('train.csv',parse_dates=[['weblog_date'],['date_of_advert'],['last_advert_online']])\n",
        "#test = pd.read_csv('test.csv',parse_dates=[weblog_date],[[date_of_advert],[last_advert_online])\n",
        "train = pd.read_csv('train.csv')\n",
        "test = pd.read_csv('test.csv')"
      ],
      "execution_count": 0,
      "outputs": []
    },
    {
      "cell_type": "code",
      "metadata": {
        "id": "te-FYpCwDoUV",
        "colab_type": "code",
        "colab": {}
      },
      "source": [
        "train_copy=train.copy()\n",
        "test_copy=test.copy()"
      ],
      "execution_count": 0,
      "outputs": []
    },
    {
      "cell_type": "code",
      "metadata": {
        "id": "BYdc2AbTdBa0",
        "colab_type": "code",
        "outputId": "c4c2636d-f760-4e0a-f2a1-8af69b9c819b",
        "colab": {
          "base_uri": "https://localhost:8080/",
          "height": 1000
        }
      },
      "source": [
        "##display the first five rows of the train dataset.\n",
        "train.head(50)"
      ],
      "execution_count": 181,
      "outputs": [
        {
          "output_type": "execute_result",
          "data": {
            "text/html": [
              "<div>\n",
              "<style scoped>\n",
              "    .dataframe tbody tr th:only-of-type {\n",
              "        vertical-align: middle;\n",
              "    }\n",
              "\n",
              "    .dataframe tbody tr th {\n",
              "        vertical-align: top;\n",
              "    }\n",
              "\n",
              "    .dataframe thead th {\n",
              "        text-align: right;\n",
              "    }\n",
              "</style>\n",
              "<table border=\"1\" class=\"dataframe\">\n",
              "  <thead>\n",
              "    <tr style=\"text-align: right;\">\n",
              "      <th></th>\n",
              "      <th>seller_type</th>\n",
              "      <th>country_of_use</th>\n",
              "      <th>weblog_date</th>\n",
              "      <th>Area_address_code</th>\n",
              "      <th>car_name</th>\n",
              "      <th>car_type</th>\n",
              "      <th>Permit_registration_year</th>\n",
              "      <th>registration_month</th>\n",
              "      <th>horse_power</th>\n",
              "      <th>mileage</th>\n",
              "      <th>gas_type</th>\n",
              "      <th>car_brand</th>\n",
              "      <th>Status_of_car_repair</th>\n",
              "      <th>gear_type</th>\n",
              "      <th>date_of_advert</th>\n",
              "      <th>last_advert_online</th>\n",
              "      <th>model</th>\n",
              "      <th>naira_price</th>\n",
              "      <th>advert_days_diff</th>\n",
              "    </tr>\n",
              "  </thead>\n",
              "  <tbody>\n",
              "    <tr>\n",
              "      <th>0</th>\n",
              "      <td>private</td>\n",
              "      <td>london</td>\n",
              "      <td>2016-03-15</td>\n",
              "      <td>78183</td>\n",
              "      <td>Smart_smart_forfour_pulse</td>\n",
              "      <td>small car</td>\n",
              "      <td>2007</td>\n",
              "      <td>11</td>\n",
              "      <td>95</td>\n",
              "      <td>241350.000</td>\n",
              "      <td>gasoline</td>\n",
              "      <td>smart</td>\n",
              "      <td>nein</td>\n",
              "      <td>manuell</td>\n",
              "      <td>2016-03-15</td>\n",
              "      <td>2016-03-16</td>\n",
              "      <td>forfour</td>\n",
              "      <td>864000</td>\n",
              "      <td>1 days</td>\n",
              "    </tr>\n",
              "    <tr>\n",
              "      <th>1</th>\n",
              "      <td>private</td>\n",
              "      <td>london</td>\n",
              "      <td>2016-04-01</td>\n",
              "      <td>47166</td>\n",
              "      <td>Seat_Arosa_1.4_16V</td>\n",
              "      <td>small car</td>\n",
              "      <td>2003</td>\n",
              "      <td>7</td>\n",
              "      <td>101</td>\n",
              "      <td>241350.000</td>\n",
              "      <td>gasoline</td>\n",
              "      <td>seat</td>\n",
              "      <td>nein</td>\n",
              "      <td>manuell</td>\n",
              "      <td>2016-04-01</td>\n",
              "      <td>2016-04-03</td>\n",
              "      <td>arosa</td>\n",
              "      <td>630000</td>\n",
              "      <td>2 days</td>\n",
              "    </tr>\n",
              "    <tr>\n",
              "      <th>2</th>\n",
              "      <td>private</td>\n",
              "      <td>london</td>\n",
              "      <td>2016-03-17</td>\n",
              "      <td>44623</td>\n",
              "      <td>Woll_fahrbereit</td>\n",
              "      <td>small car</td>\n",
              "      <td>1999</td>\n",
              "      <td>8</td>\n",
              "      <td>90</td>\n",
              "      <td>241350.000</td>\n",
              "      <td>NAN</td>\n",
              "      <td>opel</td>\n",
              "      <td>NAN</td>\n",
              "      <td>manuell</td>\n",
              "      <td>2016-03-17</td>\n",
              "      <td>2016-04-07</td>\n",
              "      <td>tigra</td>\n",
              "      <td>180000</td>\n",
              "      <td>21 days</td>\n",
              "    </tr>\n",
              "    <tr>\n",
              "      <th>3</th>\n",
              "      <td>private</td>\n",
              "      <td>london</td>\n",
              "      <td>2016-03-29</td>\n",
              "      <td>53945</td>\n",
              "      <td>Skoda_Fabia_5_Tuerer_dunkelblau_metallic</td>\n",
              "      <td>limousine</td>\n",
              "      <td>2003</td>\n",
              "      <td>6</td>\n",
              "      <td>68</td>\n",
              "      <td>201125.000</td>\n",
              "      <td>gasoline</td>\n",
              "      <td>skoda</td>\n",
              "      <td>NAN</td>\n",
              "      <td>manuell</td>\n",
              "      <td>2016-03-29</td>\n",
              "      <td>2016-03-29</td>\n",
              "      <td>fabia</td>\n",
              "      <td>432000</td>\n",
              "      <td>0 days</td>\n",
              "    </tr>\n",
              "    <tr>\n",
              "      <th>4</th>\n",
              "      <td>private</td>\n",
              "      <td>london</td>\n",
              "      <td>2016-03-24</td>\n",
              "      <td>45886</td>\n",
              "      <td>Verkaufe_mein_Auto_#_Jeep_#_Hyundai_#_Tucson_#</td>\n",
              "      <td>other</td>\n",
              "      <td>2008</td>\n",
              "      <td>0</td>\n",
              "      <td>120</td>\n",
              "      <td>241350.000</td>\n",
              "      <td>NAN</td>\n",
              "      <td>hyundai</td>\n",
              "      <td>NAN</td>\n",
              "      <td>automatik</td>\n",
              "      <td>2016-03-24</td>\n",
              "      <td>2016-04-05</td>\n",
              "      <td>tucson</td>\n",
              "      <td>1692000</td>\n",
              "      <td>12 days</td>\n",
              "    </tr>\n",
              "    <tr>\n",
              "      <th>5</th>\n",
              "      <td>private</td>\n",
              "      <td>london</td>\n",
              "      <td>2016-03-11</td>\n",
              "      <td>66976</td>\n",
              "      <td>Renault_Scenic_1.6_16V_RT</td>\n",
              "      <td>bus</td>\n",
              "      <td>2001</td>\n",
              "      <td>12</td>\n",
              "      <td>107</td>\n",
              "      <td>241350.000</td>\n",
              "      <td>gasoline</td>\n",
              "      <td>renault</td>\n",
              "      <td>nein</td>\n",
              "      <td>manuell</td>\n",
              "      <td>2016-03-11</td>\n",
              "      <td>2016-04-07</td>\n",
              "      <td>scenic</td>\n",
              "      <td>540000</td>\n",
              "      <td>27 days</td>\n",
              "    </tr>\n",
              "    <tr>\n",
              "      <th>6</th>\n",
              "      <td>private</td>\n",
              "      <td>london</td>\n",
              "      <td>2016-03-12</td>\n",
              "      <td>49733</td>\n",
              "      <td>Mercedes_A170_CDI_mit_neuem_Getriebe</td>\n",
              "      <td>NAN</td>\n",
              "      <td>2018</td>\n",
              "      <td>9</td>\n",
              "      <td>0</td>\n",
              "      <td>241350.000</td>\n",
              "      <td>NAN</td>\n",
              "      <td>mercedes_benz</td>\n",
              "      <td>ja</td>\n",
              "      <td>manuell</td>\n",
              "      <td>2016-03-12</td>\n",
              "      <td>2016-03-12</td>\n",
              "      <td>a_klasse</td>\n",
              "      <td>306000</td>\n",
              "      <td>0 days</td>\n",
              "    </tr>\n",
              "    <tr>\n",
              "      <th>7</th>\n",
              "      <td>private</td>\n",
              "      <td>london</td>\n",
              "      <td>2016-03-30</td>\n",
              "      <td>23611</td>\n",
              "      <td>Sommerhammer_!!!_MX5_im_Super_Zustand_mit_neue...</td>\n",
              "      <td>convertible</td>\n",
              "      <td>2005</td>\n",
              "      <td>10</td>\n",
              "      <td>110</td>\n",
              "      <td>201125.000</td>\n",
              "      <td>gasoline</td>\n",
              "      <td>mazda</td>\n",
              "      <td>nein</td>\n",
              "      <td>manuell</td>\n",
              "      <td>2016-03-30</td>\n",
              "      <td>2016-04-07</td>\n",
              "      <td>mx_reihe</td>\n",
              "      <td>1439280</td>\n",
              "      <td>8 days</td>\n",
              "    </tr>\n",
              "    <tr>\n",
              "      <th>8</th>\n",
              "      <td>private</td>\n",
              "      <td>london</td>\n",
              "      <td>2016-03-09</td>\n",
              "      <td>13505</td>\n",
              "      <td>C_klasse_180_mit_TÜV__Automatik_Klima.</td>\n",
              "      <td>station wagon</td>\n",
              "      <td>2001</td>\n",
              "      <td>10</td>\n",
              "      <td>122</td>\n",
              "      <td>241350.000</td>\n",
              "      <td>gasoline</td>\n",
              "      <td>mercedes_benz</td>\n",
              "      <td>nein</td>\n",
              "      <td>automatik</td>\n",
              "      <td>2016-03-09</td>\n",
              "      <td>2016-03-12</td>\n",
              "      <td>c_klasse</td>\n",
              "      <td>630000</td>\n",
              "      <td>3 days</td>\n",
              "    </tr>\n",
              "    <tr>\n",
              "      <th>9</th>\n",
              "      <td>private</td>\n",
              "      <td>london</td>\n",
              "      <td>2016-03-15</td>\n",
              "      <td>91257</td>\n",
              "      <td>Volvo_V50_2_0D_Kintec</td>\n",
              "      <td>station wagon</td>\n",
              "      <td>2008</td>\n",
              "      <td>12</td>\n",
              "      <td>136</td>\n",
              "      <td>241350.000</td>\n",
              "      <td>diesel</td>\n",
              "      <td>volvo</td>\n",
              "      <td>nein</td>\n",
              "      <td>manuell</td>\n",
              "      <td>2016-03-15</td>\n",
              "      <td>2016-04-05</td>\n",
              "      <td>v50</td>\n",
              "      <td>1512000</td>\n",
              "      <td>21 days</td>\n",
              "    </tr>\n",
              "    <tr>\n",
              "      <th>10</th>\n",
              "      <td>private</td>\n",
              "      <td>london</td>\n",
              "      <td>2016-03-22</td>\n",
              "      <td>35216</td>\n",
              "      <td>Lupo_GTI_mit_6_Gang_Getriebe__Navi_uvm.</td>\n",
              "      <td>NAN</td>\n",
              "      <td>2018</td>\n",
              "      <td>0</td>\n",
              "      <td>125</td>\n",
              "      <td>241350.000</td>\n",
              "      <td>gasoline</td>\n",
              "      <td>volkswagen</td>\n",
              "      <td>NAN</td>\n",
              "      <td>manuell</td>\n",
              "      <td>2016-03-22</td>\n",
              "      <td>2016-04-06</td>\n",
              "      <td>lupo</td>\n",
              "      <td>1799640</td>\n",
              "      <td>15 days</td>\n",
              "    </tr>\n",
              "    <tr>\n",
              "      <th>11</th>\n",
              "      <td>private</td>\n",
              "      <td>london</td>\n",
              "      <td>2016-03-23</td>\n",
              "      <td>55566</td>\n",
              "      <td>Volkswagen_Polo</td>\n",
              "      <td>small car</td>\n",
              "      <td>2001</td>\n",
              "      <td>12</td>\n",
              "      <td>60</td>\n",
              "      <td>241350.000</td>\n",
              "      <td>gasoline</td>\n",
              "      <td>volkswagen</td>\n",
              "      <td>nein</td>\n",
              "      <td>manuell</td>\n",
              "      <td>2016-03-23</td>\n",
              "      <td>2016-04-06</td>\n",
              "      <td>polo</td>\n",
              "      <td>486000</td>\n",
              "      <td>14 days</td>\n",
              "    </tr>\n",
              "    <tr>\n",
              "      <th>12</th>\n",
              "      <td>private</td>\n",
              "      <td>london</td>\n",
              "      <td>2016-03-28</td>\n",
              "      <td>79219</td>\n",
              "      <td>Volkswagen_Touareg_2.5_R5_TDI_Automatik</td>\n",
              "      <td>NAN</td>\n",
              "      <td>2007</td>\n",
              "      <td>5</td>\n",
              "      <td>174</td>\n",
              "      <td>241350.000</td>\n",
              "      <td>diesel</td>\n",
              "      <td>volkswagen</td>\n",
              "      <td>nein</td>\n",
              "      <td>automatik</td>\n",
              "      <td>2016-03-28</td>\n",
              "      <td>2016-03-28</td>\n",
              "      <td>touareg</td>\n",
              "      <td>2520000</td>\n",
              "      <td>0 days</td>\n",
              "    </tr>\n",
              "    <tr>\n",
              "      <th>13</th>\n",
              "      <td>private</td>\n",
              "      <td>london</td>\n",
              "      <td>2016-03-13</td>\n",
              "      <td>82544</td>\n",
              "      <td>Aixam_Crossline__Mopedauto_45km/h___EZ_08/2008</td>\n",
              "      <td>small car</td>\n",
              "      <td>2010</td>\n",
              "      <td>8</td>\n",
              "      <td>5</td>\n",
              "      <td>80450.000</td>\n",
              "      <td>diesel</td>\n",
              "      <td>sonstige_autos</td>\n",
              "      <td>nein</td>\n",
              "      <td>automatik</td>\n",
              "      <td>2016-03-13</td>\n",
              "      <td>2016-04-06</td>\n",
              "      <td>NAN</td>\n",
              "      <td>1926000</td>\n",
              "      <td>24 days</td>\n",
              "    </tr>\n",
              "    <tr>\n",
              "      <th>14</th>\n",
              "      <td>private</td>\n",
              "      <td>london</td>\n",
              "      <td>2016-03-27</td>\n",
              "      <td>15831</td>\n",
              "      <td>Citroen_Xsara_Picasso_1.6_HDi_FAP_Exclusive</td>\n",
              "      <td>station wagon</td>\n",
              "      <td>2007</td>\n",
              "      <td>2</td>\n",
              "      <td>109</td>\n",
              "      <td>241350.000</td>\n",
              "      <td>diesel</td>\n",
              "      <td>citroen</td>\n",
              "      <td>nein</td>\n",
              "      <td>manuell</td>\n",
              "      <td>2016-03-27</td>\n",
              "      <td>2016-04-05</td>\n",
              "      <td>c4</td>\n",
              "      <td>860400</td>\n",
              "      <td>9 days</td>\n",
              "    </tr>\n",
              "    <tr>\n",
              "      <th>15</th>\n",
              "      <td>private</td>\n",
              "      <td>london</td>\n",
              "      <td>2016-03-23</td>\n",
              "      <td>14974</td>\n",
              "      <td>Nissan_Micra_1.2_Season</td>\n",
              "      <td>small car</td>\n",
              "      <td>2007</td>\n",
              "      <td>6</td>\n",
              "      <td>65</td>\n",
              "      <td>241350.000</td>\n",
              "      <td>gasoline</td>\n",
              "      <td>nissan</td>\n",
              "      <td>nein</td>\n",
              "      <td>manuell</td>\n",
              "      <td>2016-03-23</td>\n",
              "      <td>2016-04-06</td>\n",
              "      <td>micra</td>\n",
              "      <td>666000</td>\n",
              "      <td>14 days</td>\n",
              "    </tr>\n",
              "    <tr>\n",
              "      <th>16</th>\n",
              "      <td>private</td>\n",
              "      <td>london</td>\n",
              "      <td>2016-03-11</td>\n",
              "      <td>17179</td>\n",
              "      <td>Golf_5_1.9_TDI_Bluemotion</td>\n",
              "      <td>limousine</td>\n",
              "      <td>2006</td>\n",
              "      <td>7</td>\n",
              "      <td>105</td>\n",
              "      <td>201125.000</td>\n",
              "      <td>diesel</td>\n",
              "      <td>volkswagen</td>\n",
              "      <td>NAN</td>\n",
              "      <td>manuell</td>\n",
              "      <td>2016-03-11</td>\n",
              "      <td>2016-03-11</td>\n",
              "      <td>golf</td>\n",
              "      <td>900000</td>\n",
              "      <td>0 days</td>\n",
              "    </tr>\n",
              "    <tr>\n",
              "      <th>17</th>\n",
              "      <td>private</td>\n",
              "      <td>london</td>\n",
              "      <td>2016-04-02</td>\n",
              "      <td>82396</td>\n",
              "      <td>Audi_Q5_2.0_TDI_quattro_Stronic__S_line__20_Zoll_</td>\n",
              "      <td>limousine</td>\n",
              "      <td>2012</td>\n",
              "      <td>10</td>\n",
              "      <td>170</td>\n",
              "      <td>96540.000</td>\n",
              "      <td>diesel</td>\n",
              "      <td>audi</td>\n",
              "      <td>nein</td>\n",
              "      <td>automatik</td>\n",
              "      <td>2016-04-02</td>\n",
              "      <td>2016-04-06</td>\n",
              "      <td>q5</td>\n",
              "      <td>10062000</td>\n",
              "      <td>4 days</td>\n",
              "    </tr>\n",
              "    <tr>\n",
              "      <th>18</th>\n",
              "      <td>private</td>\n",
              "      <td>london</td>\n",
              "      <td>2016-04-05</td>\n",
              "      <td>60486</td>\n",
              "      <td>Volkswagen_Golf_1.4_Comfortline</td>\n",
              "      <td>limousine</td>\n",
              "      <td>2000</td>\n",
              "      <td>10</td>\n",
              "      <td>75</td>\n",
              "      <td>241350.000</td>\n",
              "      <td>gasoline</td>\n",
              "      <td>volkswagen</td>\n",
              "      <td>nein</td>\n",
              "      <td>manuell</td>\n",
              "      <td>2016-04-05</td>\n",
              "      <td>2016-04-05</td>\n",
              "      <td>golf</td>\n",
              "      <td>342000</td>\n",
              "      <td>0 days</td>\n",
              "    </tr>\n",
              "    <tr>\n",
              "      <th>19</th>\n",
              "      <td>private</td>\n",
              "      <td>london</td>\n",
              "      <td>2016-03-17</td>\n",
              "      <td>45892</td>\n",
              "      <td>VW_Golf_VII_7!_Sportvan_150_ps_Panorama_dach!V...</td>\n",
              "      <td>bus</td>\n",
              "      <td>2016</td>\n",
              "      <td>0</td>\n",
              "      <td>0</td>\n",
              "      <td>32180.000</td>\n",
              "      <td>diesel</td>\n",
              "      <td>volkswagen</td>\n",
              "      <td>nein</td>\n",
              "      <td>NAN</td>\n",
              "      <td>2016-03-17</td>\n",
              "      <td>2016-03-26</td>\n",
              "      <td>golf</td>\n",
              "      <td>9720000</td>\n",
              "      <td>9 days</td>\n",
              "    </tr>\n",
              "    <tr>\n",
              "      <th>20</th>\n",
              "      <td>private</td>\n",
              "      <td>london</td>\n",
              "      <td>2016-03-26</td>\n",
              "      <td>10315</td>\n",
              "      <td>Seat_Toledo_1_8_20v_wird_Verkauft_oder_tausche...</td>\n",
              "      <td>limousine</td>\n",
              "      <td>2001</td>\n",
              "      <td>12</td>\n",
              "      <td>125</td>\n",
              "      <td>241350.000</td>\n",
              "      <td>gasoline</td>\n",
              "      <td>seat</td>\n",
              "      <td>nein</td>\n",
              "      <td>manuell</td>\n",
              "      <td>2016-03-26</td>\n",
              "      <td>2016-04-01</td>\n",
              "      <td>toledo</td>\n",
              "      <td>720000</td>\n",
              "      <td>6 days</td>\n",
              "    </tr>\n",
              "    <tr>\n",
              "      <th>21</th>\n",
              "      <td>private</td>\n",
              "      <td>london</td>\n",
              "      <td>2016-03-08</td>\n",
              "      <td>29221</td>\n",
              "      <td>Triumph_TR6</td>\n",
              "      <td>convertible</td>\n",
              "      <td>1976</td>\n",
              "      <td>7</td>\n",
              "      <td>95</td>\n",
              "      <td>160900.000</td>\n",
              "      <td>gasoline</td>\n",
              "      <td>sonstige_autos</td>\n",
              "      <td>nein</td>\n",
              "      <td>manuell</td>\n",
              "      <td>2016-03-08</td>\n",
              "      <td>2016-04-06</td>\n",
              "      <td>NAN</td>\n",
              "      <td>6480000</td>\n",
              "      <td>29 days</td>\n",
              "    </tr>\n",
              "    <tr>\n",
              "      <th>22</th>\n",
              "      <td>private</td>\n",
              "      <td>london</td>\n",
              "      <td>2016-03-24</td>\n",
              "      <td>45772</td>\n",
              "      <td>Opel_calibra_c20xe_2.0_16v</td>\n",
              "      <td>NAN</td>\n",
              "      <td>1997</td>\n",
              "      <td>0</td>\n",
              "      <td>150</td>\n",
              "      <td>241350.000</td>\n",
              "      <td>gasoline</td>\n",
              "      <td>opel</td>\n",
              "      <td>NAN</td>\n",
              "      <td>manuell</td>\n",
              "      <td>2016-03-24</td>\n",
              "      <td>2016-03-30</td>\n",
              "      <td>NAN</td>\n",
              "      <td>280800</td>\n",
              "      <td>6 days</td>\n",
              "    </tr>\n",
              "    <tr>\n",
              "      <th>23</th>\n",
              "      <td>private</td>\n",
              "      <td>london</td>\n",
              "      <td>2016-03-14</td>\n",
              "      <td>26188</td>\n",
              "      <td>Hyundai_Santa_Fe</td>\n",
              "      <td>NAN</td>\n",
              "      <td>2006</td>\n",
              "      <td>11</td>\n",
              "      <td>145</td>\n",
              "      <td>241350.000</td>\n",
              "      <td>gasoline</td>\n",
              "      <td>hyundai</td>\n",
              "      <td>nein</td>\n",
              "      <td>manuell</td>\n",
              "      <td>2016-03-14</td>\n",
              "      <td>2016-04-05</td>\n",
              "      <td>santa</td>\n",
              "      <td>1728000</td>\n",
              "      <td>22 days</td>\n",
              "    </tr>\n",
              "    <tr>\n",
              "      <th>24</th>\n",
              "      <td>private</td>\n",
              "      <td>london</td>\n",
              "      <td>2016-03-09</td>\n",
              "      <td>52538</td>\n",
              "      <td>Volvo_V40_1.9_D_Sport</td>\n",
              "      <td>station wagon</td>\n",
              "      <td>2004</td>\n",
              "      <td>5</td>\n",
              "      <td>102</td>\n",
              "      <td>241350.000</td>\n",
              "      <td>diesel</td>\n",
              "      <td>volvo</td>\n",
              "      <td>ja</td>\n",
              "      <td>manuell</td>\n",
              "      <td>2016-03-09</td>\n",
              "      <td>2016-04-05</td>\n",
              "      <td>v40</td>\n",
              "      <td>324000</td>\n",
              "      <td>27 days</td>\n",
              "    </tr>\n",
              "    <tr>\n",
              "      <th>25</th>\n",
              "      <td>private</td>\n",
              "      <td>london</td>\n",
              "      <td>2016-03-28</td>\n",
              "      <td>96114</td>\n",
              "      <td>Volkswagen_Golf_4_1.6_Kupplung_und_Service_neu</td>\n",
              "      <td>limousine</td>\n",
              "      <td>1999</td>\n",
              "      <td>10</td>\n",
              "      <td>101</td>\n",
              "      <td>241350.000</td>\n",
              "      <td>gasoline</td>\n",
              "      <td>volkswagen</td>\n",
              "      <td>nein</td>\n",
              "      <td>manuell</td>\n",
              "      <td>2016-03-28</td>\n",
              "      <td>2016-04-07</td>\n",
              "      <td>golf</td>\n",
              "      <td>666000</td>\n",
              "      <td>10 days</td>\n",
              "    </tr>\n",
              "    <tr>\n",
              "      <th>26</th>\n",
              "      <td>private</td>\n",
              "      <td>london</td>\n",
              "      <td>2016-03-10</td>\n",
              "      <td>52382</td>\n",
              "      <td>Fiat_Grande_Punto</td>\n",
              "      <td>small car</td>\n",
              "      <td>2014</td>\n",
              "      <td>2</td>\n",
              "      <td>69</td>\n",
              "      <td>48270.000</td>\n",
              "      <td>gasoline</td>\n",
              "      <td>fiat</td>\n",
              "      <td>nein</td>\n",
              "      <td>manuell</td>\n",
              "      <td>2016-03-10</td>\n",
              "      <td>2016-04-07</td>\n",
              "      <td>andere</td>\n",
              "      <td>2836800</td>\n",
              "      <td>28 days</td>\n",
              "    </tr>\n",
              "    <tr>\n",
              "      <th>27</th>\n",
              "      <td>private</td>\n",
              "      <td>london</td>\n",
              "      <td>2016-03-30</td>\n",
              "      <td>34308</td>\n",
              "      <td>Audi_100_Avant_puattro_sport_2.3_E</td>\n",
              "      <td>station wagon</td>\n",
              "      <td>1992</td>\n",
              "      <td>1</td>\n",
              "      <td>136</td>\n",
              "      <td>241350.000</td>\n",
              "      <td>NAN</td>\n",
              "      <td>audi</td>\n",
              "      <td>nein</td>\n",
              "      <td>manuell</td>\n",
              "      <td>2016-03-30</td>\n",
              "      <td>2016-03-30</td>\n",
              "      <td>100</td>\n",
              "      <td>360000</td>\n",
              "      <td>0 days</td>\n",
              "    </tr>\n",
              "    <tr>\n",
              "      <th>28</th>\n",
              "      <td>private</td>\n",
              "      <td>london</td>\n",
              "      <td>2016-03-14</td>\n",
              "      <td>6333</td>\n",
              "      <td>BMW_316i_compact</td>\n",
              "      <td>limousine</td>\n",
              "      <td>1997</td>\n",
              "      <td>8</td>\n",
              "      <td>102</td>\n",
              "      <td>241350.000</td>\n",
              "      <td>gasoline</td>\n",
              "      <td>bmw</td>\n",
              "      <td>nein</td>\n",
              "      <td>manuell</td>\n",
              "      <td>2016-03-14</td>\n",
              "      <td>2016-04-06</td>\n",
              "      <td>3er</td>\n",
              "      <td>432000</td>\n",
              "      <td>23 days</td>\n",
              "    </tr>\n",
              "    <tr>\n",
              "      <th>29</th>\n",
              "      <td>private</td>\n",
              "      <td>london</td>\n",
              "      <td>2016-03-07</td>\n",
              "      <td>72760</td>\n",
              "      <td>Volkswagen_Golf</td>\n",
              "      <td>small car</td>\n",
              "      <td>1997</td>\n",
              "      <td>10</td>\n",
              "      <td>75</td>\n",
              "      <td>241350.000</td>\n",
              "      <td>gasoline</td>\n",
              "      <td>volkswagen</td>\n",
              "      <td>nein</td>\n",
              "      <td>manuell</td>\n",
              "      <td>2016-03-07</td>\n",
              "      <td>2016-04-05</td>\n",
              "      <td>golf</td>\n",
              "      <td>359640</td>\n",
              "      <td>29 days</td>\n",
              "    </tr>\n",
              "    <tr>\n",
              "      <th>30</th>\n",
              "      <td>private</td>\n",
              "      <td>london</td>\n",
              "      <td>2016-03-21</td>\n",
              "      <td>69242</td>\n",
              "      <td>Opel_Corsa_1.0_12V_Enjoy_Easytronic_Klima</td>\n",
              "      <td>small car</td>\n",
              "      <td>2005</td>\n",
              "      <td>6</td>\n",
              "      <td>60</td>\n",
              "      <td>112630.000</td>\n",
              "      <td>gasoline</td>\n",
              "      <td>opel</td>\n",
              "      <td>nein</td>\n",
              "      <td>automatik</td>\n",
              "      <td>2016-03-21</td>\n",
              "      <td>2016-04-06</td>\n",
              "      <td>corsa</td>\n",
              "      <td>1026000</td>\n",
              "      <td>16 days</td>\n",
              "    </tr>\n",
              "    <tr>\n",
              "      <th>31</th>\n",
              "      <td>private</td>\n",
              "      <td>london</td>\n",
              "      <td>2016-03-31</td>\n",
              "      <td>50354</td>\n",
              "      <td>Toyota_Yaris_1.3_VVT_i_Sol</td>\n",
              "      <td>small car</td>\n",
              "      <td>2009</td>\n",
              "      <td>2</td>\n",
              "      <td>87</td>\n",
              "      <td>112630.000</td>\n",
              "      <td>gasoline</td>\n",
              "      <td>toyota</td>\n",
              "      <td>nein</td>\n",
              "      <td>manuell</td>\n",
              "      <td>2016-03-31</td>\n",
              "      <td>2016-04-06</td>\n",
              "      <td>yaris</td>\n",
              "      <td>1890000</td>\n",
              "      <td>6 days</td>\n",
              "    </tr>\n",
              "    <tr>\n",
              "      <th>32</th>\n",
              "      <td>private</td>\n",
              "      <td>london</td>\n",
              "      <td>2016-03-13</td>\n",
              "      <td>90552</td>\n",
              "      <td>Volkswagen_Golf_Plus_1.6_TDI_DPF</td>\n",
              "      <td>bus</td>\n",
              "      <td>2013</td>\n",
              "      <td>2</td>\n",
              "      <td>105</td>\n",
              "      <td>128720.000</td>\n",
              "      <td>diesel</td>\n",
              "      <td>volkswagen</td>\n",
              "      <td>nein</td>\n",
              "      <td>manuell</td>\n",
              "      <td>2016-03-13</td>\n",
              "      <td>2016-04-07</td>\n",
              "      <td>golf</td>\n",
              "      <td>5039640</td>\n",
              "      <td>25 days</td>\n",
              "    </tr>\n",
              "    <tr>\n",
              "      <th>33</th>\n",
              "      <td>private</td>\n",
              "      <td>london</td>\n",
              "      <td>2016-03-08</td>\n",
              "      <td>67061</td>\n",
              "      <td>Mercedes_Benz_CLK_Coupe_500</td>\n",
              "      <td>coupé</td>\n",
              "      <td>2004</td>\n",
              "      <td>5</td>\n",
              "      <td>306</td>\n",
              "      <td>144810.000</td>\n",
              "      <td>gasoline</td>\n",
              "      <td>mercedes_benz</td>\n",
              "      <td>nein</td>\n",
              "      <td>automatik</td>\n",
              "      <td>2016-03-08</td>\n",
              "      <td>2016-03-09</td>\n",
              "      <td>clk</td>\n",
              "      <td>3924000</td>\n",
              "      <td>1 days</td>\n",
              "    </tr>\n",
              "    <tr>\n",
              "      <th>34</th>\n",
              "      <td>private</td>\n",
              "      <td>london</td>\n",
              "      <td>2016-04-07</td>\n",
              "      <td>61352</td>\n",
              "      <td>Mercedes_Benz_CL_600_ABC_DEFEKT_TÜV_04/2017_MO...</td>\n",
              "      <td>coupé</td>\n",
              "      <td>2002</td>\n",
              "      <td>10</td>\n",
              "      <td>367</td>\n",
              "      <td>241350.000</td>\n",
              "      <td>gasoline</td>\n",
              "      <td>mercedes_benz</td>\n",
              "      <td>nein</td>\n",
              "      <td>automatik</td>\n",
              "      <td>2016-04-07</td>\n",
              "      <td>2016-04-07</td>\n",
              "      <td>cl</td>\n",
              "      <td>1620000</td>\n",
              "      <td>0 days</td>\n",
              "    </tr>\n",
              "    <tr>\n",
              "      <th>35</th>\n",
              "      <td>private</td>\n",
              "      <td>london</td>\n",
              "      <td>2016-03-10</td>\n",
              "      <td>70327</td>\n",
              "      <td>Fiat_Punto_188</td>\n",
              "      <td>small car</td>\n",
              "      <td>2004</td>\n",
              "      <td>2</td>\n",
              "      <td>60</td>\n",
              "      <td>144810.000</td>\n",
              "      <td>gasoline</td>\n",
              "      <td>fiat</td>\n",
              "      <td>NAN</td>\n",
              "      <td>manuell</td>\n",
              "      <td>2016-03-10</td>\n",
              "      <td>2016-03-21</td>\n",
              "      <td>punto</td>\n",
              "      <td>576000</td>\n",
              "      <td>11 days</td>\n",
              "    </tr>\n",
              "    <tr>\n",
              "      <th>36</th>\n",
              "      <td>private</td>\n",
              "      <td>london</td>\n",
              "      <td>2016-04-03</td>\n",
              "      <td>38448</td>\n",
              "      <td>Porsche_Cayenne_Turbo_inkl._Gewaehrleistung_&amp;_TÜV</td>\n",
              "      <td>NAN</td>\n",
              "      <td>2006</td>\n",
              "      <td>12</td>\n",
              "      <td>450</td>\n",
              "      <td>201125.000</td>\n",
              "      <td>gasoline</td>\n",
              "      <td>porsche</td>\n",
              "      <td>nein</td>\n",
              "      <td>automatik</td>\n",
              "      <td>2016-04-03</td>\n",
              "      <td>2016-04-05</td>\n",
              "      <td>cayenne</td>\n",
              "      <td>6804000</td>\n",
              "      <td>2 days</td>\n",
              "    </tr>\n",
              "    <tr>\n",
              "      <th>37</th>\n",
              "      <td>private</td>\n",
              "      <td>london</td>\n",
              "      <td>2016-03-31</td>\n",
              "      <td>27751</td>\n",
              "      <td>Toyota_Corolla_1_6_VVT_I_Automatik_Sol</td>\n",
              "      <td>NAN</td>\n",
              "      <td>2018</td>\n",
              "      <td>6</td>\n",
              "      <td>110</td>\n",
              "      <td>112630.000</td>\n",
              "      <td>NAN</td>\n",
              "      <td>toyota</td>\n",
              "      <td>nein</td>\n",
              "      <td>automatik</td>\n",
              "      <td>2016-03-31</td>\n",
              "      <td>2016-04-06</td>\n",
              "      <td>corolla</td>\n",
              "      <td>2088000</td>\n",
              "      <td>6 days</td>\n",
              "    </tr>\n",
              "    <tr>\n",
              "      <th>38</th>\n",
              "      <td>private</td>\n",
              "      <td>london</td>\n",
              "      <td>2016-04-01</td>\n",
              "      <td>63486</td>\n",
              "      <td>Mercedes_Benz_Vito_112_CDI_F</td>\n",
              "      <td>station wagon</td>\n",
              "      <td>2003</td>\n",
              "      <td>6</td>\n",
              "      <td>122</td>\n",
              "      <td>241350.000</td>\n",
              "      <td>diesel</td>\n",
              "      <td>mercedes_benz</td>\n",
              "      <td>nein</td>\n",
              "      <td>manuell</td>\n",
              "      <td>2016-03-31</td>\n",
              "      <td>2016-04-07</td>\n",
              "      <td>vito</td>\n",
              "      <td>1296000</td>\n",
              "      <td>6 days</td>\n",
              "    </tr>\n",
              "    <tr>\n",
              "      <th>39</th>\n",
              "      <td>private</td>\n",
              "      <td>london</td>\n",
              "      <td>2016-03-09</td>\n",
              "      <td>12689</td>\n",
              "      <td>Ford_Focus</td>\n",
              "      <td>limousine</td>\n",
              "      <td>2001</td>\n",
              "      <td>0</td>\n",
              "      <td>116</td>\n",
              "      <td>241350.000</td>\n",
              "      <td>NAN</td>\n",
              "      <td>ford</td>\n",
              "      <td>nein</td>\n",
              "      <td>manuell</td>\n",
              "      <td>2016-03-09</td>\n",
              "      <td>2016-03-20</td>\n",
              "      <td>focus</td>\n",
              "      <td>756000</td>\n",
              "      <td>11 days</td>\n",
              "    </tr>\n",
              "    <tr>\n",
              "      <th>40</th>\n",
              "      <td>private</td>\n",
              "      <td>london</td>\n",
              "      <td>2016-03-05</td>\n",
              "      <td>72072</td>\n",
              "      <td>Opel_Sintra_2.2_16V_GLS</td>\n",
              "      <td>bus</td>\n",
              "      <td>2001</td>\n",
              "      <td>4</td>\n",
              "      <td>141</td>\n",
              "      <td>241350.000</td>\n",
              "      <td>gasoline</td>\n",
              "      <td>opel</td>\n",
              "      <td>nein</td>\n",
              "      <td>manuell</td>\n",
              "      <td>2016-03-05</td>\n",
              "      <td>2016-03-12</td>\n",
              "      <td>andere</td>\n",
              "      <td>306000</td>\n",
              "      <td>7 days</td>\n",
              "    </tr>\n",
              "    <tr>\n",
              "      <th>41</th>\n",
              "      <td>private</td>\n",
              "      <td>london</td>\n",
              "      <td>2016-03-20</td>\n",
              "      <td>31535</td>\n",
              "      <td>VW_Passat_2.0_TDI_170PS_Vollausstattung_Rueckf...</td>\n",
              "      <td>station wagon</td>\n",
              "      <td>2010</td>\n",
              "      <td>5</td>\n",
              "      <td>170</td>\n",
              "      <td>241350.000</td>\n",
              "      <td>diesel</td>\n",
              "      <td>volkswagen</td>\n",
              "      <td>NAN</td>\n",
              "      <td>manuell</td>\n",
              "      <td>2016-03-20</td>\n",
              "      <td>2016-04-07</td>\n",
              "      <td>passat</td>\n",
              "      <td>2700000</td>\n",
              "      <td>18 days</td>\n",
              "    </tr>\n",
              "    <tr>\n",
              "      <th>42</th>\n",
              "      <td>private</td>\n",
              "      <td>london</td>\n",
              "      <td>2016-03-05</td>\n",
              "      <td>64293</td>\n",
              "      <td>BMW_X5_3.0_d</td>\n",
              "      <td>NAN</td>\n",
              "      <td>2018</td>\n",
              "      <td>3</td>\n",
              "      <td>234</td>\n",
              "      <td>241350.000</td>\n",
              "      <td>diesel</td>\n",
              "      <td>bmw</td>\n",
              "      <td>NAN</td>\n",
              "      <td>automatik</td>\n",
              "      <td>2016-03-05</td>\n",
              "      <td>2016-03-06</td>\n",
              "      <td>x_reihe</td>\n",
              "      <td>5544000</td>\n",
              "      <td>1 days</td>\n",
              "    </tr>\n",
              "    <tr>\n",
              "      <th>43</th>\n",
              "      <td>private</td>\n",
              "      <td>london</td>\n",
              "      <td>2016-03-24</td>\n",
              "      <td>28816</td>\n",
              "      <td>Renault_Scenic_1.6_16V</td>\n",
              "      <td>bus</td>\n",
              "      <td>2007</td>\n",
              "      <td>12</td>\n",
              "      <td>113</td>\n",
              "      <td>201125.000</td>\n",
              "      <td>gasoline</td>\n",
              "      <td>renault</td>\n",
              "      <td>nein</td>\n",
              "      <td>manuell</td>\n",
              "      <td>2016-03-24</td>\n",
              "      <td>2016-04-06</td>\n",
              "      <td>scenic</td>\n",
              "      <td>1116000</td>\n",
              "      <td>13 days</td>\n",
              "    </tr>\n",
              "    <tr>\n",
              "      <th>44</th>\n",
              "      <td>private</td>\n",
              "      <td>london</td>\n",
              "      <td>2016-03-16</td>\n",
              "      <td>91710</td>\n",
              "      <td>Bmw_318i_e46_Bj_2002_143ps</td>\n",
              "      <td>limousine</td>\n",
              "      <td>2004</td>\n",
              "      <td>0</td>\n",
              "      <td>143</td>\n",
              "      <td>241350.000</td>\n",
              "      <td>gasoline</td>\n",
              "      <td>bmw</td>\n",
              "      <td>ja</td>\n",
              "      <td>manuell</td>\n",
              "      <td>2016-03-16</td>\n",
              "      <td>2016-03-17</td>\n",
              "      <td>3er</td>\n",
              "      <td>900000</td>\n",
              "      <td>1 days</td>\n",
              "    </tr>\n",
              "    <tr>\n",
              "      <th>45</th>\n",
              "      <td>private</td>\n",
              "      <td>london</td>\n",
              "      <td>2016-03-31</td>\n",
              "      <td>52134</td>\n",
              "      <td>Peugeot_206_75_Grand_Filou_Cool</td>\n",
              "      <td>small car</td>\n",
              "      <td>2007</td>\n",
              "      <td>11</td>\n",
              "      <td>75</td>\n",
              "      <td>241350.000</td>\n",
              "      <td>gasoline</td>\n",
              "      <td>peugeot</td>\n",
              "      <td>nein</td>\n",
              "      <td>manuell</td>\n",
              "      <td>2016-03-31</td>\n",
              "      <td>2016-04-06</td>\n",
              "      <td>2_reihe</td>\n",
              "      <td>900000</td>\n",
              "      <td>6 days</td>\n",
              "    </tr>\n",
              "    <tr>\n",
              "      <th>46</th>\n",
              "      <td>private</td>\n",
              "      <td>london</td>\n",
              "      <td>2016-03-18</td>\n",
              "      <td>55481</td>\n",
              "      <td>Volkswagen_Golf_2.0_GTI</td>\n",
              "      <td>limousine</td>\n",
              "      <td>2011</td>\n",
              "      <td>5</td>\n",
              "      <td>211</td>\n",
              "      <td>201125.000</td>\n",
              "      <td>gasoline</td>\n",
              "      <td>volkswagen</td>\n",
              "      <td>nein</td>\n",
              "      <td>manuell</td>\n",
              "      <td>2016-03-18</td>\n",
              "      <td>2016-04-05</td>\n",
              "      <td>golf</td>\n",
              "      <td>4320000</td>\n",
              "      <td>18 days</td>\n",
              "    </tr>\n",
              "    <tr>\n",
              "      <th>47</th>\n",
              "      <td>private</td>\n",
              "      <td>london</td>\n",
              "      <td>2016-04-04</td>\n",
              "      <td>83527</td>\n",
              "      <td>BMW_320i_Touring_M_Paket</td>\n",
              "      <td>station wagon</td>\n",
              "      <td>2010</td>\n",
              "      <td>7</td>\n",
              "      <td>170</td>\n",
              "      <td>201125.000</td>\n",
              "      <td>gasoline</td>\n",
              "      <td>bmw</td>\n",
              "      <td>nein</td>\n",
              "      <td>manuell</td>\n",
              "      <td>2016-04-04</td>\n",
              "      <td>2016-04-06</td>\n",
              "      <td>3er</td>\n",
              "      <td>4860000</td>\n",
              "      <td>2 days</td>\n",
              "    </tr>\n",
              "    <tr>\n",
              "      <th>48</th>\n",
              "      <td>private</td>\n",
              "      <td>london</td>\n",
              "      <td>2016-04-03</td>\n",
              "      <td>91154</td>\n",
              "      <td>Volkswagen_Polo_1.4_Goal</td>\n",
              "      <td>small car</td>\n",
              "      <td>2008</td>\n",
              "      <td>10</td>\n",
              "      <td>80</td>\n",
              "      <td>201125.000</td>\n",
              "      <td>gasoline</td>\n",
              "      <td>volkswagen</td>\n",
              "      <td>nein</td>\n",
              "      <td>manuell</td>\n",
              "      <td>2016-04-03</td>\n",
              "      <td>2016-04-05</td>\n",
              "      <td>polo</td>\n",
              "      <td>1979280</td>\n",
              "      <td>2 days</td>\n",
              "    </tr>\n",
              "    <tr>\n",
              "      <th>49</th>\n",
              "      <td>private</td>\n",
              "      <td>london</td>\n",
              "      <td>2016-03-25</td>\n",
              "      <td>57299</td>\n",
              "      <td>Peugeot_106</td>\n",
              "      <td>small car</td>\n",
              "      <td>2003</td>\n",
              "      <td>4</td>\n",
              "      <td>60</td>\n",
              "      <td>241350.000</td>\n",
              "      <td>gasoline</td>\n",
              "      <td>peugeot</td>\n",
              "      <td>nein</td>\n",
              "      <td>manuell</td>\n",
              "      <td>2016-03-25</td>\n",
              "      <td>2016-04-04</td>\n",
              "      <td>1_reihe</td>\n",
              "      <td>406440</td>\n",
              "      <td>10 days</td>\n",
              "    </tr>\n",
              "  </tbody>\n",
              "</table>\n",
              "</div>"
            ],
            "text/plain": [
              "   seller_type country_of_use  ... naira_price  advert_days_diff\n",
              "0      private         london  ...      864000            1 days\n",
              "1      private         london  ...      630000            2 days\n",
              "2      private         london  ...      180000           21 days\n",
              "3      private         london  ...      432000            0 days\n",
              "4      private         london  ...     1692000           12 days\n",
              "5      private         london  ...      540000           27 days\n",
              "6      private         london  ...      306000            0 days\n",
              "7      private         london  ...     1439280            8 days\n",
              "8      private         london  ...      630000            3 days\n",
              "9      private         london  ...     1512000           21 days\n",
              "10     private         london  ...     1799640           15 days\n",
              "11     private         london  ...      486000           14 days\n",
              "12     private         london  ...     2520000            0 days\n",
              "13     private         london  ...     1926000           24 days\n",
              "14     private         london  ...      860400            9 days\n",
              "15     private         london  ...      666000           14 days\n",
              "16     private         london  ...      900000            0 days\n",
              "17     private         london  ...    10062000            4 days\n",
              "18     private         london  ...      342000            0 days\n",
              "19     private         london  ...     9720000            9 days\n",
              "20     private         london  ...      720000            6 days\n",
              "21     private         london  ...     6480000           29 days\n",
              "22     private         london  ...      280800            6 days\n",
              "23     private         london  ...     1728000           22 days\n",
              "24     private         london  ...      324000           27 days\n",
              "25     private         london  ...      666000           10 days\n",
              "26     private         london  ...     2836800           28 days\n",
              "27     private         london  ...      360000            0 days\n",
              "28     private         london  ...      432000           23 days\n",
              "29     private         london  ...      359640           29 days\n",
              "30     private         london  ...     1026000           16 days\n",
              "31     private         london  ...     1890000            6 days\n",
              "32     private         london  ...     5039640           25 days\n",
              "33     private         london  ...     3924000            1 days\n",
              "34     private         london  ...     1620000            0 days\n",
              "35     private         london  ...      576000           11 days\n",
              "36     private         london  ...     6804000            2 days\n",
              "37     private         london  ...     2088000            6 days\n",
              "38     private         london  ...     1296000            6 days\n",
              "39     private         london  ...      756000           11 days\n",
              "40     private         london  ...      306000            7 days\n",
              "41     private         london  ...     2700000           18 days\n",
              "42     private         london  ...     5544000            1 days\n",
              "43     private         london  ...     1116000           13 days\n",
              "44     private         london  ...      900000            1 days\n",
              "45     private         london  ...      900000            6 days\n",
              "46     private         london  ...     4320000           18 days\n",
              "47     private         london  ...     4860000            2 days\n",
              "48     private         london  ...     1979280            2 days\n",
              "49     private         london  ...      406440           10 days\n",
              "\n",
              "[50 rows x 19 columns]"
            ]
          },
          "metadata": {
            "tags": []
          },
          "execution_count": 181
        }
      ]
    },
    {
      "cell_type": "code",
      "metadata": {
        "id": "bho8fZtLdEr_",
        "colab_type": "code",
        "outputId": "209216e6-1287-4251-b7b6-7fc74a70d86d",
        "colab": {
          "base_uri": "https://localhost:8080/",
          "height": 241
        }
      },
      "source": [
        "##display the first five rows of the test dataset.\n",
        "test.head(5)"
      ],
      "execution_count": 150,
      "outputs": [
        {
          "output_type": "execute_result",
          "data": {
            "text/html": [
              "<div>\n",
              "<style scoped>\n",
              "    .dataframe tbody tr th:only-of-type {\n",
              "        vertical-align: middle;\n",
              "    }\n",
              "\n",
              "    .dataframe tbody tr th {\n",
              "        vertical-align: top;\n",
              "    }\n",
              "\n",
              "    .dataframe thead th {\n",
              "        text-align: right;\n",
              "    }\n",
              "</style>\n",
              "<table border=\"1\" class=\"dataframe\">\n",
              "  <thead>\n",
              "    <tr style=\"text-align: right;\">\n",
              "      <th></th>\n",
              "      <th>id</th>\n",
              "      <th>seller_type</th>\n",
              "      <th>country_of_use</th>\n",
              "      <th>weblog_date</th>\n",
              "      <th>Area_address_code</th>\n",
              "      <th>car_name</th>\n",
              "      <th>car_type</th>\n",
              "      <th>Permit_registration_year</th>\n",
              "      <th>registration_month</th>\n",
              "      <th>horse_power</th>\n",
              "      <th>mileage</th>\n",
              "      <th>gas_type</th>\n",
              "      <th>car_brand</th>\n",
              "      <th>Status_of_car_repair</th>\n",
              "      <th>gear_type</th>\n",
              "      <th>date_of_advert</th>\n",
              "      <th>last_advert_online</th>\n",
              "      <th>model</th>\n",
              "    </tr>\n",
              "  </thead>\n",
              "  <tbody>\n",
              "    <tr>\n",
              "      <th>0</th>\n",
              "      <td>72959</td>\n",
              "      <td>private</td>\n",
              "      <td>london</td>\n",
              "      <td>2016-03-20</td>\n",
              "      <td>24768</td>\n",
              "      <td>Opel_vectra_B_1.6_16v_tuev_09.2017</td>\n",
              "      <td>limousine</td>\n",
              "      <td>2000</td>\n",
              "      <td>9</td>\n",
              "      <td>101</td>\n",
              "      <td>201125.000</td>\n",
              "      <td>gasoline</td>\n",
              "      <td>opel</td>\n",
              "      <td>nein</td>\n",
              "      <td>automatik</td>\n",
              "      <td>2016-03-20</td>\n",
              "      <td>2016-03-21</td>\n",
              "      <td>vectra</td>\n",
              "    </tr>\n",
              "    <tr>\n",
              "      <th>1</th>\n",
              "      <td>8681</td>\n",
              "      <td>private</td>\n",
              "      <td>london</td>\n",
              "      <td>2016-03-27</td>\n",
              "      <td>26629</td>\n",
              "      <td>Aixam_45_km/h_Auto_automatiek_nicht_fahrbereit</td>\n",
              "      <td>other</td>\n",
              "      <td>2005</td>\n",
              "      <td>6</td>\n",
              "      <td>0</td>\n",
              "      <td>32180.000</td>\n",
              "      <td>NaN</td>\n",
              "      <td>sonstige_autos</td>\n",
              "      <td>NaN</td>\n",
              "      <td>automatik</td>\n",
              "      <td>2016-03-27</td>\n",
              "      <td>2016-04-05</td>\n",
              "      <td>NaN</td>\n",
              "    </tr>\n",
              "    <tr>\n",
              "      <th>2</th>\n",
              "      <td>238202</td>\n",
              "      <td>private</td>\n",
              "      <td>london</td>\n",
              "      <td>2016-03-22</td>\n",
              "      <td>35606</td>\n",
              "      <td>Passat_Alltrack_Bluemotion</td>\n",
              "      <td>station wagon</td>\n",
              "      <td>2018</td>\n",
              "      <td>1</td>\n",
              "      <td>0</td>\n",
              "      <td>32180.000</td>\n",
              "      <td>diesel</td>\n",
              "      <td>volkswagen</td>\n",
              "      <td>ja</td>\n",
              "      <td>NaN</td>\n",
              "      <td>2016-03-22</td>\n",
              "      <td>2016-04-06</td>\n",
              "      <td>passat</td>\n",
              "    </tr>\n",
              "    <tr>\n",
              "      <th>3</th>\n",
              "      <td>110743</td>\n",
              "      <td>private</td>\n",
              "      <td>london</td>\n",
              "      <td>2016-03-28</td>\n",
              "      <td>59192</td>\n",
              "      <td>Opel_Kadett</td>\n",
              "      <td>limousine</td>\n",
              "      <td>1979</td>\n",
              "      <td>9</td>\n",
              "      <td>110</td>\n",
              "      <td>241350.000</td>\n",
              "      <td>gasoline</td>\n",
              "      <td>opel</td>\n",
              "      <td>nein</td>\n",
              "      <td>manuell</td>\n",
              "      <td>2016-03-28</td>\n",
              "      <td>2016-03-31</td>\n",
              "      <td>kadett</td>\n",
              "    </tr>\n",
              "    <tr>\n",
              "      <th>4</th>\n",
              "      <td>34925</td>\n",
              "      <td>private</td>\n",
              "      <td>london</td>\n",
              "      <td>2016-04-02</td>\n",
              "      <td>7551</td>\n",
              "      <td>Seat_Arosa_\"Anfaengerauto_Stadtflitzer\"_TÜV_02...</td>\n",
              "      <td>small car</td>\n",
              "      <td>2000</td>\n",
              "      <td>8</td>\n",
              "      <td>0</td>\n",
              "      <td>241350.000</td>\n",
              "      <td>gasoline</td>\n",
              "      <td>seat</td>\n",
              "      <td>NaN</td>\n",
              "      <td>manuell</td>\n",
              "      <td>2016-04-02</td>\n",
              "      <td>2016-04-06</td>\n",
              "      <td>arosa</td>\n",
              "    </tr>\n",
              "  </tbody>\n",
              "</table>\n",
              "</div>"
            ],
            "text/plain": [
              "       id seller_type country_of_use  ... date_of_advert  last_advert_online   model\n",
              "0   72959     private         london  ...     2016-03-20          2016-03-21  vectra\n",
              "1    8681     private         london  ...     2016-03-27          2016-04-05     NaN\n",
              "2  238202     private         london  ...     2016-03-22          2016-04-06  passat\n",
              "3  110743     private         london  ...     2016-03-28          2016-03-31  kadett\n",
              "4   34925     private         london  ...     2016-04-02          2016-04-06   arosa\n",
              "\n",
              "[5 rows x 18 columns]"
            ]
          },
          "metadata": {
            "tags": []
          },
          "execution_count": 150
        }
      ]
    },
    {
      "cell_type": "code",
      "metadata": {
        "id": "MVf6M9VwdNcH",
        "colab_type": "code",
        "outputId": "9bebc7b3-505b-4232-a0f5-2d3b7086a1fd",
        "colab": {
          "base_uri": "https://localhost:8080/",
          "height": 102
        }
      },
      "source": [
        "#check the numbers of samples and features\n",
        "print(\"The train data size before dropping Id feature is : {} \".format(train.shape))\n",
        "print(\"The test data size before dropping Id feature is : {} \".format(test.shape))\n",
        "\n",
        "#Save the 'Id' column\n",
        "train_ID = train['id']\n",
        "test_ID = test['id']\n",
        "\n",
        "#Now drop the  'Id' colum since it's unnecessary for  the prediction process.\n",
        "train.drop(\"id\", axis = 1, inplace = True)\n",
        "test.drop(\"id\", axis = 1, inplace = True)\n",
        "\n",
        "#check again the data size after dropping the 'Id' variable\n",
        "print(\"\\nThe train data size after dropping Id feature is : {} \".format(train.shape)) \n",
        "print(\"The test data size after dropping Id feature is : {} \".format(test.shape))"
      ],
      "execution_count": 151,
      "outputs": [
        {
          "output_type": "stream",
          "text": [
            "The train data size before dropping Id feature is : (224524, 19) \n",
            "The test data size before dropping Id feature is : (110587, 18) \n",
            "\n",
            "The train data size after dropping Id feature is : (224524, 18) \n",
            "The test data size after dropping Id feature is : (110587, 17) \n"
          ],
          "name": "stdout"
        }
      ]
    },
    {
      "cell_type": "code",
      "metadata": {
        "id": "dSyyuZ2udjRY",
        "colab_type": "code",
        "colab": {}
      },
      "source": [
        "#separate categorical varriable from numerical varriable\n",
        "quantitative = [f for f in train.columns if train.dtypes[f] != 'object']\n",
        "#quantitative.remove('SalePrice')\n",
        "#quantitative.remove('Id')\n",
        "qualitative = [f for f in train.columns if train.dtypes[f] == 'object']"
      ],
      "execution_count": 0,
      "outputs": []
    },
    {
      "cell_type": "code",
      "metadata": {
        "id": "Weixsbs2gTLO",
        "colab_type": "code",
        "outputId": "287d353d-344b-4e9e-c919-fbed78a05962",
        "colab": {
          "base_uri": "https://localhost:8080/",
          "height": 119
        }
      },
      "source": [
        "quantitative"
      ],
      "execution_count": 153,
      "outputs": [
        {
          "output_type": "execute_result",
          "data": {
            "text/plain": [
              "['Area_address_code',\n",
              " 'Permit_registration_year',\n",
              " 'registration_month',\n",
              " 'horse_power',\n",
              " 'mileage',\n",
              " 'naira_price']"
            ]
          },
          "metadata": {
            "tags": []
          },
          "execution_count": 153
        }
      ]
    },
    {
      "cell_type": "code",
      "metadata": {
        "id": "a1Pi8KCLgbgg",
        "colab_type": "code",
        "outputId": "93f4f4cf-7fe1-4d53-9453-23ef762d6a2b",
        "colab": {
          "base_uri": "https://localhost:8080/",
          "height": 221
        }
      },
      "source": [
        "qualitative"
      ],
      "execution_count": 154,
      "outputs": [
        {
          "output_type": "execute_result",
          "data": {
            "text/plain": [
              "['seller_type',\n",
              " 'country_of_use',\n",
              " 'weblog_date',\n",
              " 'car_name',\n",
              " 'car_type',\n",
              " 'gas_type',\n",
              " 'car_brand',\n",
              " 'Status_of_car_repair',\n",
              " 'gear_type',\n",
              " 'date_of_advert',\n",
              " 'last_advert_online',\n",
              " 'model']"
            ]
          },
          "metadata": {
            "tags": []
          },
          "execution_count": 154
        }
      ]
    },
    {
      "cell_type": "code",
      "metadata": {
        "id": "1wu7USYleKeS",
        "colab_type": "code",
        "outputId": "6bd701e0-d587-45ac-cd7a-6664019fed4b",
        "colab": {
          "base_uri": "https://localhost:8080/",
          "height": 378
        }
      },
      "source": [
        "#missing values\n",
        "sns.set_style(\"whitegrid\")\n",
        "missing = train.isnull().sum()\n",
        "missing = missing[missing > 0]\n",
        "missing.sort_values(inplace=True)\n",
        "missing.plot.bar()"
      ],
      "execution_count": 155,
      "outputs": [
        {
          "output_type": "execute_result",
          "data": {
            "text/plain": [
              "<matplotlib.axes._subplots.AxesSubplot at 0x7f12f4c7dfd0>"
            ]
          },
          "metadata": {
            "tags": []
          },
          "execution_count": 155
        },
        {
          "output_type": "display_data",
          "data": {
            "image/png": "[encoded data removed]",
            "text/plain": [
              "<Figure size 432x288 with 1 Axes>"
            ]
          },
          "metadata": {
            "tags": []
          }
        }
      ]
    },
    {
      "cell_type": "code",
      "metadata": {
        "id": "D4RGYTvrhORZ",
        "colab_type": "code",
        "outputId": "431d9c93-fe82-47cb-a955-953a767b4c0e",
        "colab": {
          "base_uri": "https://localhost:8080/",
          "height": 238
        }
      },
      "source": [
        "# check number & percentage of missing value in the columns\n",
        "def missing_values_table(df):\n",
        "  mis_val = df.isnull().sum() #total missing values\n",
        "  mis_val_percent = 100 * df.isnull().sum() / len(df) #percentage of missing values\n",
        "  mis_val_table = pd.concat([mis_val, mis_val_percent], axis=1) #make a table with the results\n",
        "  mis_val_table_ren_columns = mis_val_table.rename(\n",
        "  columns = {0 : 'Missing Values', 1 : '% of Total Values'}) #rename the columns\n",
        "     # sort the table by percentage of missing value\n",
        "  mis_val_table_ren_columns = mis_val_table_ren_columns[\n",
        "  mis_val_table_ren_columns.iloc[:,1] != 0].sort_values(\n",
        "        '% of Total Values', ascending=False).round(1)\n",
        "\n",
        "        #print same summary information\n",
        "  print (\"Your selected dataframe has \" + str(df.shape[1]) + \" columns.\\n\"      \n",
        "            \"There are \" + str(mis_val_table_ren_columns.shape[0]) +\n",
        "              \" columns that have missing values.\")\n",
        "\n",
        "          # return the dataframe with missing information\n",
        "  return mis_val_table_ren_columns\n",
        "  \n",
        "missing_values = missing_values_table(train)\n",
        "missing_values.head()"
      ],
      "execution_count": 156,
      "outputs": [
        {
          "output_type": "stream",
          "text": [
            "Your selected dataframe has 18 columns.\n",
            "There are 5 columns that have missing values.\n"
          ],
          "name": "stdout"
        },
        {
          "output_type": "execute_result",
          "data": {
            "text/html": [
              "<div>\n",
              "<style scoped>\n",
              "    .dataframe tbody tr th:only-of-type {\n",
              "        vertical-align: middle;\n",
              "    }\n",
              "\n",
              "    .dataframe tbody tr th {\n",
              "        vertical-align: top;\n",
              "    }\n",
              "\n",
              "    .dataframe thead th {\n",
              "        text-align: right;\n",
              "    }\n",
              "</style>\n",
              "<table border=\"1\" class=\"dataframe\">\n",
              "  <thead>\n",
              "    <tr style=\"text-align: right;\">\n",
              "      <th></th>\n",
              "      <th>Missing Values</th>\n",
              "      <th>% of Total Values</th>\n",
              "    </tr>\n",
              "  </thead>\n",
              "  <tbody>\n",
              "    <tr>\n",
              "      <th>Status_of_car_repair</th>\n",
              "      <td>37087</td>\n",
              "      <td>16.500</td>\n",
              "    </tr>\n",
              "    <tr>\n",
              "      <th>car_type</th>\n",
              "      <td>27959</td>\n",
              "      <td>12.500</td>\n",
              "    </tr>\n",
              "    <tr>\n",
              "      <th>gas_type</th>\n",
              "      <td>16091</td>\n",
              "      <td>7.200</td>\n",
              "    </tr>\n",
              "    <tr>\n",
              "      <th>model</th>\n",
              "      <td>10248</td>\n",
              "      <td>4.600</td>\n",
              "    </tr>\n",
              "    <tr>\n",
              "      <th>gear_type</th>\n",
              "      <td>9133</td>\n",
              "      <td>4.100</td>\n",
              "    </tr>\n",
              "  </tbody>\n",
              "</table>\n",
              "</div>"
            ],
            "text/plain": [
              "                      Missing Values  % of Total Values\n",
              "Status_of_car_repair           37087             16.500\n",
              "car_type                       27959             12.500\n",
              "gas_type                       16091              7.200\n",
              "model                          10248              4.600\n",
              "gear_type                       9133              4.100"
            ]
          },
          "metadata": {
            "tags": []
          },
          "execution_count": 156
        }
      ]
    },
    {
      "cell_type": "code",
      "metadata": {
        "id": "3gml-MdZHepe",
        "colab_type": "code",
        "colab": {}
      },
      "source": [
        "#handling Missing Values\n",
        "train[\"Status_of_car_repair\"] =train[\"Status_of_car_repair\"].fillna(\"NAN\")\n",
        "test[\"Status_of_car_repair\"] =test[\"Status_of_car_repair\"].fillna(\"NAN\")\n",
        "\n",
        "#handling Missing Values\n",
        "train[\"car_type\"] =train[\"car_type\"].fillna(\"NAN\")\n",
        "test[\"car_type\"] =test[\"car_type\"].fillna(\"NAN\")\n",
        "#handling Missing Values\n",
        "train[\"gas_type\"] =train[\"gas_type\"].fillna(\"NAN\")\n",
        "test[\"car_type\"] =test[\"car_type\"].fillna(\"NAN\")\n",
        "#handling Missing Values\n",
        "train[\"model\"] =train[\"model\"].fillna(\"NAN\")\n",
        "test[\"model\"] =test[\"model\"].fillna(\"NAN\")\n",
        "\n",
        "#handling Missing Values\n",
        "train[\"gear_type\"] =train[\"gear_type\"].fillna(\"NAN\")\n",
        "test[\"gear_type\"] =test[\"gear_type\"].fillna(\"NAN\")"
      ],
      "execution_count": 0,
      "outputs": []
    },
    {
      "cell_type": "code",
      "metadata": {
        "id": "dZzmxZ5hQbrw",
        "colab_type": "code",
        "outputId": "8562ca40-fcc4-4e78-b7d3-c81d44afb5b8",
        "colab": {
          "base_uri": "https://localhost:8080/",
          "height": 301
        }
      },
      "source": [
        "#remove outliers\n",
        "sns.boxplot(x=train['naira_price'])"
      ],
      "execution_count": 158,
      "outputs": [
        {
          "output_type": "execute_result",
          "data": {
            "text/plain": [
              "<matplotlib.axes._subplots.AxesSubplot at 0x7f12f4c6f710>"
            ]
          },
          "metadata": {
            "tags": []
          },
          "execution_count": 158
        },
        {
          "output_type": "display_data",
          "data": {
            "image/png": "[encoded data removed]",
            "text/plain": [
              "<Figure size 432x288 with 1 Axes>"
            ]
          },
          "metadata": {
            "tags": []
          }
        }
      ]
    },
    {
      "cell_type": "code",
      "metadata": {
        "id": "peTvdNieqilD",
        "colab_type": "code",
        "outputId": "772f11f5-de97-42dc-e69c-0e79aba02607",
        "colab": {
          "base_uri": "https://localhost:8080/",
          "height": 671
        }
      },
      "source": [
        "#Correlation map to see how features are correlated with SalePrice\n",
        "corrmat = train.corr()\n",
        "plt.subplots(figsize=(12,9))\n",
        "sns.heatmap(corrmat, vmax=0.9, square=True)"
      ],
      "execution_count": 159,
      "outputs": [
        {
          "output_type": "execute_result",
          "data": {
            "text/plain": [
              "<matplotlib.axes._subplots.AxesSubplot at 0x7f12f4c18080>"
            ]
          },
          "metadata": {
            "tags": []
          },
          "execution_count": 159
        },
        {
          "output_type": "display_data",
          "data": {
            "image/png": "[encoded data removed]",
            "text/plain": [
              "<Figure size 864x648 with 2 Axes>"
            ]
          },
          "metadata": {
            "tags": []
          }
        }
      ]
    },
    {
      "cell_type": "code",
      "metadata": {
        "id": "_ivFO5JArjjP",
        "colab_type": "code",
        "outputId": "6b9e1702-29fd-4b48-dff8-9b7639406b77",
        "colab": {
          "base_uri": "https://localhost:8080/",
          "height": 221
        }
      },
      "source": [
        "#the category types\n",
        "['seller_type',\n",
        " 'country_of_use',\n",
        " 'weblog_date',\n",
        " 'car_name',\n",
        " 'car_type',\n",
        " 'gas_type',\n",
        " 'car_brand',\n",
        " 'Status_of_car_repair',\n",
        " 'gear_type',\n",
        " 'date_of_advert',\n",
        " 'last_advert_online',\n",
        " 'model']"
      ],
      "execution_count": 160,
      "outputs": [
        {
          "output_type": "execute_result",
          "data": {
            "text/plain": [
              "['seller_type',\n",
              " 'country_of_use',\n",
              " 'weblog_date',\n",
              " 'car_name',\n",
              " 'car_type',\n",
              " 'gas_type',\n",
              " 'car_brand',\n",
              " 'Status_of_car_repair',\n",
              " 'gear_type',\n",
              " 'date_of_advert',\n",
              " 'last_advert_online',\n",
              " 'model']"
            ]
          },
          "metadata": {
            "tags": []
          },
          "execution_count": 160
        }
      ]
    },
    {
      "cell_type": "code",
      "metadata": {
        "id": "ia5hTO69fb9a",
        "colab_type": "code",
        "outputId": "0a3e4123-9ea6-41c3-8812-f1d06ebbd636",
        "colab": {
          "base_uri": "https://localhost:8080/",
          "height": 51
        }
      },
      "source": [
        "train['seller_type'].value_counts()\n"
      ],
      "execution_count": 161,
      "outputs": [
        {
          "output_type": "execute_result",
          "data": {
            "text/plain": [
              "private    224524\n",
              "Name: seller_type, dtype: int64"
            ]
          },
          "metadata": {
            "tags": []
          },
          "execution_count": 161
        }
      ]
    },
    {
      "cell_type": "code",
      "metadata": {
        "id": "H96tinPs4OuV",
        "colab_type": "code",
        "outputId": "ed4864d4-aab7-45f0-cdc1-6574318fd86d",
        "colab": {
          "base_uri": "https://localhost:8080/",
          "height": 51
        }
      },
      "source": [
        "train['country_of_use'].value_counts()"
      ],
      "execution_count": 162,
      "outputs": [
        {
          "output_type": "execute_result",
          "data": {
            "text/plain": [
              "london    224524\n",
              "Name: country_of_use, dtype: int64"
            ]
          },
          "metadata": {
            "tags": []
          },
          "execution_count": 162
        }
      ]
    },
    {
      "cell_type": "code",
      "metadata": {
        "id": "HBKFhw6B4XZE",
        "colab_type": "code",
        "colab": {}
      },
      "source": [
        "#train['weblog_date'].value_counts()"
      ],
      "execution_count": 0,
      "outputs": []
    },
    {
      "cell_type": "code",
      "metadata": {
        "id": "QVNv-NiIaQ2W",
        "colab_type": "code",
        "colab": {}
      },
      "source": [
        "# converting dates into datetime format\n",
        "\n",
        "train['weblog_date'] = pd.to_datetime(train['weblog_date'], errors = 'coerce')\n",
        "#train['date_of_advert'] = pd.to_datetime(train['date_of_advert'], errors = 'coerce')\n",
        "train['last_advert_online'] = pd.to_datetime(train['last_advert_online'], errors = 'coerce')\n",
        "# extracting out years, months, days and weeks from the date\n",
        "#train['weblog_date_year'] = train['weblog_date'].dt.year\n",
        "#train['weblog_date_month'] = train['weblog_date'].dt.month\n",
        "#train['date_of_advert_year'] = train['date_of_advert'].dt.year\n",
        "#train['date_of_advert_month'] = train['date_of_advert'].dt.month\n",
        "#train['last_advert_online_year'] = train['last_advert_online'].dt.year\n",
        "#train['last_advert_online_month'] = train['last_advert_online'].dt.month\n",
        "\n",
        "\n"
      ],
      "execution_count": 0,
      "outputs": []
    },
    {
      "cell_type": "code",
      "metadata": {
        "id": "rE_eZXQ_zCaF",
        "colab_type": "code",
        "colab": {}
      },
      "source": [
        "test['weblog_date'] = pd.to_datetime(test['weblog_date'], errors = 'coerce')\n",
        "#test['date_of_advert'] = pd.to_datetime(test['date_of_advert'], errors = 'coerce')\n",
        "test['last_advert_online'] = pd.to_datetime(test['last_advert_online'], errors = 'coerce')\n",
        "\n",
        "# extracting out years, months, days and weeks from the date\n",
        "\n",
        "#test['weblog_date_year'] = test['weblog_date'].dt.year\n",
        "#test['weblog_date_month'] = test['weblog_date'].dt.month\n",
        "\n",
        "#test['date_of_advert_year'] = test['date_of_advert'].dt.year\n",
        "#test['date_of_advert_month'] = test['date_of_advert'].dt.month\n",
        "\n",
        "#test['last_advert_online_year'] = test['last_advert_online'].dt.year\n",
        "#test['last_advert_online_month'] = test['last_advert_online'].dt.month"
      ],
      "execution_count": 0,
      "outputs": []
    },
    {
      "cell_type": "code",
      "metadata": {
        "id": "nRkARgSTl_yi",
        "colab_type": "code",
        "colab": {}
      },
      "source": [
        "#Difference advert dates in days\n",
        "train['advert_days_diff']=train['last_advert_online']-train['weblog_date']"
      ],
      "execution_count": 0,
      "outputs": []
    },
    {
      "cell_type": "code",
      "metadata": {
        "id": "_heQ89JrnrSa",
        "colab_type": "code",
        "colab": {}
      },
      "source": [
        "#Difference advert dates in days\n",
        "test['advert_days_diff']=test['last_advert_online']-test['weblog_date']"
      ],
      "execution_count": 0,
      "outputs": []
    },
    {
      "cell_type": "code",
      "metadata": {
        "id": "REJJtvKPyAA8",
        "colab_type": "code",
        "outputId": "3a079561-1f80-4fad-ef68-79df7e977ac6",
        "colab": {
          "base_uri": "https://localhost:8080/",
          "height": 34
        }
      },
      "source": [
        "#getting unique values of categorical columns\n",
        "#the category types\n",
        "#['seller_type',\n",
        " #'country_of_use',\n",
        " #'weblog_date',\n",
        " #'car_name',\n",
        " #'car_type',\n",
        " #'gas_type',\n",
        " #'car_brand',\n",
        " #'Status_of_car_repair',\n",
        " #'gear_type',\n",
        " #'date_of_advert',\n",
        " #'last_advert_online',\n",
        " #'model']\n",
        "train['seller_type'].unique()"
      ],
      "execution_count": 169,
      "outputs": [
        {
          "output_type": "execute_result",
          "data": {
            "text/plain": [
              "array(['private'], dtype=object)"
            ]
          },
          "metadata": {
            "tags": []
          },
          "execution_count": 169
        }
      ]
    },
    {
      "cell_type": "code",
      "metadata": {
        "id": "WO0xnwsKvQI1",
        "colab_type": "code",
        "colab": {
          "base_uri": "https://localhost:8080/",
          "height": 34
        },
        "outputId": "089345d1-1ff3-41b0-8b8b-7124cee7d4dc"
      },
      "source": [
        "train['country_of_use'].unique()"
      ],
      "execution_count": 170,
      "outputs": [
        {
          "output_type": "execute_result",
          "data": {
            "text/plain": [
              "array(['london'], dtype=object)"
            ]
          },
          "metadata": {
            "tags": []
          },
          "execution_count": 170
        }
      ]
    },
    {
      "cell_type": "code",
      "metadata": {
        "id": "ZXtI7T78vWZt",
        "colab_type": "code",
        "colab": {
          "base_uri": "https://localhost:8080/",
          "height": 51
        },
        "outputId": "998311e0-1630-4b03-a6af-d624d55fe538"
      },
      "source": [
        "train['car_type'].unique()"
      ],
      "execution_count": 171,
      "outputs": [
        {
          "output_type": "execute_result",
          "data": {
            "text/plain": [
              "array(['small car', 'limousine', 'other', 'bus', 'NAN', 'convertible',\n",
              "       'station wagon', 'coupé'], dtype=object)"
            ]
          },
          "metadata": {
            "tags": []
          },
          "execution_count": 171
        }
      ]
    },
    {
      "cell_type": "code",
      "metadata": {
        "id": "BMT0wq68viyN",
        "colab_type": "code",
        "colab": {
          "base_uri": "https://localhost:8080/",
          "height": 51
        },
        "outputId": "4eb0173c-4a34-4079-c0af-a98af8baedca"
      },
      "source": [
        "train['gas_type'].unique()"
      ],
      "execution_count": 172,
      "outputs": [
        {
          "output_type": "execute_result",
          "data": {
            "text/plain": [
              "array(['gasoline', 'NAN', 'diesel', 'liquefied petroleum gas',\n",
              "       'compressed natural gas', 'other'], dtype=object)"
            ]
          },
          "metadata": {
            "tags": []
          },
          "execution_count": 172
        }
      ]
    },
    {
      "cell_type": "code",
      "metadata": {
        "id": "8u7ppAuNvnZm",
        "colab_type": "code",
        "colab": {
          "base_uri": "https://localhost:8080/",
          "height": 136
        },
        "outputId": "de9f154a-287d-43cf-f844-0394c39c7aa1"
      },
      "source": [
        "train['car_brand'].unique()"
      ],
      "execution_count": 173,
      "outputs": [
        {
          "output_type": "execute_result",
          "data": {
            "text/plain": [
              "array(['smart', 'seat', 'opel', 'skoda', 'hyundai', 'renault',\n",
              "       'mercedes_benz', 'mazda', 'volvo', 'volkswagen', 'sonstige_autos',\n",
              "       'citroen', 'nissan', 'audi', 'fiat', 'bmw', 'toyota', 'porsche',\n",
              "       'ford', 'peugeot', 'mitsubishi', 'mini', 'subaru', 'trabant',\n",
              "       'honda', 'suzuki', 'alfa_romeo', 'jeep', 'rover', 'chevrolet',\n",
              "       'kia', 'land_rover', 'vauxhall', 'dacia', 'innoson', 'chrysler',\n",
              "       'saab', 'daewoo', 'daihatsu', 'lotus'], dtype=object)"
            ]
          },
          "metadata": {
            "tags": []
          },
          "execution_count": 173
        }
      ]
    },
    {
      "cell_type": "code",
      "metadata": {
        "id": "Mi7Z3LYMv4JU",
        "colab_type": "code",
        "colab": {
          "base_uri": "https://localhost:8080/",
          "height": 663
        },
        "outputId": "a6a5ba09-08fc-4e98-fad2-ac79c9b2266d"
      },
      "source": [
        "train['model'].unique()"
      ],
      "execution_count": 175,
      "outputs": [
        {
          "output_type": "execute_result",
          "data": {
            "text/plain": [
              "array(['forfour', 'arosa', 'tigra', 'fabia', 'tucson', 'scenic',\n",
              "       'a_klasse', 'mx_reihe', 'c_klasse', 'v50', 'lupo', 'polo',\n",
              "       'touareg', 'NAN', 'c4', 'micra', 'golf', 'q5', 'toledo', 'santa',\n",
              "       'v40', 'andere', '100', '3er', 'corsa', 'yaris', 'clk', 'cl',\n",
              "       'punto', 'cayenne', 'corolla', 'vito', 'focus', 'passat',\n",
              "       'x_reihe', '2_reihe', '1_reihe', 'astra', 'seicento',\n",
              "       'transporter', 'a4', 'colt', 'octavia', 'c_reihe', '5er', 'cooper',\n",
              "       'vectra', 'insignia', '3_reihe', 'a6', 'fiesta', 'agila',\n",
              "       'impreza', '7er', 'accord', 'a3', 'beetle', '147', 'grand', 'leon',\n",
              "       'combo', 'megane', 'twingo', 'clio', 'z_reihe', 'xc_reihe', '1er',\n",
              "       'phaeton', 'ibiza', 'verso', 'slk', 'civic', 'a5', 'swift', 'rav',\n",
              "       'caddy', 'up', 'touran', 'yeti', 'sharan', '4_reihe', 'matiz',\n",
              "       'i_reihe', 'stilo', 'e_klasse', 'mondeo', 'wrangler', 'kangoo',\n",
              "       'superb', 'fortwo', 'meriva', 'bora', 'sportage', 'cordoba', 'a1',\n",
              "       'm_klasse', 'legacy', 'c1', 'sprinter', '500', 'v70', '911', 'tt',\n",
              "       'antara', 'ka', 'range_rover', '156', 'viano', 'cherokee',\n",
              "       'duster', '6_reihe', 'panda', 'x_trail', 'laguna', 'auris',\n",
              "       'zafira', 'roadster', 'q7', 'fusion', 'lancer', 'carisma',\n",
              "       'escort', 'sl', 'one', 'glk', 'ceed', 'berlingo', 'bravo', '159',\n",
              "       'spark', 'alhambra', 'primera', 'kaefer', '80', 'carnival', 'aygo',\n",
              "       'fox', '90', 'tiguan', 'sorento', 'cr_reihe', 'outlander',\n",
              "       'b_klasse', 'a8', 'a2', 'eos', 'galaxy', 'scirocco', 'c_max',\n",
              "       'omega', 'crossfire', 'almera', 'c5', 'getz', 's_klasse',\n",
              "       'clubman', 'forester', 'range_rover_sport', 'kuga', 'picanto',\n",
              "       'altea', 'cc', 'c2', '6er', 'doblo', 'c3', 'q3', '200', 'jetta',\n",
              "       'pajero', 'ducato', 'jazz', '300c', 'kalos', '850', 'exeo',\n",
              "       'roomster', 'voyager', '601', 'v_klasse', 'x_type', 'signum',\n",
              "       'mustang', 'galant', 'ptcruiser', 'freelander', 'captiva', 'modus',\n",
              "       'note', 'transit', 'juke', 's_type', 'citigo', 'jimny', 'espace',\n",
              "       'boxster', 'logan', 'rio', 'vivaro', 'qashqai', 'defender',\n",
              "       'avensis', 'kadett', '5_reihe', 'kappa', 'sandero', 'm_reihe',\n",
              "       '900', 'cuore', 'discovery', 'lanos', 'rx_reihe', 's_max',\n",
              "       'range_rover_evoque', 'r19', 'gl', 'sirion', 'niva', 'lybra',\n",
              "       'ypsilon', 'delta', 'move', 'g_klasse', 'cx_reihe', 'navara',\n",
              "       'spider', 'calibra', 'charade', 'b_max', 's60', 'aveo', 'nubira',\n",
              "       'kalina', 'i3', 'justy', 'samara', 'croma', 'v60', '145', 'amarok',\n",
              "       'materia', 'mii', '9000', 'elefantino', 'terios', 'lodgy', 'musa',\n",
              "       'serie_3', 'serie_1', 'rangerover', 'serie_2'], dtype=object)"
            ]
          },
          "metadata": {
            "tags": []
          },
          "execution_count": 175
        }
      ]
    },
    {
      "cell_type": "code",
      "metadata": {
        "id": "L4fHWAFiw9LC",
        "colab_type": "code",
        "colab": {
          "base_uri": "https://localhost:8080/",
          "height": 102
        },
        "outputId": "aa961ccc-0ec6-4914-bbdd-7f65f258670c"
      },
      "source": [
        "train['car_name'].unique()"
      ],
      "execution_count": 180,
      "outputs": [
        {
          "output_type": "execute_result",
          "data": {
            "text/plain": [
              "array(['Smart_smart_forfour_pulse', 'Seat_Arosa_1.4_16V',\n",
              "       'Woll_fahrbereit', ..., 'Seat_Leon_Schlachtfest',\n",
              "       'Ford_Ghia_1_4___Defekt',\n",
              "       'BMW_320i__2._Hand__Nichtraucher__BMW_Sceckheft__Navi__Glasdach...'],\n",
              "      dtype=object)"
            ]
          },
          "metadata": {
            "tags": []
          },
          "execution_count": 180
        }
      ]
    },
    {
      "cell_type": "code",
      "metadata": {
        "id": "Q5RUrW0G_zwH",
        "colab_type": "code",
        "colab": {}
      },
      "source": [
        " #remove this features model,weblogdate,country_of_use,car_name\n",
        "train.drop(['date_of_advert','weblog_date','last_advert_online','car_name','model'],inplace=True,axis=1)"
      ],
      "execution_count": 0,
      "outputs": []
    },
    {
      "cell_type": "code",
      "metadata": {
        "id": "ArPrpxwZBP6Q",
        "colab_type": "code",
        "colab": {}
      },
      "source": [
        " test.drop(['date_of_advert','weblog_date','last_advert_online','car_name','model'],inplace=True,axis=1)"
      ],
      "execution_count": 0,
      "outputs": []
    },
    {
      "cell_type": "code",
      "metadata": {
        "id": "2PGVaGXKthFC",
        "colab_type": "code",
        "outputId": "8e1d1d34-d07d-402f-fbf3-50e4e083239b",
        "colab": {
          "base_uri": "https://localhost:8080/",
          "height": 224
        }
      },
      "source": [
        "train.head()"
      ],
      "execution_count": 131,
      "outputs": [
        {
          "output_type": "execute_result",
          "data": {
            "text/html": [
              "<div>\n",
              "<style scoped>\n",
              "    .dataframe tbody tr th:only-of-type {\n",
              "        vertical-align: middle;\n",
              "    }\n",
              "\n",
              "    .dataframe tbody tr th {\n",
              "        vertical-align: top;\n",
              "    }\n",
              "\n",
              "    .dataframe thead th {\n",
              "        text-align: right;\n",
              "    }\n",
              "</style>\n",
              "<table border=\"1\" class=\"dataframe\">\n",
              "  <thead>\n",
              "    <tr style=\"text-align: right;\">\n",
              "      <th></th>\n",
              "      <th>seller_type</th>\n",
              "      <th>country_of_use</th>\n",
              "      <th>Area_address_code</th>\n",
              "      <th>car_type</th>\n",
              "      <th>Permit_registration_year</th>\n",
              "      <th>registration_month</th>\n",
              "      <th>horse_power</th>\n",
              "      <th>mileage</th>\n",
              "      <th>gas_type</th>\n",
              "      <th>car_brand</th>\n",
              "      <th>Status_of_car_repair</th>\n",
              "      <th>gear_type</th>\n",
              "      <th>naira_price</th>\n",
              "      <th>advert_days_diff</th>\n",
              "    </tr>\n",
              "  </thead>\n",
              "  <tbody>\n",
              "    <tr>\n",
              "      <th>0</th>\n",
              "      <td>private</td>\n",
              "      <td>london</td>\n",
              "      <td>78183</td>\n",
              "      <td>small car</td>\n",
              "      <td>2007</td>\n",
              "      <td>11</td>\n",
              "      <td>95</td>\n",
              "      <td>241350.000</td>\n",
              "      <td>gasoline</td>\n",
              "      <td>smart</td>\n",
              "      <td>nein</td>\n",
              "      <td>manuell</td>\n",
              "      <td>864000</td>\n",
              "      <td>1 days</td>\n",
              "    </tr>\n",
              "    <tr>\n",
              "      <th>1</th>\n",
              "      <td>private</td>\n",
              "      <td>london</td>\n",
              "      <td>47166</td>\n",
              "      <td>small car</td>\n",
              "      <td>2003</td>\n",
              "      <td>7</td>\n",
              "      <td>101</td>\n",
              "      <td>241350.000</td>\n",
              "      <td>gasoline</td>\n",
              "      <td>seat</td>\n",
              "      <td>nein</td>\n",
              "      <td>manuell</td>\n",
              "      <td>630000</td>\n",
              "      <td>2 days</td>\n",
              "    </tr>\n",
              "    <tr>\n",
              "      <th>2</th>\n",
              "      <td>private</td>\n",
              "      <td>london</td>\n",
              "      <td>44623</td>\n",
              "      <td>small car</td>\n",
              "      <td>1999</td>\n",
              "      <td>8</td>\n",
              "      <td>90</td>\n",
              "      <td>241350.000</td>\n",
              "      <td>NAN</td>\n",
              "      <td>opel</td>\n",
              "      <td>NAN</td>\n",
              "      <td>manuell</td>\n",
              "      <td>180000</td>\n",
              "      <td>21 days</td>\n",
              "    </tr>\n",
              "    <tr>\n",
              "      <th>3</th>\n",
              "      <td>private</td>\n",
              "      <td>london</td>\n",
              "      <td>53945</td>\n",
              "      <td>limousine</td>\n",
              "      <td>2003</td>\n",
              "      <td>6</td>\n",
              "      <td>68</td>\n",
              "      <td>201125.000</td>\n",
              "      <td>gasoline</td>\n",
              "      <td>skoda</td>\n",
              "      <td>NAN</td>\n",
              "      <td>manuell</td>\n",
              "      <td>432000</td>\n",
              "      <td>0 days</td>\n",
              "    </tr>\n",
              "    <tr>\n",
              "      <th>4</th>\n",
              "      <td>private</td>\n",
              "      <td>london</td>\n",
              "      <td>45886</td>\n",
              "      <td>other</td>\n",
              "      <td>2008</td>\n",
              "      <td>0</td>\n",
              "      <td>120</td>\n",
              "      <td>241350.000</td>\n",
              "      <td>NAN</td>\n",
              "      <td>hyundai</td>\n",
              "      <td>NAN</td>\n",
              "      <td>automatik</td>\n",
              "      <td>1692000</td>\n",
              "      <td>12 days</td>\n",
              "    </tr>\n",
              "  </tbody>\n",
              "</table>\n",
              "</div>"
            ],
            "text/plain": [
              "  seller_type country_of_use  ...  naira_price advert_days_diff\n",
              "0     private         london  ...       864000           1 days\n",
              "1     private         london  ...       630000           2 days\n",
              "2     private         london  ...       180000          21 days\n",
              "3     private         london  ...       432000           0 days\n",
              "4     private         london  ...      1692000          12 days\n",
              "\n",
              "[5 rows x 14 columns]"
            ]
          },
          "metadata": {
            "tags": []
          },
          "execution_count": 131
        }
      ]
    },
    {
      "cell_type": "code",
      "metadata": {
        "id": "O-eS4OyBzFtk",
        "colab_type": "code",
        "outputId": "4c55564e-c3d9-44d0-d1b6-6620359df6ff",
        "colab": {
          "base_uri": "https://localhost:8080/",
          "height": 241
        }
      },
      "source": [
        "test.head()"
      ],
      "execution_count": 0,
      "outputs": [
        {
          "output_type": "execute_result",
          "data": {
            "text/html": [
              "<div>\n",
              "<style scoped>\n",
              "    .dataframe tbody tr th:only-of-type {\n",
              "        vertical-align: middle;\n",
              "    }\n",
              "\n",
              "    .dataframe tbody tr th {\n",
              "        vertical-align: top;\n",
              "    }\n",
              "\n",
              "    .dataframe thead th {\n",
              "        text-align: right;\n",
              "    }\n",
              "</style>\n",
              "<table border=\"1\" class=\"dataframe\">\n",
              "  <thead>\n",
              "    <tr style=\"text-align: right;\">\n",
              "      <th></th>\n",
              "      <th>seller_type</th>\n",
              "      <th>country_of_use</th>\n",
              "      <th>Area_address_code</th>\n",
              "      <th>car_name</th>\n",
              "      <th>car_type</th>\n",
              "      <th>Permit_registration_year</th>\n",
              "      <th>registration_month</th>\n",
              "      <th>horse_power</th>\n",
              "      <th>mileage</th>\n",
              "      <th>gas_type</th>\n",
              "      <th>car_brand</th>\n",
              "      <th>Status_of_car_repair</th>\n",
              "      <th>gear_type</th>\n",
              "      <th>model</th>\n",
              "      <th>weblog_date_year</th>\n",
              "      <th>weblog_date_month</th>\n",
              "      <th>date_of_advert_year</th>\n",
              "      <th>date_of_advert_month</th>\n",
              "      <th>last_advert_online_year</th>\n",
              "      <th>last_advert_online_month</th>\n",
              "    </tr>\n",
              "  </thead>\n",
              "  <tbody>\n",
              "    <tr>\n",
              "      <th>0</th>\n",
              "      <td>private</td>\n",
              "      <td>london</td>\n",
              "      <td>24768</td>\n",
              "      <td>Opel_vectra_B_1.6_16v_tuev_09.2017</td>\n",
              "      <td>limousine</td>\n",
              "      <td>2000</td>\n",
              "      <td>9</td>\n",
              "      <td>101</td>\n",
              "      <td>201125.000</td>\n",
              "      <td>gasoline</td>\n",
              "      <td>opel</td>\n",
              "      <td>nein</td>\n",
              "      <td>automatik</td>\n",
              "      <td>vectra</td>\n",
              "      <td>2016</td>\n",
              "      <td>3</td>\n",
              "      <td>2016</td>\n",
              "      <td>3</td>\n",
              "      <td>2016</td>\n",
              "      <td>3</td>\n",
              "    </tr>\n",
              "    <tr>\n",
              "      <th>1</th>\n",
              "      <td>private</td>\n",
              "      <td>london</td>\n",
              "      <td>26629</td>\n",
              "      <td>Aixam_45_km/h_Auto_automatiek_nicht_fahrbereit</td>\n",
              "      <td>other</td>\n",
              "      <td>2005</td>\n",
              "      <td>6</td>\n",
              "      <td>0</td>\n",
              "      <td>32180.000</td>\n",
              "      <td>NaN</td>\n",
              "      <td>sonstige_autos</td>\n",
              "      <td>NAN</td>\n",
              "      <td>automatik</td>\n",
              "      <td>NAN</td>\n",
              "      <td>2016</td>\n",
              "      <td>3</td>\n",
              "      <td>2016</td>\n",
              "      <td>3</td>\n",
              "      <td>2016</td>\n",
              "      <td>4</td>\n",
              "    </tr>\n",
              "    <tr>\n",
              "      <th>2</th>\n",
              "      <td>private</td>\n",
              "      <td>london</td>\n",
              "      <td>35606</td>\n",
              "      <td>Passat_Alltrack_Bluemotion</td>\n",
              "      <td>station wagon</td>\n",
              "      <td>2018</td>\n",
              "      <td>1</td>\n",
              "      <td>0</td>\n",
              "      <td>32180.000</td>\n",
              "      <td>diesel</td>\n",
              "      <td>volkswagen</td>\n",
              "      <td>ja</td>\n",
              "      <td>NAN</td>\n",
              "      <td>passat</td>\n",
              "      <td>2016</td>\n",
              "      <td>3</td>\n",
              "      <td>2016</td>\n",
              "      <td>3</td>\n",
              "      <td>2016</td>\n",
              "      <td>4</td>\n",
              "    </tr>\n",
              "    <tr>\n",
              "      <th>3</th>\n",
              "      <td>private</td>\n",
              "      <td>london</td>\n",
              "      <td>59192</td>\n",
              "      <td>Opel_Kadett</td>\n",
              "      <td>limousine</td>\n",
              "      <td>1979</td>\n",
              "      <td>9</td>\n",
              "      <td>110</td>\n",
              "      <td>241350.000</td>\n",
              "      <td>gasoline</td>\n",
              "      <td>opel</td>\n",
              "      <td>nein</td>\n",
              "      <td>manuell</td>\n",
              "      <td>kadett</td>\n",
              "      <td>2016</td>\n",
              "      <td>3</td>\n",
              "      <td>2016</td>\n",
              "      <td>3</td>\n",
              "      <td>2016</td>\n",
              "      <td>3</td>\n",
              "    </tr>\n",
              "    <tr>\n",
              "      <th>4</th>\n",
              "      <td>private</td>\n",
              "      <td>london</td>\n",
              "      <td>7551</td>\n",
              "      <td>Seat_Arosa_\"Anfaengerauto_Stadtflitzer\"_TÜV_02...</td>\n",
              "      <td>small car</td>\n",
              "      <td>2000</td>\n",
              "      <td>8</td>\n",
              "      <td>0</td>\n",
              "      <td>241350.000</td>\n",
              "      <td>gasoline</td>\n",
              "      <td>seat</td>\n",
              "      <td>NAN</td>\n",
              "      <td>manuell</td>\n",
              "      <td>arosa</td>\n",
              "      <td>2016</td>\n",
              "      <td>4</td>\n",
              "      <td>2016</td>\n",
              "      <td>4</td>\n",
              "      <td>2016</td>\n",
              "      <td>4</td>\n",
              "    </tr>\n",
              "  </tbody>\n",
              "</table>\n",
              "</div>"
            ],
            "text/plain": [
              "  seller_type country_of_use  ...  last_advert_online_year last_advert_online_month\n",
              "0     private         london  ...                     2016                        3\n",
              "1     private         london  ...                     2016                        4\n",
              "2     private         london  ...                     2016                        4\n",
              "3     private         london  ...                     2016                        3\n",
              "4     private         london  ...                     2016                        4\n",
              "\n",
              "[5 rows x 20 columns]"
            ]
          },
          "metadata": {
            "tags": []
          },
          "execution_count": 62
        }
      ]
    },
    {
      "cell_type": "code",
      "metadata": {
        "id": "xtL1p2R06rpB",
        "colab_type": "code",
        "colab": {}
      },
      "source": [
        "train_ID=train_ID.astype(float)"
      ],
      "execution_count": 0,
      "outputs": []
    },
    {
      "cell_type": "code",
      "metadata": {
        "id": "GpWZ-Trs8je9",
        "colab_type": "code",
        "outputId": "31d068c0-c5ef-4ace-bcef-fc6162982296",
        "colab": {
          "base_uri": "https://localhost:8080/",
          "height": 163
        }
      },
      "source": [
        "dtypes(train_ID)"
      ],
      "execution_count": 0,
      "outputs": [
        {
          "output_type": "error",
          "ename": "NameError",
          "evalue": "ignored",
          "traceback": [
            "\u001b[0;31m---------------------------------------------------------------------------\u001b[0m",
            "\u001b[0;31mNameError\u001b[0m                                 Traceback (most recent call last)",
            "\u001b[0;32m<ipython-input-42-5a669f74034d>\u001b[0m in \u001b[0;36m<module>\u001b[0;34m()\u001b[0m\n\u001b[0;32m----> 1\u001b[0;31m \u001b[0mdtypes\u001b[0m\u001b[0;34m(\u001b[0m\u001b[0mtrain_ID\u001b[0m\u001b[0;34m)\u001b[0m\u001b[0;34m\u001b[0m\u001b[0;34m\u001b[0m\u001b[0m\n\u001b[0m",
            "\u001b[0;31mNameError\u001b[0m: name 'dtypes' is not defined"
          ]
        }
      ]
    },
    {
      "cell_type": "code",
      "metadata": {
        "id": "oRpgcs0T4F2b",
        "colab_type": "code",
        "colab": {}
      },
      "source": [
        "\n",
        "#apply SelectKBest class to extract top 10 best features\n",
        "#bestfeatures = SelectKBest(score_func=chi2, k=10)\n",
        "#fit = bestfeatures.fit(quantitative,train_ID)\n",
        "#dfscores = pd.DataFrame(fit.scores_)\n",
        "#dfcolumns = pd.DataFrame(quantitative.columns)\n",
        "#concat two dataframes for better visualization \n",
        "#featureScores = pd.concat([dfcolumns,dfscores],axis=1)\n",
        "#featureScores.columns = ['Specs','Score']  #naming the dataframe columns\n",
        "#print(featureScores.nlargest(10,'Score'))  #print 10 best features"
      ],
      "execution_count": 0,
      "outputs": []
    },
    {
      "cell_type": "code",
      "metadata": {
        "id": "7Me7L4e79hPQ",
        "colab_type": "code",
        "outputId": "b84c597c-3f65-4b26-8ccd-41c39828de41",
        "colab": {
          "base_uri": "https://localhost:8080/",
          "height": 170
        }
      },
      "source": [
        "train['car_type'].value_counts()"
      ],
      "execution_count": 0,
      "outputs": [
        {
          "output_type": "execute_result",
          "data": {
            "text/plain": [
              "limousine        60125\n",
              "small car        45814\n",
              "station wagon    42371\n",
              "NAN              27959\n",
              "bus              19639\n",
              "convertible      14952\n",
              "coupé            11735\n",
              "other             1929\n",
              "Name: car_type, dtype: int64"
            ]
          },
          "metadata": {
            "tags": []
          },
          "execution_count": 63
        }
      ]
    },
    {
      "cell_type": "code",
      "metadata": {
        "id": "2fUIxgnbvcOg",
        "colab_type": "code",
        "colab": {}
      },
      "source": [
        "def car_type_cat(cat):\n",
        "  if cat=='limousine':\n",
        "    return 1\n",
        "  elif cat=='small car':\n",
        "    return 2\n",
        "  elif cat=='station wagon':\n",
        "    return 3\n",
        "  elif cat=='bus':\n",
        "    return 4\n",
        "  elif cat=='convertible':\n",
        "    return 5\n",
        "  elif cat=='coupé':\n",
        "    return 6\n",
        "  else:\n",
        "    return 7\n",
        "  "
      ],
      "execution_count": 0,
      "outputs": []
    },
    {
      "cell_type": "code",
      "metadata": {
        "id": "4IVYqFZd1fSI",
        "colab_type": "code",
        "outputId": "a59c7f1a-bb50-4703-e469-999a887296a3",
        "colab": {
          "base_uri": "https://localhost:8080/",
          "height": 136
        }
      },
      "source": [
        "train['gas_type'].value_counts()"
      ],
      "execution_count": 0,
      "outputs": [
        {
          "output_type": "execute_result",
          "data": {
            "text/plain": [
              "gasoline                   134042\n",
              "diesel                      70531\n",
              "NAN                         16091\n",
              "liquefied petroleum gas      3405\n",
              "compressed natural gas        367\n",
              "other                          88\n",
              "Name: gas_type, dtype: int64"
            ]
          },
          "metadata": {
            "tags": []
          },
          "execution_count": 65
        }
      ]
    },
    {
      "cell_type": "code",
      "metadata": {
        "id": "pg6gIZeTwvbA",
        "colab_type": "code",
        "colab": {}
      },
      "source": [
        "def gas_type_cat(cat):\n",
        "  if cat=='gasoline':\n",
        "    return 1\n",
        "  elif cat=='diesel':\n",
        "    return 2\n",
        "  elif cat=='liquefied petroleum gas':\n",
        "    return 3\n",
        "  elif cat=='compressed natural gas':\n",
        "    return 4\n",
        "  else:\n",
        "    return 5\n"
      ],
      "execution_count": 0,
      "outputs": []
    },
    {
      "cell_type": "code",
      "metadata": {
        "id": "Ob2jEyBJziTp",
        "colab_type": "code",
        "colab": {}
      },
      "source": [
        "train['car_type']=train['car_type'].apply(car_type_cat)\n",
        "test['car_type']=test['car_type'].apply(car_type_cat)"
      ],
      "execution_count": 0,
      "outputs": []
    },
    {
      "cell_type": "code",
      "metadata": {
        "id": "VSDf2G-01p0X",
        "colab_type": "code",
        "colab": {}
      },
      "source": [
        "train['gas_type']=train['gas_type'].apply(gas_type_cat)\n",
        "test['gas_type']=test['gas_type'].apply(gas_type_cat)"
      ],
      "execution_count": 0,
      "outputs": []
    },
    {
      "cell_type": "code",
      "metadata": {
        "id": "h3tRFsPw5DiT",
        "colab_type": "code",
        "outputId": "82a91e2b-116d-43aa-eec2-7c34d7a1d235",
        "colab": {
          "base_uri": "https://localhost:8080/",
          "height": 714
        }
      },
      "source": [
        "train['car_brand'].value_counts()"
      ],
      "execution_count": 0,
      "outputs": [
        {
          "output_type": "execute_result",
          "data": {
            "text/plain": [
              "volkswagen        47796\n",
              "bmw               25443\n",
              "mercedes_benz     22868\n",
              "opel              22598\n",
              "audi              20822\n",
              "ford              14369\n",
              "renault           10081\n",
              "peugeot            6669\n",
              "fiat               5486\n",
              "seat               4237\n",
              "skoda              3648\n",
              "smart              3435\n",
              "mazda              3417\n",
              "citroen            3165\n",
              "toyota             3056\n",
              "nissan             2940\n",
              "hyundai            2317\n",
              "mini               2233\n",
              "volvo              2073\n",
              "sonstige_autos     2042\n",
              "mitsubishi         1757\n",
              "honda              1720\n",
              "kia                1616\n",
              "porsche            1465\n",
              "suzuki             1416\n",
              "alfa_romeo         1384\n",
              "chevrolet          1185\n",
              "chrysler            877\n",
              "dacia               579\n",
              "jeep                521\n",
              "land_rover          505\n",
              "subaru              446\n",
              "daihatsu            412\n",
              "innoson             391\n",
              "saab                334\n",
              "daewoo              294\n",
              "trabant             266\n",
              "vauxhall            263\n",
              "rover               256\n",
              "lotus               142\n",
              "Name: car_brand, dtype: int64"
            ]
          },
          "metadata": {
            "tags": []
          },
          "execution_count": 64
        }
      ]
    },
    {
      "cell_type": "code",
      "metadata": {
        "id": "TwY0oTRF5Vl1",
        "colab_type": "code",
        "outputId": "c28a2f8e-b421-4fb9-f930-d212ebdcd860",
        "colab": {
          "base_uri": "https://localhost:8080/",
          "height": 68
        }
      },
      "source": [
        "train['Status_of_car_repair'].value_counts()"
      ],
      "execution_count": 0,
      "outputs": [
        {
          "output_type": "execute_result",
          "data": {
            "text/plain": [
              "nein    169545\n",
              "ja       17892\n",
              "Name: Status_of_car_repair, dtype: int64"
            ]
          },
          "metadata": {
            "tags": []
          },
          "execution_count": 65
        }
      ]
    },
    {
      "cell_type": "code",
      "metadata": {
        "id": "jbFtCj2b5uOu",
        "colab_type": "code",
        "outputId": "99ff1c22-a7c6-4403-e2f8-f4ec3248dc9f",
        "colab": {
          "base_uri": "https://localhost:8080/",
          "height": 68
        }
      },
      "source": [
        "train['gear_type'].value_counts()"
      ],
      "execution_count": 0,
      "outputs": [
        {
          "output_type": "execute_result",
          "data": {
            "text/plain": [
              "manuell      165717\n",
              "automatik     49674\n",
              "Name: gear_type, dtype: int64"
            ]
          },
          "metadata": {
            "tags": []
          },
          "execution_count": 66
        }
      ]
    },
    {
      "cell_type": "code",
      "metadata": {
        "id": "YWMKy5U358q3",
        "colab_type": "code",
        "outputId": "33853dbd-ad7f-43a4-beba-119a0b2f9381",
        "colab": {
          "base_uri": "https://localhost:8080/",
          "height": 1000
        }
      },
      "source": [
        "train['date_of_advert'].value_counts()"
      ],
      "execution_count": 0,
      "outputs": [
        {
          "output_type": "execute_result",
          "data": {
            "text/plain": [
              "2016-04-03    8869\n",
              "2016-04-04    8526\n",
              "2016-03-20    8322\n",
              "2016-03-12    8059\n",
              "2016-03-21    7967\n",
              "2016-03-28    7921\n",
              "2016-03-14    7896\n",
              "2016-04-02    7876\n",
              "2016-03-07    7795\n",
              "2016-03-19    7700\n",
              "2016-04-01    7641\n",
              "2016-03-09    7634\n",
              "2016-03-29    7595\n",
              "2016-03-30    7461\n",
              "2016-03-08    7439\n",
              "2016-03-15    7412\n",
              "2016-03-11    7412\n",
              "2016-03-25    7383\n",
              "2016-03-10    7369\n",
              "2016-03-26    7275\n",
              "2016-03-22    7220\n",
              "2016-03-31    7121\n",
              "2016-03-23    7116\n",
              "2016-03-17    7031\n",
              "2016-03-16    6832\n",
              "2016-03-27    6748\n",
              "2016-03-24    6659\n",
              "2016-03-05    5109\n",
              "2016-03-13    3865\n",
              "2016-03-06    3443\n",
              "              ... \n",
              "2016-02-01       2\n",
              "2015-12-30       2\n",
              "2016-01-23       2\n",
              "2016-01-22       2\n",
              "2015-11-23       2\n",
              "2015-12-06       1\n",
              "2016-01-20       1\n",
              "2015-03-20       1\n",
              "2015-11-24       1\n",
              "2015-06-11       1\n",
              "2016-02-08       1\n",
              "2016-01-06       1\n",
              "2016-01-03       1\n",
              "2016-01-07       1\n",
              "2015-11-02       1\n",
              "2015-08-10       1\n",
              "2016-01-26       1\n",
              "2015-11-10       1\n",
              "2015-08-07       1\n",
              "2015-06-18       1\n",
              "2015-09-09       1\n",
              "2016-02-04       1\n",
              "2014-03-10       1\n",
              "2015-11-12       1\n",
              "2015-12-17       1\n",
              "2015-12-28       1\n",
              "2016-01-15       1\n",
              "2016-01-14       1\n",
              "2015-11-17       1\n",
              "2015-11-08       1\n",
              "Name: date_of_advert, Length: 110, dtype: int64"
            ]
          },
          "metadata": {
            "tags": []
          },
          "execution_count": 67
        }
      ]
    },
    {
      "cell_type": "code",
      "metadata": {
        "id": "3byf62Je6c2w",
        "colab_type": "code",
        "outputId": "d0f06217-1b07-4756-ce37-e9dcbbc55b1e",
        "colab": {
          "base_uri": "https://localhost:8080/",
          "height": 612
        }
      },
      "source": [
        "train['last_advert_online'].value_counts()"
      ],
      "execution_count": 0,
      "outputs": [
        {
          "output_type": "execute_result",
          "data": {
            "text/plain": [
              "2016-04-06    49979\n",
              "2016-04-07    29763\n",
              "2016-04-05    28919\n",
              "2016-03-17     6419\n",
              "2016-04-04     5679\n",
              "2016-04-03     5639\n",
              "2016-04-02     5591\n",
              "2016-03-31     5337\n",
              "2016-04-01     5267\n",
              "2016-03-30     5230\n",
              "2016-03-29     5115\n",
              "2016-03-12     5087\n",
              "2016-03-28     4924\n",
              "2016-03-22     4499\n",
              "2016-03-21     4426\n",
              "2016-03-20     4418\n",
              "2016-03-24     4264\n",
              "2016-03-25     4189\n",
              "2016-03-23     3962\n",
              "2016-03-27     3740\n",
              "2016-03-16     3643\n",
              "2016-03-19     3632\n",
              "2016-03-15     3592\n",
              "2016-03-26     3484\n",
              "2016-03-11     2820\n",
              "2016-03-14     2657\n",
              "2016-03-10     2578\n",
              "2016-03-09     2187\n",
              "2016-03-13     1868\n",
              "2016-03-08     1756\n",
              "2016-03-18     1549\n",
              "2016-03-07     1133\n",
              "2016-03-06      909\n",
              "2016-03-05      269\n",
              "Name: last_advert_online, dtype: int64"
            ]
          },
          "metadata": {
            "tags": []
          },
          "execution_count": 68
        }
      ]
    },
    {
      "cell_type": "code",
      "metadata": {
        "id": "pXZSjudJlEuf",
        "colab_type": "code",
        "colab": {}
      },
      "source": [
        "#extracting year and month from date\n",
        "!conda update pandas"
      ],
      "execution_count": 0,
      "outputs": []
    },
    {
      "cell_type": "code",
      "metadata": {
        "id": "gsYtcE0S7Tgs",
        "colab_type": "code",
        "outputId": "110c7640-5e01-4565-b146-dd1d8a31e05e",
        "colab": {
          "base_uri": "https://localhost:8080/",
          "height": 1000
        }
      },
      "source": [
        "train['model'].value_counts()"
      ],
      "execution_count": 0,
      "outputs": [
        {
          "output_type": "execute_result",
          "data": {
            "text/plain": [
              "golf                  17987\n",
              "andere                16041\n",
              "3er                   12849\n",
              "polo                   7176\n",
              "corsa                  6558\n",
              "a4                     6508\n",
              "passat                 6458\n",
              "astra                  6346\n",
              "c_klasse               5675\n",
              "5er                    5532\n",
              "e_klasse               4930\n",
              "a3                     4290\n",
              "a6                     3891\n",
              "focus                  3635\n",
              "transporter            3480\n",
              "fiesta                 3140\n",
              "2_reihe                3084\n",
              "fortwo                 2886\n",
              "a_klasse               2767\n",
              "1er                    2530\n",
              "twingo                 2508\n",
              "vectra                 2361\n",
              "touran                 2323\n",
              "3_reihe                2044\n",
              "clio                   2014\n",
              "mondeo                 1988\n",
              "zafira                 1983\n",
              "punto                  1813\n",
              "megane                 1717\n",
              "ibiza                  1643\n",
              "                      ...  \n",
              "range_rover_sport        53\n",
              "crossfire                49\n",
              "gl                       44\n",
              "range_rover_evoque       43\n",
              "lanos                    40\n",
              "nubira                   31\n",
              "lybra                    30\n",
              "v60                      29\n",
              "croma                    28\n",
              "terios                   25\n",
              "amarok                   25\n",
              "delta                    24\n",
              "lodgy                    22\n",
              "move                     21\n",
              "b_max                    18\n",
              "145                      18\n",
              "9000                     15\n",
              "materia                  13\n",
              "200                      12\n",
              "kappa                    10\n",
              "charade                  10\n",
              "musa                     10\n",
              "kalina                    7\n",
              "i3                        6\n",
              "serie_2                   5\n",
              "elefantino                4\n",
              "samara                    4\n",
              "rangerover                4\n",
              "serie_3                   2\n",
              "serie_1                   1\n",
              "Name: model, Length: 250, dtype: int64"
            ]
          },
          "metadata": {
            "tags": []
          },
          "execution_count": 69
        }
      ]
    },
    {
      "cell_type": "code",
      "metadata": {
        "id": "UGBqizQ6SA6c",
        "colab_type": "code",
        "outputId": "08fa3fd7-ea0c-4bf8-f936-3471665f70be",
        "colab": {
          "base_uri": "https://localhost:8080/",
          "height": 293
        }
      },
      "source": [
        "#check outliars\n",
        "fig, ax = plt.subplots()\n",
        "ax.scatter(x = train['horse_power'], y = train['naira_price'])\n",
        "plt.ylabel('Naira Price', fontsize=13)\n",
        "plt.xlabel('HP', fontsize=13)\n",
        "plt.show()"
      ],
      "execution_count": 0,
      "outputs": [
        {
          "output_type": "display_data",
          "data": {
            "image/png": "[encoded data removed]",
            "text/plain": [
              "<Figure size 432x288 with 1 Axes>"
            ]
          },
          "metadata": {
            "tags": []
          }
        }
      ]
    },
    {
      "cell_type": "code",
      "metadata": {
        "id": "9GmAEPIrie_v",
        "colab_type": "code",
        "outputId": "5c910961-e286-413d-9552-4a71a19b8900",
        "colab": {
          "base_uri": "https://localhost:8080/",
          "height": 871
        }
      },
      "source": [
        "#handling the prize predictor varriable\n",
        "y = train['naira_price']\n",
        "plt.figure(1); plt.title('Johnson SU')\n",
        "sns.distplot(y, kde=False, fit=stats.johnsonsu)\n",
        "plt.figure(2); plt.title('Normal')\n",
        "sns.distplot(y, kde=False, fit=stats.norm)\n",
        "plt.figure(3); plt.title('Log Normal')\n",
        "sns.distplot(y, kde=False, fit=stats.lognorm)"
      ],
      "execution_count": 0,
      "outputs": [
        {
          "output_type": "execute_result",
          "data": {
            "text/plain": [
              "<matplotlib.axes._subplots.AxesSubplot at 0x7f5f920c12b0>"
            ]
          },
          "metadata": {
            "tags": []
          },
          "execution_count": 102
        },
        {
          "output_type": "display_data",
          "data": {
            "image/png": "[encoded data removed]",
            "text/plain": [
              "<Figure size 432x288 with 1 Axes>"
            ]
          },
          "metadata": {
            "tags": []
          }
        },
        {
          "output_type": "display_data",
          "data": {
            "image/png": "[encoded data removed]",
            "text/plain": [
              "<Figure size 432x288 with 1 Axes>"
            ]
          },
          "metadata": {
            "tags": []
          }
        },
        {
          "output_type": "display_data",
          "data": {
            "image/png": "[encoded data removed]",
            "text/plain": [
              "<Figure size 432x288 with 1 Axes>"
            ]
          },
          "metadata": {
            "tags": []
          }
        }
      ]
    },
    {
      "cell_type": "code",
      "metadata": {
        "id": "pU-0nWSNoaNJ",
        "colab_type": "code",
        "outputId": "07fc6538-4ff0-42aa-c5fb-03400e75fff9",
        "colab": {
          "base_uri": "https://localhost:8080/",
          "height": 625
        }
      },
      "source": [
        "sns.distplot(train['naira_price'] , fit=norm);\n",
        "\n",
        "# Get the fitted parameters used by the function\n",
        "(mu, sigma) = norm.fit(train['naira_price'])\n",
        "print( '\\n mu = {:.2f} and sigma = {:.2f}\\n'.format(mu, sigma))\n",
        "\n",
        "#Now plot the distribution\n",
        "plt.legend(['Normal dist. ($\\mu=$ {:.2f} and $\\sigma=$ {:.2f} )'.format(mu, sigma)],\n",
        "            loc='best')\n",
        "plt.ylabel('Frequency')\n",
        "plt.title('Naira Price distribution')\n",
        "\n",
        "#Get also the QQ-plot\n",
        "fig = plt.figure()\n",
        "res = stats.probplot(train['naira_price'], plot=plt)\n",
        "plt.show()"
      ],
      "execution_count": 0,
      "outputs": [
        {
          "output_type": "stream",
          "text": [
            "\n",
            " mu = 2262567.00 and sigma = 3123093.25\n",
            "\n"
          ],
          "name": "stdout"
        },
        {
          "output_type": "display_data",
          "data": {
            "image/png": "[encoded data removed]",
            "text/plain": [
              "<Figure size 432x288 with 1 Axes>"
            ]
          },
          "metadata": {
            "tags": []
          }
        },
        {
          "output_type": "display_data",
          "data": {
            "image/png": "[encoded data removed]",
            "text/plain": [
              "<Figure size 432x288 with 1 Axes>"
            ]
          },
          "metadata": {
            "tags": []
          }
        }
      ]
    },
    {
      "cell_type": "code",
      "metadata": {
        "id": "tvUzH9Ybouhx",
        "colab_type": "code",
        "outputId": "dddd3562-aa9a-408c-e3ae-1b81c8032e14",
        "colab": {
          "base_uri": "https://localhost:8080/",
          "height": 625
        }
      },
      "source": [
        "#We use the numpy fuction log1p which  applies log(1+x) to all elements of the column\n",
        "train[\"naira_price\"] = np.log1p(train[\"naira_price\"])\n",
        "\n",
        "#Check the new distribution \n",
        "sns.distplot(train['naira_price'] , fit=norm);\n",
        "\n",
        "# Get the fitted parameters used by the function\n",
        "(mu, sigma) = norm.fit(train['naira_price'])\n",
        "print( '\\n mu = {:.2f} and sigma = {:.2f}\\n'.format(mu, sigma))\n",
        "\n",
        "#Now plot the distribution\n",
        "plt.legend(['Normal dist. ($\\mu=$ {:.2f} and $\\sigma=$ {:.2f} )'.format(mu, sigma)],\n",
        "            loc='best')\n",
        "plt.ylabel('Frequency')\n",
        "plt.title('Naira Price distribution')\n",
        "\n",
        "#Get also the QQ-plot\n",
        "fig = plt.figure()\n",
        "res = stats.probplot(train['naira_price'], plot=plt)\n",
        "plt.show()"
      ],
      "execution_count": 0,
      "outputs": [
        {
          "output_type": "stream",
          "text": [
            "\n",
            " mu = 14.06 and sigma = 1.07\n",
            "\n"
          ],
          "name": "stdout"
        },
        {
          "output_type": "display_data",
          "data": {
            "image/png": "[encoded data removed]",
            "text/plain": [
              "<Figure size 432x288 with 1 Axes>"
            ]
          },
          "metadata": {
            "tags": []
          }
        },
        {
          "output_type": "display_data",
          "data": {
            "image/png": "[encoded data removed]",
            "text/plain": [
              "<Figure size 432x288 with 1 Axes>"
            ]
          },
          "metadata": {
            "tags": []
          }
        }
      ]
    }
  ]
}