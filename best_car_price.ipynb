{
  "nbformat": 4,
  "nbformat_minor": 0,
  "metadata": {
    "colab": {
      "name": "best_car_price.ipynb",
      "version": "0.3.2",
      "provenance": [],
      "include_colab_link": true
    },
    "kernelspec": {
      "name": "python3",
      "display_name": "Python 3"
    }
  },
  "cells": [
    {
      "cell_type": "markdown",
      "metadata": {
        "id": "view-in-github",
        "colab_type": "text"
      },
      "source": [
        "<a href=\"https://colab.research.google.com/github/Ayanlola2002/Data-Science-Nigeria/blob/DSN_best_car_price_prediction_2019/best_car_price.ipynb\" target=\"_parent\"><img src=\"https://colab.research.google.com/assets/colab-badge.svg\" alt=\"Open In Colab\"/></a>"
      ]
    },
    {
      "cell_type": "code",
      "metadata": {
        "id": "KI6RYq7ZMnHx",
        "colab_type": "code",
        "colab": {}
      },
      "source": [
        "!pip install -q kaggle\n",
        "!mkdir -p ~/.kaggle\n",
        "!cp kaggle.json ~/.kaggle"
      ],
      "execution_count": 0,
      "outputs": []
    },
    {
      "cell_type": "code",
      "metadata": {
        "id": "jcc_nqrbcCIX",
        "colab_type": "code",
        "colab": {}
      },
      "source": [
        "!chmod 600 /root/.kaggle/kaggle.json"
      ],
      "execution_count": 0,
      "outputs": []
    },
    {
      "cell_type": "code",
      "metadata": {
        "id": "5jEvPL0_cH8p",
        "colab_type": "code",
        "colab": {
          "base_uri": "https://localhost:8080/",
          "height": 119
        },
        "outputId": "9847c0a5-7627-464d-da27-669ddd98adbe"
      },
      "source": [
        "!kaggle competitions download -c dsn-recruitment-service-test"
      ],
      "execution_count": 4,
      "outputs": [
        {
          "output_type": "stream",
          "text": [
            "Downloading test.csv.zip to /content\n",
            "\r  0% 0.00/3.65M [00:00<?, ?B/s]\n",
            "100% 3.65M/3.65M [00:00<00:00, 123MB/s]\n",
            "Downloading train.csv.zip to /content\n",
            " 54% 5.00M/9.21M [00:00<00:00, 23.7MB/s]\n",
            "100% 9.21M/9.21M [00:00<00:00, 36.2MB/s]\n"
          ],
          "name": "stdout"
        }
      ]
    },
    {
      "cell_type": "code",
      "metadata": {
        "id": "1XdcYq2rcU-N",
        "colab_type": "code",
        "colab": {}
      },
      "source": [
        "#unzippig the us-data file\n",
        "from shutil import unpack_archive\n",
        "#unpack_archive('all.zip')\n",
        "unpack_archive('train.csv.zip')\n",
        "unpack_archive('test.csv.zip')"
      ],
      "execution_count": 0,
      "outputs": []
    },
    {
      "cell_type": "code",
      "metadata": {
        "id": "WKk9P-2Ncoul",
        "colab_type": "code",
        "colab": {}
      },
      "source": [
        "import numpy as np # linear algebra\n",
        "import pandas as pd # data processing, CSV file I/O (e.g. pd.read_csv)\n",
        "%matplotlib inline\n",
        "import matplotlib.pyplot as plt  # Matlab-style plotting\n",
        "import seaborn as sns\n",
        "color = sns.color_palette()\n",
        "sns.set_style('darkgrid')\n",
        "import warnings\n",
        "def ignore_warn(*args, **kwargs):\n",
        "    pass\n",
        "warnings.warn = ignore_warn #ignore annoying warning (from sklearn and seaborn)"
      ],
      "execution_count": 0,
      "outputs": []
    },
    {
      "cell_type": "code",
      "metadata": {
        "id": "Y8nLxpTfcuOR",
        "colab_type": "code",
        "colab": {}
      },
      "source": [
        "from scipy import stats\n",
        "from scipy.stats import norm, skew #for some statistics"
      ],
      "execution_count": 0,
      "outputs": []
    },
    {
      "cell_type": "code",
      "metadata": {
        "id": "6M9bYVZnc0hS",
        "colab_type": "code",
        "colab": {}
      },
      "source": [
        "pd.set_option('display.float_format', lambda x: '{:.3f}'.format(x)) #Limiting floats output to 3 decimal points"
      ],
      "execution_count": 0,
      "outputs": []
    },
    {
      "cell_type": "code",
      "metadata": {
        "id": "jcOoeNSqc36i",
        "colab_type": "code",
        "colab": {}
      },
      "source": [
        "train = pd.read_csv('train.csv')\n",
        "test = pd.read_csv('test.csv')"
      ],
      "execution_count": 0,
      "outputs": []
    },
    {
      "cell_type": "code",
      "metadata": {
        "id": "BYdc2AbTdBa0",
        "colab_type": "code",
        "colab": {
          "base_uri": "https://localhost:8080/",
          "height": 224
        },
        "outputId": "b4225d05-c06f-4482-d03b-c637c1e0e6f0"
      },
      "source": [
        "##display the first five rows of the train dataset.\n",
        "train.head(5)"
      ],
      "execution_count": 12,
      "outputs": [
        {
          "output_type": "execute_result",
          "data": {
            "text/html": [
              "<div>\n",
              "<style scoped>\n",
              "    .dataframe tbody tr th:only-of-type {\n",
              "        vertical-align: middle;\n",
              "    }\n",
              "\n",
              "    .dataframe tbody tr th {\n",
              "        vertical-align: top;\n",
              "    }\n",
              "\n",
              "    .dataframe thead th {\n",
              "        text-align: right;\n",
              "    }\n",
              "</style>\n",
              "<table border=\"1\" class=\"dataframe\">\n",
              "  <thead>\n",
              "    <tr style=\"text-align: right;\">\n",
              "      <th></th>\n",
              "      <th>id</th>\n",
              "      <th>seller_type</th>\n",
              "      <th>country_of_use</th>\n",
              "      <th>weblog_date</th>\n",
              "      <th>Area_address_code</th>\n",
              "      <th>car_name</th>\n",
              "      <th>car_type</th>\n",
              "      <th>Permit_registration_year</th>\n",
              "      <th>registration_month</th>\n",
              "      <th>horse_power</th>\n",
              "      <th>mileage</th>\n",
              "      <th>gas_type</th>\n",
              "      <th>car_brand</th>\n",
              "      <th>Status_of_car_repair</th>\n",
              "      <th>gear_type</th>\n",
              "      <th>date_of_advert</th>\n",
              "      <th>last_advert_online</th>\n",
              "      <th>model</th>\n",
              "      <th>naira_price</th>\n",
              "    </tr>\n",
              "  </thead>\n",
              "  <tbody>\n",
              "    <tr>\n",
              "      <th>0</th>\n",
              "      <td>0</td>\n",
              "      <td>private</td>\n",
              "      <td>london</td>\n",
              "      <td>2016-03-24</td>\n",
              "      <td>66954</td>\n",
              "      <td>A5_Sportback_2.7_Tdi</td>\n",
              "      <td>coupé</td>\n",
              "      <td>2013</td>\n",
              "      <td>5</td>\n",
              "      <td>190</td>\n",
              "      <td>201125.000</td>\n",
              "      <td>diesel</td>\n",
              "      <td>audi</td>\n",
              "      <td>ja</td>\n",
              "      <td>manuell</td>\n",
              "      <td>2016-03-24</td>\n",
              "      <td>2016-04-07</td>\n",
              "      <td>NaN</td>\n",
              "      <td>6588000.000</td>\n",
              "    </tr>\n",
              "    <tr>\n",
              "      <th>1</th>\n",
              "      <td>1</td>\n",
              "      <td>private</td>\n",
              "      <td>london</td>\n",
              "      <td>2016-03-14</td>\n",
              "      <td>90480</td>\n",
              "      <td>Jeep_Grand_Cherokee_\"Overland\"</td>\n",
              "      <td>NaN</td>\n",
              "      <td>2006</td>\n",
              "      <td>8</td>\n",
              "      <td>163</td>\n",
              "      <td>201125.000</td>\n",
              "      <td>diesel</td>\n",
              "      <td>jeep</td>\n",
              "      <td>NaN</td>\n",
              "      <td>automatik</td>\n",
              "      <td>2016-03-14</td>\n",
              "      <td>2016-04-05</td>\n",
              "      <td>grand</td>\n",
              "      <td>3528000.000</td>\n",
              "    </tr>\n",
              "    <tr>\n",
              "      <th>2</th>\n",
              "      <td>3</td>\n",
              "      <td>private</td>\n",
              "      <td>london</td>\n",
              "      <td>2016-03-31</td>\n",
              "      <td>60437</td>\n",
              "      <td>Skoda_Fabia_1.4_TDI_PD_Classic</td>\n",
              "      <td>small car</td>\n",
              "      <td>2010</td>\n",
              "      <td>7</td>\n",
              "      <td>69</td>\n",
              "      <td>144810.000</td>\n",
              "      <td>diesel</td>\n",
              "      <td>skoda</td>\n",
              "      <td>nein</td>\n",
              "      <td>manuell</td>\n",
              "      <td>2016-03-31</td>\n",
              "      <td>2016-04-06</td>\n",
              "      <td>fabia</td>\n",
              "      <td>1296000.000</td>\n",
              "    </tr>\n",
              "    <tr>\n",
              "      <th>3</th>\n",
              "      <td>4</td>\n",
              "      <td>private</td>\n",
              "      <td>london</td>\n",
              "      <td>2016-04-04</td>\n",
              "      <td>33775</td>\n",
              "      <td>BMW_316i___e36_Limousine___Bastlerfahrzeug__Ex...</td>\n",
              "      <td>limousine</td>\n",
              "      <td>1997</td>\n",
              "      <td>10</td>\n",
              "      <td>102</td>\n",
              "      <td>241350.000</td>\n",
              "      <td>gasoline</td>\n",
              "      <td>bmw</td>\n",
              "      <td>ja</td>\n",
              "      <td>manuell</td>\n",
              "      <td>2016-04-04</td>\n",
              "      <td>2016-04-06</td>\n",
              "      <td>3er</td>\n",
              "      <td>234000.000</td>\n",
              "    </tr>\n",
              "    <tr>\n",
              "      <th>4</th>\n",
              "      <td>5</td>\n",
              "      <td>private</td>\n",
              "      <td>london</td>\n",
              "      <td>2016-04-01</td>\n",
              "      <td>67112</td>\n",
              "      <td>Peugeot_206_CC_110_Platinum</td>\n",
              "      <td>convertible</td>\n",
              "      <td>2006</td>\n",
              "      <td>8</td>\n",
              "      <td>109</td>\n",
              "      <td>241350.000</td>\n",
              "      <td>gasoline</td>\n",
              "      <td>peugeot</td>\n",
              "      <td>nein</td>\n",
              "      <td>manuell</td>\n",
              "      <td>2016-04-01</td>\n",
              "      <td>2016-04-05</td>\n",
              "      <td>2_reihe</td>\n",
              "      <td>792000.000</td>\n",
              "    </tr>\n",
              "  </tbody>\n",
              "</table>\n",
              "</div>"
            ],
            "text/plain": [
              "   id seller_type country_of_use  ... last_advert_online    model naira_price\n",
              "0   0     private         london  ...         2016-04-07      NaN 6588000.000\n",
              "1   1     private         london  ...         2016-04-05    grand 3528000.000\n",
              "2   3     private         london  ...         2016-04-06    fabia 1296000.000\n",
              "3   4     private         london  ...         2016-04-06      3er  234000.000\n",
              "4   5     private         london  ...         2016-04-05  2_reihe  792000.000\n",
              "\n",
              "[5 rows x 19 columns]"
            ]
          },
          "metadata": {
            "tags": []
          },
          "execution_count": 12
        }
      ]
    },
    {
      "cell_type": "code",
      "metadata": {
        "id": "bho8fZtLdEr_",
        "colab_type": "code",
        "colab": {
          "base_uri": "https://localhost:8080/",
          "height": 241
        },
        "outputId": "e707fc98-5382-4c38-b1e9-e6757695f93b"
      },
      "source": [
        "##display the first five rows of the test dataset.\n",
        "test.head(5)"
      ],
      "execution_count": 13,
      "outputs": [
        {
          "output_type": "execute_result",
          "data": {
            "text/html": [
              "<div>\n",
              "<style scoped>\n",
              "    .dataframe tbody tr th:only-of-type {\n",
              "        vertical-align: middle;\n",
              "    }\n",
              "\n",
              "    .dataframe tbody tr th {\n",
              "        vertical-align: top;\n",
              "    }\n",
              "\n",
              "    .dataframe thead th {\n",
              "        text-align: right;\n",
              "    }\n",
              "</style>\n",
              "<table border=\"1\" class=\"dataframe\">\n",
              "  <thead>\n",
              "    <tr style=\"text-align: right;\">\n",
              "      <th></th>\n",
              "      <th>id</th>\n",
              "      <th>seller_type</th>\n",
              "      <th>country_of_use</th>\n",
              "      <th>weblog_date</th>\n",
              "      <th>Area_address_code</th>\n",
              "      <th>car_name</th>\n",
              "      <th>car_type</th>\n",
              "      <th>Permit_registration_year</th>\n",
              "      <th>registration_month</th>\n",
              "      <th>horse_power</th>\n",
              "      <th>mileage</th>\n",
              "      <th>gas_type</th>\n",
              "      <th>car_brand</th>\n",
              "      <th>Status_of_car_repair</th>\n",
              "      <th>gear_type</th>\n",
              "      <th>date_of_advert</th>\n",
              "      <th>last_advert_online</th>\n",
              "      <th>model</th>\n",
              "    </tr>\n",
              "  </thead>\n",
              "  <tbody>\n",
              "    <tr>\n",
              "      <th>0</th>\n",
              "      <td>2</td>\n",
              "      <td>private</td>\n",
              "      <td>london</td>\n",
              "      <td>2016-03-17</td>\n",
              "      <td>91074</td>\n",
              "      <td>GOLF_4_1_4__3TÜRER</td>\n",
              "      <td>small car</td>\n",
              "      <td>2003</td>\n",
              "      <td>6</td>\n",
              "      <td>75</td>\n",
              "      <td>241350.000</td>\n",
              "      <td>gasoline</td>\n",
              "      <td>volkswagen</td>\n",
              "      <td>nein</td>\n",
              "      <td>manuell</td>\n",
              "      <td>2016-03-17</td>\n",
              "      <td>2016-03-17</td>\n",
              "      <td>golf</td>\n",
              "    </tr>\n",
              "    <tr>\n",
              "      <th>1</th>\n",
              "      <td>8</td>\n",
              "      <td>private</td>\n",
              "      <td>london</td>\n",
              "      <td>2016-03-26</td>\n",
              "      <td>96224</td>\n",
              "      <td>Mazda_3_1.6_Sport</td>\n",
              "      <td>limousine</td>\n",
              "      <td>2006</td>\n",
              "      <td>12</td>\n",
              "      <td>105</td>\n",
              "      <td>241350.000</td>\n",
              "      <td>gasoline</td>\n",
              "      <td>mazda</td>\n",
              "      <td>nein</td>\n",
              "      <td>manuell</td>\n",
              "      <td>2016-03-26</td>\n",
              "      <td>2016-04-06</td>\n",
              "      <td>3_reihe</td>\n",
              "    </tr>\n",
              "    <tr>\n",
              "      <th>2</th>\n",
              "      <td>11</td>\n",
              "      <td>private</td>\n",
              "      <td>london</td>\n",
              "      <td>2016-03-21</td>\n",
              "      <td>90762</td>\n",
              "      <td>VW_PASSAT_1.9_TDI_131_PS_LEDER</td>\n",
              "      <td>station wagon</td>\n",
              "      <td>2006</td>\n",
              "      <td>2</td>\n",
              "      <td>131</td>\n",
              "      <td>241350.000</td>\n",
              "      <td>NaN</td>\n",
              "      <td>volkswagen</td>\n",
              "      <td>nein</td>\n",
              "      <td>manuell</td>\n",
              "      <td>2016-03-21</td>\n",
              "      <td>2016-03-23</td>\n",
              "      <td>passat</td>\n",
              "    </tr>\n",
              "    <tr>\n",
              "      <th>3</th>\n",
              "      <td>15</td>\n",
              "      <td>private</td>\n",
              "      <td>london</td>\n",
              "      <td>2016-04-01</td>\n",
              "      <td>49565</td>\n",
              "      <td>Mercedes_Benz_A_160_Classic_Klima</td>\n",
              "      <td>bus</td>\n",
              "      <td>2006</td>\n",
              "      <td>1</td>\n",
              "      <td>102</td>\n",
              "      <td>241350.000</td>\n",
              "      <td>gasoline</td>\n",
              "      <td>mercedes_benz</td>\n",
              "      <td>nein</td>\n",
              "      <td>manuell</td>\n",
              "      <td>2016-04-01</td>\n",
              "      <td>2016-04-05</td>\n",
              "      <td>a_klasse</td>\n",
              "    </tr>\n",
              "    <tr>\n",
              "      <th>4</th>\n",
              "      <td>18</td>\n",
              "      <td>private</td>\n",
              "      <td>london</td>\n",
              "      <td>2016-03-23</td>\n",
              "      <td>49716</td>\n",
              "      <td>Opel_Meriva_1.Hand_TÜV_3.2018</td>\n",
              "      <td>NaN</td>\n",
              "      <td>2018</td>\n",
              "      <td>5</td>\n",
              "      <td>90</td>\n",
              "      <td>241350.000</td>\n",
              "      <td>gasoline</td>\n",
              "      <td>opel</td>\n",
              "      <td>nein</td>\n",
              "      <td>manuell</td>\n",
              "      <td>2016-03-23</td>\n",
              "      <td>2016-03-31</td>\n",
              "      <td>meriva</td>\n",
              "    </tr>\n",
              "  </tbody>\n",
              "</table>\n",
              "</div>"
            ],
            "text/plain": [
              "   id seller_type country_of_use  ... date_of_advert  last_advert_online     model\n",
              "0   2     private         london  ...     2016-03-17          2016-03-17      golf\n",
              "1   8     private         london  ...     2016-03-26          2016-04-06   3_reihe\n",
              "2  11     private         london  ...     2016-03-21          2016-03-23    passat\n",
              "3  15     private         london  ...     2016-04-01          2016-04-05  a_klasse\n",
              "4  18     private         london  ...     2016-03-23          2016-03-31    meriva\n",
              "\n",
              "[5 rows x 18 columns]"
            ]
          },
          "metadata": {
            "tags": []
          },
          "execution_count": 13
        }
      ]
    },
    {
      "cell_type": "code",
      "metadata": {
        "id": "MVf6M9VwdNcH",
        "colab_type": "code",
        "colab": {
          "base_uri": "https://localhost:8080/",
          "height": 102
        },
        "outputId": "a82e4857-9a42-4920-837c-77cbee2d1aaa"
      },
      "source": [
        "#check the numbers of samples and features\n",
        "print(\"The train data size before dropping Id feature is : {} \".format(train.shape))\n",
        "print(\"The test data size before dropping Id feature is : {} \".format(test.shape))\n",
        "\n",
        "#Save the 'Id' column\n",
        "train_ID = train['id']\n",
        "test_ID = test['id']\n",
        "\n",
        "#Now drop the  'Id' colum since it's unnecessary for  the prediction process.\n",
        "train.drop(\"id\", axis = 1, inplace = True)\n",
        "test.drop(\"id\", axis = 1, inplace = True)\n",
        "\n",
        "#check again the data size after dropping the 'Id' variable\n",
        "print(\"\\nThe train data size after dropping Id feature is : {} \".format(train.shape)) \n",
        "print(\"The test data size after dropping Id feature is : {} \".format(test.shape))"
      ],
      "execution_count": 15,
      "outputs": [
        {
          "output_type": "stream",
          "text": [
            "The train data size before dropping Id feature is : (234829, 19) \n",
            "The test data size before dropping Id feature is : (100282, 18) \n",
            "\n",
            "The train data size after dropping Id feature is : (234829, 18) \n",
            "The test data size after dropping Id feature is : (100282, 17) \n"
          ],
          "name": "stdout"
        }
      ]
    },
    {
      "cell_type": "code",
      "metadata": {
        "id": "dSyyuZ2udjRY",
        "colab_type": "code",
        "colab": {}
      },
      "source": [
        "#separate categorical varriable from numerical varriable\n",
        "quantitative = [f for f in train.columns if train.dtypes[f] != 'object']\n",
        "#quantitative.remove('SalePrice')\n",
        "#quantitative.remove('Id')\n",
        "qualitative = [f for f in train.columns if train.dtypes[f] == 'object']"
      ],
      "execution_count": 0,
      "outputs": []
    },
    {
      "cell_type": "code",
      "metadata": {
        "id": "Weixsbs2gTLO",
        "colab_type": "code",
        "colab": {
          "base_uri": "https://localhost:8080/",
          "height": 119
        },
        "outputId": "6a2e7652-143c-4859-e45a-bd3339d82a48"
      },
      "source": [
        "quantitative"
      ],
      "execution_count": 18,
      "outputs": [
        {
          "output_type": "execute_result",
          "data": {
            "text/plain": [
              "['Area_address_code',\n",
              " 'Permit_registration_year',\n",
              " 'registration_month',\n",
              " 'horse_power',\n",
              " 'mileage',\n",
              " 'naira_price']"
            ]
          },
          "metadata": {
            "tags": []
          },
          "execution_count": 18
        }
      ]
    },
    {
      "cell_type": "code",
      "metadata": {
        "id": "a1Pi8KCLgbgg",
        "colab_type": "code",
        "colab": {
          "base_uri": "https://localhost:8080/",
          "height": 221
        },
        "outputId": "cbbae23c-53d6-4fe7-d559-d172ba232670"
      },
      "source": [
        "qualitative"
      ],
      "execution_count": 19,
      "outputs": [
        {
          "output_type": "execute_result",
          "data": {
            "text/plain": [
              "['seller_type',\n",
              " 'country_of_use',\n",
              " 'weblog_date',\n",
              " 'car_name',\n",
              " 'car_type',\n",
              " 'gas_type',\n",
              " 'car_brand',\n",
              " 'Status_of_car_repair',\n",
              " 'gear_type',\n",
              " 'date_of_advert',\n",
              " 'last_advert_online',\n",
              " 'model']"
            ]
          },
          "metadata": {
            "tags": []
          },
          "execution_count": 19
        }
      ]
    },
    {
      "cell_type": "code",
      "metadata": {
        "id": "1wu7USYleKeS",
        "colab_type": "code",
        "colab": {
          "base_uri": "https://localhost:8080/",
          "height": 378
        },
        "outputId": "ce7ee3b4-597c-483b-93e3-a6bb89bbd12f"
      },
      "source": [
        "#missing values\n",
        "sns.set_style(\"whitegrid\")\n",
        "missing = train.isnull().sum()\n",
        "missing = missing[missing > 0]\n",
        "missing.sort_values(inplace=True)\n",
        "missing.plot.bar()"
      ],
      "execution_count": 16,
      "outputs": [
        {
          "output_type": "execute_result",
          "data": {
            "text/plain": [
              "<matplotlib.axes._subplots.AxesSubplot at 0x7f10b42f5d30>"
            ]
          },
          "metadata": {
            "tags": []
          },
          "execution_count": 16
        },
        {
          "output_type": "display_data",
          "data": {
            "image/png": "[encoded data removed]",
            "text/plain": [
              "<Figure size 432x288 with 1 Axes>"
            ]
          },
          "metadata": {
            "tags": []
          }
        }
      ]
    },
    {
      "cell_type": "code",
      "metadata": {
        "id": "D4RGYTvrhORZ",
        "colab_type": "code",
        "colab": {
          "base_uri": "https://localhost:8080/",
          "height": 238
        },
        "outputId": "16e148c7-28a4-4c38-cec6-eb05f9ab048b"
      },
      "source": [
        "# check number & percentage of missing value in the columns\n",
        "def missing_values_table(df):\n",
        "  mis_val = df.isnull().sum() #total missing values\n",
        "  mis_val_percent = 100 * df.isnull().sum() / len(df) #percentage of missing values\n",
        "  mis_val_table = pd.concat([mis_val, mis_val_percent], axis=1) #make a table with the results\n",
        "  mis_val_table_ren_columns = mis_val_table.rename(\n",
        "  columns = {0 : 'Missing Values', 1 : '% of Total Values'}) #rename the columns\n",
        "     # sort the table by percentage of missing value\n",
        "  mis_val_table_ren_columns = mis_val_table_ren_columns[\n",
        "  mis_val_table_ren_columns.iloc[:,1] != 0].sort_values(\n",
        "        '% of Total Values', ascending=False).round(1)\n",
        "\n",
        "        #print same summary information\n",
        "  print (\"Your selected dataframe has \" + str(df.shape[1]) + \" columns.\\n\"      \n",
        "            \"There are \" + str(mis_val_table_ren_columns.shape[0]) +\n",
        "              \" columns that have missing values.\")\n",
        "\n",
        "          # return the dataframe with missing information\n",
        "  return mis_val_table_ren_columns\n",
        "  \n",
        "missing_values = missing_values_table(train)\n",
        "missing_values.head()"
      ],
      "execution_count": 24,
      "outputs": [
        {
          "output_type": "stream",
          "text": [
            "Your selected dataframe has 18 columns.\n",
            "There are 5 columns that have missing values.\n"
          ],
          "name": "stdout"
        },
        {
          "output_type": "execute_result",
          "data": {
            "text/html": [
              "<div>\n",
              "<style scoped>\n",
              "    .dataframe tbody tr th:only-of-type {\n",
              "        vertical-align: middle;\n",
              "    }\n",
              "\n",
              "    .dataframe tbody tr th {\n",
              "        vertical-align: top;\n",
              "    }\n",
              "\n",
              "    .dataframe thead th {\n",
              "        text-align: right;\n",
              "    }\n",
              "</style>\n",
              "<table border=\"1\" class=\"dataframe\">\n",
              "  <thead>\n",
              "    <tr style=\"text-align: right;\">\n",
              "      <th></th>\n",
              "      <th>Missing Values</th>\n",
              "      <th>% of Total Values</th>\n",
              "    </tr>\n",
              "  </thead>\n",
              "  <tbody>\n",
              "    <tr>\n",
              "      <th>Status_of_car_repair</th>\n",
              "      <td>38865</td>\n",
              "      <td>16.600</td>\n",
              "    </tr>\n",
              "    <tr>\n",
              "      <th>car_type</th>\n",
              "      <td>29243</td>\n",
              "      <td>12.500</td>\n",
              "    </tr>\n",
              "    <tr>\n",
              "      <th>gas_type</th>\n",
              "      <td>16783</td>\n",
              "      <td>7.100</td>\n",
              "    </tr>\n",
              "    <tr>\n",
              "      <th>model</th>\n",
              "      <td>10703</td>\n",
              "      <td>4.600</td>\n",
              "    </tr>\n",
              "    <tr>\n",
              "      <th>gear_type</th>\n",
              "      <td>9501</td>\n",
              "      <td>4.000</td>\n",
              "    </tr>\n",
              "  </tbody>\n",
              "</table>\n",
              "</div>"
            ],
            "text/plain": [
              "                      Missing Values  % of Total Values\n",
              "Status_of_car_repair           38865             16.600\n",
              "car_type                       29243             12.500\n",
              "gas_type                       16783              7.100\n",
              "model                          10703              4.600\n",
              "gear_type                       9501              4.000"
            ]
          },
          "metadata": {
            "tags": []
          },
          "execution_count": 24
        }
      ]
    },
    {
      "cell_type": "code",
      "metadata": {
        "id": "9GmAEPIrie_v",
        "colab_type": "code",
        "colab": {
          "base_uri": "https://localhost:8080/",
          "height": 871
        },
        "outputId": "66299461-f3ff-47cf-abaa-264512ba8e62"
      },
      "source": [
        "#handling the prize predictor varriable\n",
        "y = train['naira_price']\n",
        "plt.figure(1); plt.title('Johnson SU')\n",
        "sns.distplot(y, kde=False, fit=stats.johnsonsu)\n",
        "plt.figure(2); plt.title('Normal')\n",
        "sns.distplot(y, kde=False, fit=stats.norm)\n",
        "plt.figure(3); plt.title('Log Normal')\n",
        "sns.distplot(y, kde=False, fit=stats.lognorm)"
      ],
      "execution_count": 25,
      "outputs": [
        {
          "output_type": "execute_result",
          "data": {
            "text/plain": [
              "<matplotlib.axes._subplots.AxesSubplot at 0x7f10b06d9b00>"
            ]
          },
          "metadata": {
            "tags": []
          },
          "execution_count": 25
        },
        {
          "output_type": "display_data",
          "data": {
            "image/png": "[encoded data removed]",
            "text/plain": [
              "<Figure size 432x288 with 1 Axes>"
            ]
          },
          "metadata": {
            "tags": []
          }
        },
        {
          "output_type": "display_data",
          "data": {
            "image/png": "[encoded data removed]",
            "text/plain": [
              "<Figure size 432x288 with 1 Axes>"
            ]
          },
          "metadata": {
            "tags": []
          }
        },
        {
          "output_type": "display_data",
          "data": {
            "image/png": "[encoded data removed]",
            "text/plain": [
              "<Figure size 432x288 with 1 Axes>"
            ]
          },
          "metadata": {
            "tags": []
          }
        }
      ]
    },
    {
      "cell_type": "code",
      "metadata": {
        "id": "lHGm2Krikzrm",
        "colab_type": "code",
        "colab": {}
      },
      "source": [
        "max_price=max(train['naira_price'])\n",
        "min_price=min(train['naira_price'])\n"
      ],
      "execution_count": 0,
      "outputs": []
    },
    {
      "cell_type": "code",
      "metadata": {
        "id": "_nmH02kelKfF",
        "colab_type": "code",
        "colab": {
          "base_uri": "https://localhost:8080/",
          "height": 34
        },
        "outputId": "22d5a6c8-e522-4c03-cbac-15965fc59c29"
      },
      "source": [
        "max_price\n"
      ],
      "execution_count": 30,
      "outputs": [
        {
          "output_type": "execute_result",
          "data": {
            "text/plain": [
              "88200000.0"
            ]
          },
          "metadata": {
            "tags": []
          },
          "execution_count": 30
        }
      ]
    },
    {
      "cell_type": "code",
      "metadata": {
        "id": "A3cuHGPylUP4",
        "colab_type": "code",
        "colab": {
          "base_uri": "https://localhost:8080/",
          "height": 34
        },
        "outputId": "0c9e6802-99d5-408e-b354-b949871392ba"
      },
      "source": [
        "min_price"
      ],
      "execution_count": 29,
      "outputs": [
        {
          "output_type": "execute_result",
          "data": {
            "text/plain": [
              "180000.0"
            ]
          },
          "metadata": {
            "tags": []
          },
          "execution_count": 29
        }
      ]
    },
    {
      "cell_type": "code",
      "metadata": {
        "id": "o8ZX4WEHleCO",
        "colab_type": "code",
        "colab": {
          "base_uri": "https://localhost:8080/",
          "height": 34
        },
        "outputId": "4bc98df9-296d-485d-ef6c-fee8f258a1ce"
      },
      "source": [
        "min_price/max_price"
      ],
      "execution_count": 31,
      "outputs": [
        {
          "output_type": "execute_result",
          "data": {
            "text/plain": [
              "0.0020408163265306124"
            ]
          },
          "metadata": {
            "tags": []
          },
          "execution_count": 31
        }
      ]
    }
  ]
}