{
  "nbformat": 4,
  "nbformat_minor": 0,
  "metadata": {
    "colab": {
      "name": "best_car_price.ipynb",
      "version": "0.3.2",
      "provenance": [],
      "collapsed_sections": [],
      "include_colab_link": true
    },
    "kernelspec": {
      "name": "python3",
      "display_name": "Python 3"
    }
  },
  "cells": [
    {
      "cell_type": "markdown",
      "metadata": {
        "id": "view-in-github",
        "colab_type": "text"
      },
      "source": [
        "<a href=\"https://colab.research.google.com/github/Ayanlola2002/Data-Science-Nigeria/blob/DSN_best_car_price_prediction_2019/best_car_price.ipynb\" target=\"_parent\"><img src=\"https://colab.research.google.com/assets/colab-badge.svg\" alt=\"Open In Colab\"/></a>"
      ]
    },
    {
      "cell_type": "code",
      "metadata": {
        "id": "KI6RYq7ZMnHx",
        "colab_type": "code",
        "colab": {}
      },
      "source": [
        "!pip install -q kaggle\n",
        "!mkdir -p ~/.kaggle\n",
        "!cp kaggle.json ~/.kaggle"
      ],
      "execution_count": 0,
      "outputs": []
    },
    {
      "cell_type": "code",
      "metadata": {
        "id": "jcc_nqrbcCIX",
        "colab_type": "code",
        "colab": {}
      },
      "source": [
        "!chmod 600 /root/.kaggle/kaggle.json"
      ],
      "execution_count": 0,
      "outputs": []
    },
    {
      "cell_type": "code",
      "metadata": {
        "id": "5jEvPL0_cH8p",
        "colab_type": "code",
        "outputId": "9184bf09-a2b6-4050-ab43-1f9ec79aac4c",
        "colab": {
          "base_uri": "https://localhost:8080/",
          "height": 88
        }
      },
      "source": [
        "!kaggle competitions download -c dsn-recruitment-service-test"
      ],
      "execution_count": 54,
      "outputs": [
        {
          "output_type": "stream",
          "text": [
            "sample_submission.csv.zip: Skipping, found more recently modified local copy (use --force to force download)\n",
            "test.csv.zip: Skipping, found more recently modified local copy (use --force to force download)\n",
            "train.csv.zip: Skipping, found more recently modified local copy (use --force to force download)\n"
          ],
          "name": "stdout"
        }
      ]
    },
    {
      "cell_type": "code",
      "metadata": {
        "id": "1XdcYq2rcU-N",
        "colab_type": "code",
        "colab": {}
      },
      "source": [
        "#unzippig the us-data file\n",
        "from shutil import unpack_archive\n",
        "#unpack_archive('all.zip')\n",
        "unpack_archive('train.csv.zip')\n",
        "unpack_archive('test.csv.zip')"
      ],
      "execution_count": 0,
      "outputs": []
    },
    {
      "cell_type": "code",
      "metadata": {
        "id": "WKk9P-2Ncoul",
        "colab_type": "code",
        "colab": {}
      },
      "source": [
        "import numpy as np # linear algebra\n",
        "import pandas as pd # data processing, CSV file I/O (e.g. pd.read_csv)\n",
        "%matplotlib inline\n",
        "import matplotlib.pyplot as plt  # Matlab-style plotting\n",
        "from sklearn.feature_selection import SelectKBest\n",
        "from sklearn.feature_selection import chi2\n",
        "import seaborn as sns\n",
        "color = sns.color_palette()\n",
        "sns.set_style('darkgrid')\n",
        "import warnings\n",
        "def ignore_warn(*args, **kwargs):\n",
        "    pass\n",
        "warnings.warn = ignore_warn #ignore annoying warning (from sklearn and seaborn)"
      ],
      "execution_count": 0,
      "outputs": []
    },
    {
      "cell_type": "code",
      "metadata": {
        "id": "Y8nLxpTfcuOR",
        "colab_type": "code",
        "colab": {}
      },
      "source": [
        "from scipy import stats\n",
        "from scipy.stats import norm, skew #for some statistics"
      ],
      "execution_count": 0,
      "outputs": []
    },
    {
      "cell_type": "code",
      "metadata": {
        "id": "6M9bYVZnc0hS",
        "colab_type": "code",
        "colab": {}
      },
      "source": [
        "pd.set_option('display.float_format', lambda x: '{:.3f}'.format(x)) #Limiting floats output to 3 decimal points"
      ],
      "execution_count": 0,
      "outputs": []
    },
    {
      "cell_type": "code",
      "metadata": {
        "id": "jcOoeNSqc36i",
        "colab_type": "code",
        "colab": {}
      },
      "source": [
        "#train = pd.read_csv('train.csv',parse_dates=[['weblog_date'],['date_of_advert'],['last_advert_online']])\n",
        "#test = pd.read_csv('test.csv',parse_dates=[weblog_date],[[date_of_advert],[last_advert_online])\n",
        "train = pd.read_csv('train.csv')\n",
        "test = pd.read_csv('test.csv')"
      ],
      "execution_count": 0,
      "outputs": []
    },
    {
      "cell_type": "code",
      "metadata": {
        "id": "te-FYpCwDoUV",
        "colab_type": "code",
        "colab": {}
      },
      "source": [
        "train_copy=train.copy()\n",
        "test_copy=test.copy()"
      ],
      "execution_count": 0,
      "outputs": []
    },
    {
      "cell_type": "code",
      "metadata": {
        "id": "BYdc2AbTdBa0",
        "colab_type": "code",
        "outputId": "73167458-39e5-44e5-93ba-2e47263f7888",
        "colab": {
          "base_uri": "https://localhost:8080/",
          "height": 224
        }
      },
      "source": [
        "##display the first five rows of the train dataset.\n",
        "train.head()"
      ],
      "execution_count": 61,
      "outputs": [
        {
          "output_type": "execute_result",
          "data": {
            "text/html": [
              "<div>\n",
              "<style scoped>\n",
              "    .dataframe tbody tr th:only-of-type {\n",
              "        vertical-align: middle;\n",
              "    }\n",
              "\n",
              "    .dataframe tbody tr th {\n",
              "        vertical-align: top;\n",
              "    }\n",
              "\n",
              "    .dataframe thead th {\n",
              "        text-align: right;\n",
              "    }\n",
              "</style>\n",
              "<table border=\"1\" class=\"dataframe\">\n",
              "  <thead>\n",
              "    <tr style=\"text-align: right;\">\n",
              "      <th></th>\n",
              "      <th>id</th>\n",
              "      <th>seller_type</th>\n",
              "      <th>country_of_use</th>\n",
              "      <th>weblog_date</th>\n",
              "      <th>Area_address_code</th>\n",
              "      <th>car_name</th>\n",
              "      <th>car_type</th>\n",
              "      <th>Permit_registration_year</th>\n",
              "      <th>registration_month</th>\n",
              "      <th>horse_power</th>\n",
              "      <th>mileage</th>\n",
              "      <th>gas_type</th>\n",
              "      <th>car_brand</th>\n",
              "      <th>Status_of_car_repair</th>\n",
              "      <th>gear_type</th>\n",
              "      <th>date_of_advert</th>\n",
              "      <th>last_advert_online</th>\n",
              "      <th>model</th>\n",
              "      <th>naira_price</th>\n",
              "    </tr>\n",
              "  </thead>\n",
              "  <tbody>\n",
              "    <tr>\n",
              "      <th>0</th>\n",
              "      <td>34946</td>\n",
              "      <td>private</td>\n",
              "      <td>london</td>\n",
              "      <td>2016-03-15</td>\n",
              "      <td>78183</td>\n",
              "      <td>Smart_smart_forfour_pulse</td>\n",
              "      <td>small car</td>\n",
              "      <td>2007</td>\n",
              "      <td>11</td>\n",
              "      <td>95</td>\n",
              "      <td>241350.000</td>\n",
              "      <td>gasoline</td>\n",
              "      <td>smart</td>\n",
              "      <td>nein</td>\n",
              "      <td>manuell</td>\n",
              "      <td>2016-03-15</td>\n",
              "      <td>2016-03-16</td>\n",
              "      <td>forfour</td>\n",
              "      <td>864000</td>\n",
              "    </tr>\n",
              "    <tr>\n",
              "      <th>1</th>\n",
              "      <td>298886</td>\n",
              "      <td>private</td>\n",
              "      <td>london</td>\n",
              "      <td>2016-04-01</td>\n",
              "      <td>47166</td>\n",
              "      <td>Seat_Arosa_1.4_16V</td>\n",
              "      <td>small car</td>\n",
              "      <td>2003</td>\n",
              "      <td>7</td>\n",
              "      <td>101</td>\n",
              "      <td>241350.000</td>\n",
              "      <td>gasoline</td>\n",
              "      <td>seat</td>\n",
              "      <td>nein</td>\n",
              "      <td>manuell</td>\n",
              "      <td>2016-04-01</td>\n",
              "      <td>2016-04-03</td>\n",
              "      <td>arosa</td>\n",
              "      <td>630000</td>\n",
              "    </tr>\n",
              "    <tr>\n",
              "      <th>2</th>\n",
              "      <td>104362</td>\n",
              "      <td>private</td>\n",
              "      <td>london</td>\n",
              "      <td>2016-03-17</td>\n",
              "      <td>44623</td>\n",
              "      <td>Woll_fahrbereit</td>\n",
              "      <td>small car</td>\n",
              "      <td>1999</td>\n",
              "      <td>8</td>\n",
              "      <td>90</td>\n",
              "      <td>241350.000</td>\n",
              "      <td>NaN</td>\n",
              "      <td>opel</td>\n",
              "      <td>NaN</td>\n",
              "      <td>manuell</td>\n",
              "      <td>2016-03-17</td>\n",
              "      <td>2016-04-07</td>\n",
              "      <td>tigra</td>\n",
              "      <td>180000</td>\n",
              "    </tr>\n",
              "    <tr>\n",
              "      <th>3</th>\n",
              "      <td>300368</td>\n",
              "      <td>private</td>\n",
              "      <td>london</td>\n",
              "      <td>2016-03-29</td>\n",
              "      <td>53945</td>\n",
              "      <td>Skoda_Fabia_5_Tuerer_dunkelblau_metallic</td>\n",
              "      <td>limousine</td>\n",
              "      <td>2003</td>\n",
              "      <td>6</td>\n",
              "      <td>68</td>\n",
              "      <td>201125.000</td>\n",
              "      <td>gasoline</td>\n",
              "      <td>skoda</td>\n",
              "      <td>NaN</td>\n",
              "      <td>manuell</td>\n",
              "      <td>2016-03-29</td>\n",
              "      <td>2016-03-29</td>\n",
              "      <td>fabia</td>\n",
              "      <td>432000</td>\n",
              "    </tr>\n",
              "    <tr>\n",
              "      <th>4</th>\n",
              "      <td>207699</td>\n",
              "      <td>private</td>\n",
              "      <td>london</td>\n",
              "      <td>2016-03-24</td>\n",
              "      <td>45886</td>\n",
              "      <td>Verkaufe_mein_Auto_#_Jeep_#_Hyundai_#_Tucson_#</td>\n",
              "      <td>other</td>\n",
              "      <td>2008</td>\n",
              "      <td>0</td>\n",
              "      <td>120</td>\n",
              "      <td>241350.000</td>\n",
              "      <td>NaN</td>\n",
              "      <td>hyundai</td>\n",
              "      <td>NaN</td>\n",
              "      <td>automatik</td>\n",
              "      <td>2016-03-24</td>\n",
              "      <td>2016-04-05</td>\n",
              "      <td>tucson</td>\n",
              "      <td>1692000</td>\n",
              "    </tr>\n",
              "  </tbody>\n",
              "</table>\n",
              "</div>"
            ],
            "text/plain": [
              "       id seller_type country_of_use  ... last_advert_online    model naira_price\n",
              "0   34946     private         london  ...         2016-03-16  forfour      864000\n",
              "1  298886     private         london  ...         2016-04-03    arosa      630000\n",
              "2  104362     private         london  ...         2016-04-07    tigra      180000\n",
              "3  300368     private         london  ...         2016-03-29    fabia      432000\n",
              "4  207699     private         london  ...         2016-04-05   tucson     1692000\n",
              "\n",
              "[5 rows x 19 columns]"
            ]
          },
          "metadata": {
            "tags": []
          },
          "execution_count": 61
        }
      ]
    },
    {
      "cell_type": "code",
      "metadata": {
        "id": "bho8fZtLdEr_",
        "colab_type": "code",
        "outputId": "200b997a-4e36-45b9-f418-2e61152f3fbe",
        "colab": {
          "base_uri": "https://localhost:8080/",
          "height": 241
        }
      },
      "source": [
        "##display the first five rows of the test dataset.\n",
        "test.head()"
      ],
      "execution_count": 62,
      "outputs": [
        {
          "output_type": "execute_result",
          "data": {
            "text/html": [
              "<div>\n",
              "<style scoped>\n",
              "    .dataframe tbody tr th:only-of-type {\n",
              "        vertical-align: middle;\n",
              "    }\n",
              "\n",
              "    .dataframe tbody tr th {\n",
              "        vertical-align: top;\n",
              "    }\n",
              "\n",
              "    .dataframe thead th {\n",
              "        text-align: right;\n",
              "    }\n",
              "</style>\n",
              "<table border=\"1\" class=\"dataframe\">\n",
              "  <thead>\n",
              "    <tr style=\"text-align: right;\">\n",
              "      <th></th>\n",
              "      <th>id</th>\n",
              "      <th>seller_type</th>\n",
              "      <th>country_of_use</th>\n",
              "      <th>weblog_date</th>\n",
              "      <th>Area_address_code</th>\n",
              "      <th>car_name</th>\n",
              "      <th>car_type</th>\n",
              "      <th>Permit_registration_year</th>\n",
              "      <th>registration_month</th>\n",
              "      <th>horse_power</th>\n",
              "      <th>mileage</th>\n",
              "      <th>gas_type</th>\n",
              "      <th>car_brand</th>\n",
              "      <th>Status_of_car_repair</th>\n",
              "      <th>gear_type</th>\n",
              "      <th>date_of_advert</th>\n",
              "      <th>last_advert_online</th>\n",
              "      <th>model</th>\n",
              "    </tr>\n",
              "  </thead>\n",
              "  <tbody>\n",
              "    <tr>\n",
              "      <th>0</th>\n",
              "      <td>72959</td>\n",
              "      <td>private</td>\n",
              "      <td>london</td>\n",
              "      <td>2016-03-20</td>\n",
              "      <td>24768</td>\n",
              "      <td>Opel_vectra_B_1.6_16v_tuev_09.2017</td>\n",
              "      <td>limousine</td>\n",
              "      <td>2000</td>\n",
              "      <td>9</td>\n",
              "      <td>101</td>\n",
              "      <td>201125.000</td>\n",
              "      <td>gasoline</td>\n",
              "      <td>opel</td>\n",
              "      <td>nein</td>\n",
              "      <td>automatik</td>\n",
              "      <td>2016-03-20</td>\n",
              "      <td>2016-03-21</td>\n",
              "      <td>vectra</td>\n",
              "    </tr>\n",
              "    <tr>\n",
              "      <th>1</th>\n",
              "      <td>8681</td>\n",
              "      <td>private</td>\n",
              "      <td>london</td>\n",
              "      <td>2016-03-27</td>\n",
              "      <td>26629</td>\n",
              "      <td>Aixam_45_km/h_Auto_automatiek_nicht_fahrbereit</td>\n",
              "      <td>other</td>\n",
              "      <td>2005</td>\n",
              "      <td>6</td>\n",
              "      <td>0</td>\n",
              "      <td>32180.000</td>\n",
              "      <td>NaN</td>\n",
              "      <td>sonstige_autos</td>\n",
              "      <td>NaN</td>\n",
              "      <td>automatik</td>\n",
              "      <td>2016-03-27</td>\n",
              "      <td>2016-04-05</td>\n",
              "      <td>NaN</td>\n",
              "    </tr>\n",
              "    <tr>\n",
              "      <th>2</th>\n",
              "      <td>238202</td>\n",
              "      <td>private</td>\n",
              "      <td>london</td>\n",
              "      <td>2016-03-22</td>\n",
              "      <td>35606</td>\n",
              "      <td>Passat_Alltrack_Bluemotion</td>\n",
              "      <td>station wagon</td>\n",
              "      <td>2018</td>\n",
              "      <td>1</td>\n",
              "      <td>0</td>\n",
              "      <td>32180.000</td>\n",
              "      <td>diesel</td>\n",
              "      <td>volkswagen</td>\n",
              "      <td>ja</td>\n",
              "      <td>NaN</td>\n",
              "      <td>2016-03-22</td>\n",
              "      <td>2016-04-06</td>\n",
              "      <td>passat</td>\n",
              "    </tr>\n",
              "    <tr>\n",
              "      <th>3</th>\n",
              "      <td>110743</td>\n",
              "      <td>private</td>\n",
              "      <td>london</td>\n",
              "      <td>2016-03-28</td>\n",
              "      <td>59192</td>\n",
              "      <td>Opel_Kadett</td>\n",
              "      <td>limousine</td>\n",
              "      <td>1979</td>\n",
              "      <td>9</td>\n",
              "      <td>110</td>\n",
              "      <td>241350.000</td>\n",
              "      <td>gasoline</td>\n",
              "      <td>opel</td>\n",
              "      <td>nein</td>\n",
              "      <td>manuell</td>\n",
              "      <td>2016-03-28</td>\n",
              "      <td>2016-03-31</td>\n",
              "      <td>kadett</td>\n",
              "    </tr>\n",
              "    <tr>\n",
              "      <th>4</th>\n",
              "      <td>34925</td>\n",
              "      <td>private</td>\n",
              "      <td>london</td>\n",
              "      <td>2016-04-02</td>\n",
              "      <td>7551</td>\n",
              "      <td>Seat_Arosa_\"Anfaengerauto_Stadtflitzer\"_TÜV_02...</td>\n",
              "      <td>small car</td>\n",
              "      <td>2000</td>\n",
              "      <td>8</td>\n",
              "      <td>0</td>\n",
              "      <td>241350.000</td>\n",
              "      <td>gasoline</td>\n",
              "      <td>seat</td>\n",
              "      <td>NaN</td>\n",
              "      <td>manuell</td>\n",
              "      <td>2016-04-02</td>\n",
              "      <td>2016-04-06</td>\n",
              "      <td>arosa</td>\n",
              "    </tr>\n",
              "  </tbody>\n",
              "</table>\n",
              "</div>"
            ],
            "text/plain": [
              "       id seller_type country_of_use  ... date_of_advert  last_advert_online   model\n",
              "0   72959     private         london  ...     2016-03-20          2016-03-21  vectra\n",
              "1    8681     private         london  ...     2016-03-27          2016-04-05     NaN\n",
              "2  238202     private         london  ...     2016-03-22          2016-04-06  passat\n",
              "3  110743     private         london  ...     2016-03-28          2016-03-31  kadett\n",
              "4   34925     private         london  ...     2016-04-02          2016-04-06   arosa\n",
              "\n",
              "[5 rows x 18 columns]"
            ]
          },
          "metadata": {
            "tags": []
          },
          "execution_count": 62
        }
      ]
    },
    {
      "cell_type": "code",
      "metadata": {
        "id": "MVf6M9VwdNcH",
        "colab_type": "code",
        "outputId": "a3a62d5a-e8bd-4304-ada3-2c9aac0d4921",
        "colab": {
          "base_uri": "https://localhost:8080/",
          "height": 51
        }
      },
      "source": [
        "#check the numbers of samples and features\n",
        "print(\"The train data size before dropping Id feature is : {} \".format(train.shape))\n",
        "print(\"The test data size before dropping Id feature is : {} \".format(test.shape))\n",
        "\n",
        "#Save the 'Id' column\n",
        "train_ID = train['id']\n",
        "test_ID = test['id']\n",
        "\n",
        "\n",
        "\n"
      ],
      "execution_count": 64,
      "outputs": [
        {
          "output_type": "stream",
          "text": [
            "The train data size before dropping Id feature is : (224524, 19) \n",
            "The test data size before dropping Id feature is : (110587, 18) \n"
          ],
          "name": "stdout"
        }
      ]
    },
    {
      "cell_type": "code",
      "metadata": {
        "id": "qZYU8BMNTKHT",
        "colab_type": "code",
        "colab": {
          "base_uri": "https://localhost:8080/",
          "height": 323
        },
        "outputId": "66f19162-5712-489c-e38d-2629459fd41c"
      },
      "source": [
        "#Now drop the  'Id' colum since it's unnecessary for  the prediction process.\n",
        "train.drop(\"id\", axis = 1, inplace = True)\n",
        "test.drop(\"id\", axis = 1, inplace = True)"
      ],
      "execution_count": 67,
      "outputs": [
        {
          "output_type": "error",
          "ename": "KeyError",
          "evalue": "ignored",
          "traceback": [
            "\u001b[0;31m---------------------------------------------------------------------------\u001b[0m",
            "\u001b[0;31mKeyError\u001b[0m                                  Traceback (most recent call last)",
            "\u001b[0;32m<ipython-input-67-3b73ab6f339d>\u001b[0m in \u001b[0;36m<module>\u001b[0;34m()\u001b[0m\n\u001b[0;32m----> 1\u001b[0;31m \u001b[0mtrain\u001b[0m\u001b[0;34m.\u001b[0m\u001b[0mdrop\u001b[0m\u001b[0;34m(\u001b[0m\u001b[0;34m\"id\"\u001b[0m\u001b[0;34m,\u001b[0m \u001b[0maxis\u001b[0m \u001b[0;34m=\u001b[0m \u001b[0;36m1\u001b[0m\u001b[0;34m,\u001b[0m \u001b[0minplace\u001b[0m \u001b[0;34m=\u001b[0m \u001b[0;32mTrue\u001b[0m\u001b[0;34m)\u001b[0m\u001b[0;34m\u001b[0m\u001b[0;34m\u001b[0m\u001b[0m\n\u001b[0m\u001b[1;32m      2\u001b[0m \u001b[0mtest\u001b[0m\u001b[0;34m.\u001b[0m\u001b[0mdrop\u001b[0m\u001b[0;34m(\u001b[0m\u001b[0;34m\"id\"\u001b[0m\u001b[0;34m,\u001b[0m \u001b[0maxis\u001b[0m \u001b[0;34m=\u001b[0m \u001b[0;36m1\u001b[0m\u001b[0;34m,\u001b[0m \u001b[0minplace\u001b[0m \u001b[0;34m=\u001b[0m \u001b[0;32mTrue\u001b[0m\u001b[0;34m)\u001b[0m\u001b[0;34m\u001b[0m\u001b[0;34m\u001b[0m\u001b[0m\n",
            "\u001b[0;32m/usr/local/lib/python3.6/dist-packages/pandas/core/frame.py\u001b[0m in \u001b[0;36mdrop\u001b[0;34m(self, labels, axis, index, columns, level, inplace, errors)\u001b[0m\n\u001b[1;32m   3938\u001b[0m                                            \u001b[0mindex\u001b[0m\u001b[0;34m=\u001b[0m\u001b[0mindex\u001b[0m\u001b[0;34m,\u001b[0m \u001b[0mcolumns\u001b[0m\u001b[0;34m=\u001b[0m\u001b[0mcolumns\u001b[0m\u001b[0;34m,\u001b[0m\u001b[0;34m\u001b[0m\u001b[0;34m\u001b[0m\u001b[0m\n\u001b[1;32m   3939\u001b[0m                                            \u001b[0mlevel\u001b[0m\u001b[0;34m=\u001b[0m\u001b[0mlevel\u001b[0m\u001b[0;34m,\u001b[0m \u001b[0minplace\u001b[0m\u001b[0;34m=\u001b[0m\u001b[0minplace\u001b[0m\u001b[0;34m,\u001b[0m\u001b[0;34m\u001b[0m\u001b[0;34m\u001b[0m\u001b[0m\n\u001b[0;32m-> 3940\u001b[0;31m                                            errors=errors)\n\u001b[0m\u001b[1;32m   3941\u001b[0m \u001b[0;34m\u001b[0m\u001b[0m\n\u001b[1;32m   3942\u001b[0m     @rewrite_axis_style_signature('mapper', [('copy', True),\n",
            "\u001b[0;32m/usr/local/lib/python3.6/dist-packages/pandas/core/generic.py\u001b[0m in \u001b[0;36mdrop\u001b[0;34m(self, labels, axis, index, columns, level, inplace, errors)\u001b[0m\n\u001b[1;32m   3778\u001b[0m         \u001b[0;32mfor\u001b[0m \u001b[0maxis\u001b[0m\u001b[0;34m,\u001b[0m \u001b[0mlabels\u001b[0m \u001b[0;32min\u001b[0m \u001b[0maxes\u001b[0m\u001b[0;34m.\u001b[0m\u001b[0mitems\u001b[0m\u001b[0;34m(\u001b[0m\u001b[0;34m)\u001b[0m\u001b[0;34m:\u001b[0m\u001b[0;34m\u001b[0m\u001b[0;34m\u001b[0m\u001b[0m\n\u001b[1;32m   3779\u001b[0m             \u001b[0;32mif\u001b[0m \u001b[0mlabels\u001b[0m \u001b[0;32mis\u001b[0m \u001b[0;32mnot\u001b[0m \u001b[0;32mNone\u001b[0m\u001b[0;34m:\u001b[0m\u001b[0;34m\u001b[0m\u001b[0;34m\u001b[0m\u001b[0m\n\u001b[0;32m-> 3780\u001b[0;31m                 \u001b[0mobj\u001b[0m \u001b[0;34m=\u001b[0m \u001b[0mobj\u001b[0m\u001b[0;34m.\u001b[0m\u001b[0m_drop_axis\u001b[0m\u001b[0;34m(\u001b[0m\u001b[0mlabels\u001b[0m\u001b[0;34m,\u001b[0m \u001b[0maxis\u001b[0m\u001b[0;34m,\u001b[0m \u001b[0mlevel\u001b[0m\u001b[0;34m=\u001b[0m\u001b[0mlevel\u001b[0m\u001b[0;34m,\u001b[0m \u001b[0merrors\u001b[0m\u001b[0;34m=\u001b[0m\u001b[0merrors\u001b[0m\u001b[0;34m)\u001b[0m\u001b[0;34m\u001b[0m\u001b[0;34m\u001b[0m\u001b[0m\n\u001b[0m\u001b[1;32m   3781\u001b[0m \u001b[0;34m\u001b[0m\u001b[0m\n\u001b[1;32m   3782\u001b[0m         \u001b[0;32mif\u001b[0m \u001b[0minplace\u001b[0m\u001b[0;34m:\u001b[0m\u001b[0;34m\u001b[0m\u001b[0;34m\u001b[0m\u001b[0m\n",
            "\u001b[0;32m/usr/local/lib/python3.6/dist-packages/pandas/core/generic.py\u001b[0m in \u001b[0;36m_drop_axis\u001b[0;34m(self, labels, axis, level, errors)\u001b[0m\n\u001b[1;32m   3810\u001b[0m                 \u001b[0mnew_axis\u001b[0m \u001b[0;34m=\u001b[0m \u001b[0maxis\u001b[0m\u001b[0;34m.\u001b[0m\u001b[0mdrop\u001b[0m\u001b[0;34m(\u001b[0m\u001b[0mlabels\u001b[0m\u001b[0;34m,\u001b[0m \u001b[0mlevel\u001b[0m\u001b[0;34m=\u001b[0m\u001b[0mlevel\u001b[0m\u001b[0;34m,\u001b[0m \u001b[0merrors\u001b[0m\u001b[0;34m=\u001b[0m\u001b[0merrors\u001b[0m\u001b[0;34m)\u001b[0m\u001b[0;34m\u001b[0m\u001b[0;34m\u001b[0m\u001b[0m\n\u001b[1;32m   3811\u001b[0m             \u001b[0;32melse\u001b[0m\u001b[0;34m:\u001b[0m\u001b[0;34m\u001b[0m\u001b[0;34m\u001b[0m\u001b[0m\n\u001b[0;32m-> 3812\u001b[0;31m                 \u001b[0mnew_axis\u001b[0m \u001b[0;34m=\u001b[0m \u001b[0maxis\u001b[0m\u001b[0;34m.\u001b[0m\u001b[0mdrop\u001b[0m\u001b[0;34m(\u001b[0m\u001b[0mlabels\u001b[0m\u001b[0;34m,\u001b[0m \u001b[0merrors\u001b[0m\u001b[0;34m=\u001b[0m\u001b[0merrors\u001b[0m\u001b[0;34m)\u001b[0m\u001b[0;34m\u001b[0m\u001b[0;34m\u001b[0m\u001b[0m\n\u001b[0m\u001b[1;32m   3813\u001b[0m             \u001b[0mresult\u001b[0m \u001b[0;34m=\u001b[0m \u001b[0mself\u001b[0m\u001b[0;34m.\u001b[0m\u001b[0mreindex\u001b[0m\u001b[0;34m(\u001b[0m\u001b[0;34m**\u001b[0m\u001b[0;34m{\u001b[0m\u001b[0maxis_name\u001b[0m\u001b[0;34m:\u001b[0m \u001b[0mnew_axis\u001b[0m\u001b[0;34m}\u001b[0m\u001b[0;34m)\u001b[0m\u001b[0;34m\u001b[0m\u001b[0;34m\u001b[0m\u001b[0m\n\u001b[1;32m   3814\u001b[0m \u001b[0;34m\u001b[0m\u001b[0m\n",
            "\u001b[0;32m/usr/local/lib/python3.6/dist-packages/pandas/core/indexes/base.py\u001b[0m in \u001b[0;36mdrop\u001b[0;34m(self, labels, errors)\u001b[0m\n\u001b[1;32m   4963\u001b[0m             \u001b[0;32mif\u001b[0m \u001b[0merrors\u001b[0m \u001b[0;34m!=\u001b[0m \u001b[0;34m'ignore'\u001b[0m\u001b[0;34m:\u001b[0m\u001b[0;34m\u001b[0m\u001b[0;34m\u001b[0m\u001b[0m\n\u001b[1;32m   4964\u001b[0m                 raise KeyError(\n\u001b[0;32m-> 4965\u001b[0;31m                     '{} not found in axis'.format(labels[mask]))\n\u001b[0m\u001b[1;32m   4966\u001b[0m             \u001b[0mindexer\u001b[0m \u001b[0;34m=\u001b[0m \u001b[0mindexer\u001b[0m\u001b[0;34m[\u001b[0m\u001b[0;34m~\u001b[0m\u001b[0mmask\u001b[0m\u001b[0;34m]\u001b[0m\u001b[0;34m\u001b[0m\u001b[0;34m\u001b[0m\u001b[0m\n\u001b[1;32m   4967\u001b[0m         \u001b[0;32mreturn\u001b[0m \u001b[0mself\u001b[0m\u001b[0;34m.\u001b[0m\u001b[0mdelete\u001b[0m\u001b[0;34m(\u001b[0m\u001b[0mindexer\u001b[0m\u001b[0;34m)\u001b[0m\u001b[0;34m\u001b[0m\u001b[0;34m\u001b[0m\u001b[0m\n",
            "\u001b[0;31mKeyError\u001b[0m: \"['id'] not found in axis\""
          ]
        }
      ]
    },
    {
      "cell_type": "code",
      "metadata": {
        "id": "CdvtRGOETXPg",
        "colab_type": "code",
        "outputId": "20b4ff0b-ecea-4f06-8f99-05a100dccf65",
        "colab": {
          "base_uri": "https://localhost:8080/",
          "height": 68
        }
      },
      "source": [
        "#check again the data size after dropping the 'Id' variable\n",
        "print(\"\\nThe train data size after dropping Id feature is : {} \".format(train.shape)) \n",
        "print(\"The test data size after dropping Id feature is : {} \".format(test.shape))"
      ],
      "execution_count": 68,
      "outputs": [
        {
          "output_type": "stream",
          "text": [
            "\n",
            "The train data size after dropping Id feature is : (224524, 18) \n",
            "The test data size after dropping Id feature is : (110587, 17) \n"
          ],
          "name": "stdout"
        }
      ]
    },
    {
      "cell_type": "code",
      "metadata": {
        "id": "dSyyuZ2udjRY",
        "colab_type": "code",
        "colab": {}
      },
      "source": [
        "#separate categorical varriable from numerical varriable\n",
        "quantitative = [f for f in train.columns if train.dtypes[f] != 'object']\n",
        "#quantitative.remove('SalePrice')\n",
        "#quantitative.remove('Id')\n",
        "qualitative = [f for f in train.columns if train.dtypes[f] == 'object']"
      ],
      "execution_count": 0,
      "outputs": []
    },
    {
      "cell_type": "code",
      "metadata": {
        "id": "Weixsbs2gTLO",
        "colab_type": "code",
        "outputId": "1e081bc0-61d6-4d00-a5d8-2303d20a560d",
        "colab": {
          "base_uri": "https://localhost:8080/",
          "height": 119
        }
      },
      "source": [
        "quantitative"
      ],
      "execution_count": 70,
      "outputs": [
        {
          "output_type": "execute_result",
          "data": {
            "text/plain": [
              "['Area_address_code',\n",
              " 'Permit_registration_year',\n",
              " 'registration_month',\n",
              " 'horse_power',\n",
              " 'mileage',\n",
              " 'naira_price']"
            ]
          },
          "metadata": {
            "tags": []
          },
          "execution_count": 70
        }
      ]
    },
    {
      "cell_type": "code",
      "metadata": {
        "id": "a1Pi8KCLgbgg",
        "colab_type": "code",
        "outputId": "80df8cf8-58c2-4daa-c0c0-2cc8380261ad",
        "colab": {
          "base_uri": "https://localhost:8080/",
          "height": 221
        }
      },
      "source": [
        "qualitative"
      ],
      "execution_count": 71,
      "outputs": [
        {
          "output_type": "execute_result",
          "data": {
            "text/plain": [
              "['seller_type',\n",
              " 'country_of_use',\n",
              " 'weblog_date',\n",
              " 'car_name',\n",
              " 'car_type',\n",
              " 'gas_type',\n",
              " 'car_brand',\n",
              " 'Status_of_car_repair',\n",
              " 'gear_type',\n",
              " 'date_of_advert',\n",
              " 'last_advert_online',\n",
              " 'model']"
            ]
          },
          "metadata": {
            "tags": []
          },
          "execution_count": 71
        }
      ]
    },
    {
      "cell_type": "code",
      "metadata": {
        "id": "1wu7USYleKeS",
        "colab_type": "code",
        "outputId": "a9cd256e-512f-4465-b650-b6eebe7ad5bd",
        "colab": {
          "base_uri": "https://localhost:8080/",
          "height": 378
        }
      },
      "source": [
        "#missing values\n",
        "sns.set_style(\"whitegrid\")\n",
        "missing = train.isnull().sum()\n",
        "missing = missing[missing > 0]\n",
        "missing.sort_values(inplace=True)\n",
        "missing.plot.bar()"
      ],
      "execution_count": 18,
      "outputs": [
        {
          "output_type": "execute_result",
          "data": {
            "text/plain": [
              "<matplotlib.axes._subplots.AxesSubplot at 0x7f7cc257a780>"
            ]
          },
          "metadata": {
            "tags": []
          },
          "execution_count": 18
        },
        {
          "output_type": "display_data",
          "data": {
            "image/png": "[encoded data removed]",
            "text/plain": [
              "<Figure size 432x288 with 1 Axes>"
            ]
          },
          "metadata": {
            "tags": []
          }
        }
      ]
    },
    {
      "cell_type": "code",
      "metadata": {
        "id": "D4RGYTvrhORZ",
        "colab_type": "code",
        "outputId": "e0dbf681-cc82-4438-85ac-262d502f9ce6",
        "colab": {
          "base_uri": "https://localhost:8080/",
          "height": 238
        }
      },
      "source": [
        "# check number & percentage of missing value in the columns\n",
        "def missing_values_table(df):\n",
        "  mis_val = df.isnull().sum() #total missing values\n",
        "  mis_val_percent = 100 * df.isnull().sum() / len(df) #percentage of missing values\n",
        "  mis_val_table = pd.concat([mis_val, mis_val_percent], axis=1) #make a table with the results\n",
        "  mis_val_table_ren_columns = mis_val_table.rename(\n",
        "  columns = {0 : 'Missing Values', 1 : '% of Total Values'}) #rename the columns\n",
        "     # sort the table by percentage of missing value\n",
        "  mis_val_table_ren_columns = mis_val_table_ren_columns[\n",
        "  mis_val_table_ren_columns.iloc[:,1] != 0].sort_values(\n",
        "        '% of Total Values', ascending=False).round(1)\n",
        "\n",
        "        #print same summary information\n",
        "  print (\"Your selected dataframe has \" + str(df.shape[1]) + \" columns.\\n\"      \n",
        "            \"There are \" + str(mis_val_table_ren_columns.shape[0]) +\n",
        "              \" columns that have missing values.\")\n",
        "\n",
        "          # return the dataframe with missing information\n",
        "  return mis_val_table_ren_columns\n",
        "  \n",
        "missing_values = missing_values_table(train)\n",
        "missing_values.head()"
      ],
      "execution_count": 72,
      "outputs": [
        {
          "output_type": "stream",
          "text": [
            "Your selected dataframe has 18 columns.\n",
            "There are 5 columns that have missing values.\n"
          ],
          "name": "stdout"
        },
        {
          "output_type": "execute_result",
          "data": {
            "text/html": [
              "<div>\n",
              "<style scoped>\n",
              "    .dataframe tbody tr th:only-of-type {\n",
              "        vertical-align: middle;\n",
              "    }\n",
              "\n",
              "    .dataframe tbody tr th {\n",
              "        vertical-align: top;\n",
              "    }\n",
              "\n",
              "    .dataframe thead th {\n",
              "        text-align: right;\n",
              "    }\n",
              "</style>\n",
              "<table border=\"1\" class=\"dataframe\">\n",
              "  <thead>\n",
              "    <tr style=\"text-align: right;\">\n",
              "      <th></th>\n",
              "      <th>Missing Values</th>\n",
              "      <th>% of Total Values</th>\n",
              "    </tr>\n",
              "  </thead>\n",
              "  <tbody>\n",
              "    <tr>\n",
              "      <th>Status_of_car_repair</th>\n",
              "      <td>37087</td>\n",
              "      <td>16.500</td>\n",
              "    </tr>\n",
              "    <tr>\n",
              "      <th>car_type</th>\n",
              "      <td>27959</td>\n",
              "      <td>12.500</td>\n",
              "    </tr>\n",
              "    <tr>\n",
              "      <th>gas_type</th>\n",
              "      <td>16091</td>\n",
              "      <td>7.200</td>\n",
              "    </tr>\n",
              "    <tr>\n",
              "      <th>model</th>\n",
              "      <td>10248</td>\n",
              "      <td>4.600</td>\n",
              "    </tr>\n",
              "    <tr>\n",
              "      <th>gear_type</th>\n",
              "      <td>9133</td>\n",
              "      <td>4.100</td>\n",
              "    </tr>\n",
              "  </tbody>\n",
              "</table>\n",
              "</div>"
            ],
            "text/plain": [
              "                      Missing Values  % of Total Values\n",
              "Status_of_car_repair           37087             16.500\n",
              "car_type                       27959             12.500\n",
              "gas_type                       16091              7.200\n",
              "model                          10248              4.600\n",
              "gear_type                       9133              4.100"
            ]
          },
          "metadata": {
            "tags": []
          },
          "execution_count": 72
        }
      ]
    },
    {
      "cell_type": "code",
      "metadata": {
        "id": "ZXtI7T78vWZt",
        "colab_type": "code",
        "outputId": "f3ce3d5a-614c-4d4d-f1e0-9c7eef15e7da",
        "colab": {
          "base_uri": "https://localhost:8080/",
          "height": 51
        }
      },
      "source": [
        "train['car_type'].unique()"
      ],
      "execution_count": 73,
      "outputs": [
        {
          "output_type": "execute_result",
          "data": {
            "text/plain": [
              "array(['small car', 'limousine', 'other', 'bus', nan, 'convertible',\n",
              "       'station wagon', 'coupé'], dtype=object)"
            ]
          },
          "metadata": {
            "tags": []
          },
          "execution_count": 73
        }
      ]
    },
    {
      "cell_type": "code",
      "metadata": {
        "id": "PYop6f9DVvBO",
        "colab_type": "code",
        "colab": {}
      },
      "source": [
        "#fill nan values with others\n",
        "#will be one-hot encoded\n",
        "train['car_type']=train[\"car_type\"].fillna('other')"
      ],
      "execution_count": 0,
      "outputs": []
    },
    {
      "cell_type": "code",
      "metadata": {
        "id": "twx89aAcWLNV",
        "colab_type": "code",
        "outputId": "cfb7ca58-e235-48a6-a340-01c4fe286957",
        "colab": {
          "base_uri": "https://localhost:8080/",
          "height": 153
        }
      },
      "source": [
        "train['car_type'].value_counts()"
      ],
      "execution_count": 75,
      "outputs": [
        {
          "output_type": "execute_result",
          "data": {
            "text/plain": [
              "limousine        60125\n",
              "small car        45814\n",
              "station wagon    42371\n",
              "other            29888\n",
              "bus              19639\n",
              "convertible      14952\n",
              "coupé            11735\n",
              "Name: car_type, dtype: int64"
            ]
          },
          "metadata": {
            "tags": []
          },
          "execution_count": 75
        }
      ]
    },
    {
      "cell_type": "code",
      "metadata": {
        "id": "BMT0wq68viyN",
        "colab_type": "code",
        "outputId": "220e87c8-b9b3-4422-a15e-81094c4dc2a3",
        "colab": {
          "base_uri": "https://localhost:8080/",
          "height": 51
        }
      },
      "source": [
        "train['gas_type'].unique()"
      ],
      "execution_count": 76,
      "outputs": [
        {
          "output_type": "execute_result",
          "data": {
            "text/plain": [
              "array(['gasoline', nan, 'diesel', 'liquefied petroleum gas',\n",
              "       'compressed natural gas', 'other'], dtype=object)"
            ]
          },
          "metadata": {
            "tags": []
          },
          "execution_count": 76
        }
      ]
    },
    {
      "cell_type": "code",
      "metadata": {
        "id": "LEmYEWD3aWF5",
        "colab_type": "code",
        "colab": {}
      },
      "source": [
        "#fill nan with others\n",
        "train['gas_type']=train[\"gas_type\"].fillna('other')"
      ],
      "execution_count": 0,
      "outputs": []
    },
    {
      "cell_type": "code",
      "metadata": {
        "id": "xP6XgoKVWX8R",
        "colab_type": "code",
        "outputId": "8c078783-ddef-463d-a3e3-266f35fb411d",
        "colab": {
          "base_uri": "https://localhost:8080/",
          "height": 119
        }
      },
      "source": [
        "#one hot encoding will be done\n",
        "train['gas_type'].value_counts()"
      ],
      "execution_count": 78,
      "outputs": [
        {
          "output_type": "execute_result",
          "data": {
            "text/plain": [
              "gasoline                   134042\n",
              "diesel                      70531\n",
              "other                       16179\n",
              "liquefied petroleum gas      3405\n",
              "compressed natural gas        367\n",
              "Name: gas_type, dtype: int64"
            ]
          },
          "metadata": {
            "tags": []
          },
          "execution_count": 78
        }
      ]
    },
    {
      "cell_type": "code",
      "metadata": {
        "id": "Mi7Z3LYMv4JU",
        "colab_type": "code",
        "outputId": "f08d212a-3a14-4d8d-dc2f-1763e75568c6",
        "colab": {
          "base_uri": "https://localhost:8080/",
          "height": 663
        }
      },
      "source": [
        "#remove the model the car type can represent model\n",
        "train['model'].unique()"
      ],
      "execution_count": 79,
      "outputs": [
        {
          "output_type": "execute_result",
          "data": {
            "text/plain": [
              "array(['forfour', 'arosa', 'tigra', 'fabia', 'tucson', 'scenic',\n",
              "       'a_klasse', 'mx_reihe', 'c_klasse', 'v50', 'lupo', 'polo',\n",
              "       'touareg', nan, 'c4', 'micra', 'golf', 'q5', 'toledo', 'santa',\n",
              "       'v40', 'andere', '100', '3er', 'corsa', 'yaris', 'clk', 'cl',\n",
              "       'punto', 'cayenne', 'corolla', 'vito', 'focus', 'passat',\n",
              "       'x_reihe', '2_reihe', '1_reihe', 'astra', 'seicento',\n",
              "       'transporter', 'a4', 'colt', 'octavia', 'c_reihe', '5er', 'cooper',\n",
              "       'vectra', 'insignia', '3_reihe', 'a6', 'fiesta', 'agila',\n",
              "       'impreza', '7er', 'accord', 'a3', 'beetle', '147', 'grand', 'leon',\n",
              "       'combo', 'megane', 'twingo', 'clio', 'z_reihe', 'xc_reihe', '1er',\n",
              "       'phaeton', 'ibiza', 'verso', 'slk', 'civic', 'a5', 'swift', 'rav',\n",
              "       'caddy', 'up', 'touran', 'yeti', 'sharan', '4_reihe', 'matiz',\n",
              "       'i_reihe', 'stilo', 'e_klasse', 'mondeo', 'wrangler', 'kangoo',\n",
              "       'superb', 'fortwo', 'meriva', 'bora', 'sportage', 'cordoba', 'a1',\n",
              "       'm_klasse', 'legacy', 'c1', 'sprinter', '500', 'v70', '911', 'tt',\n",
              "       'antara', 'ka', 'range_rover', '156', 'viano', 'cherokee',\n",
              "       'duster', '6_reihe', 'panda', 'x_trail', 'laguna', 'auris',\n",
              "       'zafira', 'roadster', 'q7', 'fusion', 'lancer', 'carisma',\n",
              "       'escort', 'sl', 'one', 'glk', 'ceed', 'berlingo', 'bravo', '159',\n",
              "       'spark', 'alhambra', 'primera', 'kaefer', '80', 'carnival', 'aygo',\n",
              "       'fox', '90', 'tiguan', 'sorento', 'cr_reihe', 'outlander',\n",
              "       'b_klasse', 'a8', 'a2', 'eos', 'galaxy', 'scirocco', 'c_max',\n",
              "       'omega', 'crossfire', 'almera', 'c5', 'getz', 's_klasse',\n",
              "       'clubman', 'forester', 'range_rover_sport', 'kuga', 'picanto',\n",
              "       'altea', 'cc', 'c2', '6er', 'doblo', 'c3', 'q3', '200', 'jetta',\n",
              "       'pajero', 'ducato', 'jazz', '300c', 'kalos', '850', 'exeo',\n",
              "       'roomster', 'voyager', '601', 'v_klasse', 'x_type', 'signum',\n",
              "       'mustang', 'galant', 'ptcruiser', 'freelander', 'captiva', 'modus',\n",
              "       'note', 'transit', 'juke', 's_type', 'citigo', 'jimny', 'espace',\n",
              "       'boxster', 'logan', 'rio', 'vivaro', 'qashqai', 'defender',\n",
              "       'avensis', 'kadett', '5_reihe', 'kappa', 'sandero', 'm_reihe',\n",
              "       '900', 'cuore', 'discovery', 'lanos', 'rx_reihe', 's_max',\n",
              "       'range_rover_evoque', 'r19', 'gl', 'sirion', 'niva', 'lybra',\n",
              "       'ypsilon', 'delta', 'move', 'g_klasse', 'cx_reihe', 'navara',\n",
              "       'spider', 'calibra', 'charade', 'b_max', 's60', 'aveo', 'nubira',\n",
              "       'kalina', 'i3', 'justy', 'samara', 'croma', 'v60', '145', 'amarok',\n",
              "       'materia', 'mii', '9000', 'elefantino', 'terios', 'lodgy', 'musa',\n",
              "       'serie_3', 'serie_1', 'rangerover', 'serie_2'], dtype=object)"
            ]
          },
          "metadata": {
            "tags": []
          },
          "execution_count": 79
        }
      ]
    },
    {
      "cell_type": "code",
      "metadata": {
        "id": "aRVguK-nfrxz",
        "colab_type": "code",
        "colab": {}
      },
      "source": [
        "#model removed\n",
        "#train.drop(\"model\", axis = 1, inplace = True)\n",
        "#test.drop(\"model\", axis = 1, inplace = True)"
      ],
      "execution_count": 0,
      "outputs": []
    },
    {
      "cell_type": "code",
      "metadata": {
        "id": "Nmm22g-XgGH_",
        "colab_type": "code",
        "outputId": "bc5ae4ea-18bd-4b16-cfa3-a26d7e1ff50b",
        "colab": {
          "base_uri": "https://localhost:8080/",
          "height": 68
        }
      },
      "source": [
        "#handling Missing Values\n",
        "#to be one hot encoded\n",
        "train['gear_type'].value_counts()"
      ],
      "execution_count": 83,
      "outputs": [
        {
          "output_type": "execute_result",
          "data": {
            "text/plain": [
              "manuell      165717\n",
              "automatik     49674\n",
              "Name: gear_type, dtype: int64"
            ]
          },
          "metadata": {
            "tags": []
          },
          "execution_count": 83
        }
      ]
    },
    {
      "cell_type": "code",
      "metadata": {
        "id": "7Jt4IzcbuJPf",
        "colab_type": "code",
        "outputId": "53083864-f8e1-4299-e8f9-923c15cf551a",
        "colab": {
          "base_uri": "https://localhost:8080/",
          "height": 34
        }
      },
      "source": [
        "train['gear_type'].unique()"
      ],
      "execution_count": 84,
      "outputs": [
        {
          "output_type": "execute_result",
          "data": {
            "text/plain": [
              "array(['manuell', 'automatik', nan], dtype=object)"
            ]
          },
          "metadata": {
            "tags": []
          },
          "execution_count": 84
        }
      ]
    },
    {
      "cell_type": "code",
      "metadata": {
        "id": "pq6cAe-Audtg",
        "colab_type": "code",
        "colab": {}
      },
      "source": [
        "train['gear_type']=train['gear_type'].fillna('Not_Available')"
      ],
      "execution_count": 0,
      "outputs": []
    },
    {
      "cell_type": "code",
      "metadata": {
        "id": "jbFtCj2b5uOu",
        "colab_type": "code",
        "outputId": "89a7c78b-9bfd-4bf1-f325-2cea2284ff4a",
        "colab": {
          "base_uri": "https://localhost:8080/",
          "height": 85
        }
      },
      "source": [
        "#one hot encode\n",
        "train['gear_type'].value_counts()"
      ],
      "execution_count": 86,
      "outputs": [
        {
          "output_type": "execute_result",
          "data": {
            "text/plain": [
              "manuell          165717\n",
              "automatik         49674\n",
              "Not_Available      9133\n",
              "Name: gear_type, dtype: int64"
            ]
          },
          "metadata": {
            "tags": []
          },
          "execution_count": 86
        }
      ]
    },
    {
      "cell_type": "code",
      "metadata": {
        "id": "TwY0oTRF5Vl1",
        "colab_type": "code",
        "outputId": "c6f9325c-3156-40bc-b800-40cb53fc12ef",
        "colab": {
          "base_uri": "https://localhost:8080/",
          "height": 68
        }
      },
      "source": [
        "# to be one hot encoded\n",
        "train['Status_of_car_repair'].value_counts()"
      ],
      "execution_count": 87,
      "outputs": [
        {
          "output_type": "execute_result",
          "data": {
            "text/plain": [
              "nein    169545\n",
              "ja       17892\n",
              "Name: Status_of_car_repair, dtype: int64"
            ]
          },
          "metadata": {
            "tags": []
          },
          "execution_count": 87
        }
      ]
    },
    {
      "cell_type": "code",
      "metadata": {
        "id": "shK1Wdr1oce7",
        "colab_type": "code",
        "outputId": "1e63b532-2c3d-46b8-9634-3cc3b4f5bcd1",
        "colab": {
          "base_uri": "https://localhost:8080/",
          "height": 34
        }
      },
      "source": [
        "train['Status_of_car_repair'].unique()"
      ],
      "execution_count": 88,
      "outputs": [
        {
          "output_type": "execute_result",
          "data": {
            "text/plain": [
              "array(['nein', nan, 'ja'], dtype=object)"
            ]
          },
          "metadata": {
            "tags": []
          },
          "execution_count": 88
        }
      ]
    },
    {
      "cell_type": "code",
      "metadata": {
        "id": "84yVYE4ZpsHM",
        "colab_type": "code",
        "outputId": "6a06531f-2ee8-4cbc-a994-7c433c8f60dc",
        "colab": {
          "base_uri": "https://localhost:8080/",
          "height": 85
        }
      },
      "source": [
        "#one hot encode \n",
        "train['Status_of_car_repair']=train['Status_of_car_repair'].fillna('Not_available')\n",
        "# to be one hot encoded\n",
        "train['Status_of_car_repair'].value_counts()"
      ],
      "execution_count": 89,
      "outputs": [
        {
          "output_type": "execute_result",
          "data": {
            "text/plain": [
              "nein             169545\n",
              "Not_available     37087\n",
              "ja                17892\n",
              "Name: Status_of_car_repair, dtype: int64"
            ]
          },
          "metadata": {
            "tags": []
          },
          "execution_count": 89
        }
      ]
    },
    {
      "cell_type": "code",
      "metadata": {
        "id": "OmNlK3nmgibj",
        "colab_type": "code",
        "outputId": "0b249b7b-cea7-4d00-f804-a4a566db3149",
        "colab": {
          "base_uri": "https://localhost:8080/",
          "height": 34
        }
      },
      "source": [
        "type(train)"
      ],
      "execution_count": 90,
      "outputs": [
        {
          "output_type": "execute_result",
          "data": {
            "text/plain": [
              "pandas.core.frame.DataFrame"
            ]
          },
          "metadata": {
            "tags": []
          },
          "execution_count": 90
        }
      ]
    },
    {
      "cell_type": "code",
      "metadata": {
        "id": "ia5hTO69fb9a",
        "colab_type": "code",
        "outputId": "21469b3c-0704-4fac-b360-d6fe0ce29d27",
        "colab": {
          "base_uri": "https://localhost:8080/",
          "height": 51
        }
      },
      "source": [
        "#convert seller typeto a numeric value\n",
        "#use label-encoder\n",
        "train['seller_type'].value_counts()\n"
      ],
      "execution_count": 91,
      "outputs": [
        {
          "output_type": "execute_result",
          "data": {
            "text/plain": [
              "private    224524\n",
              "Name: seller_type, dtype: int64"
            ]
          },
          "metadata": {
            "tags": []
          },
          "execution_count": 91
        }
      ]
    },
    {
      "cell_type": "code",
      "metadata": {
        "id": "H96tinPs4OuV",
        "colab_type": "code",
        "outputId": "734ab1d1-0b4f-44eb-a99e-f31f7f9a0719",
        "colab": {
          "base_uri": "https://localhost:8080/",
          "height": 51
        }
      },
      "source": [
        "#label encoder\n",
        "train['country_of_use'].value_counts()"
      ],
      "execution_count": 92,
      "outputs": [
        {
          "output_type": "execute_result",
          "data": {
            "text/plain": [
              "london    224524\n",
              "Name: country_of_use, dtype: int64"
            ]
          },
          "metadata": {
            "tags": []
          },
          "execution_count": 92
        }
      ]
    },
    {
      "cell_type": "code",
      "metadata": {
        "id": "8u7ppAuNvnZm",
        "colab_type": "code",
        "colab": {}
      },
      "source": [
        "#remove car_brand can be categorized with car_type\n",
        "#train['car_brand'].unique()"
      ],
      "execution_count": 0,
      "outputs": []
    },
    {
      "cell_type": "code",
      "metadata": {
        "id": "SIXxYvlgn0Qy",
        "colab_type": "code",
        "colab": {}
      },
      "source": [
        "#dropping car_brand and car_name\n",
        "train.drop(['car_brand','car_name'],axis=1,inplace=True)\n",
        "\n",
        "test.drop(['car_brand','car_name'],axis=1,inplace=True)"
      ],
      "execution_count": 0,
      "outputs": []
    },
    {
      "cell_type": "code",
      "metadata": {
        "id": "TCLr25n3oKsk",
        "colab_type": "code",
        "outputId": "e7e4cda4-b165-4fd3-9e45-81ee38f2db17",
        "colab": {
          "base_uri": "https://localhost:8080/",
          "height": 224
        }
      },
      "source": [
        "train.head()"
      ],
      "execution_count": 94,
      "outputs": [
        {
          "output_type": "execute_result",
          "data": {
            "text/html": [
              "<div>\n",
              "<style scoped>\n",
              "    .dataframe tbody tr th:only-of-type {\n",
              "        vertical-align: middle;\n",
              "    }\n",
              "\n",
              "    .dataframe tbody tr th {\n",
              "        vertical-align: top;\n",
              "    }\n",
              "\n",
              "    .dataframe thead th {\n",
              "        text-align: right;\n",
              "    }\n",
              "</style>\n",
              "<table border=\"1\" class=\"dataframe\">\n",
              "  <thead>\n",
              "    <tr style=\"text-align: right;\">\n",
              "      <th></th>\n",
              "      <th>seller_type</th>\n",
              "      <th>country_of_use</th>\n",
              "      <th>weblog_date</th>\n",
              "      <th>Area_address_code</th>\n",
              "      <th>car_type</th>\n",
              "      <th>Permit_registration_year</th>\n",
              "      <th>registration_month</th>\n",
              "      <th>horse_power</th>\n",
              "      <th>mileage</th>\n",
              "      <th>gas_type</th>\n",
              "      <th>Status_of_car_repair</th>\n",
              "      <th>gear_type</th>\n",
              "      <th>date_of_advert</th>\n",
              "      <th>last_advert_online</th>\n",
              "      <th>naira_price</th>\n",
              "    </tr>\n",
              "  </thead>\n",
              "  <tbody>\n",
              "    <tr>\n",
              "      <th>0</th>\n",
              "      <td>private</td>\n",
              "      <td>london</td>\n",
              "      <td>2016-03-15</td>\n",
              "      <td>78183</td>\n",
              "      <td>small car</td>\n",
              "      <td>2007</td>\n",
              "      <td>11</td>\n",
              "      <td>95</td>\n",
              "      <td>241350.000</td>\n",
              "      <td>gasoline</td>\n",
              "      <td>nein</td>\n",
              "      <td>manuell</td>\n",
              "      <td>2016-03-15</td>\n",
              "      <td>2016-03-16</td>\n",
              "      <td>864000</td>\n",
              "    </tr>\n",
              "    <tr>\n",
              "      <th>1</th>\n",
              "      <td>private</td>\n",
              "      <td>london</td>\n",
              "      <td>2016-04-01</td>\n",
              "      <td>47166</td>\n",
              "      <td>small car</td>\n",
              "      <td>2003</td>\n",
              "      <td>7</td>\n",
              "      <td>101</td>\n",
              "      <td>241350.000</td>\n",
              "      <td>gasoline</td>\n",
              "      <td>nein</td>\n",
              "      <td>manuell</td>\n",
              "      <td>2016-04-01</td>\n",
              "      <td>2016-04-03</td>\n",
              "      <td>630000</td>\n",
              "    </tr>\n",
              "    <tr>\n",
              "      <th>2</th>\n",
              "      <td>private</td>\n",
              "      <td>london</td>\n",
              "      <td>2016-03-17</td>\n",
              "      <td>44623</td>\n",
              "      <td>small car</td>\n",
              "      <td>1999</td>\n",
              "      <td>8</td>\n",
              "      <td>90</td>\n",
              "      <td>241350.000</td>\n",
              "      <td>other</td>\n",
              "      <td>Not_available</td>\n",
              "      <td>manuell</td>\n",
              "      <td>2016-03-17</td>\n",
              "      <td>2016-04-07</td>\n",
              "      <td>180000</td>\n",
              "    </tr>\n",
              "    <tr>\n",
              "      <th>3</th>\n",
              "      <td>private</td>\n",
              "      <td>london</td>\n",
              "      <td>2016-03-29</td>\n",
              "      <td>53945</td>\n",
              "      <td>limousine</td>\n",
              "      <td>2003</td>\n",
              "      <td>6</td>\n",
              "      <td>68</td>\n",
              "      <td>201125.000</td>\n",
              "      <td>gasoline</td>\n",
              "      <td>Not_available</td>\n",
              "      <td>manuell</td>\n",
              "      <td>2016-03-29</td>\n",
              "      <td>2016-03-29</td>\n",
              "      <td>432000</td>\n",
              "    </tr>\n",
              "    <tr>\n",
              "      <th>4</th>\n",
              "      <td>private</td>\n",
              "      <td>london</td>\n",
              "      <td>2016-03-24</td>\n",
              "      <td>45886</td>\n",
              "      <td>other</td>\n",
              "      <td>2008</td>\n",
              "      <td>0</td>\n",
              "      <td>120</td>\n",
              "      <td>241350.000</td>\n",
              "      <td>other</td>\n",
              "      <td>Not_available</td>\n",
              "      <td>automatik</td>\n",
              "      <td>2016-03-24</td>\n",
              "      <td>2016-04-05</td>\n",
              "      <td>1692000</td>\n",
              "    </tr>\n",
              "  </tbody>\n",
              "</table>\n",
              "</div>"
            ],
            "text/plain": [
              "  seller_type country_of_use  ... last_advert_online  naira_price\n",
              "0     private         london  ...         2016-03-16       864000\n",
              "1     private         london  ...         2016-04-03       630000\n",
              "2     private         london  ...         2016-04-07       180000\n",
              "3     private         london  ...         2016-03-29       432000\n",
              "4     private         london  ...         2016-04-05      1692000\n",
              "\n",
              "[5 rows x 15 columns]"
            ]
          },
          "metadata": {
            "tags": []
          },
          "execution_count": 94
        }
      ]
    },
    {
      "cell_type": "code",
      "metadata": {
        "id": "QVNv-NiIaQ2W",
        "colab_type": "code",
        "colab": {}
      },
      "source": [
        "# converting dates into datetime format\n",
        "\n",
        "train['weblog_date'] = pd.to_datetime(train['weblog_date'], errors = 'coerce')\n",
        "#train['date_of_advert'] = pd.to_datetime(train['date_of_advert'], errors = 'coerce')\n",
        "train['last_advert_online'] = pd.to_datetime(train['last_advert_online'], errors = 'coerce')\n",
        "# extracting out years, months, days and weeks from the date\n",
        "#train['weblog_date_year'] = train['weblog_date'].dt.year\n",
        "#train['weblog_date_month'] = train['weblog_date'].dt.month\n",
        "#train['date_of_advert_year'] = train['date_of_advert'].dt.year\n",
        "#train['date_of_advert_month'] = train['date_of_advert'].dt.month\n",
        "#train['last_advert_online_year'] = train['last_advert_online'].dt.year\n",
        "#train['last_advert_online_month'] = train['last_advert_online'].dt.month\n",
        "\n",
        "\n"
      ],
      "execution_count": 0,
      "outputs": []
    },
    {
      "cell_type": "code",
      "metadata": {
        "id": "rE_eZXQ_zCaF",
        "colab_type": "code",
        "colab": {}
      },
      "source": [
        "test['weblog_date'] = pd.to_datetime(test['weblog_date'], errors = 'coerce')\n",
        "#test['date_of_advert'] = pd.to_datetime(test['date_of_advert'], errors = 'coerce')\n",
        "test['last_advert_online'] = pd.to_datetime(test['last_advert_online'], errors = 'coerce')\n",
        "\n",
        "# extracting out years, months, days and weeks from the date\n",
        "\n",
        "#test['weblog_date_year'] = test['weblog_date'].dt.year\n",
        "#test['weblog_date_month'] = test['weblog_date'].dt.month\n",
        "\n",
        "#test['date_of_advert_year'] = test['date_of_advert'].dt.year\n",
        "#test['date_of_advert_month'] = test['date_of_advert'].dt.month\n",
        "\n",
        "#test['last_advert_online_year'] = test['last_advert_online'].dt.year\n",
        "#test['last_advert_online_month'] = test['last_advert_online'].dt.month"
      ],
      "execution_count": 0,
      "outputs": []
    },
    {
      "cell_type": "code",
      "metadata": {
        "id": "nRkARgSTl_yi",
        "colab_type": "code",
        "colab": {}
      },
      "source": [
        "#Difference advert dates in days for train\n",
        "train['advert_days_diff']=train['last_advert_online']-train['weblog_date']"
      ],
      "execution_count": 0,
      "outputs": []
    },
    {
      "cell_type": "code",
      "metadata": {
        "id": "_heQ89JrnrSa",
        "colab_type": "code",
        "colab": {}
      },
      "source": [
        "#Difference advert dates in days for test\n",
        "test['advert_days_diff']=test['last_advert_online']-test['weblog_date']"
      ],
      "execution_count": 0,
      "outputs": []
    },
    {
      "cell_type": "code",
      "metadata": {
        "id": "Q5RUrW0G_zwH",
        "colab_type": "code",
        "colab": {}
      },
      "source": [
        " #remove this features date_of_advert,weblogdate,last_advert_online\n",
        " #weblog date and date of advert looks same\n",
        "train.drop(['date_of_advert','weblog_date','last_advert_online'],inplace=True,axis=1)"
      ],
      "execution_count": 0,
      "outputs": []
    },
    {
      "cell_type": "code",
      "metadata": {
        "id": "ArPrpxwZBP6Q",
        "colab_type": "code",
        "colab": {}
      },
      "source": [
        " test.drop(['date_of_advert','weblog_date','last_advert_online'],inplace=True,axis=1)"
      ],
      "execution_count": 0,
      "outputs": []
    },
    {
      "cell_type": "code",
      "metadata": {
        "id": "2PGVaGXKthFC",
        "colab_type": "code",
        "outputId": "61d53869-d5f9-4bf4-a062-d1c338310e77",
        "colab": {
          "base_uri": "https://localhost:8080/",
          "height": 224
        }
      },
      "source": [
        "train.head()"
      ],
      "execution_count": 101,
      "outputs": [
        {
          "output_type": "execute_result",
          "data": {
            "text/html": [
              "<div>\n",
              "<style scoped>\n",
              "    .dataframe tbody tr th:only-of-type {\n",
              "        vertical-align: middle;\n",
              "    }\n",
              "\n",
              "    .dataframe tbody tr th {\n",
              "        vertical-align: top;\n",
              "    }\n",
              "\n",
              "    .dataframe thead th {\n",
              "        text-align: right;\n",
              "    }\n",
              "</style>\n",
              "<table border=\"1\" class=\"dataframe\">\n",
              "  <thead>\n",
              "    <tr style=\"text-align: right;\">\n",
              "      <th></th>\n",
              "      <th>seller_type</th>\n",
              "      <th>country_of_use</th>\n",
              "      <th>Area_address_code</th>\n",
              "      <th>car_type</th>\n",
              "      <th>Permit_registration_year</th>\n",
              "      <th>registration_month</th>\n",
              "      <th>horse_power</th>\n",
              "      <th>mileage</th>\n",
              "      <th>gas_type</th>\n",
              "      <th>Status_of_car_repair</th>\n",
              "      <th>gear_type</th>\n",
              "      <th>naira_price</th>\n",
              "      <th>advert_days_diff</th>\n",
              "    </tr>\n",
              "  </thead>\n",
              "  <tbody>\n",
              "    <tr>\n",
              "      <th>0</th>\n",
              "      <td>private</td>\n",
              "      <td>london</td>\n",
              "      <td>78183</td>\n",
              "      <td>small car</td>\n",
              "      <td>2007</td>\n",
              "      <td>11</td>\n",
              "      <td>95</td>\n",
              "      <td>241350.000</td>\n",
              "      <td>gasoline</td>\n",
              "      <td>nein</td>\n",
              "      <td>manuell</td>\n",
              "      <td>864000</td>\n",
              "      <td>1 days</td>\n",
              "    </tr>\n",
              "    <tr>\n",
              "      <th>1</th>\n",
              "      <td>private</td>\n",
              "      <td>london</td>\n",
              "      <td>47166</td>\n",
              "      <td>small car</td>\n",
              "      <td>2003</td>\n",
              "      <td>7</td>\n",
              "      <td>101</td>\n",
              "      <td>241350.000</td>\n",
              "      <td>gasoline</td>\n",
              "      <td>nein</td>\n",
              "      <td>manuell</td>\n",
              "      <td>630000</td>\n",
              "      <td>2 days</td>\n",
              "    </tr>\n",
              "    <tr>\n",
              "      <th>2</th>\n",
              "      <td>private</td>\n",
              "      <td>london</td>\n",
              "      <td>44623</td>\n",
              "      <td>small car</td>\n",
              "      <td>1999</td>\n",
              "      <td>8</td>\n",
              "      <td>90</td>\n",
              "      <td>241350.000</td>\n",
              "      <td>other</td>\n",
              "      <td>Not_available</td>\n",
              "      <td>manuell</td>\n",
              "      <td>180000</td>\n",
              "      <td>21 days</td>\n",
              "    </tr>\n",
              "    <tr>\n",
              "      <th>3</th>\n",
              "      <td>private</td>\n",
              "      <td>london</td>\n",
              "      <td>53945</td>\n",
              "      <td>limousine</td>\n",
              "      <td>2003</td>\n",
              "      <td>6</td>\n",
              "      <td>68</td>\n",
              "      <td>201125.000</td>\n",
              "      <td>gasoline</td>\n",
              "      <td>Not_available</td>\n",
              "      <td>manuell</td>\n",
              "      <td>432000</td>\n",
              "      <td>0 days</td>\n",
              "    </tr>\n",
              "    <tr>\n",
              "      <th>4</th>\n",
              "      <td>private</td>\n",
              "      <td>london</td>\n",
              "      <td>45886</td>\n",
              "      <td>other</td>\n",
              "      <td>2008</td>\n",
              "      <td>0</td>\n",
              "      <td>120</td>\n",
              "      <td>241350.000</td>\n",
              "      <td>other</td>\n",
              "      <td>Not_available</td>\n",
              "      <td>automatik</td>\n",
              "      <td>1692000</td>\n",
              "      <td>12 days</td>\n",
              "    </tr>\n",
              "  </tbody>\n",
              "</table>\n",
              "</div>"
            ],
            "text/plain": [
              "  seller_type country_of_use  ...  naira_price advert_days_diff\n",
              "0     private         london  ...       864000           1 days\n",
              "1     private         london  ...       630000           2 days\n",
              "2     private         london  ...       180000          21 days\n",
              "3     private         london  ...       432000           0 days\n",
              "4     private         london  ...      1692000          12 days\n",
              "\n",
              "[5 rows x 13 columns]"
            ]
          },
          "metadata": {
            "tags": []
          },
          "execution_count": 101
        }
      ]
    },
    {
      "cell_type": "code",
      "metadata": {
        "id": "O-eS4OyBzFtk",
        "colab_type": "code",
        "outputId": "7a87bd97-8950-41ab-8588-332d614869ef",
        "colab": {
          "base_uri": "https://localhost:8080/",
          "height": 241
        }
      },
      "source": [
        "test.head()"
      ],
      "execution_count": 102,
      "outputs": [
        {
          "output_type": "execute_result",
          "data": {
            "text/html": [
              "<div>\n",
              "<style scoped>\n",
              "    .dataframe tbody tr th:only-of-type {\n",
              "        vertical-align: middle;\n",
              "    }\n",
              "\n",
              "    .dataframe tbody tr th {\n",
              "        vertical-align: top;\n",
              "    }\n",
              "\n",
              "    .dataframe thead th {\n",
              "        text-align: right;\n",
              "    }\n",
              "</style>\n",
              "<table border=\"1\" class=\"dataframe\">\n",
              "  <thead>\n",
              "    <tr style=\"text-align: right;\">\n",
              "      <th></th>\n",
              "      <th>seller_type</th>\n",
              "      <th>country_of_use</th>\n",
              "      <th>Area_address_code</th>\n",
              "      <th>car_type</th>\n",
              "      <th>Permit_registration_year</th>\n",
              "      <th>registration_month</th>\n",
              "      <th>horse_power</th>\n",
              "      <th>mileage</th>\n",
              "      <th>gas_type</th>\n",
              "      <th>Status_of_car_repair</th>\n",
              "      <th>gear_type</th>\n",
              "      <th>advert_days_diff</th>\n",
              "    </tr>\n",
              "  </thead>\n",
              "  <tbody>\n",
              "    <tr>\n",
              "      <th>0</th>\n",
              "      <td>private</td>\n",
              "      <td>london</td>\n",
              "      <td>24768</td>\n",
              "      <td>limousine</td>\n",
              "      <td>2000</td>\n",
              "      <td>9</td>\n",
              "      <td>101</td>\n",
              "      <td>201125.000</td>\n",
              "      <td>gasoline</td>\n",
              "      <td>nein</td>\n",
              "      <td>automatik</td>\n",
              "      <td>1 days</td>\n",
              "    </tr>\n",
              "    <tr>\n",
              "      <th>1</th>\n",
              "      <td>private</td>\n",
              "      <td>london</td>\n",
              "      <td>26629</td>\n",
              "      <td>other</td>\n",
              "      <td>2005</td>\n",
              "      <td>6</td>\n",
              "      <td>0</td>\n",
              "      <td>32180.000</td>\n",
              "      <td>NaN</td>\n",
              "      <td>NaN</td>\n",
              "      <td>automatik</td>\n",
              "      <td>9 days</td>\n",
              "    </tr>\n",
              "    <tr>\n",
              "      <th>2</th>\n",
              "      <td>private</td>\n",
              "      <td>london</td>\n",
              "      <td>35606</td>\n",
              "      <td>station wagon</td>\n",
              "      <td>2018</td>\n",
              "      <td>1</td>\n",
              "      <td>0</td>\n",
              "      <td>32180.000</td>\n",
              "      <td>diesel</td>\n",
              "      <td>ja</td>\n",
              "      <td>NaN</td>\n",
              "      <td>15 days</td>\n",
              "    </tr>\n",
              "    <tr>\n",
              "      <th>3</th>\n",
              "      <td>private</td>\n",
              "      <td>london</td>\n",
              "      <td>59192</td>\n",
              "      <td>limousine</td>\n",
              "      <td>1979</td>\n",
              "      <td>9</td>\n",
              "      <td>110</td>\n",
              "      <td>241350.000</td>\n",
              "      <td>gasoline</td>\n",
              "      <td>nein</td>\n",
              "      <td>manuell</td>\n",
              "      <td>3 days</td>\n",
              "    </tr>\n",
              "    <tr>\n",
              "      <th>4</th>\n",
              "      <td>private</td>\n",
              "      <td>london</td>\n",
              "      <td>7551</td>\n",
              "      <td>small car</td>\n",
              "      <td>2000</td>\n",
              "      <td>8</td>\n",
              "      <td>0</td>\n",
              "      <td>241350.000</td>\n",
              "      <td>gasoline</td>\n",
              "      <td>NaN</td>\n",
              "      <td>manuell</td>\n",
              "      <td>4 days</td>\n",
              "    </tr>\n",
              "  </tbody>\n",
              "</table>\n",
              "</div>"
            ],
            "text/plain": [
              "  seller_type country_of_use  ...  gear_type advert_days_diff\n",
              "0     private         london  ...  automatik           1 days\n",
              "1     private         london  ...  automatik           9 days\n",
              "2     private         london  ...        NaN          15 days\n",
              "3     private         london  ...    manuell           3 days\n",
              "4     private         london  ...    manuell           4 days\n",
              "\n",
              "[5 rows x 12 columns]"
            ]
          },
          "metadata": {
            "tags": []
          },
          "execution_count": 102
        }
      ]
    },
    {
      "cell_type": "code",
      "metadata": {
        "id": "dZzmxZ5hQbrw",
        "colab_type": "code",
        "outputId": "1e855ce7-3692-4aeb-9293-16f4fa2ecaf5",
        "colab": {
          "base_uri": "https://localhost:8080/",
          "height": 301
        }
      },
      "source": [
        "#remove outliers\n",
        "sns.boxplot(x=train['naira_price'])"
      ],
      "execution_count": 103,
      "outputs": [
        {
          "output_type": "execute_result",
          "data": {
            "text/plain": [
              "<matplotlib.axes._subplots.AxesSubplot at 0x7f7cbceab710>"
            ]
          },
          "metadata": {
            "tags": []
          },
          "execution_count": 103
        },
        {
          "output_type": "display_data",
          "data": {
            "image/png": "[encoded data removed]",
            "text/plain": [
              "<Figure size 432x288 with 1 Axes>"
            ]
          },
          "metadata": {
            "tags": []
          }
        }
      ]
    },
    {
      "cell_type": "code",
      "metadata": {
        "id": "peTvdNieqilD",
        "colab_type": "code",
        "outputId": "b6f95e17-f981-4e4a-e639-42acbaeeae77",
        "colab": {
          "base_uri": "https://localhost:8080/",
          "height": 671
        }
      },
      "source": [
        "#Correlation map to see how features are correlated with SalePrice\n",
        "corrmat = train.corr()\n",
        "plt.subplots(figsize=(12,9))\n",
        "sns.heatmap(corrmat, vmax=0.9, square=True)"
      ],
      "execution_count": 104,
      "outputs": [
        {
          "output_type": "execute_result",
          "data": {
            "text/plain": [
              "<matplotlib.axes._subplots.AxesSubplot at 0x7f7cbceab9e8>"
            ]
          },
          "metadata": {
            "tags": []
          },
          "execution_count": 104
        },
        {
          "output_type": "display_data",
          "data": {
            "image/png": "[encoded data removed]",
            "text/plain": [
              "<Figure size 864x648 with 2 Axes>"
            ]
          },
          "metadata": {
            "tags": []
          }
        }
      ]
    },
    {
      "cell_type": "code",
      "metadata": {
        "id": "_ivFO5JArjjP",
        "colab_type": "code",
        "outputId": "4d4ef686-a20c-41d6-97bf-6fc9208639dc",
        "colab": {
          "base_uri": "https://localhost:8080/",
          "height": 221
        }
      },
      "source": [
        "#the category types\n",
        "['seller_type',\n",
        " 'country_of_use',\n",
        " 'weblog_date',\n",
        " 'car_name',\n",
        " 'car_type',\n",
        " 'gas_type',\n",
        " 'car_brand',\n",
        " 'Status_of_car_repair',\n",
        " 'gear_type',\n",
        " 'date_of_advert',\n",
        " 'last_advert_online',\n",
        " 'model']"
      ],
      "execution_count": 105,
      "outputs": [
        {
          "output_type": "execute_result",
          "data": {
            "text/plain": [
              "['seller_type',\n",
              " 'country_of_use',\n",
              " 'weblog_date',\n",
              " 'car_name',\n",
              " 'car_type',\n",
              " 'gas_type',\n",
              " 'car_brand',\n",
              " 'Status_of_car_repair',\n",
              " 'gear_type',\n",
              " 'date_of_advert',\n",
              " 'last_advert_online',\n",
              " 'model']"
            ]
          },
          "metadata": {
            "tags": []
          },
          "execution_count": 105
        }
      ]
    },
    {
      "cell_type": "code",
      "metadata": {
        "id": "9GmAEPIrie_v",
        "colab_type": "code",
        "outputId": "95c87763-4236-4036-89f5-d50415050f8b",
        "colab": {
          "base_uri": "https://localhost:8080/",
          "height": 871
        }
      },
      "source": [
        "#handling the prize predictor varriable\n",
        "y = train['naira_price']\n",
        "plt.figure(1); plt.title('Johnson SU')\n",
        "sns.distplot(y, kde=False, fit=stats.johnsonsu)\n",
        "plt.figure(2); plt.title('Normal')\n",
        "sns.distplot(y, kde=False, fit=stats.norm)\n",
        "plt.figure(3); plt.title('Log Normal')\n",
        "sns.distplot(y, kde=False, fit=stats.lognorm)"
      ],
      "execution_count": 106,
      "outputs": [
        {
          "output_type": "execute_result",
          "data": {
            "text/plain": [
              "<matplotlib.axes._subplots.AxesSubplot at 0x7f7cbcd207f0>"
            ]
          },
          "metadata": {
            "tags": []
          },
          "execution_count": 106
        },
        {
          "output_type": "display_data",
          "data": {
            "image/png": "[encoded data removed]",
            "text/plain": [
              "<Figure size 432x288 with 1 Axes>"
            ]
          },
          "metadata": {
            "tags": []
          }
        },
        {
          "output_type": "display_data",
          "data": {
            "image/png": "[encoded data removed]",
            "text/plain": [
              "<Figure size 432x288 with 1 Axes>"
            ]
          },
          "metadata": {
            "tags": []
          }
        },
        {
          "output_type": "display_data",
          "data": {
            "image/png": "[encoded data removed]",
            "text/plain": [
              "<Figure size 432x288 with 1 Axes>"
            ]
          },
          "metadata": {
            "tags": []
          }
        }
      ]
    },
    {
      "cell_type": "code",
      "metadata": {
        "id": "pU-0nWSNoaNJ",
        "colab_type": "code",
        "outputId": "4273ab0c-28b4-4168-e840-53ed8655ab2d",
        "colab": {
          "base_uri": "https://localhost:8080/",
          "height": 625
        }
      },
      "source": [
        "sns.distplot(train['naira_price'] , fit=norm);\n",
        "\n",
        "# Get the fitted parameters used by the function\n",
        "(mu, sigma) = norm.fit(train['naira_price'])\n",
        "print( '\\n mu = {:.2f} and sigma = {:.2f}\\n'.format(mu, sigma))\n",
        "\n",
        "#Now plot the distribution\n",
        "plt.legend(['Normal dist. ($\\mu=$ {:.2f} and $\\sigma=$ {:.2f} )'.format(mu, sigma)],\n",
        "            loc='best')\n",
        "plt.ylabel('Frequency')\n",
        "plt.title('Naira Price distribution')\n",
        "\n",
        "#Get also the QQ-plot\n",
        "fig = plt.figure()\n",
        "res = stats.probplot(train['naira_price'], plot=plt)\n",
        "plt.show()"
      ],
      "execution_count": 107,
      "outputs": [
        {
          "output_type": "stream",
          "text": [
            "\n",
            " mu = 2262567.00 and sigma = 3123093.25\n",
            "\n"
          ],
          "name": "stdout"
        },
        {
          "output_type": "display_data",
          "data": {
            "image/png": "[encoded data removed]",
            "text/plain": [
              "<Figure size 432x288 with 1 Axes>"
            ]
          },
          "metadata": {
            "tags": []
          }
        },
        {
          "output_type": "display_data",
          "data": {
            "image/png": "[encoded data removed]",
            "text/plain": [
              "<Figure size 432x288 with 1 Axes>"
            ]
          },
          "metadata": {
            "tags": []
          }
        }
      ]
    },
    {
      "cell_type": "code",
      "metadata": {
        "id": "tvUzH9Ybouhx",
        "colab_type": "code",
        "outputId": "8b8a459d-d9c0-4df2-c547-402908f8f16e",
        "colab": {
          "base_uri": "https://localhost:8080/",
          "height": 625
        }
      },
      "source": [
        "#We use the numpy fuction log1p which  applies log(1+x) to all elements of the column\n",
        "train[\"naira_price\"] = np.log1p(train[\"naira_price\"])\n",
        "\n",
        "#Check the new distribution \n",
        "sns.distplot(train['naira_price'] , fit=norm);\n",
        "\n",
        "# Get the fitted parameters used by the function\n",
        "(mu, sigma) = norm.fit(train['naira_price'])\n",
        "print( '\\n mu = {:.2f} and sigma = {:.2f}\\n'.format(mu, sigma))\n",
        "\n",
        "#Now plot the distribution\n",
        "plt.legend(['Normal dist. ($\\mu=$ {:.2f} and $\\sigma=$ {:.2f} )'.format(mu, sigma)],\n",
        "            loc='best')\n",
        "plt.ylabel('Frequency')\n",
        "plt.title('Naira Price distribution')\n",
        "\n",
        "#Get also the QQ-plot\n",
        "fig = plt.figure()\n",
        "res = stats.probplot(train['naira_price'], plot=plt)\n",
        "plt.show()"
      ],
      "execution_count": 109,
      "outputs": [
        {
          "output_type": "stream",
          "text": [
            "\n",
            " mu = 2.71 and sigma = 0.07\n",
            "\n"
          ],
          "name": "stdout"
        },
        {
          "output_type": "display_data",
          "data": {
            "image/png": "[encoded data removed]",
            "text/plain": [
              "<Figure size 432x288 with 1 Axes>"
            ]
          },
          "metadata": {
            "tags": []
          }
        },
        {
          "output_type": "display_data",
          "data": {
            "image/png": "[encoded data removed]",
            "text/plain": [
              "<Figure size 432x288 with 1 Axes>"
            ]
          },
          "metadata": {
            "tags": []
          }
        }
      ]
    },
    {
      "cell_type": "code",
      "metadata": {
        "id": "aJh-ckCu2rUy",
        "colab_type": "code",
        "colab": {}
      },
      "source": [
        ""
      ],
      "execution_count": 0,
      "outputs": []
    },
    {
      "cell_type": "code",
      "metadata": {
        "id": "xtL1p2R06rpB",
        "colab_type": "code",
        "colab": {}
      },
      "source": [
        "train_ID=train_ID.astype(float)"
      ],
      "execution_count": 0,
      "outputs": []
    },
    {
      "cell_type": "code",
      "metadata": {
        "id": "GpWZ-Trs8je9",
        "colab_type": "code",
        "outputId": "73622db7-acfe-416c-9bf4-64718abe0134",
        "colab": {
          "base_uri": "https://localhost:8080/",
          "height": 34
        }
      },
      "source": [
        "type(train_ID)"
      ],
      "execution_count": 111,
      "outputs": [
        {
          "output_type": "execute_result",
          "data": {
            "text/plain": [
              "pandas.core.series.Series"
            ]
          },
          "metadata": {
            "tags": []
          },
          "execution_count": 111
        }
      ]
    },
    {
      "cell_type": "code",
      "metadata": {
        "id": "oRpgcs0T4F2b",
        "colab_type": "code",
        "colab": {}
      },
      "source": [
        "\n",
        "#apply SelectKBest class to extract top 10 best features\n",
        "#bestfeatures = SelectKBest(score_func=chi2, k=10)\n",
        "#fit = bestfeatures.fit(quantitative,train_ID)\n",
        "#dfscores = pd.DataFrame(fit.scores_)\n",
        "#dfcolumns = pd.DataFrame(quantitative.columns)\n",
        "#concat two dataframes for better visualization \n",
        "#featureScores = pd.concat([dfcolumns,dfscores],axis=1)\n",
        "#featureScores.columns = ['Specs','Score']  #naming the dataframe columns\n",
        "#print(featureScores.nlargest(10,'Score'))  #print 10 best features"
      ],
      "execution_count": 0,
      "outputs": []
    },
    {
      "cell_type": "code",
      "metadata": {
        "colab_type": "code",
        "id": "-Rxc48TAiQrh",
        "colab": {}
      },
      "source": [
        "#train['car_type'].value_counts()"
      ],
      "execution_count": 0,
      "outputs": []
    },
    {
      "cell_type": "code",
      "metadata": {
        "colab_type": "code",
        "id": "yb8wLWDziO0U",
        "colab": {}
      },
      "source": [
        "\"\"\"\n",
        "def car_type_cat(cat):\n",
        "  if cat=='limousine':\n",
        "    return 1\n",
        "  elif cat=='small car':\n",
        "    return 2\n",
        "  elif cat=='station wagon':\n",
        "    return 3\n",
        "  elif cat=='bus':\n",
        "    return 4\n",
        "  elif cat=='convertible':\n",
        "    return 5\n",
        "  elif cat=='coupé':\n",
        "    return 6\n",
        "  else:\n",
        "    return 7\n",
        "\"\"\"\n",
        "  "
      ],
      "execution_count": 0,
      "outputs": []
    },
    {
      "cell_type": "code",
      "metadata": {
        "colab_type": "code",
        "id": "8wq5QkZ5iOsF",
        "colab": {}
      },
      "source": [
        "#train['gas_type'].value_counts()"
      ],
      "execution_count": 0,
      "outputs": []
    },
    {
      "cell_type": "code",
      "metadata": {
        "id": "pg6gIZeTwvbA",
        "colab_type": "code",
        "colab": {}
      },
      "source": [
        "\"\"\"\n",
        "def gas_type_cat(cat):\n",
        "  if cat=='gasoline':\n",
        "    return 1\n",
        "  elif cat=='diesel':\n",
        "    return 2\n",
        "  elif cat=='liquefied petroleum gas':\n",
        "    return 3\n",
        "  elif cat=='compressed natural gas':\n",
        "    return 4\n",
        "  else:\n",
        "    return 5\n",
        "\"\"\"\n"
      ],
      "execution_count": 0,
      "outputs": []
    },
    {
      "cell_type": "code",
      "metadata": {
        "colab_type": "code",
        "id": "77j2GLIgiM2K",
        "colab": {}
      },
      "source": [
        "#train['car_type']=train['car_type'].apply(car_type_cat)\n",
        "#test['car_type']=test['car_type'].apply(car_type_cat)"
      ],
      "execution_count": 0,
      "outputs": []
    },
    {
      "cell_type": "code",
      "metadata": {
        "colab_type": "code",
        "id": "rl3xrqhqiIak",
        "colab": {}
      },
      "source": [
        "#train['gas_type']=train['gas_type'].apply(gas_type_cat)\n",
        "#test['gas_type']=test['gas_type'].apply(gas_type_cat)"
      ],
      "execution_count": 0,
      "outputs": []
    },
    {
      "cell_type": "code",
      "metadata": {
        "id": "pXZSjudJlEuf",
        "colab_type": "code",
        "colab": {}
      },
      "source": [
        "#extracting year and month from date\n",
        "#!conda update pandas"
      ],
      "execution_count": 0,
      "outputs": []
    },
    {
      "cell_type": "code",
      "metadata": {
        "id": "UGBqizQ6SA6c",
        "colab_type": "code",
        "outputId": "08fa3fd7-ea0c-4bf8-f936-3471665f70be",
        "colab": {
          "base_uri": "https://localhost:8080/",
          "height": 293
        }
      },
      "source": [
        "#check outliars\n",
        "fig, ax = plt.subplots()\n",
        "ax.scatter(x = train['horse_power'], y = train['naira_price'])\n",
        "plt.ylabel('Naira Price', fontsize=13)\n",
        "plt.xlabel('HP', fontsize=13)\n",
        "plt.show()"
      ],
      "execution_count": 0,
      "outputs": [
        {
          "output_type": "display_data",
          "data": {
            "image/png": "[encoded data removed]",
            "text/plain": [
              "<Figure size 432x288 with 1 Axes>"
            ]
          },
          "metadata": {
            "tags": []
          }
        }
      ]
    },
    {
      "cell_type": "code",
      "metadata": {
        "id": "XCrjyvBi2vGX",
        "colab_type": "code",
        "colab": {
          "base_uri": "https://localhost:8080/",
          "height": 478
        },
        "outputId": "847566c6-88d8-4b11-f415-86e717d63d21"
      },
      "source": [
        "#create numeric plots\n",
        "#num = [f for f in train.columns if train.dtypes[f] != 'object']\n",
        "num=quantitative\n",
        "#num.remove('Id')\n",
        "nd = pd.melt(train, value_vars = num)\n",
        "n1 = sns.FacetGrid (nd, col='variable', col_wrap=4, sharex=False, sharey = False)\n",
        "n1 = n1.map(sns.distplot, 'value')\n",
        "n1"
      ],
      "execution_count": 113,
      "outputs": [
        {
          "output_type": "execute_result",
          "data": {
            "text/plain": [
              "<seaborn.axisgrid.FacetGrid at 0x7f7cbcd7ba90>"
            ]
          },
          "metadata": {
            "tags": []
          },
          "execution_count": 113
        },
        {
          "output_type": "display_data",
          "data": {
            "image/png": "[encoded data removed]",
            "text/plain": [
              "<Figure size 864x432 with 6 Axes>"
            ]
          },
          "metadata": {
            "tags": []
          }
        }
      ]
    }
  ]
}