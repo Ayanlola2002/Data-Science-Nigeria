{
  "nbformat": 4,
  "nbformat_minor": 0,
  "metadata": {
    "colab": {
      "name": "best_car_price.ipynb",
      "version": "0.3.2",
      "provenance": [],
      "collapsed_sections": [],
      "include_colab_link": true
    },
    "kernelspec": {
      "name": "python3",
      "display_name": "Python 3"
    }
  },
  "cells": [
    {
      "cell_type": "markdown",
      "metadata": {
        "id": "view-in-github",
        "colab_type": "text"
      },
      "source": [
        "<a href=\"https://colab.research.google.com/github/Ayanlola2002/Data-Science-Nigeria/blob/master/best_car_price.ipynb\" target=\"_parent\"><img src=\"https://colab.research.google.com/assets/colab-badge.svg\" alt=\"Open In Colab\"/></a>"
      ]
    },
    {
      "cell_type": "code",
      "metadata": {
        "id": "KI6RYq7ZMnHx",
        "colab_type": "code",
        "colab": {}
      },
      "source": [
        "!pip install -q kaggle\n",
        "!mkdir -p ~/.kaggle\n",
        "!cp kaggle.json ~/.kaggle"
      ],
      "execution_count": 0,
      "outputs": []
    },
    {
      "cell_type": "code",
      "metadata": {
        "id": "jcc_nqrbcCIX",
        "colab_type": "code",
        "colab": {}
      },
      "source": [
        "!chmod 600 /root/.kaggle/kaggle.json"
      ],
      "execution_count": 0,
      "outputs": []
    },
    {
      "cell_type": "code",
      "metadata": {
        "id": "5jEvPL0_cH8p",
        "colab_type": "code",
        "outputId": "8a6c1ed8-e7a7-4e49-9c51-06768e9add4a",
        "colab": {
          "base_uri": "https://localhost:8080/",
          "height": 170
        }
      },
      "source": [
        "!kaggle competitions download -c dsn-recruitment-service-test"
      ],
      "execution_count": 4,
      "outputs": [
        {
          "output_type": "stream",
          "text": [
            "Downloading sample_submission.csv.zip to /content\n",
            "\r  0% 0.00/372k [00:00<?, ?B/s]\n",
            "100% 372k/372k [00:00<00:00, 53.9MB/s]\n",
            "Downloading test.csv.zip to /content\n",
            "  0% 0.00/4.16M [00:00<?, ?B/s]\n",
            "100% 4.16M/4.16M [00:00<00:00, 137MB/s]\n",
            "Downloading train.csv.zip to /content\n",
            "  0% 0.00/9.13M [00:00<?, ?B/s]\n",
            "100% 9.13M/9.13M [00:00<00:00, 83.7MB/s]\n"
          ],
          "name": "stdout"
        }
      ]
    },
    {
      "cell_type": "code",
      "metadata": {
        "id": "1XdcYq2rcU-N",
        "colab_type": "code",
        "colab": {}
      },
      "source": [
        "#unzippig the us-data file\n",
        "from shutil import unpack_archive\n",
        "#unpack_archive('all.zip')\n",
        "unpack_archive('train.csv.zip')\n",
        "unpack_archive('test.csv.zip')"
      ],
      "execution_count": 0,
      "outputs": []
    },
    {
      "cell_type": "code",
      "metadata": {
        "id": "WKk9P-2Ncoul",
        "colab_type": "code",
        "colab": {}
      },
      "source": [
        "import numpy as np # linear algebra\n",
        "import pandas as pd # data processing, CSV file I/O (e.g. pd.read_csv)\n",
        "%matplotlib inline\n",
        "import matplotlib.pyplot as plt  # Matlab-style plotting\n",
        "from sklearn.feature_selection import SelectKBest\n",
        "from sklearn.feature_selection import chi2\n",
        "import seaborn as sns\n",
        "color = sns.color_palette()\n",
        "sns.set_style('darkgrid')\n",
        "import warnings\n",
        "def ignore_warn(*args, **kwargs):\n",
        "    pass\n",
        "warnings.warn = ignore_warn #ignore annoying warning (from sklearn and seaborn)"
      ],
      "execution_count": 0,
      "outputs": []
    },
    {
      "cell_type": "code",
      "metadata": {
        "id": "Y8nLxpTfcuOR",
        "colab_type": "code",
        "colab": {}
      },
      "source": [
        "from scipy import stats\n",
        "from scipy.stats import norm, skew #for some statistics"
      ],
      "execution_count": 0,
      "outputs": []
    },
    {
      "cell_type": "code",
      "metadata": {
        "id": "6M9bYVZnc0hS",
        "colab_type": "code",
        "colab": {}
      },
      "source": [
        "pd.set_option('display.float_format', lambda x: '{:.3f}'.format(x)) #Limiting floats output to 3 decimal points"
      ],
      "execution_count": 0,
      "outputs": []
    },
    {
      "cell_type": "code",
      "metadata": {
        "id": "jcOoeNSqc36i",
        "colab_type": "code",
        "colab": {}
      },
      "source": [
        "#train = pd.read_csv('train.csv',parse_dates=[['weblog_date'],['date_of_advert'],['last_advert_online']])\n",
        "#test = pd.read_csv('test.csv',parse_dates=[weblog_date],[[date_of_advert],[last_advert_online])\n",
        "train = pd.read_csv('train.csv')\n",
        "test = pd.read_csv('test.csv')"
      ],
      "execution_count": 0,
      "outputs": []
    },
    {
      "cell_type": "code",
      "metadata": {
        "id": "te-FYpCwDoUV",
        "colab_type": "code",
        "colab": {}
      },
      "source": [
        "train_copy=train.copy()\n",
        "test_copy=test.copy()"
      ],
      "execution_count": 0,
      "outputs": []
    },
    {
      "cell_type": "code",
      "metadata": {
        "id": "BYdc2AbTdBa0",
        "colab_type": "code",
        "outputId": "ed2df786-8f8d-43dc-f568-5c5114e2126d",
        "colab": {
          "base_uri": "https://localhost:8080/",
          "height": 224
        }
      },
      "source": [
        "##display the first five rows of the train dataset.\n",
        "train.head()"
      ],
      "execution_count": 11,
      "outputs": [
        {
          "output_type": "execute_result",
          "data": {
            "text/html": [
              "<div>\n",
              "<style scoped>\n",
              "    .dataframe tbody tr th:only-of-type {\n",
              "        vertical-align: middle;\n",
              "    }\n",
              "\n",
              "    .dataframe tbody tr th {\n",
              "        vertical-align: top;\n",
              "    }\n",
              "\n",
              "    .dataframe thead th {\n",
              "        text-align: right;\n",
              "    }\n",
              "</style>\n",
              "<table border=\"1\" class=\"dataframe\">\n",
              "  <thead>\n",
              "    <tr style=\"text-align: right;\">\n",
              "      <th></th>\n",
              "      <th>id</th>\n",
              "      <th>seller_type</th>\n",
              "      <th>country_of_use</th>\n",
              "      <th>weblog_date</th>\n",
              "      <th>Area_address_code</th>\n",
              "      <th>car_name</th>\n",
              "      <th>car_type</th>\n",
              "      <th>Permit_registration_year</th>\n",
              "      <th>registration_month</th>\n",
              "      <th>horse_power</th>\n",
              "      <th>mileage</th>\n",
              "      <th>gas_type</th>\n",
              "      <th>car_brand</th>\n",
              "      <th>Status_of_car_repair</th>\n",
              "      <th>gear_type</th>\n",
              "      <th>date_of_advert</th>\n",
              "      <th>last_advert_online</th>\n",
              "      <th>model</th>\n",
              "      <th>naira_price</th>\n",
              "    </tr>\n",
              "  </thead>\n",
              "  <tbody>\n",
              "    <tr>\n",
              "      <th>0</th>\n",
              "      <td>34946</td>\n",
              "      <td>private</td>\n",
              "      <td>london</td>\n",
              "      <td>2016-03-15</td>\n",
              "      <td>78183</td>\n",
              "      <td>Smart_smart_forfour_pulse</td>\n",
              "      <td>small car</td>\n",
              "      <td>2007</td>\n",
              "      <td>11</td>\n",
              "      <td>95</td>\n",
              "      <td>241350.000</td>\n",
              "      <td>gasoline</td>\n",
              "      <td>smart</td>\n",
              "      <td>nein</td>\n",
              "      <td>manuell</td>\n",
              "      <td>2016-03-15</td>\n",
              "      <td>2016-03-16</td>\n",
              "      <td>forfour</td>\n",
              "      <td>864000</td>\n",
              "    </tr>\n",
              "    <tr>\n",
              "      <th>1</th>\n",
              "      <td>298886</td>\n",
              "      <td>private</td>\n",
              "      <td>london</td>\n",
              "      <td>2016-04-01</td>\n",
              "      <td>47166</td>\n",
              "      <td>Seat_Arosa_1.4_16V</td>\n",
              "      <td>small car</td>\n",
              "      <td>2003</td>\n",
              "      <td>7</td>\n",
              "      <td>101</td>\n",
              "      <td>241350.000</td>\n",
              "      <td>gasoline</td>\n",
              "      <td>seat</td>\n",
              "      <td>nein</td>\n",
              "      <td>manuell</td>\n",
              "      <td>2016-04-01</td>\n",
              "      <td>2016-04-03</td>\n",
              "      <td>arosa</td>\n",
              "      <td>630000</td>\n",
              "    </tr>\n",
              "    <tr>\n",
              "      <th>2</th>\n",
              "      <td>104362</td>\n",
              "      <td>private</td>\n",
              "      <td>london</td>\n",
              "      <td>2016-03-17</td>\n",
              "      <td>44623</td>\n",
              "      <td>Woll_fahrbereit</td>\n",
              "      <td>small car</td>\n",
              "      <td>1999</td>\n",
              "      <td>8</td>\n",
              "      <td>90</td>\n",
              "      <td>241350.000</td>\n",
              "      <td>NaN</td>\n",
              "      <td>opel</td>\n",
              "      <td>NaN</td>\n",
              "      <td>manuell</td>\n",
              "      <td>2016-03-17</td>\n",
              "      <td>2016-04-07</td>\n",
              "      <td>tigra</td>\n",
              "      <td>180000</td>\n",
              "    </tr>\n",
              "    <tr>\n",
              "      <th>3</th>\n",
              "      <td>300368</td>\n",
              "      <td>private</td>\n",
              "      <td>london</td>\n",
              "      <td>2016-03-29</td>\n",
              "      <td>53945</td>\n",
              "      <td>Skoda_Fabia_5_Tuerer_dunkelblau_metallic</td>\n",
              "      <td>limousine</td>\n",
              "      <td>2003</td>\n",
              "      <td>6</td>\n",
              "      <td>68</td>\n",
              "      <td>201125.000</td>\n",
              "      <td>gasoline</td>\n",
              "      <td>skoda</td>\n",
              "      <td>NaN</td>\n",
              "      <td>manuell</td>\n",
              "      <td>2016-03-29</td>\n",
              "      <td>2016-03-29</td>\n",
              "      <td>fabia</td>\n",
              "      <td>432000</td>\n",
              "    </tr>\n",
              "    <tr>\n",
              "      <th>4</th>\n",
              "      <td>207699</td>\n",
              "      <td>private</td>\n",
              "      <td>london</td>\n",
              "      <td>2016-03-24</td>\n",
              "      <td>45886</td>\n",
              "      <td>Verkaufe_mein_Auto_#_Jeep_#_Hyundai_#_Tucson_#</td>\n",
              "      <td>other</td>\n",
              "      <td>2008</td>\n",
              "      <td>0</td>\n",
              "      <td>120</td>\n",
              "      <td>241350.000</td>\n",
              "      <td>NaN</td>\n",
              "      <td>hyundai</td>\n",
              "      <td>NaN</td>\n",
              "      <td>automatik</td>\n",
              "      <td>2016-03-24</td>\n",
              "      <td>2016-04-05</td>\n",
              "      <td>tucson</td>\n",
              "      <td>1692000</td>\n",
              "    </tr>\n",
              "  </tbody>\n",
              "</table>\n",
              "</div>"
            ],
            "text/plain": [
              "       id seller_type country_of_use  ... last_advert_online    model naira_price\n",
              "0   34946     private         london  ...         2016-03-16  forfour      864000\n",
              "1  298886     private         london  ...         2016-04-03    arosa      630000\n",
              "2  104362     private         london  ...         2016-04-07    tigra      180000\n",
              "3  300368     private         london  ...         2016-03-29    fabia      432000\n",
              "4  207699     private         london  ...         2016-04-05   tucson     1692000\n",
              "\n",
              "[5 rows x 19 columns]"
            ]
          },
          "metadata": {
            "tags": []
          },
          "execution_count": 11
        }
      ]
    },
    {
      "cell_type": "code",
      "metadata": {
        "id": "bho8fZtLdEr_",
        "colab_type": "code",
        "outputId": "df7fe4e4-286d-405b-c7cf-62c4788b0605",
        "colab": {
          "base_uri": "https://localhost:8080/",
          "height": 241
        }
      },
      "source": [
        "##display the first five rows of the test dataset.\n",
        "test.head()"
      ],
      "execution_count": 12,
      "outputs": [
        {
          "output_type": "execute_result",
          "data": {
            "text/html": [
              "<div>\n",
              "<style scoped>\n",
              "    .dataframe tbody tr th:only-of-type {\n",
              "        vertical-align: middle;\n",
              "    }\n",
              "\n",
              "    .dataframe tbody tr th {\n",
              "        vertical-align: top;\n",
              "    }\n",
              "\n",
              "    .dataframe thead th {\n",
              "        text-align: right;\n",
              "    }\n",
              "</style>\n",
              "<table border=\"1\" class=\"dataframe\">\n",
              "  <thead>\n",
              "    <tr style=\"text-align: right;\">\n",
              "      <th></th>\n",
              "      <th>id</th>\n",
              "      <th>seller_type</th>\n",
              "      <th>country_of_use</th>\n",
              "      <th>weblog_date</th>\n",
              "      <th>Area_address_code</th>\n",
              "      <th>car_name</th>\n",
              "      <th>car_type</th>\n",
              "      <th>Permit_registration_year</th>\n",
              "      <th>registration_month</th>\n",
              "      <th>horse_power</th>\n",
              "      <th>mileage</th>\n",
              "      <th>gas_type</th>\n",
              "      <th>car_brand</th>\n",
              "      <th>Status_of_car_repair</th>\n",
              "      <th>gear_type</th>\n",
              "      <th>date_of_advert</th>\n",
              "      <th>last_advert_online</th>\n",
              "      <th>model</th>\n",
              "    </tr>\n",
              "  </thead>\n",
              "  <tbody>\n",
              "    <tr>\n",
              "      <th>0</th>\n",
              "      <td>72959</td>\n",
              "      <td>private</td>\n",
              "      <td>london</td>\n",
              "      <td>2016-03-20</td>\n",
              "      <td>24768</td>\n",
              "      <td>Opel_vectra_B_1.6_16v_tuev_09.2017</td>\n",
              "      <td>limousine</td>\n",
              "      <td>2000</td>\n",
              "      <td>9</td>\n",
              "      <td>101</td>\n",
              "      <td>201125.000</td>\n",
              "      <td>gasoline</td>\n",
              "      <td>opel</td>\n",
              "      <td>nein</td>\n",
              "      <td>automatik</td>\n",
              "      <td>2016-03-20</td>\n",
              "      <td>2016-03-21</td>\n",
              "      <td>vectra</td>\n",
              "    </tr>\n",
              "    <tr>\n",
              "      <th>1</th>\n",
              "      <td>8681</td>\n",
              "      <td>private</td>\n",
              "      <td>london</td>\n",
              "      <td>2016-03-27</td>\n",
              "      <td>26629</td>\n",
              "      <td>Aixam_45_km/h_Auto_automatiek_nicht_fahrbereit</td>\n",
              "      <td>other</td>\n",
              "      <td>2005</td>\n",
              "      <td>6</td>\n",
              "      <td>0</td>\n",
              "      <td>32180.000</td>\n",
              "      <td>NaN</td>\n",
              "      <td>sonstige_autos</td>\n",
              "      <td>NaN</td>\n",
              "      <td>automatik</td>\n",
              "      <td>2016-03-27</td>\n",
              "      <td>2016-04-05</td>\n",
              "      <td>NaN</td>\n",
              "    </tr>\n",
              "    <tr>\n",
              "      <th>2</th>\n",
              "      <td>238202</td>\n",
              "      <td>private</td>\n",
              "      <td>london</td>\n",
              "      <td>2016-03-22</td>\n",
              "      <td>35606</td>\n",
              "      <td>Passat_Alltrack_Bluemotion</td>\n",
              "      <td>station wagon</td>\n",
              "      <td>2018</td>\n",
              "      <td>1</td>\n",
              "      <td>0</td>\n",
              "      <td>32180.000</td>\n",
              "      <td>diesel</td>\n",
              "      <td>volkswagen</td>\n",
              "      <td>ja</td>\n",
              "      <td>NaN</td>\n",
              "      <td>2016-03-22</td>\n",
              "      <td>2016-04-06</td>\n",
              "      <td>passat</td>\n",
              "    </tr>\n",
              "    <tr>\n",
              "      <th>3</th>\n",
              "      <td>110743</td>\n",
              "      <td>private</td>\n",
              "      <td>london</td>\n",
              "      <td>2016-03-28</td>\n",
              "      <td>59192</td>\n",
              "      <td>Opel_Kadett</td>\n",
              "      <td>limousine</td>\n",
              "      <td>1979</td>\n",
              "      <td>9</td>\n",
              "      <td>110</td>\n",
              "      <td>241350.000</td>\n",
              "      <td>gasoline</td>\n",
              "      <td>opel</td>\n",
              "      <td>nein</td>\n",
              "      <td>manuell</td>\n",
              "      <td>2016-03-28</td>\n",
              "      <td>2016-03-31</td>\n",
              "      <td>kadett</td>\n",
              "    </tr>\n",
              "    <tr>\n",
              "      <th>4</th>\n",
              "      <td>34925</td>\n",
              "      <td>private</td>\n",
              "      <td>london</td>\n",
              "      <td>2016-04-02</td>\n",
              "      <td>7551</td>\n",
              "      <td>Seat_Arosa_\"Anfaengerauto_Stadtflitzer\"_TÜV_02...</td>\n",
              "      <td>small car</td>\n",
              "      <td>2000</td>\n",
              "      <td>8</td>\n",
              "      <td>0</td>\n",
              "      <td>241350.000</td>\n",
              "      <td>gasoline</td>\n",
              "      <td>seat</td>\n",
              "      <td>NaN</td>\n",
              "      <td>manuell</td>\n",
              "      <td>2016-04-02</td>\n",
              "      <td>2016-04-06</td>\n",
              "      <td>arosa</td>\n",
              "    </tr>\n",
              "  </tbody>\n",
              "</table>\n",
              "</div>"
            ],
            "text/plain": [
              "       id seller_type country_of_use  ... date_of_advert  last_advert_online   model\n",
              "0   72959     private         london  ...     2016-03-20          2016-03-21  vectra\n",
              "1    8681     private         london  ...     2016-03-27          2016-04-05     NaN\n",
              "2  238202     private         london  ...     2016-03-22          2016-04-06  passat\n",
              "3  110743     private         london  ...     2016-03-28          2016-03-31  kadett\n",
              "4   34925     private         london  ...     2016-04-02          2016-04-06   arosa\n",
              "\n",
              "[5 rows x 18 columns]"
            ]
          },
          "metadata": {
            "tags": []
          },
          "execution_count": 12
        }
      ]
    },
    {
      "cell_type": "code",
      "metadata": {
        "id": "MVf6M9VwdNcH",
        "colab_type": "code",
        "outputId": "2850fa53-5277-4d50-fdbd-65b36521eba7",
        "colab": {
          "base_uri": "https://localhost:8080/",
          "height": 51
        }
      },
      "source": [
        "#check the numbers of samples and features\n",
        "print(\"The train data size before dropping Id feature is : {} \".format(train.shape))\n",
        "print(\"The test data size before dropping Id feature is : {} \".format(test.shape))\n",
        "\n",
        "#Save the 'Id' column\n",
        "train_ID = train['id']\n",
        "test_ID = test['id']\n",
        "\n",
        "\n",
        "\n"
      ],
      "execution_count": 14,
      "outputs": [
        {
          "output_type": "stream",
          "text": [
            "The train data size before dropping Id feature is : (224524, 19) \n",
            "The test data size before dropping Id feature is : (110587, 18) \n"
          ],
          "name": "stdout"
        }
      ]
    },
    {
      "cell_type": "code",
      "metadata": {
        "id": "qZYU8BMNTKHT",
        "colab_type": "code",
        "colab": {}
      },
      "source": [
        "#Now drop the  'Id' colum since it's unnecessary for  the prediction process.\n",
        "train.drop(\"id\", axis = 1, inplace = True)\n",
        "test.drop(\"id\", axis = 1, inplace = True)"
      ],
      "execution_count": 0,
      "outputs": []
    },
    {
      "cell_type": "code",
      "metadata": {
        "id": "CdvtRGOETXPg",
        "colab_type": "code",
        "outputId": "a2bcc2da-9cf4-4243-aae0-a18e42149ed9",
        "colab": {
          "base_uri": "https://localhost:8080/",
          "height": 68
        }
      },
      "source": [
        "#check again the data size after dropping the 'Id' variable\n",
        "print(\"\\nThe train data size after dropping Id feature is : {} \".format(train.shape)) \n",
        "print(\"The test data size after dropping Id feature is : {} \".format(test.shape))"
      ],
      "execution_count": 16,
      "outputs": [
        {
          "output_type": "stream",
          "text": [
            "\n",
            "The train data size after dropping Id feature is : (224524, 18) \n",
            "The test data size after dropping Id feature is : (110587, 17) \n"
          ],
          "name": "stdout"
        }
      ]
    },
    {
      "cell_type": "code",
      "metadata": {
        "id": "dSyyuZ2udjRY",
        "colab_type": "code",
        "colab": {}
      },
      "source": [
        "#separate categorical varriable from numerical varriable\n",
        "quantitative = [f for f in train.columns if train.dtypes[f] != 'object']\n",
        "#quantitative.remove('SalePrice')\n",
        "#quantitative.remove('Id')\n",
        "qualitative = [f for f in train.columns if train.dtypes[f] == 'object']"
      ],
      "execution_count": 0,
      "outputs": []
    },
    {
      "cell_type": "code",
      "metadata": {
        "id": "Weixsbs2gTLO",
        "colab_type": "code",
        "outputId": "6aff265d-5021-4ff8-a652-71d7159c1f1c",
        "colab": {
          "base_uri": "https://localhost:8080/",
          "height": 119
        }
      },
      "source": [
        "quantitative"
      ],
      "execution_count": 18,
      "outputs": [
        {
          "output_type": "execute_result",
          "data": {
            "text/plain": [
              "['Area_address_code',\n",
              " 'Permit_registration_year',\n",
              " 'registration_month',\n",
              " 'horse_power',\n",
              " 'mileage',\n",
              " 'naira_price']"
            ]
          },
          "metadata": {
            "tags": []
          },
          "execution_count": 18
        }
      ]
    },
    {
      "cell_type": "code",
      "metadata": {
        "id": "a1Pi8KCLgbgg",
        "colab_type": "code",
        "outputId": "d6bbda84-fc38-41e5-fbd5-8e3acec37e40",
        "colab": {
          "base_uri": "https://localhost:8080/",
          "height": 221
        }
      },
      "source": [
        "qualitative"
      ],
      "execution_count": 19,
      "outputs": [
        {
          "output_type": "execute_result",
          "data": {
            "text/plain": [
              "['seller_type',\n",
              " 'country_of_use',\n",
              " 'weblog_date',\n",
              " 'car_name',\n",
              " 'car_type',\n",
              " 'gas_type',\n",
              " 'car_brand',\n",
              " 'Status_of_car_repair',\n",
              " 'gear_type',\n",
              " 'date_of_advert',\n",
              " 'last_advert_online',\n",
              " 'model']"
            ]
          },
          "metadata": {
            "tags": []
          },
          "execution_count": 19
        }
      ]
    },
    {
      "cell_type": "code",
      "metadata": {
        "id": "1wu7USYleKeS",
        "colab_type": "code",
        "outputId": "e22a613d-94b8-4195-c680-ea55b989ea99",
        "colab": {
          "base_uri": "https://localhost:8080/",
          "height": 378
        }
      },
      "source": [
        "#missing values\n",
        "sns.set_style(\"whitegrid\")\n",
        "missing = train.isnull().sum()\n",
        "missing = missing[missing > 0]\n",
        "missing.sort_values(inplace=True)\n",
        "missing.plot.bar()"
      ],
      "execution_count": 20,
      "outputs": [
        {
          "output_type": "execute_result",
          "data": {
            "text/plain": [
              "<matplotlib.axes._subplots.AxesSubplot at 0x7f6cb84d6588>"
            ]
          },
          "metadata": {
            "tags": []
          },
          "execution_count": 20
        },
        {
          "output_type": "display_data",
          "data": {
            "image/png": "[encoded data removed]",
            "text/plain": [
              "<Figure size 432x288 with 1 Axes>"
            ]
          },
          "metadata": {
            "tags": []
          }
        }
      ]
    },
    {
      "cell_type": "code",
      "metadata": {
        "id": "D4RGYTvrhORZ",
        "colab_type": "code",
        "outputId": "a2897d52-3e13-4b48-826e-5fc1f93a9c1c",
        "colab": {
          "base_uri": "https://localhost:8080/",
          "height": 238
        }
      },
      "source": [
        "# check number & percentage of missing value in the columns\n",
        "def missing_values_table(df):\n",
        "  mis_val = df.isnull().sum() #total missing values\n",
        "  mis_val_percent = 100 * df.isnull().sum() / len(df) #percentage of missing values\n",
        "  mis_val_table = pd.concat([mis_val, mis_val_percent], axis=1) #make a table with the results\n",
        "  mis_val_table_ren_columns = mis_val_table.rename(\n",
        "  columns = {0 : 'Missing Values', 1 : '% of Total Values'}) #rename the columns\n",
        "     # sort the table by percentage of missing value\n",
        "  mis_val_table_ren_columns = mis_val_table_ren_columns[\n",
        "  mis_val_table_ren_columns.iloc[:,1] != 0].sort_values(\n",
        "        '% of Total Values', ascending=False).round(1)\n",
        "\n",
        "        #print same summary information\n",
        "  print (\"Your selected dataframe has \" + str(df.shape[1]) + \" columns.\\n\"      \n",
        "            \"There are \" + str(mis_val_table_ren_columns.shape[0]) +\n",
        "              \" columns that have missing values.\")\n",
        "\n",
        "          # return the dataframe with missing information\n",
        "  return mis_val_table_ren_columns\n",
        "  \n",
        "missing_values = missing_values_table(train)\n",
        "missing_values.head()"
      ],
      "execution_count": 21,
      "outputs": [
        {
          "output_type": "stream",
          "text": [
            "Your selected dataframe has 18 columns.\n",
            "There are 5 columns that have missing values.\n"
          ],
          "name": "stdout"
        },
        {
          "output_type": "execute_result",
          "data": {
            "text/html": [
              "<div>\n",
              "<style scoped>\n",
              "    .dataframe tbody tr th:only-of-type {\n",
              "        vertical-align: middle;\n",
              "    }\n",
              "\n",
              "    .dataframe tbody tr th {\n",
              "        vertical-align: top;\n",
              "    }\n",
              "\n",
              "    .dataframe thead th {\n",
              "        text-align: right;\n",
              "    }\n",
              "</style>\n",
              "<table border=\"1\" class=\"dataframe\">\n",
              "  <thead>\n",
              "    <tr style=\"text-align: right;\">\n",
              "      <th></th>\n",
              "      <th>Missing Values</th>\n",
              "      <th>% of Total Values</th>\n",
              "    </tr>\n",
              "  </thead>\n",
              "  <tbody>\n",
              "    <tr>\n",
              "      <th>Status_of_car_repair</th>\n",
              "      <td>37087</td>\n",
              "      <td>16.500</td>\n",
              "    </tr>\n",
              "    <tr>\n",
              "      <th>car_type</th>\n",
              "      <td>27959</td>\n",
              "      <td>12.500</td>\n",
              "    </tr>\n",
              "    <tr>\n",
              "      <th>gas_type</th>\n",
              "      <td>16091</td>\n",
              "      <td>7.200</td>\n",
              "    </tr>\n",
              "    <tr>\n",
              "      <th>model</th>\n",
              "      <td>10248</td>\n",
              "      <td>4.600</td>\n",
              "    </tr>\n",
              "    <tr>\n",
              "      <th>gear_type</th>\n",
              "      <td>9133</td>\n",
              "      <td>4.100</td>\n",
              "    </tr>\n",
              "  </tbody>\n",
              "</table>\n",
              "</div>"
            ],
            "text/plain": [
              "                      Missing Values  % of Total Values\n",
              "Status_of_car_repair           37087             16.500\n",
              "car_type                       27959             12.500\n",
              "gas_type                       16091              7.200\n",
              "model                          10248              4.600\n",
              "gear_type                       9133              4.100"
            ]
          },
          "metadata": {
            "tags": []
          },
          "execution_count": 21
        }
      ]
    },
    {
      "cell_type": "code",
      "metadata": {
        "id": "ZXtI7T78vWZt",
        "colab_type": "code",
        "outputId": "14fbef3e-b3c6-4c1f-b45b-9287f67fcff5",
        "colab": {
          "base_uri": "https://localhost:8080/",
          "height": 51
        }
      },
      "source": [
        "train['car_type'].unique()"
      ],
      "execution_count": 22,
      "outputs": [
        {
          "output_type": "execute_result",
          "data": {
            "text/plain": [
              "array(['small car', 'limousine', 'other', 'bus', nan, 'convertible',\n",
              "       'station wagon', 'coupé'], dtype=object)"
            ]
          },
          "metadata": {
            "tags": []
          },
          "execution_count": 22
        }
      ]
    },
    {
      "cell_type": "code",
      "metadata": {
        "id": "PYop6f9DVvBO",
        "colab_type": "code",
        "colab": {}
      },
      "source": [
        "#fill nan values with others\n",
        "#will be one-hot encoded\n",
        "train['car_type']=train[\"car_type\"].fillna('other')"
      ],
      "execution_count": 0,
      "outputs": []
    },
    {
      "cell_type": "code",
      "metadata": {
        "id": "twx89aAcWLNV",
        "colab_type": "code",
        "outputId": "080ec7a2-9b91-4e2b-87ed-a6648e16ec8d",
        "colab": {
          "base_uri": "https://localhost:8080/",
          "height": 153
        }
      },
      "source": [
        "train['car_type'].value_counts()"
      ],
      "execution_count": 25,
      "outputs": [
        {
          "output_type": "execute_result",
          "data": {
            "text/plain": [
              "limousine        60125\n",
              "small car        45814\n",
              "station wagon    42371\n",
              "other            29888\n",
              "bus              19639\n",
              "convertible      14952\n",
              "coupé            11735\n",
              "Name: car_type, dtype: int64"
            ]
          },
          "metadata": {
            "tags": []
          },
          "execution_count": 25
        }
      ]
    },
    {
      "cell_type": "code",
      "metadata": {
        "id": "BMT0wq68viyN",
        "colab_type": "code",
        "outputId": "d5af75d4-5c64-4af9-9190-c786e34674e4",
        "colab": {
          "base_uri": "https://localhost:8080/",
          "height": 51
        }
      },
      "source": [
        "train['gas_type'].unique()"
      ],
      "execution_count": 26,
      "outputs": [
        {
          "output_type": "execute_result",
          "data": {
            "text/plain": [
              "array(['gasoline', nan, 'diesel', 'liquefied petroleum gas',\n",
              "       'compressed natural gas', 'other'], dtype=object)"
            ]
          },
          "metadata": {
            "tags": []
          },
          "execution_count": 26
        }
      ]
    },
    {
      "cell_type": "code",
      "metadata": {
        "id": "LEmYEWD3aWF5",
        "colab_type": "code",
        "colab": {}
      },
      "source": [
        "#fill nan with others\n",
        "train['gas_type']=train[\"gas_type\"].fillna('other')"
      ],
      "execution_count": 0,
      "outputs": []
    },
    {
      "cell_type": "code",
      "metadata": {
        "id": "xP6XgoKVWX8R",
        "colab_type": "code",
        "outputId": "0fbe2427-871b-4973-ea0d-bfdea5b7dca8",
        "colab": {
          "base_uri": "https://localhost:8080/",
          "height": 119
        }
      },
      "source": [
        "#one hot encoding will be done\n",
        "train['gas_type'].value_counts()"
      ],
      "execution_count": 27,
      "outputs": [
        {
          "output_type": "execute_result",
          "data": {
            "text/plain": [
              "gasoline                   134042\n",
              "diesel                      70531\n",
              "liquefied petroleum gas      3405\n",
              "compressed natural gas        367\n",
              "other                          88\n",
              "Name: gas_type, dtype: int64"
            ]
          },
          "metadata": {
            "tags": []
          },
          "execution_count": 27
        }
      ]
    },
    {
      "cell_type": "code",
      "metadata": {
        "id": "Mi7Z3LYMv4JU",
        "colab_type": "code",
        "outputId": "78917116-3bf6-4047-916d-7fec089ecc15",
        "colab": {
          "base_uri": "https://localhost:8080/",
          "height": 663
        }
      },
      "source": [
        "#remove the model the car type can represent model\n",
        "train['model'].unique()"
      ],
      "execution_count": 28,
      "outputs": [
        {
          "output_type": "execute_result",
          "data": {
            "text/plain": [
              "array(['forfour', 'arosa', 'tigra', 'fabia', 'tucson', 'scenic',\n",
              "       'a_klasse', 'mx_reihe', 'c_klasse', 'v50', 'lupo', 'polo',\n",
              "       'touareg', nan, 'c4', 'micra', 'golf', 'q5', 'toledo', 'santa',\n",
              "       'v40', 'andere', '100', '3er', 'corsa', 'yaris', 'clk', 'cl',\n",
              "       'punto', 'cayenne', 'corolla', 'vito', 'focus', 'passat',\n",
              "       'x_reihe', '2_reihe', '1_reihe', 'astra', 'seicento',\n",
              "       'transporter', 'a4', 'colt', 'octavia', 'c_reihe', '5er', 'cooper',\n",
              "       'vectra', 'insignia', '3_reihe', 'a6', 'fiesta', 'agila',\n",
              "       'impreza', '7er', 'accord', 'a3', 'beetle', '147', 'grand', 'leon',\n",
              "       'combo', 'megane', 'twingo', 'clio', 'z_reihe', 'xc_reihe', '1er',\n",
              "       'phaeton', 'ibiza', 'verso', 'slk', 'civic', 'a5', 'swift', 'rav',\n",
              "       'caddy', 'up', 'touran', 'yeti', 'sharan', '4_reihe', 'matiz',\n",
              "       'i_reihe', 'stilo', 'e_klasse', 'mondeo', 'wrangler', 'kangoo',\n",
              "       'superb', 'fortwo', 'meriva', 'bora', 'sportage', 'cordoba', 'a1',\n",
              "       'm_klasse', 'legacy', 'c1', 'sprinter', '500', 'v70', '911', 'tt',\n",
              "       'antara', 'ka', 'range_rover', '156', 'viano', 'cherokee',\n",
              "       'duster', '6_reihe', 'panda', 'x_trail', 'laguna', 'auris',\n",
              "       'zafira', 'roadster', 'q7', 'fusion', 'lancer', 'carisma',\n",
              "       'escort', 'sl', 'one', 'glk', 'ceed', 'berlingo', 'bravo', '159',\n",
              "       'spark', 'alhambra', 'primera', 'kaefer', '80', 'carnival', 'aygo',\n",
              "       'fox', '90', 'tiguan', 'sorento', 'cr_reihe', 'outlander',\n",
              "       'b_klasse', 'a8', 'a2', 'eos', 'galaxy', 'scirocco', 'c_max',\n",
              "       'omega', 'crossfire', 'almera', 'c5', 'getz', 's_klasse',\n",
              "       'clubman', 'forester', 'range_rover_sport', 'kuga', 'picanto',\n",
              "       'altea', 'cc', 'c2', '6er', 'doblo', 'c3', 'q3', '200', 'jetta',\n",
              "       'pajero', 'ducato', 'jazz', '300c', 'kalos', '850', 'exeo',\n",
              "       'roomster', 'voyager', '601', 'v_klasse', 'x_type', 'signum',\n",
              "       'mustang', 'galant', 'ptcruiser', 'freelander', 'captiva', 'modus',\n",
              "       'note', 'transit', 'juke', 's_type', 'citigo', 'jimny', 'espace',\n",
              "       'boxster', 'logan', 'rio', 'vivaro', 'qashqai', 'defender',\n",
              "       'avensis', 'kadett', '5_reihe', 'kappa', 'sandero', 'm_reihe',\n",
              "       '900', 'cuore', 'discovery', 'lanos', 'rx_reihe', 's_max',\n",
              "       'range_rover_evoque', 'r19', 'gl', 'sirion', 'niva', 'lybra',\n",
              "       'ypsilon', 'delta', 'move', 'g_klasse', 'cx_reihe', 'navara',\n",
              "       'spider', 'calibra', 'charade', 'b_max', 's60', 'aveo', 'nubira',\n",
              "       'kalina', 'i3', 'justy', 'samara', 'croma', 'v60', '145', 'amarok',\n",
              "       'materia', 'mii', '9000', 'elefantino', 'terios', 'lodgy', 'musa',\n",
              "       'serie_3', 'serie_1', 'rangerover', 'serie_2'], dtype=object)"
            ]
          },
          "metadata": {
            "tags": []
          },
          "execution_count": 28
        }
      ]
    },
    {
      "cell_type": "code",
      "metadata": {
        "id": "aRVguK-nfrxz",
        "colab_type": "code",
        "colab": {}
      },
      "source": [
        "#model removed\n",
        "#train.drop(\"model\", axis = 1, inplace = True)\n",
        "#test.drop(\"model\", axis = 1, inplace = True)"
      ],
      "execution_count": 0,
      "outputs": []
    },
    {
      "cell_type": "code",
      "metadata": {
        "id": "Nmm22g-XgGH_",
        "colab_type": "code",
        "outputId": "d58860cc-acae-462d-f220-806f620c7d9a",
        "colab": {
          "base_uri": "https://localhost:8080/",
          "height": 68
        }
      },
      "source": [
        "#handling Missing Values\n",
        "#to be one hot encoded\n",
        "train['gear_type'].value_counts()"
      ],
      "execution_count": 29,
      "outputs": [
        {
          "output_type": "execute_result",
          "data": {
            "text/plain": [
              "manuell      165717\n",
              "automatik     49674\n",
              "Name: gear_type, dtype: int64"
            ]
          },
          "metadata": {
            "tags": []
          },
          "execution_count": 29
        }
      ]
    },
    {
      "cell_type": "code",
      "metadata": {
        "id": "7Jt4IzcbuJPf",
        "colab_type": "code",
        "outputId": "4147be73-1768-420d-8da5-78542f9102d3",
        "colab": {
          "base_uri": "https://localhost:8080/",
          "height": 34
        }
      },
      "source": [
        "train['gear_type'].unique()"
      ],
      "execution_count": 30,
      "outputs": [
        {
          "output_type": "execute_result",
          "data": {
            "text/plain": [
              "array(['manuell', 'automatik', nan], dtype=object)"
            ]
          },
          "metadata": {
            "tags": []
          },
          "execution_count": 30
        }
      ]
    },
    {
      "cell_type": "code",
      "metadata": {
        "id": "pq6cAe-Audtg",
        "colab_type": "code",
        "colab": {}
      },
      "source": [
        "train['gear_type']=train['gear_type'].fillna('Not_Available')"
      ],
      "execution_count": 0,
      "outputs": []
    },
    {
      "cell_type": "code",
      "metadata": {
        "id": "jbFtCj2b5uOu",
        "colab_type": "code",
        "outputId": "a6296978-9489-49b8-cfa8-81f26e4f607f",
        "colab": {
          "base_uri": "https://localhost:8080/",
          "height": 68
        }
      },
      "source": [
        "#one hot encode\n",
        "train['gear_type'].value_counts()"
      ],
      "execution_count": 31,
      "outputs": [
        {
          "output_type": "execute_result",
          "data": {
            "text/plain": [
              "manuell      165717\n",
              "automatik     49674\n",
              "Name: gear_type, dtype: int64"
            ]
          },
          "metadata": {
            "tags": []
          },
          "execution_count": 31
        }
      ]
    },
    {
      "cell_type": "code",
      "metadata": {
        "id": "TwY0oTRF5Vl1",
        "colab_type": "code",
        "outputId": "459f34c3-3ce7-43a8-a594-f999a8da7b79",
        "colab": {
          "base_uri": "https://localhost:8080/",
          "height": 68
        }
      },
      "source": [
        "# to be one hot encoded\n",
        "train['Status_of_car_repair'].value_counts()"
      ],
      "execution_count": 32,
      "outputs": [
        {
          "output_type": "execute_result",
          "data": {
            "text/plain": [
              "nein    169545\n",
              "ja       17892\n",
              "Name: Status_of_car_repair, dtype: int64"
            ]
          },
          "metadata": {
            "tags": []
          },
          "execution_count": 32
        }
      ]
    },
    {
      "cell_type": "code",
      "metadata": {
        "id": "shK1Wdr1oce7",
        "colab_type": "code",
        "outputId": "243636f4-f8ec-4eb1-efb6-56bcce01bf28",
        "colab": {
          "base_uri": "https://localhost:8080/",
          "height": 34
        }
      },
      "source": [
        "train['Status_of_car_repair'].unique()"
      ],
      "execution_count": 33,
      "outputs": [
        {
          "output_type": "execute_result",
          "data": {
            "text/plain": [
              "array(['nein', nan, 'ja'], dtype=object)"
            ]
          },
          "metadata": {
            "tags": []
          },
          "execution_count": 33
        }
      ]
    },
    {
      "cell_type": "code",
      "metadata": {
        "id": "84yVYE4ZpsHM",
        "colab_type": "code",
        "outputId": "684513c7-8150-451a-e862-a41cb57c7fb3",
        "colab": {
          "base_uri": "https://localhost:8080/",
          "height": 85
        }
      },
      "source": [
        "#one hot encode \n",
        "train['Status_of_car_repair']=train['Status_of_car_repair'].fillna('Not_available')\n",
        "# to be one hot encoded\n",
        "train['Status_of_car_repair'].value_counts()"
      ],
      "execution_count": 34,
      "outputs": [
        {
          "output_type": "execute_result",
          "data": {
            "text/plain": [
              "nein             169545\n",
              "Not_available     37087\n",
              "ja                17892\n",
              "Name: Status_of_car_repair, dtype: int64"
            ]
          },
          "metadata": {
            "tags": []
          },
          "execution_count": 34
        }
      ]
    },
    {
      "cell_type": "code",
      "metadata": {
        "id": "OmNlK3nmgibj",
        "colab_type": "code",
        "outputId": "efe13644-8ffa-4cb4-ca2b-d087b51d63a1",
        "colab": {
          "base_uri": "https://localhost:8080/",
          "height": 34
        }
      },
      "source": [
        "type(train)"
      ],
      "execution_count": 35,
      "outputs": [
        {
          "output_type": "execute_result",
          "data": {
            "text/plain": [
              "pandas.core.frame.DataFrame"
            ]
          },
          "metadata": {
            "tags": []
          },
          "execution_count": 35
        }
      ]
    },
    {
      "cell_type": "code",
      "metadata": {
        "id": "ia5hTO69fb9a",
        "colab_type": "code",
        "outputId": "53a74681-bcbb-4f45-a81d-e57152e2f676",
        "colab": {
          "base_uri": "https://localhost:8080/",
          "height": 51
        }
      },
      "source": [
        "#convert seller typeto a numeric value\n",
        "#use label-encoder\n",
        "train['seller_type'].value_counts()\n"
      ],
      "execution_count": 36,
      "outputs": [
        {
          "output_type": "execute_result",
          "data": {
            "text/plain": [
              "private    224524\n",
              "Name: seller_type, dtype: int64"
            ]
          },
          "metadata": {
            "tags": []
          },
          "execution_count": 36
        }
      ]
    },
    {
      "cell_type": "code",
      "metadata": {
        "id": "H96tinPs4OuV",
        "colab_type": "code",
        "outputId": "ebf19bfd-a924-4704-ffcf-a9a8bc345085",
        "colab": {
          "base_uri": "https://localhost:8080/",
          "height": 51
        }
      },
      "source": [
        "#label encoder\n",
        "train['country_of_use'].value_counts()"
      ],
      "execution_count": 37,
      "outputs": [
        {
          "output_type": "execute_result",
          "data": {
            "text/plain": [
              "london    224524\n",
              "Name: country_of_use, dtype: int64"
            ]
          },
          "metadata": {
            "tags": []
          },
          "execution_count": 37
        }
      ]
    },
    {
      "cell_type": "code",
      "metadata": {
        "id": "8u7ppAuNvnZm",
        "colab_type": "code",
        "outputId": "60e0be9c-a79d-40da-9659-b6f0cedf1e56",
        "colab": {
          "base_uri": "https://localhost:8080/",
          "height": 136
        }
      },
      "source": [
        "#remove car_brand can be categorized with car_type\n",
        "train['car_brand'].unique()"
      ],
      "execution_count": 39,
      "outputs": [
        {
          "output_type": "execute_result",
          "data": {
            "text/plain": [
              "array(['smart', 'seat', 'opel', 'skoda', 'hyundai', 'renault',\n",
              "       'mercedes_benz', 'mazda', 'volvo', 'volkswagen', 'sonstige_autos',\n",
              "       'citroen', 'nissan', 'audi', 'fiat', 'bmw', 'toyota', 'porsche',\n",
              "       'ford', 'peugeot', 'mitsubishi', 'mini', 'subaru', 'trabant',\n",
              "       'honda', 'suzuki', 'alfa_romeo', 'jeep', 'rover', 'chevrolet',\n",
              "       'kia', 'land_rover', 'vauxhall', 'dacia', 'innoson', 'chrysler',\n",
              "       'saab', 'daewoo', 'daihatsu', 'lotus'], dtype=object)"
            ]
          },
          "metadata": {
            "tags": []
          },
          "execution_count": 39
        }
      ]
    },
    {
      "cell_type": "code",
      "metadata": {
        "id": "SIXxYvlgn0Qy",
        "colab_type": "code",
        "colab": {}
      },
      "source": [
        "#dropping car_brand and car_name\n",
        "#train.drop(['car_brand','car_name'],axis=1,inplace=True)\n",
        "\n",
        "#test.drop(['car_brand','car_name'],axis=1,inplace=True)"
      ],
      "execution_count": 0,
      "outputs": []
    },
    {
      "cell_type": "code",
      "metadata": {
        "id": "TCLr25n3oKsk",
        "colab_type": "code",
        "outputId": "5f997acb-abce-4466-fd04-15536e3da65b",
        "colab": {
          "base_uri": "https://localhost:8080/",
          "height": 224
        }
      },
      "source": [
        "train.head()"
      ],
      "execution_count": 40,
      "outputs": [
        {
          "output_type": "execute_result",
          "data": {
            "text/html": [
              "<div>\n",
              "<style scoped>\n",
              "    .dataframe tbody tr th:only-of-type {\n",
              "        vertical-align: middle;\n",
              "    }\n",
              "\n",
              "    .dataframe tbody tr th {\n",
              "        vertical-align: top;\n",
              "    }\n",
              "\n",
              "    .dataframe thead th {\n",
              "        text-align: right;\n",
              "    }\n",
              "</style>\n",
              "<table border=\"1\" class=\"dataframe\">\n",
              "  <thead>\n",
              "    <tr style=\"text-align: right;\">\n",
              "      <th></th>\n",
              "      <th>seller_type</th>\n",
              "      <th>country_of_use</th>\n",
              "      <th>weblog_date</th>\n",
              "      <th>Area_address_code</th>\n",
              "      <th>car_name</th>\n",
              "      <th>car_type</th>\n",
              "      <th>Permit_registration_year</th>\n",
              "      <th>registration_month</th>\n",
              "      <th>horse_power</th>\n",
              "      <th>mileage</th>\n",
              "      <th>gas_type</th>\n",
              "      <th>car_brand</th>\n",
              "      <th>Status_of_car_repair</th>\n",
              "      <th>gear_type</th>\n",
              "      <th>date_of_advert</th>\n",
              "      <th>last_advert_online</th>\n",
              "      <th>model</th>\n",
              "      <th>naira_price</th>\n",
              "    </tr>\n",
              "  </thead>\n",
              "  <tbody>\n",
              "    <tr>\n",
              "      <th>0</th>\n",
              "      <td>private</td>\n",
              "      <td>london</td>\n",
              "      <td>2016-03-15</td>\n",
              "      <td>78183</td>\n",
              "      <td>Smart_smart_forfour_pulse</td>\n",
              "      <td>small car</td>\n",
              "      <td>2007</td>\n",
              "      <td>11</td>\n",
              "      <td>95</td>\n",
              "      <td>241350.000</td>\n",
              "      <td>gasoline</td>\n",
              "      <td>smart</td>\n",
              "      <td>nein</td>\n",
              "      <td>manuell</td>\n",
              "      <td>2016-03-15</td>\n",
              "      <td>2016-03-16</td>\n",
              "      <td>forfour</td>\n",
              "      <td>864000</td>\n",
              "    </tr>\n",
              "    <tr>\n",
              "      <th>1</th>\n",
              "      <td>private</td>\n",
              "      <td>london</td>\n",
              "      <td>2016-04-01</td>\n",
              "      <td>47166</td>\n",
              "      <td>Seat_Arosa_1.4_16V</td>\n",
              "      <td>small car</td>\n",
              "      <td>2003</td>\n",
              "      <td>7</td>\n",
              "      <td>101</td>\n",
              "      <td>241350.000</td>\n",
              "      <td>gasoline</td>\n",
              "      <td>seat</td>\n",
              "      <td>nein</td>\n",
              "      <td>manuell</td>\n",
              "      <td>2016-04-01</td>\n",
              "      <td>2016-04-03</td>\n",
              "      <td>arosa</td>\n",
              "      <td>630000</td>\n",
              "    </tr>\n",
              "    <tr>\n",
              "      <th>2</th>\n",
              "      <td>private</td>\n",
              "      <td>london</td>\n",
              "      <td>2016-03-17</td>\n",
              "      <td>44623</td>\n",
              "      <td>Woll_fahrbereit</td>\n",
              "      <td>small car</td>\n",
              "      <td>1999</td>\n",
              "      <td>8</td>\n",
              "      <td>90</td>\n",
              "      <td>241350.000</td>\n",
              "      <td>NaN</td>\n",
              "      <td>opel</td>\n",
              "      <td>Not_available</td>\n",
              "      <td>manuell</td>\n",
              "      <td>2016-03-17</td>\n",
              "      <td>2016-04-07</td>\n",
              "      <td>tigra</td>\n",
              "      <td>180000</td>\n",
              "    </tr>\n",
              "    <tr>\n",
              "      <th>3</th>\n",
              "      <td>private</td>\n",
              "      <td>london</td>\n",
              "      <td>2016-03-29</td>\n",
              "      <td>53945</td>\n",
              "      <td>Skoda_Fabia_5_Tuerer_dunkelblau_metallic</td>\n",
              "      <td>limousine</td>\n",
              "      <td>2003</td>\n",
              "      <td>6</td>\n",
              "      <td>68</td>\n",
              "      <td>201125.000</td>\n",
              "      <td>gasoline</td>\n",
              "      <td>skoda</td>\n",
              "      <td>Not_available</td>\n",
              "      <td>manuell</td>\n",
              "      <td>2016-03-29</td>\n",
              "      <td>2016-03-29</td>\n",
              "      <td>fabia</td>\n",
              "      <td>432000</td>\n",
              "    </tr>\n",
              "    <tr>\n",
              "      <th>4</th>\n",
              "      <td>private</td>\n",
              "      <td>london</td>\n",
              "      <td>2016-03-24</td>\n",
              "      <td>45886</td>\n",
              "      <td>Verkaufe_mein_Auto_#_Jeep_#_Hyundai_#_Tucson_#</td>\n",
              "      <td>other</td>\n",
              "      <td>2008</td>\n",
              "      <td>0</td>\n",
              "      <td>120</td>\n",
              "      <td>241350.000</td>\n",
              "      <td>NaN</td>\n",
              "      <td>hyundai</td>\n",
              "      <td>Not_available</td>\n",
              "      <td>automatik</td>\n",
              "      <td>2016-03-24</td>\n",
              "      <td>2016-04-05</td>\n",
              "      <td>tucson</td>\n",
              "      <td>1692000</td>\n",
              "    </tr>\n",
              "  </tbody>\n",
              "</table>\n",
              "</div>"
            ],
            "text/plain": [
              "  seller_type country_of_use  ...    model  naira_price\n",
              "0     private         london  ...  forfour       864000\n",
              "1     private         london  ...    arosa       630000\n",
              "2     private         london  ...    tigra       180000\n",
              "3     private         london  ...    fabia       432000\n",
              "4     private         london  ...   tucson      1692000\n",
              "\n",
              "[5 rows x 18 columns]"
            ]
          },
          "metadata": {
            "tags": []
          },
          "execution_count": 40
        }
      ]
    },
    {
      "cell_type": "code",
      "metadata": {
        "id": "QVNv-NiIaQ2W",
        "colab_type": "code",
        "colab": {}
      },
      "source": [
        "# converting dates into datetime format\n",
        "\n",
        "train['weblog_date'] = pd.to_datetime(train['weblog_date'], errors = 'coerce')\n",
        "#train['date_of_advert'] = pd.to_datetime(train['date_of_advert'], errors = 'coerce')\n",
        "train['last_advert_online'] = pd.to_datetime(train['last_advert_online'], errors = 'coerce')\n",
        "# extracting out years, months, days and weeks from the date\n",
        "#train['weblog_date_year'] = train['weblog_date'].dt.year\n",
        "#train['weblog_date_month'] = train['weblog_date'].dt.month\n",
        "#train['date_of_advert_year'] = train['date_of_advert'].dt.year\n",
        "#train['date_of_advert_month'] = train['date_of_advert'].dt.month\n",
        "#train['last_advert_online_year'] = train['last_advert_online'].dt.year\n",
        "#train['last_advert_online_month'] = train['last_advert_online'].dt.month\n",
        "\n",
        "\n"
      ],
      "execution_count": 0,
      "outputs": []
    },
    {
      "cell_type": "code",
      "metadata": {
        "id": "rE_eZXQ_zCaF",
        "colab_type": "code",
        "colab": {}
      },
      "source": [
        "test['weblog_date'] = pd.to_datetime(test['weblog_date'], errors = 'coerce')\n",
        "#test['date_of_advert'] = pd.to_datetime(test['date_of_advert'], errors = 'coerce')\n",
        "test['last_advert_online'] = pd.to_datetime(test['last_advert_online'], errors = 'coerce')\n",
        "\n",
        "# extracting out years, months, days and weeks from the date\n",
        "\n",
        "#test['weblog_date_year'] = test['weblog_date'].dt.year\n",
        "#test['weblog_date_month'] = test['weblog_date'].dt.month\n",
        "\n",
        "#test['date_of_advert_year'] = test['date_of_advert'].dt.year\n",
        "#test['date_of_advert_month'] = test['date_of_advert'].dt.month\n",
        "\n",
        "#test['last_advert_online_year'] = test['last_advert_online'].dt.year\n",
        "#test['last_advert_online_month'] = test['last_advert_online'].dt.month"
      ],
      "execution_count": 0,
      "outputs": []
    },
    {
      "cell_type": "code",
      "metadata": {
        "id": "nRkARgSTl_yi",
        "colab_type": "code",
        "colab": {}
      },
      "source": [
        "#Difference advert dates in days for train\n",
        "train['advert_days_diff']=train['last_advert_online']-train['weblog_date']"
      ],
      "execution_count": 0,
      "outputs": []
    },
    {
      "cell_type": "code",
      "metadata": {
        "id": "_heQ89JrnrSa",
        "colab_type": "code",
        "colab": {}
      },
      "source": [
        "#Difference advert dates in days for test\n",
        "test['advert_days_diff']=test['last_advert_online']-test['weblog_date']"
      ],
      "execution_count": 0,
      "outputs": []
    },
    {
      "cell_type": "code",
      "metadata": {
        "id": "Q5RUrW0G_zwH",
        "colab_type": "code",
        "colab": {}
      },
      "source": [
        " #remove this features date_of_advert,weblogdate,last_advert_online\n",
        " #weblog date and date of advert looks same\n",
        "train.drop(['date_of_advert','weblog_date','last_advert_online'],inplace=True,axis=1)"
      ],
      "execution_count": 0,
      "outputs": []
    },
    {
      "cell_type": "code",
      "metadata": {
        "id": "ArPrpxwZBP6Q",
        "colab_type": "code",
        "colab": {}
      },
      "source": [
        " test.drop(['date_of_advert','weblog_date','last_advert_online'],inplace=True,axis=1)"
      ],
      "execution_count": 0,
      "outputs": []
    },
    {
      "cell_type": "code",
      "metadata": {
        "id": "2PGVaGXKthFC",
        "colab_type": "code",
        "outputId": "3fe8d7a1-de4f-4e04-9fb7-6e55962bda0f",
        "colab": {
          "base_uri": "https://localhost:8080/",
          "height": 224
        }
      },
      "source": [
        "train.head()"
      ],
      "execution_count": 47,
      "outputs": [
        {
          "output_type": "execute_result",
          "data": {
            "text/html": [
              "<div>\n",
              "<style scoped>\n",
              "    .dataframe tbody tr th:only-of-type {\n",
              "        vertical-align: middle;\n",
              "    }\n",
              "\n",
              "    .dataframe tbody tr th {\n",
              "        vertical-align: top;\n",
              "    }\n",
              "\n",
              "    .dataframe thead th {\n",
              "        text-align: right;\n",
              "    }\n",
              "</style>\n",
              "<table border=\"1\" class=\"dataframe\">\n",
              "  <thead>\n",
              "    <tr style=\"text-align: right;\">\n",
              "      <th></th>\n",
              "      <th>seller_type</th>\n",
              "      <th>country_of_use</th>\n",
              "      <th>Area_address_code</th>\n",
              "      <th>car_name</th>\n",
              "      <th>car_type</th>\n",
              "      <th>Permit_registration_year</th>\n",
              "      <th>registration_month</th>\n",
              "      <th>horse_power</th>\n",
              "      <th>mileage</th>\n",
              "      <th>gas_type</th>\n",
              "      <th>car_brand</th>\n",
              "      <th>Status_of_car_repair</th>\n",
              "      <th>gear_type</th>\n",
              "      <th>model</th>\n",
              "      <th>naira_price</th>\n",
              "      <th>advert_days_diff</th>\n",
              "    </tr>\n",
              "  </thead>\n",
              "  <tbody>\n",
              "    <tr>\n",
              "      <th>0</th>\n",
              "      <td>private</td>\n",
              "      <td>london</td>\n",
              "      <td>78183</td>\n",
              "      <td>Smart_smart_forfour_pulse</td>\n",
              "      <td>small car</td>\n",
              "      <td>2007</td>\n",
              "      <td>11</td>\n",
              "      <td>95</td>\n",
              "      <td>241350.000</td>\n",
              "      <td>gasoline</td>\n",
              "      <td>smart</td>\n",
              "      <td>nein</td>\n",
              "      <td>manuell</td>\n",
              "      <td>forfour</td>\n",
              "      <td>864000</td>\n",
              "      <td>1 days</td>\n",
              "    </tr>\n",
              "    <tr>\n",
              "      <th>1</th>\n",
              "      <td>private</td>\n",
              "      <td>london</td>\n",
              "      <td>47166</td>\n",
              "      <td>Seat_Arosa_1.4_16V</td>\n",
              "      <td>small car</td>\n",
              "      <td>2003</td>\n",
              "      <td>7</td>\n",
              "      <td>101</td>\n",
              "      <td>241350.000</td>\n",
              "      <td>gasoline</td>\n",
              "      <td>seat</td>\n",
              "      <td>nein</td>\n",
              "      <td>manuell</td>\n",
              "      <td>arosa</td>\n",
              "      <td>630000</td>\n",
              "      <td>2 days</td>\n",
              "    </tr>\n",
              "    <tr>\n",
              "      <th>2</th>\n",
              "      <td>private</td>\n",
              "      <td>london</td>\n",
              "      <td>44623</td>\n",
              "      <td>Woll_fahrbereit</td>\n",
              "      <td>small car</td>\n",
              "      <td>1999</td>\n",
              "      <td>8</td>\n",
              "      <td>90</td>\n",
              "      <td>241350.000</td>\n",
              "      <td>NaN</td>\n",
              "      <td>opel</td>\n",
              "      <td>Not_available</td>\n",
              "      <td>manuell</td>\n",
              "      <td>tigra</td>\n",
              "      <td>180000</td>\n",
              "      <td>21 days</td>\n",
              "    </tr>\n",
              "    <tr>\n",
              "      <th>3</th>\n",
              "      <td>private</td>\n",
              "      <td>london</td>\n",
              "      <td>53945</td>\n",
              "      <td>Skoda_Fabia_5_Tuerer_dunkelblau_metallic</td>\n",
              "      <td>limousine</td>\n",
              "      <td>2003</td>\n",
              "      <td>6</td>\n",
              "      <td>68</td>\n",
              "      <td>201125.000</td>\n",
              "      <td>gasoline</td>\n",
              "      <td>skoda</td>\n",
              "      <td>Not_available</td>\n",
              "      <td>manuell</td>\n",
              "      <td>fabia</td>\n",
              "      <td>432000</td>\n",
              "      <td>0 days</td>\n",
              "    </tr>\n",
              "    <tr>\n",
              "      <th>4</th>\n",
              "      <td>private</td>\n",
              "      <td>london</td>\n",
              "      <td>45886</td>\n",
              "      <td>Verkaufe_mein_Auto_#_Jeep_#_Hyundai_#_Tucson_#</td>\n",
              "      <td>other</td>\n",
              "      <td>2008</td>\n",
              "      <td>0</td>\n",
              "      <td>120</td>\n",
              "      <td>241350.000</td>\n",
              "      <td>NaN</td>\n",
              "      <td>hyundai</td>\n",
              "      <td>Not_available</td>\n",
              "      <td>automatik</td>\n",
              "      <td>tucson</td>\n",
              "      <td>1692000</td>\n",
              "      <td>12 days</td>\n",
              "    </tr>\n",
              "  </tbody>\n",
              "</table>\n",
              "</div>"
            ],
            "text/plain": [
              "  seller_type country_of_use  ...  naira_price advert_days_diff\n",
              "0     private         london  ...       864000           1 days\n",
              "1     private         london  ...       630000           2 days\n",
              "2     private         london  ...       180000          21 days\n",
              "3     private         london  ...       432000           0 days\n",
              "4     private         london  ...      1692000          12 days\n",
              "\n",
              "[5 rows x 16 columns]"
            ]
          },
          "metadata": {
            "tags": []
          },
          "execution_count": 47
        }
      ]
    },
    {
      "cell_type": "code",
      "metadata": {
        "id": "O-eS4OyBzFtk",
        "colab_type": "code",
        "outputId": "b21d689f-e7ab-4bba-91c6-0a16badbf5e0",
        "colab": {
          "base_uri": "https://localhost:8080/",
          "height": 241
        }
      },
      "source": [
        "test.head()"
      ],
      "execution_count": 48,
      "outputs": [
        {
          "output_type": "execute_result",
          "data": {
            "text/html": [
              "<div>\n",
              "<style scoped>\n",
              "    .dataframe tbody tr th:only-of-type {\n",
              "        vertical-align: middle;\n",
              "    }\n",
              "\n",
              "    .dataframe tbody tr th {\n",
              "        vertical-align: top;\n",
              "    }\n",
              "\n",
              "    .dataframe thead th {\n",
              "        text-align: right;\n",
              "    }\n",
              "</style>\n",
              "<table border=\"1\" class=\"dataframe\">\n",
              "  <thead>\n",
              "    <tr style=\"text-align: right;\">\n",
              "      <th></th>\n",
              "      <th>seller_type</th>\n",
              "      <th>country_of_use</th>\n",
              "      <th>Area_address_code</th>\n",
              "      <th>car_name</th>\n",
              "      <th>car_type</th>\n",
              "      <th>Permit_registration_year</th>\n",
              "      <th>registration_month</th>\n",
              "      <th>horse_power</th>\n",
              "      <th>mileage</th>\n",
              "      <th>gas_type</th>\n",
              "      <th>car_brand</th>\n",
              "      <th>Status_of_car_repair</th>\n",
              "      <th>gear_type</th>\n",
              "      <th>model</th>\n",
              "      <th>advert_days_diff</th>\n",
              "    </tr>\n",
              "  </thead>\n",
              "  <tbody>\n",
              "    <tr>\n",
              "      <th>0</th>\n",
              "      <td>private</td>\n",
              "      <td>london</td>\n",
              "      <td>24768</td>\n",
              "      <td>Opel_vectra_B_1.6_16v_tuev_09.2017</td>\n",
              "      <td>limousine</td>\n",
              "      <td>2000</td>\n",
              "      <td>9</td>\n",
              "      <td>101</td>\n",
              "      <td>201125.000</td>\n",
              "      <td>gasoline</td>\n",
              "      <td>opel</td>\n",
              "      <td>nein</td>\n",
              "      <td>automatik</td>\n",
              "      <td>vectra</td>\n",
              "      <td>1 days</td>\n",
              "    </tr>\n",
              "    <tr>\n",
              "      <th>1</th>\n",
              "      <td>private</td>\n",
              "      <td>london</td>\n",
              "      <td>26629</td>\n",
              "      <td>Aixam_45_km/h_Auto_automatiek_nicht_fahrbereit</td>\n",
              "      <td>other</td>\n",
              "      <td>2005</td>\n",
              "      <td>6</td>\n",
              "      <td>0</td>\n",
              "      <td>32180.000</td>\n",
              "      <td>NaN</td>\n",
              "      <td>sonstige_autos</td>\n",
              "      <td>NaN</td>\n",
              "      <td>automatik</td>\n",
              "      <td>NaN</td>\n",
              "      <td>9 days</td>\n",
              "    </tr>\n",
              "    <tr>\n",
              "      <th>2</th>\n",
              "      <td>private</td>\n",
              "      <td>london</td>\n",
              "      <td>35606</td>\n",
              "      <td>Passat_Alltrack_Bluemotion</td>\n",
              "      <td>station wagon</td>\n",
              "      <td>2018</td>\n",
              "      <td>1</td>\n",
              "      <td>0</td>\n",
              "      <td>32180.000</td>\n",
              "      <td>diesel</td>\n",
              "      <td>volkswagen</td>\n",
              "      <td>ja</td>\n",
              "      <td>NaN</td>\n",
              "      <td>passat</td>\n",
              "      <td>15 days</td>\n",
              "    </tr>\n",
              "    <tr>\n",
              "      <th>3</th>\n",
              "      <td>private</td>\n",
              "      <td>london</td>\n",
              "      <td>59192</td>\n",
              "      <td>Opel_Kadett</td>\n",
              "      <td>limousine</td>\n",
              "      <td>1979</td>\n",
              "      <td>9</td>\n",
              "      <td>110</td>\n",
              "      <td>241350.000</td>\n",
              "      <td>gasoline</td>\n",
              "      <td>opel</td>\n",
              "      <td>nein</td>\n",
              "      <td>manuell</td>\n",
              "      <td>kadett</td>\n",
              "      <td>3 days</td>\n",
              "    </tr>\n",
              "    <tr>\n",
              "      <th>4</th>\n",
              "      <td>private</td>\n",
              "      <td>london</td>\n",
              "      <td>7551</td>\n",
              "      <td>Seat_Arosa_\"Anfaengerauto_Stadtflitzer\"_TÜV_02...</td>\n",
              "      <td>small car</td>\n",
              "      <td>2000</td>\n",
              "      <td>8</td>\n",
              "      <td>0</td>\n",
              "      <td>241350.000</td>\n",
              "      <td>gasoline</td>\n",
              "      <td>seat</td>\n",
              "      <td>NaN</td>\n",
              "      <td>manuell</td>\n",
              "      <td>arosa</td>\n",
              "      <td>4 days</td>\n",
              "    </tr>\n",
              "  </tbody>\n",
              "</table>\n",
              "</div>"
            ],
            "text/plain": [
              "  seller_type country_of_use  ...   model advert_days_diff\n",
              "0     private         london  ...  vectra           1 days\n",
              "1     private         london  ...     NaN           9 days\n",
              "2     private         london  ...  passat          15 days\n",
              "3     private         london  ...  kadett           3 days\n",
              "4     private         london  ...   arosa           4 days\n",
              "\n",
              "[5 rows x 15 columns]"
            ]
          },
          "metadata": {
            "tags": []
          },
          "execution_count": 48
        }
      ]
    },
    {
      "cell_type": "code",
      "metadata": {
        "id": "dZzmxZ5hQbrw",
        "colab_type": "code",
        "outputId": "27a4b38b-dc4b-4717-c555-6b483fa15000",
        "colab": {
          "base_uri": "https://localhost:8080/",
          "height": 301
        }
      },
      "source": [
        "#remove outliers\n",
        "sns.boxplot(x=train['naira_price'])"
      ],
      "execution_count": 49,
      "outputs": [
        {
          "output_type": "execute_result",
          "data": {
            "text/plain": [
              "<matplotlib.axes._subplots.AxesSubplot at 0x7f6cb48d9668>"
            ]
          },
          "metadata": {
            "tags": []
          },
          "execution_count": 49
        },
        {
          "output_type": "display_data",
          "data": {
            "image/png": "[encoded data removed]",
            "text/plain": [
              "<Figure size 432x288 with 1 Axes>"
            ]
          },
          "metadata": {
            "tags": []
          }
        }
      ]
    },
    {
      "cell_type": "code",
      "metadata": {
        "id": "peTvdNieqilD",
        "colab_type": "code",
        "outputId": "685e1402-ef15-48cd-a587-c3157b71f9cb",
        "colab": {
          "base_uri": "https://localhost:8080/",
          "height": 671
        }
      },
      "source": [
        "#Correlation map to see how features are correlated with SalePrice\n",
        "corrmat = train.corr()\n",
        "plt.subplots(figsize=(12,9))\n",
        "sns.heatmap(corrmat, vmax=0.9, square=True)"
      ],
      "execution_count": 50,
      "outputs": [
        {
          "output_type": "execute_result",
          "data": {
            "text/plain": [
              "<matplotlib.axes._subplots.AxesSubplot at 0x7f6cb48a7e10>"
            ]
          },
          "metadata": {
            "tags": []
          },
          "execution_count": 50
        },
        {
          "output_type": "display_data",
          "data": {
            "image/png": "[encoded data removed]",
            "text/plain": [
              "<Figure size 864x648 with 2 Axes>"
            ]
          },
          "metadata": {
            "tags": []
          }
        }
      ]
    },
    {
      "cell_type": "code",
      "metadata": {
        "id": "_ivFO5JArjjP",
        "colab_type": "code",
        "outputId": "371ce410-cde2-4d6b-cbc1-f6fa5048e305",
        "colab": {
          "base_uri": "https://localhost:8080/",
          "height": 221
        }
      },
      "source": [
        "#the category types\n",
        "['seller_type',\n",
        " 'country_of_use',\n",
        " 'weblog_date',\n",
        " 'car_name',\n",
        " 'car_type',\n",
        " 'gas_type',\n",
        " 'car_brand',\n",
        " 'Status_of_car_repair',\n",
        " 'gear_type',\n",
        " 'date_of_advert',\n",
        " 'last_advert_online',\n",
        " 'model']"
      ],
      "execution_count": 51,
      "outputs": [
        {
          "output_type": "execute_result",
          "data": {
            "text/plain": [
              "['seller_type',\n",
              " 'country_of_use',\n",
              " 'weblog_date',\n",
              " 'car_name',\n",
              " 'car_type',\n",
              " 'gas_type',\n",
              " 'car_brand',\n",
              " 'Status_of_car_repair',\n",
              " 'gear_type',\n",
              " 'date_of_advert',\n",
              " 'last_advert_online',\n",
              " 'model']"
            ]
          },
          "metadata": {
            "tags": []
          },
          "execution_count": 51
        }
      ]
    },
    {
      "cell_type": "code",
      "metadata": {
        "id": "9GmAEPIrie_v",
        "colab_type": "code",
        "outputId": "0c54d4d6-c5f0-4be4-f7e3-bd2e2c6f73bd",
        "colab": {
          "base_uri": "https://localhost:8080/",
          "height": 871
        }
      },
      "source": [
        "#handling the prize predictor varriable\n",
        "y = train['naira_price']\n",
        "plt.figure(1); plt.title('Johnson SU')\n",
        "sns.distplot(y, kde=False, fit=stats.johnsonsu)\n",
        "plt.figure(2); plt.title('Normal')\n",
        "sns.distplot(y, kde=False, fit=stats.norm)\n",
        "plt.figure(3); plt.title('Log Normal')\n",
        "sns.distplot(y, kde=False, fit=stats.lognorm)"
      ],
      "execution_count": 52,
      "outputs": [
        {
          "output_type": "execute_result",
          "data": {
            "text/plain": [
              "<matplotlib.axes._subplots.AxesSubplot at 0x7f6cb476fc88>"
            ]
          },
          "metadata": {
            "tags": []
          },
          "execution_count": 52
        },
        {
          "output_type": "display_data",
          "data": {
            "image/png": "[encoded data removed]",
            "text/plain": [
              "<Figure size 432x288 with 1 Axes>"
            ]
          },
          "metadata": {
            "tags": []
          }
        },
        {
          "output_type": "display_data",
          "data": {
            "image/png": "[encoded data removed]",
            "text/plain": [
              "<Figure size 432x288 with 1 Axes>"
            ]
          },
          "metadata": {
            "tags": []
          }
        },
        {
          "output_type": "display_data",
          "data": {
            "image/png": "[encoded data removed]",
            "text/plain": [
              "<Figure size 432x288 with 1 Axes>"
            ]
          },
          "metadata": {
            "tags": []
          }
        }
      ]
    },
    {
      "cell_type": "code",
      "metadata": {
        "id": "pU-0nWSNoaNJ",
        "colab_type": "code",
        "outputId": "9308b477-1f6c-4b32-8918-c1e57737ca13",
        "colab": {
          "base_uri": "https://localhost:8080/",
          "height": 625
        }
      },
      "source": [
        "sns.distplot(train['naira_price'] , fit=norm);\n",
        "\n",
        "# Get the fitted parameters used by the function\n",
        "(mu, sigma) = norm.fit(train['naira_price'])\n",
        "print( '\\n mu = {:.2f} and sigma = {:.2f}\\n'.format(mu, sigma))\n",
        "\n",
        "#Now plot the distribution\n",
        "plt.legend(['Normal dist. ($\\mu=$ {:.2f} and $\\sigma=$ {:.2f} )'.format(mu, sigma)],\n",
        "            loc='best')\n",
        "plt.ylabel('Frequency')\n",
        "plt.title('Naira Price distribution')\n",
        "\n",
        "#Get also the QQ-plot\n",
        "fig = plt.figure()\n",
        "res = stats.probplot(train['naira_price'], plot=plt)\n",
        "plt.show()"
      ],
      "execution_count": 53,
      "outputs": [
        {
          "output_type": "stream",
          "text": [
            "\n",
            " mu = 2262567.00 and sigma = 3123093.25\n",
            "\n"
          ],
          "name": "stdout"
        },
        {
          "output_type": "display_data",
          "data": {
            "image/png": "[encoded data removed]",
            "text/plain": [
              "<Figure size 432x288 with 1 Axes>"
            ]
          },
          "metadata": {
            "tags": []
          }
        },
        {
          "output_type": "display_data",
          "data": {
            "image/png": "[encoded data removed]",
            "text/plain": [
              "<Figure size 432x288 with 1 Axes>"
            ]
          },
          "metadata": {
            "tags": []
          }
        }
      ]
    },
    {
      "cell_type": "code",
      "metadata": {
        "id": "tvUzH9Ybouhx",
        "colab_type": "code",
        "outputId": "5999a5a8-0b46-4dd9-f7f9-b5e8e368a8fb",
        "colab": {
          "base_uri": "https://localhost:8080/",
          "height": 625
        }
      },
      "source": [
        "#We use the numpy fuction log1p which  applies log(1+x) to all elements of the column\n",
        "train[\"naira_price\"] = np.log1p(train[\"naira_price\"])\n",
        "\n",
        "#Check the new distribution \n",
        "sns.distplot(train['naira_price'] , fit=norm);\n",
        "\n",
        "# Get the fitted parameters used by the function\n",
        "(mu, sigma) = norm.fit(train['naira_price'])\n",
        "print( '\\n mu = {:.2f} and sigma = {:.2f}\\n'.format(mu, sigma))\n",
        "\n",
        "#Now plot the distribution\n",
        "plt.legend(['Normal dist. ($\\mu=$ {:.2f} and $\\sigma=$ {:.2f} )'.format(mu, sigma)],\n",
        "            loc='best')\n",
        "plt.ylabel('Frequency')\n",
        "plt.title('Naira Price distribution')\n",
        "\n",
        "#Get also the QQ-plot\n",
        "fig = plt.figure()\n",
        "res = stats.probplot(train['naira_price'], plot=plt)\n",
        "plt.show()"
      ],
      "execution_count": 54,
      "outputs": [
        {
          "output_type": "stream",
          "text": [
            "\n",
            " mu = 14.06 and sigma = 1.07\n",
            "\n"
          ],
          "name": "stdout"
        },
        {
          "output_type": "display_data",
          "data": {
            "image/png": "[encoded data removed]",
            "text/plain": [
              "<Figure size 432x288 with 1 Axes>"
            ]
          },
          "metadata": {
            "tags": []
          }
        },
        {
          "output_type": "display_data",
          "data": {
            "image/png": "[encoded data removed]",
            "text/plain": [
              "<Figure size 432x288 with 1 Axes>"
            ]
          },
          "metadata": {
            "tags": []
          }
        }
      ]
    },
    {
      "cell_type": "code",
      "metadata": {
        "id": "aJh-ckCu2rUy",
        "colab_type": "code",
        "colab": {}
      },
      "source": [
        ""
      ],
      "execution_count": 0,
      "outputs": []
    },
    {
      "cell_type": "code",
      "metadata": {
        "id": "xtL1p2R06rpB",
        "colab_type": "code",
        "colab": {}
      },
      "source": [
        "train_ID=train_ID.astype(float)"
      ],
      "execution_count": 0,
      "outputs": []
    },
    {
      "cell_type": "code",
      "metadata": {
        "id": "GpWZ-Trs8je9",
        "colab_type": "code",
        "outputId": "ebaa5edb-e16b-4a58-c32e-28c77276735e",
        "colab": {
          "base_uri": "https://localhost:8080/",
          "height": 34
        }
      },
      "source": [
        "type(train_ID)"
      ],
      "execution_count": 56,
      "outputs": [
        {
          "output_type": "execute_result",
          "data": {
            "text/plain": [
              "pandas.core.series.Series"
            ]
          },
          "metadata": {
            "tags": []
          },
          "execution_count": 56
        }
      ]
    },
    {
      "cell_type": "code",
      "metadata": {
        "id": "oRpgcs0T4F2b",
        "colab_type": "code",
        "colab": {}
      },
      "source": [
        "\n",
        "#apply SelectKBest class to extract top 10 best features\n",
        "#bestfeatures = SelectKBest(score_func=chi2, k=10)\n",
        "#fit = bestfeatures.fit(quantitative,train_ID)\n",
        "#dfscores = pd.DataFrame(fit.scores_)\n",
        "#dfcolumns = pd.DataFrame(quantitative.columns)\n",
        "#concat two dataframes for better visualization \n",
        "#featureScores = pd.concat([dfcolumns,dfscores],axis=1)\n",
        "#featureScores.columns = ['Specs','Score']  #naming the dataframe columns\n",
        "#print(featureScores.nlargest(10,'Score'))  #print 10 best features"
      ],
      "execution_count": 0,
      "outputs": []
    },
    {
      "cell_type": "code",
      "metadata": {
        "colab_type": "code",
        "id": "-Rxc48TAiQrh",
        "colab": {}
      },
      "source": [
        "#train['car_type'].value_counts()"
      ],
      "execution_count": 0,
      "outputs": []
    },
    {
      "cell_type": "code",
      "metadata": {
        "colab_type": "code",
        "id": "yb8wLWDziO0U",
        "outputId": "cb01c6f5-9c30-47db-bda7-a58140728b8d",
        "colab": {
          "base_uri": "https://localhost:8080/",
          "height": 54
        }
      },
      "source": [
        "\"\"\"\n",
        "def car_type_cat(cat):\n",
        "  if cat=='limousine':\n",
        "    return 1\n",
        "  elif cat=='small car':\n",
        "    return 2\n",
        "  elif cat=='station wagon':\n",
        "    return 3\n",
        "  elif cat=='bus':\n",
        "    return 4\n",
        "  elif cat=='convertible':\n",
        "    return 5\n",
        "  elif cat=='coupé':\n",
        "    return 6\n",
        "  else:\n",
        "    return 7\n",
        "\"\"\"\n",
        "  "
      ],
      "execution_count": 57,
      "outputs": [
        {
          "output_type": "execute_result",
          "data": {
            "text/plain": [
              "\"\\ndef car_type_cat(cat):\\n  if cat=='limousine':\\n    return 1\\n  elif cat=='small car':\\n    return 2\\n  elif cat=='station wagon':\\n    return 3\\n  elif cat=='bus':\\n    return 4\\n  elif cat=='convertible':\\n    return 5\\n  elif cat=='coupé':\\n    return 6\\n  else:\\n    return 7\\n\""
            ]
          },
          "metadata": {
            "tags": []
          },
          "execution_count": 57
        }
      ]
    },
    {
      "cell_type": "code",
      "metadata": {
        "colab_type": "code",
        "id": "8wq5QkZ5iOsF",
        "colab": {}
      },
      "source": [
        "#train['gas_type'].value_counts()"
      ],
      "execution_count": 0,
      "outputs": []
    },
    {
      "cell_type": "code",
      "metadata": {
        "id": "pg6gIZeTwvbA",
        "colab_type": "code",
        "outputId": "8931236a-9fcc-4100-d8ad-90714d90dbf0",
        "colab": {
          "base_uri": "https://localhost:8080/",
          "height": 54
        }
      },
      "source": [
        "\"\"\"\n",
        "def gas_type_cat(cat):\n",
        "  if cat=='gasoline':\n",
        "    return 1\n",
        "  elif cat=='diesel':\n",
        "    return 2\n",
        "  elif cat=='liquefied petroleum gas':\n",
        "    return 3\n",
        "  elif cat=='compressed natural gas':\n",
        "    return 4\n",
        "  else:\n",
        "    return 5\n",
        "\"\"\"\n"
      ],
      "execution_count": 59,
      "outputs": [
        {
          "output_type": "execute_result",
          "data": {
            "text/plain": [
              "\"\\ndef gas_type_cat(cat):\\n  if cat=='gasoline':\\n    return 1\\n  elif cat=='diesel':\\n    return 2\\n  elif cat=='liquefied petroleum gas':\\n    return 3\\n  elif cat=='compressed natural gas':\\n    return 4\\n  else:\\n    return 5\\n\""
            ]
          },
          "metadata": {
            "tags": []
          },
          "execution_count": 59
        }
      ]
    },
    {
      "cell_type": "code",
      "metadata": {
        "colab_type": "code",
        "id": "77j2GLIgiM2K",
        "colab": {}
      },
      "source": [
        "#train['car_type']=train['car_type'].apply(car_type_cat)\n",
        "#test['car_type']=test['car_type'].apply(car_type_cat)"
      ],
      "execution_count": 0,
      "outputs": []
    },
    {
      "cell_type": "code",
      "metadata": {
        "colab_type": "code",
        "id": "rl3xrqhqiIak",
        "colab": {}
      },
      "source": [
        "#train['gas_type']=train['gas_type'].apply(gas_type_cat)\n",
        "#test['gas_type']=test['gas_type'].apply(gas_type_cat)"
      ],
      "execution_count": 0,
      "outputs": []
    },
    {
      "cell_type": "code",
      "metadata": {
        "id": "pXZSjudJlEuf",
        "colab_type": "code",
        "colab": {}
      },
      "source": [
        "#extracting year and month from date\n",
        "#!conda update pandas"
      ],
      "execution_count": 0,
      "outputs": []
    },
    {
      "cell_type": "code",
      "metadata": {
        "id": "UGBqizQ6SA6c",
        "colab_type": "code",
        "outputId": "44760eb4-e346-402a-fa1a-4b52f8729a0b",
        "colab": {
          "base_uri": "https://localhost:8080/",
          "height": 286
        }
      },
      "source": [
        "#check outliars\n",
        "fig, ax = plt.subplots()\n",
        "ax.scatter(x = train['horse_power'], y = train['naira_price'])\n",
        "plt.ylabel('Naira Price', fontsize=13)\n",
        "plt.xlabel('HP', fontsize=13)\n",
        "plt.show()"
      ],
      "execution_count": 61,
      "outputs": [
        {
          "output_type": "display_data",
          "data": {
            "image/png": "[encoded data removed]",
            "text/plain": [
              "<Figure size 432x288 with 1 Axes>"
            ]
          },
          "metadata": {
            "tags": []
          }
        }
      ]
    },
    {
      "cell_type": "code",
      "metadata": {
        "id": "XCrjyvBi2vGX",
        "colab_type": "code",
        "colab": {}
      },
      "source": [
        "#create numeric plots for mumerical varriables\n",
        "#num = [f for f in train.columns if train.dtypes[f] != 'object']\n",
        "num=quantitative\n",
        "#num.remove('Id')\n",
        "nd = pd.melt(train, value_vars = num)\n",
        "n1 = sns.FacetGrid (nd, col='variable', col_wrap=4, sharex=False, sharey = False)\n",
        "n1 = n1.map(sns.distplot(train,bins=None), 'value')\n",
        "n1"
      ],
      "execution_count": 0,
      "outputs": []
    },
    {
      "cell_type": "code",
      "metadata": {
        "id": "2LhEuWeSt6u6",
        "colab_type": "code",
        "colab": {}
      },
      "source": [
        "#functions for creating boxplot for categorical varriables\n",
        "def boxplot(x,y,**kwargs):\n",
        "  sns.boxplot(x=x,y=y)\n",
        "  x = plt.xticks(rotation=90)\n",
        "\n"
      ],
      "execution_count": 0,
      "outputs": []
    },
    {
      "cell_type": "code",
      "metadata": {
        "id": "3h_KMSl1bvYF",
        "colab_type": "code",
        "outputId": "8ac57740-dd87-4c72-93da-04de53feba68",
        "colab": {
          "base_uri": "https://localhost:8080/",
          "height": 1000
        }
      },
      "source": [
        "cat = [f for f in train.columns if train.dtypes[f] == 'object']\n",
        "p = pd.melt(train, id_vars='naira_price', value_vars=cat)\n",
        "g = sns.FacetGrid (p, col='variable', col_wrap=2, sharex=False, sharey=False, size=5)\n",
        "g = g.map(boxplot, 'value','naira_price')\n",
        "g"
      ],
      "execution_count": 0,
      "outputs": [
        {
          "output_type": "execute_result",
          "data": {
            "text/plain": [
              "<seaborn.axisgrid.FacetGrid at 0x7fc788fffd30>"
            ]
          },
          "metadata": {
            "tags": []
          },
          "execution_count": 75
        },
        {
          "output_type": "display_data",
          "data": {
            "image/png": "[encoded data removed]",
            "text/plain": [
              "<Figure size 720x1440 with 7 Axes>"
            ]
          },
          "metadata": {
            "tags": []
          }
        }
      ]
    },
    {
      "cell_type": "code",
      "metadata": {
        "id": "N1WFdPxpvzy0",
        "colab_type": "code",
        "colab": {}
      },
      "source": [
        ""
      ],
      "execution_count": 0,
      "outputs": []
    }
  ]
}