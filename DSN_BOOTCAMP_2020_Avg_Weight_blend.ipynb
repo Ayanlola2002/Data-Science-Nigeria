{
  "nbformat": 4,
  "nbformat_minor": 0,
  "metadata": {
    "colab": {
      "name": " DSN_BOOTCAMP_2020_Avg_Weight_blend.ipynb",
      "provenance": [],
      "collapsed_sections": [],
      "include_colab_link": true
    },
    "kernelspec": {
      "name": "python3",
      "display_name": "Python 3"
    }
  },
  "cells": [
    {
      "cell_type": "markdown",
      "metadata": {
        "id": "view-in-github",
        "colab_type": "text"
      },
      "source": [
        "<a href=\"https://colab.research.google.com/github/Ayanlola2002/Data-Science-Nigeria/blob/master/DSN_BOOTCAMP_2020_Avg_Weight_blend.ipynb\" target=\"_parent\"><img src=\"https://colab.research.google.com/assets/colab-badge.svg\" alt=\"Open In Colab\"/></a>"
      ]
    },
    {
      "cell_type": "code",
      "metadata": {
        "id": "nrx0zAs4Okhc",
        "outputId": "2e13e3dc-27be-45b3-f79c-15195758f854",
        "colab": {
          "base_uri": "https://localhost:8080/",
          "height": 54
        }
      },
      "source": [
        "#mounting Gdrive\n",
        "from google.colab import drive\n",
        "drive.mount('/content/drive')"
      ],
      "execution_count": 41,
      "outputs": [
        {
          "output_type": "stream",
          "text": [
            "Drive already mounted at /content/drive; to attempt to forcibly remount, call drive.mount(\"/content/drive\", force_remount=True).\n"
          ],
          "name": "stdout"
        }
      ]
    },
    {
      "cell_type": "code",
      "metadata": {
        "id": "jl4gZ1L3O2NC",
        "outputId": "8dd9e1cb-da47-4eed-f7c3-4bddac09146b",
        "colab": {
          "base_uri": "https://localhost:8080/",
          "height": 121
        }
      },
      "source": [
        "import pandas as pd\n",
        "import numpy as np\n",
        "#from sklearn.experimental import enable_iterative_imputer\n",
        "#from sklearn.impute import IterativeImputer\n",
        "#imp= IterativeImputer()\n",
        "from sklearn.impute import SimpleImputer\n",
        "from sklearn.preprocessing import LabelEncoder\n",
        "from sklearn.model_selection import train_test_split,cross_val_score, GridSearchCV,StratifiedKFold\n",
        "from sklearn.metrics import accuracy_score,mean_squared_error,roc_auc_score\n",
        "from sklearn.naive_bayes import GaussianNB,MultinomialNB\n",
        "from sklearn.linear_model import SGDClassifier, LogisticRegression\n",
        "from sklearn.tree import DecisionTreeClassifier\n",
        "from sklearn.discriminant_analysis import QuadraticDiscriminantAnalysis, LinearDiscriminantAnalysis\n",
        "from sklearn.ensemble import RandomForestClassifier, AdaBoostClassifier, GradientBoostingClassifier\n",
        "from sklearn.neighbors import KNeighborsClassifier\n",
        "from sklearn.ensemble import RandomForestClassifier\n",
        "from xgboost import XGBClassifier\n",
        "from lightgbm import LGBMModel,LGBMClassifier\n",
        "from sklearn.ensemble import ExtraTreesClassifier\n",
        "from sklearn.pipeline import make_pipeline\n",
        "from sklearn.preprocessing import RobustScaler\n",
        "!pip install vecstack\n",
        "from vecstack import stacking\n",
        "#pd.set_option('display.float_format', lambda x: '{:.3f}'.format(x)) #Limiting floats output to 3 decimal points"
      ],
      "execution_count": 42,
      "outputs": [
        {
          "output_type": "stream",
          "text": [
            "Requirement already satisfied: vecstack in /usr/local/lib/python3.6/dist-packages (0.4.0)\n",
            "Requirement already satisfied: numpy in /usr/local/lib/python3.6/dist-packages (from vecstack) (1.18.5)\n",
            "Requirement already satisfied: scikit-learn>=0.18 in /usr/local/lib/python3.6/dist-packages (from vecstack) (0.22.2.post1)\n",
            "Requirement already satisfied: scipy in /usr/local/lib/python3.6/dist-packages (from vecstack) (1.4.1)\n",
            "Requirement already satisfied: joblib>=0.11 in /usr/local/lib/python3.6/dist-packages (from scikit-learn>=0.18->vecstack) (0.16.0)\n"
          ],
          "name": "stdout"
        }
      ]
    },
    {
      "cell_type": "code",
      "metadata": {
        "id": "XGTxDu2ETOGX"
      },
      "source": [
        "train_df=pd.read_csv('/content/drive/My Drive/DSN_BOOTCAMP/Train.csv')\n",
        "test_df=pd.read_csv('/content/drive/My Drive/DSN_BOOTCAMP/Test.csv')"
      ],
      "execution_count": 43,
      "outputs": []
    },
    {
      "cell_type": "code",
      "metadata": {
        "id": "2MzVWzArWzPv",
        "outputId": "4b8e4e82-e3f5-4dc3-b31a-3f4737383a4b",
        "colab": {
          "base_uri": "https://localhost:8080/",
          "height": 215
        }
      },
      "source": [
        "\n",
        "train_df.head()"
      ],
      "execution_count": 44,
      "outputs": [
        {
          "output_type": "execute_result",
          "data": {
            "text/html": [
              "<div>\n",
              "<style scoped>\n",
              "    .dataframe tbody tr th:only-of-type {\n",
              "        vertical-align: middle;\n",
              "    }\n",
              "\n",
              "    .dataframe tbody tr th {\n",
              "        vertical-align: top;\n",
              "    }\n",
              "\n",
              "    .dataframe thead th {\n",
              "        text-align: right;\n",
              "    }\n",
              "</style>\n",
              "<table border=\"1\" class=\"dataframe\">\n",
              "  <thead>\n",
              "    <tr style=\"text-align: right;\">\n",
              "      <th></th>\n",
              "      <th>Applicant_ID</th>\n",
              "      <th>form_field1</th>\n",
              "      <th>form_field2</th>\n",
              "      <th>form_field3</th>\n",
              "      <th>form_field4</th>\n",
              "      <th>form_field5</th>\n",
              "      <th>form_field6</th>\n",
              "      <th>form_field7</th>\n",
              "      <th>form_field8</th>\n",
              "      <th>form_field9</th>\n",
              "      <th>form_field10</th>\n",
              "      <th>form_field11</th>\n",
              "      <th>form_field12</th>\n",
              "      <th>form_field13</th>\n",
              "      <th>form_field14</th>\n",
              "      <th>form_field15</th>\n",
              "      <th>form_field16</th>\n",
              "      <th>form_field17</th>\n",
              "      <th>form_field18</th>\n",
              "      <th>form_field19</th>\n",
              "      <th>form_field20</th>\n",
              "      <th>form_field21</th>\n",
              "      <th>form_field22</th>\n",
              "      <th>form_field23</th>\n",
              "      <th>form_field24</th>\n",
              "      <th>form_field25</th>\n",
              "      <th>form_field26</th>\n",
              "      <th>form_field27</th>\n",
              "      <th>form_field28</th>\n",
              "      <th>form_field29</th>\n",
              "      <th>form_field30</th>\n",
              "      <th>form_field31</th>\n",
              "      <th>form_field32</th>\n",
              "      <th>form_field33</th>\n",
              "      <th>form_field34</th>\n",
              "      <th>form_field35</th>\n",
              "      <th>form_field36</th>\n",
              "      <th>form_field37</th>\n",
              "      <th>form_field38</th>\n",
              "      <th>form_field39</th>\n",
              "      <th>form_field40</th>\n",
              "      <th>form_field41</th>\n",
              "      <th>form_field42</th>\n",
              "      <th>form_field43</th>\n",
              "      <th>form_field44</th>\n",
              "      <th>form_field45</th>\n",
              "      <th>form_field46</th>\n",
              "      <th>form_field47</th>\n",
              "      <th>form_field48</th>\n",
              "      <th>form_field49</th>\n",
              "      <th>form_field50</th>\n",
              "      <th>default_status</th>\n",
              "    </tr>\n",
              "  </thead>\n",
              "  <tbody>\n",
              "    <tr>\n",
              "      <th>0</th>\n",
              "      <td>Apcnt_1000000</td>\n",
              "      <td>3436.0</td>\n",
              "      <td>0.28505</td>\n",
              "      <td>1.6560</td>\n",
              "      <td>0.0</td>\n",
              "      <td>0.000</td>\n",
              "      <td>0.0</td>\n",
              "      <td>10689720.0</td>\n",
              "      <td>252072.0</td>\n",
              "      <td>4272776.0</td>\n",
              "      <td>11333126.0</td>\n",
              "      <td>4397256.0</td>\n",
              "      <td>2301324.0</td>\n",
              "      <td>7875694.0</td>\n",
              "      <td>96375139</td>\n",
              "      <td>112181765.0</td>\n",
              "      <td>1.0</td>\n",
              "      <td>1.0</td>\n",
              "      <td>1.0</td>\n",
              "      <td>3.0</td>\n",
              "      <td>3.0</td>\n",
              "      <td>134.655</td>\n",
              "      <td>NaN</td>\n",
              "      <td>NaN</td>\n",
              "      <td>134.655</td>\n",
              "      <td>4000.5</td>\n",
              "      <td>17064.0</td>\n",
              "      <td>11376.0</td>\n",
              "      <td>60.0</td>\n",
              "      <td>17064.0</td>\n",
              "      <td>5962.0</td>\n",
              "      <td>NaN</td>\n",
              "      <td>1052.0</td>\n",
              "      <td>8.0000</td>\n",
              "      <td>2.0</td>\n",
              "      <td>NaN</td>\n",
              "      <td>12.0</td>\n",
              "      <td>12.0</td>\n",
              "      <td>4.0</td>\n",
              "      <td>0.0</td>\n",
              "      <td>NaN</td>\n",
              "      <td>NaN</td>\n",
              "      <td>0.392854</td>\n",
              "      <td>2.02</td>\n",
              "      <td>0.711632</td>\n",
              "      <td>0.0</td>\n",
              "      <td>0.0</td>\n",
              "      <td>charge</td>\n",
              "      <td>NaN</td>\n",
              "      <td>1.129518</td>\n",
              "      <td>0.044335</td>\n",
              "      <td>no</td>\n",
              "    </tr>\n",
              "    <tr>\n",
              "      <th>1</th>\n",
              "      <td>Apcnt_1000004</td>\n",
              "      <td>3456.0</td>\n",
              "      <td>0.67400</td>\n",
              "      <td>0.2342</td>\n",
              "      <td>0.0</td>\n",
              "      <td>0.000</td>\n",
              "      <td>0.0</td>\n",
              "      <td>898979.0</td>\n",
              "      <td>497531.0</td>\n",
              "      <td>9073814.0</td>\n",
              "      <td>2533168.0</td>\n",
              "      <td>244292.0</td>\n",
              "      <td>3982971.0</td>\n",
              "      <td>2141445.0</td>\n",
              "      <td>28141427</td>\n",
              "      <td>45169902.0</td>\n",
              "      <td>1.0</td>\n",
              "      <td>1.0</td>\n",
              "      <td>1.0</td>\n",
              "      <td>2.0</td>\n",
              "      <td>2.0</td>\n",
              "      <td>109.230</td>\n",
              "      <td>11385.24</td>\n",
              "      <td>14584.29</td>\n",
              "      <td>86.685</td>\n",
              "      <td>4161.0</td>\n",
              "      <td>13413.0</td>\n",
              "      <td>8942.0</td>\n",
              "      <td>304.0</td>\n",
              "      <td>13413.0</td>\n",
              "      <td>5780.0</td>\n",
              "      <td>NaN</td>\n",
              "      <td>2554.0</td>\n",
              "      <td>17.5000</td>\n",
              "      <td>0.0</td>\n",
              "      <td>0.0</td>\n",
              "      <td>16.0</td>\n",
              "      <td>24.0</td>\n",
              "      <td>8.0</td>\n",
              "      <td>0.0</td>\n",
              "      <td>NaN</td>\n",
              "      <td>NaN</td>\n",
              "      <td>0.314281</td>\n",
              "      <td>8.08</td>\n",
              "      <td>0.183584</td>\n",
              "      <td>NaN</td>\n",
              "      <td>0.0</td>\n",
              "      <td>charge</td>\n",
              "      <td>349.805730</td>\n",
              "      <td>1.620483</td>\n",
              "      <td>0.322436</td>\n",
              "      <td>no</td>\n",
              "    </tr>\n",
              "    <tr>\n",
              "      <th>2</th>\n",
              "      <td>Apcnt_1000008</td>\n",
              "      <td>3276.0</td>\n",
              "      <td>0.53845</td>\n",
              "      <td>3.1510</td>\n",
              "      <td>0.0</td>\n",
              "      <td>6.282</td>\n",
              "      <td>NaN</td>\n",
              "      <td>956940.0</td>\n",
              "      <td>NaN</td>\n",
              "      <td>192944.0</td>\n",
              "      <td>1079864.0</td>\n",
              "      <td>NaN</td>\n",
              "      <td>NaN</td>\n",
              "      <td>0.0</td>\n",
              "      <td>16576457</td>\n",
              "      <td>22452691.0</td>\n",
              "      <td>NaN</td>\n",
              "      <td>NaN</td>\n",
              "      <td>NaN</td>\n",
              "      <td>0.0</td>\n",
              "      <td>0.0</td>\n",
              "      <td>NaN</td>\n",
              "      <td>NaN</td>\n",
              "      <td>NaN</td>\n",
              "      <td>NaN</td>\n",
              "      <td>1597.5</td>\n",
              "      <td>4746.0</td>\n",
              "      <td>3164.0</td>\n",
              "      <td>60.0</td>\n",
              "      <td>15696.0</td>\n",
              "      <td>NaN</td>\n",
              "      <td>14508.0</td>\n",
              "      <td>70.0</td>\n",
              "      <td>0.6666</td>\n",
              "      <td>0.0</td>\n",
              "      <td>NaN</td>\n",
              "      <td>12.0</td>\n",
              "      <td>0.0</td>\n",
              "      <td>6.0</td>\n",
              "      <td>0.0</td>\n",
              "      <td>149.6805</td>\n",
              "      <td>NaN</td>\n",
              "      <td>0.162965</td>\n",
              "      <td>18.18</td>\n",
              "      <td>0.791136</td>\n",
              "      <td>0.0</td>\n",
              "      <td>0.0</td>\n",
              "      <td>charge</td>\n",
              "      <td>NaN</td>\n",
              "      <td>1.513370</td>\n",
              "      <td>0.011640</td>\n",
              "      <td>yes</td>\n",
              "    </tr>\n",
              "    <tr>\n",
              "      <th>3</th>\n",
              "      <td>Apcnt_1000012</td>\n",
              "      <td>3372.0</td>\n",
              "      <td>0.17005</td>\n",
              "      <td>0.5050</td>\n",
              "      <td>0.0</td>\n",
              "      <td>0.000</td>\n",
              "      <td>192166.0</td>\n",
              "      <td>3044703.0</td>\n",
              "      <td>385499.0</td>\n",
              "      <td>3986472.0</td>\n",
              "      <td>3621979.0</td>\n",
              "      <td>NaN</td>\n",
              "      <td>771776.0</td>\n",
              "      <td>1186839.0</td>\n",
              "      <td>48187375</td>\n",
              "      <td>136297820.0</td>\n",
              "      <td>0.0</td>\n",
              "      <td>0.0</td>\n",
              "      <td>0.0</td>\n",
              "      <td>1.0</td>\n",
              "      <td>1.0</td>\n",
              "      <td>120.120</td>\n",
              "      <td>8580.00</td>\n",
              "      <td>0.00</td>\n",
              "      <td>85.800</td>\n",
              "      <td>1701.0</td>\n",
              "      <td>4014.0</td>\n",
              "      <td>2676.0</td>\n",
              "      <td>60.0</td>\n",
              "      <td>11679.0</td>\n",
              "      <td>NaN</td>\n",
              "      <td>NaN</td>\n",
              "      <td>522.0</td>\n",
              "      <td>7.8334</td>\n",
              "      <td>1.0</td>\n",
              "      <td>1.0</td>\n",
              "      <td>4.0</td>\n",
              "      <td>8.0</td>\n",
              "      <td>4.0</td>\n",
              "      <td>1.0</td>\n",
              "      <td>NaN</td>\n",
              "      <td>NaN</td>\n",
              "      <td>0.488884</td>\n",
              "      <td>2.02</td>\n",
              "      <td>0.685168</td>\n",
              "      <td>NaN</td>\n",
              "      <td>0.0</td>\n",
              "      <td>charge</td>\n",
              "      <td>89.940100</td>\n",
              "      <td>0.664452</td>\n",
              "      <td>0.082729</td>\n",
              "      <td>no</td>\n",
              "    </tr>\n",
              "    <tr>\n",
              "      <th>4</th>\n",
              "      <td>Apcnt_1000016</td>\n",
              "      <td>3370.0</td>\n",
              "      <td>0.77270</td>\n",
              "      <td>1.1010</td>\n",
              "      <td>0.0</td>\n",
              "      <td>0.000</td>\n",
              "      <td>1556.0</td>\n",
              "      <td>214728.0</td>\n",
              "      <td>214728.0</td>\n",
              "      <td>1284089.0</td>\n",
              "      <td>361770.0</td>\n",
              "      <td>396391.0</td>\n",
              "      <td>818456.0</td>\n",
              "      <td>511535.0</td>\n",
              "      <td>28141427</td>\n",
              "      <td>15292757.0</td>\n",
              "      <td>0.0</td>\n",
              "      <td>0.0</td>\n",
              "      <td>0.0</td>\n",
              "      <td>3.0</td>\n",
              "      <td>3.0</td>\n",
              "      <td>104.535</td>\n",
              "      <td>8360.19</td>\n",
              "      <td>10326.45</td>\n",
              "      <td>115.335</td>\n",
              "      <td>1551.0</td>\n",
              "      <td>3285.0</td>\n",
              "      <td>2190.0</td>\n",
              "      <td>60.0</td>\n",
              "      <td>19437.0</td>\n",
              "      <td>12958.0</td>\n",
              "      <td>5202.0</td>\n",
              "      <td>272.0</td>\n",
              "      <td>1.0000</td>\n",
              "      <td>0.0</td>\n",
              "      <td>0.0</td>\n",
              "      <td>24.0</td>\n",
              "      <td>2.0</td>\n",
              "      <td>24.0</td>\n",
              "      <td>0.0</td>\n",
              "      <td>150.0135</td>\n",
              "      <td>NaN</td>\n",
              "      <td>0.275000</td>\n",
              "      <td>12.12</td>\n",
              "      <td>0.438168</td>\n",
              "      <td>0.0</td>\n",
              "      <td>0.0</td>\n",
              "      <td>charge</td>\n",
              "      <td>97.887502</td>\n",
              "      <td>1.427891</td>\n",
              "      <td>0.045630</td>\n",
              "      <td>no</td>\n",
              "    </tr>\n",
              "  </tbody>\n",
              "</table>\n",
              "</div>"
            ],
            "text/plain": [
              "    Applicant_ID  form_field1  ...  form_field50  default_status\n",
              "0  Apcnt_1000000       3436.0  ...      0.044335              no\n",
              "1  Apcnt_1000004       3456.0  ...      0.322436              no\n",
              "2  Apcnt_1000008       3276.0  ...      0.011640             yes\n",
              "3  Apcnt_1000012       3372.0  ...      0.082729              no\n",
              "4  Apcnt_1000016       3370.0  ...      0.045630              no\n",
              "\n",
              "[5 rows x 52 columns]"
            ]
          },
          "metadata": {
            "tags": []
          },
          "execution_count": 44
        }
      ]
    },
    {
      "cell_type": "code",
      "metadata": {
        "id": "LTKd1ptl4xhk",
        "outputId": "1feac343-ed8a-4a99-fbe6-37e1a24f536d",
        "colab": {
          "base_uri": "https://localhost:8080/",
          "height": 215
        }
      },
      "source": [
        "test_df.head()"
      ],
      "execution_count": 45,
      "outputs": [
        {
          "output_type": "execute_result",
          "data": {
            "text/html": [
              "<div>\n",
              "<style scoped>\n",
              "    .dataframe tbody tr th:only-of-type {\n",
              "        vertical-align: middle;\n",
              "    }\n",
              "\n",
              "    .dataframe tbody tr th {\n",
              "        vertical-align: top;\n",
              "    }\n",
              "\n",
              "    .dataframe thead th {\n",
              "        text-align: right;\n",
              "    }\n",
              "</style>\n",
              "<table border=\"1\" class=\"dataframe\">\n",
              "  <thead>\n",
              "    <tr style=\"text-align: right;\">\n",
              "      <th></th>\n",
              "      <th>Applicant_ID</th>\n",
              "      <th>form_field1</th>\n",
              "      <th>form_field2</th>\n",
              "      <th>form_field3</th>\n",
              "      <th>form_field4</th>\n",
              "      <th>form_field5</th>\n",
              "      <th>form_field6</th>\n",
              "      <th>form_field7</th>\n",
              "      <th>form_field8</th>\n",
              "      <th>form_field9</th>\n",
              "      <th>form_field10</th>\n",
              "      <th>form_field11</th>\n",
              "      <th>form_field12</th>\n",
              "      <th>form_field13</th>\n",
              "      <th>form_field14</th>\n",
              "      <th>form_field15</th>\n",
              "      <th>form_field16</th>\n",
              "      <th>form_field17</th>\n",
              "      <th>form_field18</th>\n",
              "      <th>form_field19</th>\n",
              "      <th>form_field20</th>\n",
              "      <th>form_field21</th>\n",
              "      <th>form_field22</th>\n",
              "      <th>form_field23</th>\n",
              "      <th>form_field24</th>\n",
              "      <th>form_field25</th>\n",
              "      <th>form_field26</th>\n",
              "      <th>form_field27</th>\n",
              "      <th>form_field28</th>\n",
              "      <th>form_field29</th>\n",
              "      <th>form_field30</th>\n",
              "      <th>form_field31</th>\n",
              "      <th>form_field32</th>\n",
              "      <th>form_field33</th>\n",
              "      <th>form_field34</th>\n",
              "      <th>form_field35</th>\n",
              "      <th>form_field36</th>\n",
              "      <th>form_field37</th>\n",
              "      <th>form_field38</th>\n",
              "      <th>form_field39</th>\n",
              "      <th>form_field40</th>\n",
              "      <th>form_field41</th>\n",
              "      <th>form_field42</th>\n",
              "      <th>form_field43</th>\n",
              "      <th>form_field44</th>\n",
              "      <th>form_field45</th>\n",
              "      <th>form_field46</th>\n",
              "      <th>form_field47</th>\n",
              "      <th>form_field48</th>\n",
              "      <th>form_field49</th>\n",
              "      <th>form_field50</th>\n",
              "    </tr>\n",
              "  </thead>\n",
              "  <tbody>\n",
              "    <tr>\n",
              "      <th>0</th>\n",
              "      <td>Apcnt_1000032</td>\n",
              "      <td>3236.0</td>\n",
              "      <td>0.34875</td>\n",
              "      <td>10.2006</td>\n",
              "      <td>0.0000</td>\n",
              "      <td>0.0</td>\n",
              "      <td>418564.0</td>\n",
              "      <td>418564.0</td>\n",
              "      <td>418564.0</td>\n",
              "      <td>540710.0</td>\n",
              "      <td>0.0</td>\n",
              "      <td>1649749.0</td>\n",
              "      <td>5446.0</td>\n",
              "      <td>0.0</td>\n",
              "      <td>48187375</td>\n",
              "      <td>114686147.0</td>\n",
              "      <td>0.0</td>\n",
              "      <td>0.0</td>\n",
              "      <td>0.0</td>\n",
              "      <td>0.0</td>\n",
              "      <td>0.0</td>\n",
              "      <td>NaN</td>\n",
              "      <td>NaN</td>\n",
              "      <td>NaN</td>\n",
              "      <td>NaN</td>\n",
              "      <td>1086.0</td>\n",
              "      <td>6204.0</td>\n",
              "      <td>2676.0</td>\n",
              "      <td>60.0</td>\n",
              "      <td>14691.0</td>\n",
              "      <td>9794.0</td>\n",
              "      <td>NaN</td>\n",
              "      <td>238.0</td>\n",
              "      <td>1.8334</td>\n",
              "      <td>0.0</td>\n",
              "      <td>NaN</td>\n",
              "      <td>22.0</td>\n",
              "      <td>2.0</td>\n",
              "      <td>14.0</td>\n",
              "      <td>0.0</td>\n",
              "      <td>NaN</td>\n",
              "      <td>NaN</td>\n",
              "      <td>0.825000</td>\n",
              "      <td>1.01</td>\n",
              "      <td>0.800000</td>\n",
              "      <td>NaN</td>\n",
              "      <td>0.0</td>\n",
              "      <td>charge</td>\n",
              "      <td>NaN</td>\n",
              "      <td>0.000000</td>\n",
              "      <td>0.011221</td>\n",
              "    </tr>\n",
              "    <tr>\n",
              "      <th>1</th>\n",
              "      <td>Apcnt_1000048</td>\n",
              "      <td>3284.0</td>\n",
              "      <td>1.27360</td>\n",
              "      <td>2.9606</td>\n",
              "      <td>9.0198</td>\n",
              "      <td>0.0</td>\n",
              "      <td>0.0</td>\n",
              "      <td>9858816.0</td>\n",
              "      <td>49014.0</td>\n",
              "      <td>1510098.0</td>\n",
              "      <td>18308285.0</td>\n",
              "      <td>622789.0</td>\n",
              "      <td>1025793.0</td>\n",
              "      <td>1396510.0</td>\n",
              "      <td>34694910</td>\n",
              "      <td>87479487.0</td>\n",
              "      <td>1.0</td>\n",
              "      <td>1.0</td>\n",
              "      <td>1.0</td>\n",
              "      <td>2.0</td>\n",
              "      <td>2.0</td>\n",
              "      <td>142.560</td>\n",
              "      <td>NaN</td>\n",
              "      <td>NaN</td>\n",
              "      <td>570.585</td>\n",
              "      <td>3082.5</td>\n",
              "      <td>10221.0</td>\n",
              "      <td>6814.0</td>\n",
              "      <td>60.0</td>\n",
              "      <td>11955.0</td>\n",
              "      <td>3528.0</td>\n",
              "      <td>NaN</td>\n",
              "      <td>1216.0</td>\n",
              "      <td>19.5000</td>\n",
              "      <td>3.0</td>\n",
              "      <td>NaN</td>\n",
              "      <td>30.0</td>\n",
              "      <td>18.0</td>\n",
              "      <td>14.0</td>\n",
              "      <td>2.0</td>\n",
              "      <td>NaN</td>\n",
              "      <td>18.8415</td>\n",
              "      <td>0.507694</td>\n",
              "      <td>4.04</td>\n",
              "      <td>0.623248</td>\n",
              "      <td>1.0</td>\n",
              "      <td>0.0</td>\n",
              "      <td>lending</td>\n",
              "      <td>NaN</td>\n",
              "      <td>0.504974</td>\n",
              "      <td>0.043525</td>\n",
              "    </tr>\n",
              "    <tr>\n",
              "      <th>2</th>\n",
              "      <td>Apcnt_1000052</td>\n",
              "      <td>NaN</td>\n",
              "      <td>0.27505</td>\n",
              "      <td>0.0600</td>\n",
              "      <td>0.0000</td>\n",
              "      <td>0.0</td>\n",
              "      <td>NaN</td>\n",
              "      <td>NaN</td>\n",
              "      <td>NaN</td>\n",
              "      <td>NaN</td>\n",
              "      <td>0.0</td>\n",
              "      <td>118256.0</td>\n",
              "      <td>NaN</td>\n",
              "      <td>NaN</td>\n",
              "      <td>21973443</td>\n",
              "      <td>NaN</td>\n",
              "      <td>NaN</td>\n",
              "      <td>NaN</td>\n",
              "      <td>NaN</td>\n",
              "      <td>0.0</td>\n",
              "      <td>0.0</td>\n",
              "      <td>NaN</td>\n",
              "      <td>NaN</td>\n",
              "      <td>NaN</td>\n",
              "      <td>NaN</td>\n",
              "      <td>NaN</td>\n",
              "      <td>NaN</td>\n",
              "      <td>NaN</td>\n",
              "      <td>852.0</td>\n",
              "      <td>4836.0</td>\n",
              "      <td>NaN</td>\n",
              "      <td>NaN</td>\n",
              "      <td>NaN</td>\n",
              "      <td>7.8334</td>\n",
              "      <td>0.0</td>\n",
              "      <td>NaN</td>\n",
              "      <td>2.0</td>\n",
              "      <td>NaN</td>\n",
              "      <td>0.0</td>\n",
              "      <td>NaN</td>\n",
              "      <td>NaN</td>\n",
              "      <td>NaN</td>\n",
              "      <td>NaN</td>\n",
              "      <td>0.00</td>\n",
              "      <td>NaN</td>\n",
              "      <td>NaN</td>\n",
              "      <td>NaN</td>\n",
              "      <td>charge</td>\n",
              "      <td>NaN</td>\n",
              "      <td>0.000000</td>\n",
              "      <td>NaN</td>\n",
              "    </tr>\n",
              "    <tr>\n",
              "      <th>3</th>\n",
              "      <td>Apcnt_1000076</td>\n",
              "      <td>3232.0</td>\n",
              "      <td>0.28505</td>\n",
              "      <td>2.8032</td>\n",
              "      <td>0.0000</td>\n",
              "      <td>0.0</td>\n",
              "      <td>0.0</td>\n",
              "      <td>473802.0</td>\n",
              "      <td>473802.0</td>\n",
              "      <td>1724437.0</td>\n",
              "      <td>493641.0</td>\n",
              "      <td>1391064.0</td>\n",
              "      <td>1176725.0</td>\n",
              "      <td>1220293.0</td>\n",
              "      <td>16576457</td>\n",
              "      <td>NaN</td>\n",
              "      <td>2.0</td>\n",
              "      <td>2.0</td>\n",
              "      <td>2.0</td>\n",
              "      <td>3.0</td>\n",
              "      <td>3.0</td>\n",
              "      <td>109.005</td>\n",
              "      <td>13050.00</td>\n",
              "      <td>NaN</td>\n",
              "      <td>109.005</td>\n",
              "      <td>1414.5</td>\n",
              "      <td>4197.0</td>\n",
              "      <td>2798.0</td>\n",
              "      <td>60.0</td>\n",
              "      <td>14964.0</td>\n",
              "      <td>NaN</td>\n",
              "      <td>NaN</td>\n",
              "      <td>248.0</td>\n",
              "      <td>9.0000</td>\n",
              "      <td>1.0</td>\n",
              "      <td>1.0</td>\n",
              "      <td>36.0</td>\n",
              "      <td>0.0</td>\n",
              "      <td>26.0</td>\n",
              "      <td>0.0</td>\n",
              "      <td>NaN</td>\n",
              "      <td>NaN</td>\n",
              "      <td>0.916663</td>\n",
              "      <td>2.02</td>\n",
              "      <td>0.464224</td>\n",
              "      <td>NaN</td>\n",
              "      <td>NaN</td>\n",
              "      <td>charge</td>\n",
              "      <td>90.163742</td>\n",
              "      <td>0.788809</td>\n",
              "      <td>0.104029</td>\n",
              "    </tr>\n",
              "    <tr>\n",
              "      <th>4</th>\n",
              "      <td>Apcnt_1000080</td>\n",
              "      <td>3466.0</td>\n",
              "      <td>2.09545</td>\n",
              "      <td>0.8318</td>\n",
              "      <td>2.5182</td>\n",
              "      <td>0.0</td>\n",
              "      <td>19839.0</td>\n",
              "      <td>1150662.0</td>\n",
              "      <td>1150662.0</td>\n",
              "      <td>7860523.0</td>\n",
              "      <td>5752921.0</td>\n",
              "      <td>271133.0</td>\n",
              "      <td>613064.0</td>\n",
              "      <td>4779643.0</td>\n",
              "      <td>48187375</td>\n",
              "      <td>72049802.0</td>\n",
              "      <td>0.0</td>\n",
              "      <td>0.0</td>\n",
              "      <td>0.0</td>\n",
              "      <td>3.0</td>\n",
              "      <td>3.0</td>\n",
              "      <td>139.065</td>\n",
              "      <td>469.29</td>\n",
              "      <td>469.29</td>\n",
              "      <td>15.180</td>\n",
              "      <td>2724.0</td>\n",
              "      <td>9855.0</td>\n",
              "      <td>6570.0</td>\n",
              "      <td>182.0</td>\n",
              "      <td>11679.0</td>\n",
              "      <td>5900.0</td>\n",
              "      <td>NaN</td>\n",
              "      <td>2388.0</td>\n",
              "      <td>16.6666</td>\n",
              "      <td>1.0</td>\n",
              "      <td>0.0</td>\n",
              "      <td>24.0</td>\n",
              "      <td>28.0</td>\n",
              "      <td>20.0</td>\n",
              "      <td>0.0</td>\n",
              "      <td>NaN</td>\n",
              "      <td>NaN</td>\n",
              "      <td>0.234047</td>\n",
              "      <td>23.23</td>\n",
              "      <td>0.726688</td>\n",
              "      <td>0.0</td>\n",
              "      <td>0.0</td>\n",
              "      <td>lending</td>\n",
              "      <td>1303.587148</td>\n",
              "      <td>1.637733</td>\n",
              "      <td>0.163124</td>\n",
              "    </tr>\n",
              "  </tbody>\n",
              "</table>\n",
              "</div>"
            ],
            "text/plain": [
              "    Applicant_ID  form_field1  ...  form_field49  form_field50\n",
              "0  Apcnt_1000032       3236.0  ...      0.000000      0.011221\n",
              "1  Apcnt_1000048       3284.0  ...      0.504974      0.043525\n",
              "2  Apcnt_1000052          NaN  ...      0.000000           NaN\n",
              "3  Apcnt_1000076       3232.0  ...      0.788809      0.104029\n",
              "4  Apcnt_1000080       3466.0  ...      1.637733      0.163124\n",
              "\n",
              "[5 rows x 51 columns]"
            ]
          },
          "metadata": {
            "tags": []
          },
          "execution_count": 45
        }
      ]
    },
    {
      "cell_type": "code",
      "metadata": {
        "id": "cHJSmWxpznNt"
      },
      "source": [
        "Application_id=test_df['Applicant_ID']"
      ],
      "execution_count": 46,
      "outputs": []
    },
    {
      "cell_type": "code",
      "metadata": {
        "id": "YqX6tU3IyfUi"
      },
      "source": [
        " #train_df.dropna(thresh=train_df.shape[1]*0.7,how='all',axis=0,inplace=True)"
      ],
      "execution_count": 47,
      "outputs": []
    },
    {
      "cell_type": "code",
      "metadata": {
        "id": "c6h-MB_SXH_P",
        "outputId": "26bb5199-6fac-4dee-b941-db3951b0d312",
        "colab": {
          "base_uri": "https://localhost:8080/",
          "height": 50
        }
      },
      "source": [
        "\n",
        "print(train_df.shape)\n",
        "print(test_df.shape)"
      ],
      "execution_count": 48,
      "outputs": [
        {
          "output_type": "stream",
          "text": [
            "(56000, 52)\n",
            "(24000, 51)\n"
          ],
          "name": "stdout"
        }
      ]
    },
    {
      "cell_type": "code",
      "metadata": {
        "id": "XXyGbAVGzQyA",
        "outputId": "e5f5adaa-bcb9-4fc6-a77e-d4d9d47b2621",
        "colab": {
          "base_uri": "https://localhost:8080/",
          "height": 34
        }
      },
      "source": [
        "train_df.shape"
      ],
      "execution_count": 49,
      "outputs": [
        {
          "output_type": "execute_result",
          "data": {
            "text/plain": [
              "(56000, 52)"
            ]
          },
          "metadata": {
            "tags": []
          },
          "execution_count": 49
        }
      ]
    },
    {
      "cell_type": "code",
      "metadata": {
        "id": "VZ6XFSK9iDyq",
        "outputId": "2742a8a2-d0f2-46ae-8370-edc312bcedb0",
        "colab": {
          "base_uri": "https://localhost:8080/",
          "height": 34
        }
      },
      "source": [
        "train_df.default_status.unique()"
      ],
      "execution_count": 50,
      "outputs": [
        {
          "output_type": "execute_result",
          "data": {
            "text/plain": [
              "array(['no', 'yes'], dtype=object)"
            ]
          },
          "metadata": {
            "tags": []
          },
          "execution_count": 50
        }
      ]
    },
    {
      "cell_type": "code",
      "metadata": {
        "id": "dXMim_IzhOpg"
      },
      "source": [
        "#target varriable\n",
        "train_df.loc[train_df.default_status=='no','default_status']=0\n",
        "#target varriable\n",
        "train_df.loc[train_df.default_status=='yes','default_status']=1"
      ],
      "execution_count": 51,
      "outputs": []
    },
    {
      "cell_type": "code",
      "metadata": {
        "id": "WuJS5ZhY6xOd"
      },
      "source": [
        "#saving the order Id column and predictor column\n",
        "#Application_id=test_df['Applicant_ID']\n",
        "y_train=train_df.iloc[:,-1].astype('int')"
      ],
      "execution_count": 52,
      "outputs": []
    },
    {
      "cell_type": "code",
      "metadata": {
        "id": "A7A60GlDoNv6",
        "outputId": "de717f6a-bdae-4fc7-91b8-fb9c9e99746d",
        "colab": {
          "base_uri": "https://localhost:8080/",
          "height": 218
        }
      },
      "source": [
        "y_train"
      ],
      "execution_count": 53,
      "outputs": [
        {
          "output_type": "execute_result",
          "data": {
            "text/plain": [
              "0        0\n",
              "1        0\n",
              "2        1\n",
              "3        0\n",
              "4        0\n",
              "        ..\n",
              "55995    0\n",
              "55996    1\n",
              "55997    0\n",
              "55998    0\n",
              "55999    0\n",
              "Name: default_status, Length: 56000, dtype: int64"
            ]
          },
          "metadata": {
            "tags": []
          },
          "execution_count": 53
        }
      ]
    },
    {
      "cell_type": "code",
      "metadata": {
        "id": "kpAfzliNT7iT",
        "outputId": "898dddd8-7b83-4c4b-805a-19b255bafb6f",
        "colab": {
          "base_uri": "https://localhost:8080/",
          "height": 907
        }
      },
      "source": [
        "#type(train_df.isnull().sum())\n",
        "train_df.isnull().sum()"
      ],
      "execution_count": 54,
      "outputs": [
        {
          "output_type": "execute_result",
          "data": {
            "text/plain": [
              "Applicant_ID          0\n",
              "form_field1        2529\n",
              "form_field2        3844\n",
              "form_field3         355\n",
              "form_field4         355\n",
              "form_field5         355\n",
              "form_field6       13360\n",
              "form_field7        5163\n",
              "form_field8       13360\n",
              "form_field9        8008\n",
              "form_field10        355\n",
              "form_field11      31421\n",
              "form_field12       9895\n",
              "form_field13       5889\n",
              "form_field14          0\n",
              "form_field15      22475\n",
              "form_field16      13036\n",
              "form_field17      11151\n",
              "form_field18      10402\n",
              "form_field19          4\n",
              "form_field20        355\n",
              "form_field21      15854\n",
              "form_field22      20400\n",
              "form_field23      28123\n",
              "form_field24      13297\n",
              "form_field25       5450\n",
              "form_field26       7438\n",
              "form_field27       9299\n",
              "form_field28        355\n",
              "form_field29        355\n",
              "form_field30      25509\n",
              "form_field31      39408\n",
              "form_field32       5450\n",
              "form_field33       1256\n",
              "form_field34        355\n",
              "form_field35      23148\n",
              "form_field36       1995\n",
              "form_field37       5450\n",
              "form_field38        355\n",
              "form_field39       4211\n",
              "form_field40      43729\n",
              "form_field41      38229\n",
              "form_field42       1323\n",
              "form_field43        568\n",
              "form_field44       5383\n",
              "form_field45      31317\n",
              "form_field46      15904\n",
              "form_field47          0\n",
              "form_field48      20889\n",
              "form_field49        355\n",
              "form_field50      11056\n",
              "default_status        0\n",
              "dtype: int64"
            ]
          },
          "metadata": {
            "tags": []
          },
          "execution_count": 54
        }
      ]
    },
    {
      "cell_type": "code",
      "metadata": {
        "id": "kdb0kwT1T_Yo",
        "outputId": "2a0240ab-8ee7-44c9-eb0c-9065143ec707",
        "colab": {
          "base_uri": "https://localhost:8080/",
          "height": 1000
        }
      },
      "source": [
        "train_df.info()"
      ],
      "execution_count": 55,
      "outputs": [
        {
          "output_type": "stream",
          "text": [
            "<class 'pandas.core.frame.DataFrame'>\n",
            "RangeIndex: 56000 entries, 0 to 55999\n",
            "Data columns (total 52 columns):\n",
            " #   Column          Non-Null Count  Dtype  \n",
            "---  ------          --------------  -----  \n",
            " 0   Applicant_ID    56000 non-null  object \n",
            " 1   form_field1     53471 non-null  float64\n",
            " 2   form_field2     52156 non-null  float64\n",
            " 3   form_field3     55645 non-null  float64\n",
            " 4   form_field4     55645 non-null  float64\n",
            " 5   form_field5     55645 non-null  float64\n",
            " 6   form_field6     42640 non-null  float64\n",
            " 7   form_field7     50837 non-null  float64\n",
            " 8   form_field8     42640 non-null  float64\n",
            " 9   form_field9     47992 non-null  float64\n",
            " 10  form_field10    55645 non-null  float64\n",
            " 11  form_field11    24579 non-null  float64\n",
            " 12  form_field12    46105 non-null  float64\n",
            " 13  form_field13    50111 non-null  float64\n",
            " 14  form_field14    56000 non-null  int64  \n",
            " 15  form_field15    33525 non-null  float64\n",
            " 16  form_field16    42964 non-null  float64\n",
            " 17  form_field17    44849 non-null  float64\n",
            " 18  form_field18    45598 non-null  float64\n",
            " 19  form_field19    55996 non-null  float64\n",
            " 20  form_field20    55645 non-null  float64\n",
            " 21  form_field21    40146 non-null  float64\n",
            " 22  form_field22    35600 non-null  float64\n",
            " 23  form_field23    27877 non-null  float64\n",
            " 24  form_field24    42703 non-null  float64\n",
            " 25  form_field25    50550 non-null  float64\n",
            " 26  form_field26    48562 non-null  float64\n",
            " 27  form_field27    46701 non-null  float64\n",
            " 28  form_field28    55645 non-null  float64\n",
            " 29  form_field29    55645 non-null  float64\n",
            " 30  form_field30    30491 non-null  float64\n",
            " 31  form_field31    16592 non-null  float64\n",
            " 32  form_field32    50550 non-null  float64\n",
            " 33  form_field33    54744 non-null  float64\n",
            " 34  form_field34    55645 non-null  float64\n",
            " 35  form_field35    32852 non-null  float64\n",
            " 36  form_field36    54005 non-null  float64\n",
            " 37  form_field37    50550 non-null  float64\n",
            " 38  form_field38    55645 non-null  float64\n",
            " 39  form_field39    51789 non-null  float64\n",
            " 40  form_field40    12271 non-null  float64\n",
            " 41  form_field41    17771 non-null  float64\n",
            " 42  form_field42    54677 non-null  float64\n",
            " 43  form_field43    55432 non-null  float64\n",
            " 44  form_field44    50617 non-null  float64\n",
            " 45  form_field45    24683 non-null  float64\n",
            " 46  form_field46    40096 non-null  float64\n",
            " 47  form_field47    56000 non-null  object \n",
            " 48  form_field48    35111 non-null  float64\n",
            " 49  form_field49    55645 non-null  float64\n",
            " 50  form_field50    44944 non-null  float64\n",
            " 51  default_status  56000 non-null  object \n",
            "dtypes: float64(48), int64(1), object(3)\n",
            "memory usage: 22.2+ MB\n"
          ],
          "name": "stdout"
        }
      ]
    },
    {
      "cell_type": "code",
      "metadata": {
        "id": "icxhAjnKNnDL",
        "outputId": "3655ca3f-afcf-40af-ea70-01df121732ed",
        "colab": {
          "base_uri": "https://localhost:8080/",
          "height": 34
        }
      },
      "source": [
        "train_df.form_field40.unique()\n",
        "#fill form_field40 with mean,median"
      ],
      "execution_count": 56,
      "outputs": [
        {
          "output_type": "execute_result",
          "data": {
            "text/plain": [
              "array([     nan, 149.6805, 150.0135, ..., 110.334 , 178.371 , 158.025 ])"
            ]
          },
          "metadata": {
            "tags": []
          },
          "execution_count": 56
        }
      ]
    },
    {
      "cell_type": "code",
      "metadata": {
        "id": "NSerJRt5qLpO",
        "outputId": "610f1087-3fa4-4aa0-a9a2-b14b08018257",
        "colab": {
          "base_uri": "https://localhost:8080/",
          "height": 34
        }
      },
      "source": [
        "train_df.form_field47.unique()"
      ],
      "execution_count": 57,
      "outputs": [
        {
          "output_type": "execute_result",
          "data": {
            "text/plain": [
              "array(['charge', 'lending'], dtype=object)"
            ]
          },
          "metadata": {
            "tags": []
          },
          "execution_count": 57
        }
      ]
    },
    {
      "cell_type": "code",
      "metadata": {
        "id": "VUEdtMDfOJXM",
        "outputId": "ac042d0e-2420-4fca-f8bd-411ff5f89107",
        "colab": {
          "base_uri": "https://localhost:8080/",
          "height": 857
        }
      },
      "source": [
        "train_df.form_field31.unique()\n",
        "#mean,median\n",
        "#its also better to check the distribution with respect to some other fields.\n",
        "#bivariate analysis"
      ],
      "execution_count": 58,
      "outputs": [
        {
          "output_type": "execute_result",
          "data": {
            "text/plain": [
              "array([   nan, 14508.,  5202., 13413.,   273., 17430., 21990., 15879.,\n",
              "       11499.,  8031., 31845., 17703., 12684., 13506.,  8943.,  4014.,\n",
              "       14874.,  1917.,  9945.,  8121.,  5019.,  6024., 11955., 17064.,\n",
              "       10767., 12867.,  5748.,  6114., 16152., 10584.,  6936.,  3834.,\n",
              "       22629.,  6204., 10494., 15057., 15969., 21354., 20622., 18069.,\n",
              "        3468.,  8670., 12135., 23451.,  4746., 10311., 16974.,  7299.,\n",
              "       16791., 13869., 10404., 10677.,  5385., 10128.,  9489., 15786.,\n",
              "       11316.,   822., 11772., 13140.,  8577., 12318.,  3375.,  7026.,\n",
              "        6570.,  2829.,  7755.,  9399., 22083.,  1368., 10038.,   456.,\n",
              "        2556., 14145.,  9765., 15696., 13779., 15603.,  1185., 15513.,\n",
              "       20805.,  4929.,  2463., 14418.,  7119.,  6297., 19164., 19983.,\n",
              "        8304.,  3741., 20349.,  6753.,  4653., 11679., 12501.,   729.,\n",
              "       18798., 10221., 29019., 11406., 27465.,  7575., 25368., 21810.,\n",
              "       14235., 17154.,  9672.,  4470., 21444., 23724., 11589.,  5109.,\n",
              "       13962., 14784., 27285., 14325.,  2373.,  5565.,  5841., 17976.,\n",
              "       25734., 13596., 11133.,  3924., 12774.,  4563.,  1005., 18981.,\n",
              "        3102., 20439.,  7848.,   639.,  1551.,  8487., 20259., 12594.,\n",
              "       16059., 28014.,  7392., 10950., 24273.,  7209.,  9582., 17886.,\n",
              "       17610.,  5658., 13323.,  1824., 19344.,  5931., 13689., 16515.,\n",
              "       16608., 14691.,  8394., 14601., 18159., 16881.,  6480., 22539.,\n",
              "       18615., 25275.,  4836.,  1644., 29838., 15240., 18249., 15330.,\n",
              "       19620.,  4380.,  6843.,  7938., 24363.,  2919., 11223.,  5292.,\n",
              "       18888., 19254., 16698., 12045., 19710., 22449., 24546., 38598.,\n",
              "        1734., 10860.,   912.,  4197.,  4107.,  3195., 15420.,  1278.,\n",
              "        2190., 20895., 12411., 23178., 12228.,  9216., 24819.,  3651.,\n",
              "       20988.,  7665., 14964., 17793., 20076., 21534.,  5475.,  2646.,\n",
              "        4290., 21900., 23634., 27558., 19893., 13230.,  9309.,  2007.,\n",
              "       11862., 18432., 13050.,  2739.,  7482., 22356.,     0.,  3558.,\n",
              "        6660., 28104., 11040.,  8214., 29382.,  9855., 33306., 22266.,\n",
              "       23085., 15147., 26553., 18705., 20715., 17247., 27924.,   549.,\n",
              "        6387.,  8760., 21717.,  9033., 32211., 29109., 29565., 17337.,\n",
              "        8850., 21078.,  2100., 20532., 16335., 18525., 19437.,    90.,\n",
              "       12957., 24456., 30477., 26463., 24639.,  9126., 14052.,  1095.,\n",
              "       19800., 22905.,  3012., 21171., 16425.,  1461., 25185., 21261.,\n",
              "       34401., 18342., 23544., 23907., 22812., 28653., 19071.,  2280.,\n",
              "       30021., 22722., 29748., 28560., 26829., 33672., 30843., 35589.,\n",
              "       25002., 21627., 27009.,   366., 24729., 31389., 28197., 26736.,\n",
              "       27375., 16242., 23817., 39054., 19527., 17520., 25824., 33033.,\n",
              "       27648., 31299., 23268., 25458., 42066.,  3285., 28836., 36135.,\n",
              "       29655., 29292., 27192., 37959., 24090., 26007., 22173., 30204.,\n",
              "       28926., 23361., 20166., 32484., 22995., 26097., 27831., 25914.,\n",
              "       27102., 32304., 43617., 37869., 24912., 33762., 30387.,   183.,\n",
              "       32121., 35952., 32667., 26919., 30114., 25641., 37047., 29475.,\n",
              "       28743., 32760., 36957., 28380., 31026., 29199., 24000., 28470.,\n",
              "       26280., 26190., 25095., 31482., 30660., 35406., 29931., 24180.,\n",
              "       31572., 37413., 31755., 35223., 47085., 30570., 28287., 32850.,\n",
              "       26646., 30294., 26370., 37779., 34311., 32394., 31116., 30933.,\n",
              "       34128., 31665., 31938., 25551., 32577., 30750., 27741., 36225.,\n",
              "       34218., 33123., 33216., 32940., 37686., 31209., 36864., 39876.,\n",
              "       33399., 44073., 36408.])"
            ]
          },
          "metadata": {
            "tags": []
          },
          "execution_count": 58
        }
      ]
    },
    {
      "cell_type": "code",
      "metadata": {
        "id": "RjNyNVI9g26p",
        "outputId": "4f2118cf-ad77-4f8b-ee55-c23ec643246a",
        "colab": {
          "base_uri": "https://localhost:8080/",
          "height": 34
        }
      },
      "source": [
        "(train_df.form_field6.isnull().sum()/len(train_df))*100"
      ],
      "execution_count": 59,
      "outputs": [
        {
          "output_type": "execute_result",
          "data": {
            "text/plain": [
              "23.857142857142858"
            ]
          },
          "metadata": {
            "tags": []
          },
          "execution_count": 59
        }
      ]
    },
    {
      "cell_type": "code",
      "metadata": {
        "id": "7t-NjkE1lCIb"
      },
      "source": [
        "#filling field6 and field7 nan values with zeros\n",
        "train_df.fillna({'form_field6':0,'form_field7':0},inplace=True)\n",
        "test_df.fillna({'form_field6':0,'form_field7':0},inplace=True)"
      ],
      "execution_count": 60,
      "outputs": []
    },
    {
      "cell_type": "code",
      "metadata": {
        "id": "Bp1NvvuBDyYK"
      },
      "source": [
        "#Now drop the  'Id' colum since it's unnecessary for  the prediction process.\n",
        "train_df.drop(\"Applicant_ID\", axis = 1, inplace = True)\n",
        "test_df.drop(\"Applicant_ID\", axis = 1, inplace = True)"
      ],
      "execution_count": 61,
      "outputs": []
    },
    {
      "cell_type": "code",
      "metadata": {
        "id": "HZYYU6MOkKZg"
      },
      "source": [
        "# let's delete the last column from the dataset to  concat train and test\n",
        "train_df = train_df.drop(['default_status'], axis = 1)"
      ],
      "execution_count": 62,
      "outputs": []
    },
    {
      "cell_type": "code",
      "metadata": {
        "id": "hqpkc1RxmDDH",
        "outputId": "75477ec8-00a7-48fb-c211-32bc8ad0386d",
        "colab": {
          "base_uri": "https://localhost:8080/",
          "height": 34
        }
      },
      "source": [
        "train_df.shape\n"
      ],
      "execution_count": 63,
      "outputs": [
        {
          "output_type": "execute_result",
          "data": {
            "text/plain": [
              "(56000, 50)"
            ]
          },
          "metadata": {
            "tags": []
          },
          "execution_count": 63
        }
      ]
    },
    {
      "cell_type": "code",
      "metadata": {
        "id": "maBQW_QckaBd",
        "outputId": "7a61f7f7-ec86-4643-bebd-16494819f551",
        "colab": {
          "base_uri": "https://localhost:8080/",
          "height": 34
        }
      },
      "source": [
        "# lets concat the train and test sets for preprocessing and visualizations\n",
        "all_data = pd.concat([train_df, test_df], axis = 0)\n",
        "\n",
        "# let's check the shape\n",
        "all_data.shape"
      ],
      "execution_count": 64,
      "outputs": [
        {
          "output_type": "execute_result",
          "data": {
            "text/plain": [
              "(80000, 50)"
            ]
          },
          "metadata": {
            "tags": []
          },
          "execution_count": 64
        }
      ]
    },
    {
      "cell_type": "code",
      "metadata": {
        "id": "7lFOC2DDxgol"
      },
      "source": [
        "categorical_columns = []\n",
        "numeric_columns = []\n",
        "for c in all_data.columns:\n",
        "    if all_data[c].map(type).eq(str).any(): #check if there are any strings in column\n",
        "        categorical_columns.append(c)\n",
        "    else:\n",
        "        numeric_columns.append(c)\n",
        "\n",
        "#create two DataFrames, one for each data type\n",
        "data_numeric = all_data[numeric_columns]\n",
        "data_categorical = pd.DataFrame(all_data[categorical_columns])\n",
        "\n",
        "\n",
        "\n",
        "\n",
        "#you could do something like one-hot-encoding of data_categorical here\n",
        "\n",
        "#join the two masked dataframes back together\n",
        "#data_joined = pd.concat([data_numeric, data_categorical], axis = 1)"
      ],
      "execution_count": 65,
      "outputs": []
    },
    {
      "cell_type": "code",
      "metadata": {
        "id": "bFpQig7Glxgm"
      },
      "source": [
        "#imputing NaN values with mean/median\n",
        "imp =SimpleImputer(missing_values=np.nan, strategy='median')\n",
        "data_numeric = pd.DataFrame(imp.fit_transform(data_numeric), columns = data_numeric.columns) #only apply imputer to numeric columns\n",
        "data_numeric.reset_index(drop=True, inplace=True)\n",
        "data_categorical.reset_index(drop=True, inplace=True)"
      ],
      "execution_count": 66,
      "outputs": []
    },
    {
      "cell_type": "code",
      "metadata": {
        "id": "Uo-oZ1Ky-FtU",
        "outputId": "d5299ffc-d9b9-4e8a-a77e-868064fc1bff",
        "colab": {
          "base_uri": "https://localhost:8080/",
          "height": 50
        }
      },
      "source": [
        "print(data_categorical.shape)\n",
        "print(data_numeric.shape)"
      ],
      "execution_count": 67,
      "outputs": [
        {
          "output_type": "stream",
          "text": [
            "(80000, 1)\n",
            "(80000, 49)\n"
          ],
          "name": "stdout"
        }
      ]
    },
    {
      "cell_type": "code",
      "metadata": {
        "id": "yatJHiY-AnC2"
      },
      "source": [
        "#join the two masked dataframes back together\n",
        "data_joined = pd.concat([data_numeric, data_categorical], axis = 1)"
      ],
      "execution_count": 68,
      "outputs": []
    },
    {
      "cell_type": "code",
      "metadata": {
        "id": "cfMcO-QxiO5v",
        "outputId": "aebca0dc-e028-4631-e769-f1a24fa74f97",
        "colab": {
          "base_uri": "https://localhost:8080/",
          "height": 34
        }
      },
      "source": [
        "data_joined.shape"
      ],
      "execution_count": 69,
      "outputs": [
        {
          "output_type": "execute_result",
          "data": {
            "text/plain": [
              "(80000, 50)"
            ]
          },
          "metadata": {
            "tags": []
          },
          "execution_count": 69
        }
      ]
    },
    {
      "cell_type": "code",
      "metadata": {
        "id": "bGVpGpt96V4E",
        "outputId": "252147f7-390e-43ae-b211-f60fe2cc91a5",
        "colab": {
          "base_uri": "https://localhost:8080/",
          "height": 422
        }
      },
      "source": [
        "\n",
        "data_joined"
      ],
      "execution_count": 70,
      "outputs": [
        {
          "output_type": "execute_result",
          "data": {
            "text/html": [
              "<div>\n",
              "<style scoped>\n",
              "    .dataframe tbody tr th:only-of-type {\n",
              "        vertical-align: middle;\n",
              "    }\n",
              "\n",
              "    .dataframe tbody tr th {\n",
              "        vertical-align: top;\n",
              "    }\n",
              "\n",
              "    .dataframe thead th {\n",
              "        text-align: right;\n",
              "    }\n",
              "</style>\n",
              "<table border=\"1\" class=\"dataframe\">\n",
              "  <thead>\n",
              "    <tr style=\"text-align: right;\">\n",
              "      <th></th>\n",
              "      <th>form_field1</th>\n",
              "      <th>form_field2</th>\n",
              "      <th>form_field3</th>\n",
              "      <th>form_field4</th>\n",
              "      <th>form_field5</th>\n",
              "      <th>form_field6</th>\n",
              "      <th>form_field7</th>\n",
              "      <th>form_field8</th>\n",
              "      <th>form_field9</th>\n",
              "      <th>form_field10</th>\n",
              "      <th>form_field11</th>\n",
              "      <th>form_field12</th>\n",
              "      <th>form_field13</th>\n",
              "      <th>form_field14</th>\n",
              "      <th>form_field15</th>\n",
              "      <th>form_field16</th>\n",
              "      <th>form_field17</th>\n",
              "      <th>form_field18</th>\n",
              "      <th>form_field19</th>\n",
              "      <th>form_field20</th>\n",
              "      <th>form_field21</th>\n",
              "      <th>form_field22</th>\n",
              "      <th>form_field23</th>\n",
              "      <th>form_field24</th>\n",
              "      <th>form_field25</th>\n",
              "      <th>form_field26</th>\n",
              "      <th>form_field27</th>\n",
              "      <th>form_field28</th>\n",
              "      <th>form_field29</th>\n",
              "      <th>form_field30</th>\n",
              "      <th>form_field31</th>\n",
              "      <th>form_field32</th>\n",
              "      <th>form_field33</th>\n",
              "      <th>form_field34</th>\n",
              "      <th>form_field35</th>\n",
              "      <th>form_field36</th>\n",
              "      <th>form_field37</th>\n",
              "      <th>form_field38</th>\n",
              "      <th>form_field39</th>\n",
              "      <th>form_field40</th>\n",
              "      <th>form_field41</th>\n",
              "      <th>form_field42</th>\n",
              "      <th>form_field43</th>\n",
              "      <th>form_field44</th>\n",
              "      <th>form_field45</th>\n",
              "      <th>form_field46</th>\n",
              "      <th>form_field48</th>\n",
              "      <th>form_field49</th>\n",
              "      <th>form_field50</th>\n",
              "      <th>form_field47</th>\n",
              "    </tr>\n",
              "  </thead>\n",
              "  <tbody>\n",
              "    <tr>\n",
              "      <th>0</th>\n",
              "      <td>3436.0</td>\n",
              "      <td>0.28505</td>\n",
              "      <td>1.6560</td>\n",
              "      <td>0.0000</td>\n",
              "      <td>0.0000</td>\n",
              "      <td>0.0</td>\n",
              "      <td>10689720.0</td>\n",
              "      <td>252072.0</td>\n",
              "      <td>4272776.0</td>\n",
              "      <td>11333126.0</td>\n",
              "      <td>4397256.0</td>\n",
              "      <td>2301324.0</td>\n",
              "      <td>7875694.0</td>\n",
              "      <td>96375139.0</td>\n",
              "      <td>112181765.0</td>\n",
              "      <td>1.0</td>\n",
              "      <td>1.0</td>\n",
              "      <td>1.0</td>\n",
              "      <td>3.0</td>\n",
              "      <td>3.0</td>\n",
              "      <td>134.655</td>\n",
              "      <td>5961.6375</td>\n",
              "      <td>5550.000</td>\n",
              "      <td>134.655</td>\n",
              "      <td>4000.5</td>\n",
              "      <td>17064.0</td>\n",
              "      <td>11376.0</td>\n",
              "      <td>60.0</td>\n",
              "      <td>17064.0</td>\n",
              "      <td>5962.0</td>\n",
              "      <td>10584.0</td>\n",
              "      <td>1052.0</td>\n",
              "      <td>8.0000</td>\n",
              "      <td>2.0</td>\n",
              "      <td>0.0</td>\n",
              "      <td>12.0</td>\n",
              "      <td>12.0</td>\n",
              "      <td>4.0</td>\n",
              "      <td>0.0</td>\n",
              "      <td>150.0000</td>\n",
              "      <td>118.32525</td>\n",
              "      <td>0.392854</td>\n",
              "      <td>2.02</td>\n",
              "      <td>0.711632</td>\n",
              "      <td>0.0</td>\n",
              "      <td>0.0</td>\n",
              "      <td>316.707639</td>\n",
              "      <td>1.129518</td>\n",
              "      <td>0.044335</td>\n",
              "      <td>charge</td>\n",
              "    </tr>\n",
              "    <tr>\n",
              "      <th>1</th>\n",
              "      <td>3456.0</td>\n",
              "      <td>0.67400</td>\n",
              "      <td>0.2342</td>\n",
              "      <td>0.0000</td>\n",
              "      <td>0.0000</td>\n",
              "      <td>0.0</td>\n",
              "      <td>898979.0</td>\n",
              "      <td>497531.0</td>\n",
              "      <td>9073814.0</td>\n",
              "      <td>2533168.0</td>\n",
              "      <td>244292.0</td>\n",
              "      <td>3982971.0</td>\n",
              "      <td>2141445.0</td>\n",
              "      <td>28141427.0</td>\n",
              "      <td>45169902.0</td>\n",
              "      <td>1.0</td>\n",
              "      <td>1.0</td>\n",
              "      <td>1.0</td>\n",
              "      <td>2.0</td>\n",
              "      <td>2.0</td>\n",
              "      <td>109.230</td>\n",
              "      <td>11385.2400</td>\n",
              "      <td>14584.290</td>\n",
              "      <td>86.685</td>\n",
              "      <td>4161.0</td>\n",
              "      <td>13413.0</td>\n",
              "      <td>8942.0</td>\n",
              "      <td>304.0</td>\n",
              "      <td>13413.0</td>\n",
              "      <td>5780.0</td>\n",
              "      <td>10584.0</td>\n",
              "      <td>2554.0</td>\n",
              "      <td>17.5000</td>\n",
              "      <td>0.0</td>\n",
              "      <td>0.0</td>\n",
              "      <td>16.0</td>\n",
              "      <td>24.0</td>\n",
              "      <td>8.0</td>\n",
              "      <td>0.0</td>\n",
              "      <td>150.0000</td>\n",
              "      <td>118.32525</td>\n",
              "      <td>0.314281</td>\n",
              "      <td>8.08</td>\n",
              "      <td>0.183584</td>\n",
              "      <td>0.0</td>\n",
              "      <td>0.0</td>\n",
              "      <td>349.805730</td>\n",
              "      <td>1.620483</td>\n",
              "      <td>0.322436</td>\n",
              "      <td>charge</td>\n",
              "    </tr>\n",
              "    <tr>\n",
              "      <th>2</th>\n",
              "      <td>3276.0</td>\n",
              "      <td>0.53845</td>\n",
              "      <td>3.1510</td>\n",
              "      <td>0.0000</td>\n",
              "      <td>6.2820</td>\n",
              "      <td>0.0</td>\n",
              "      <td>956940.0</td>\n",
              "      <td>963942.0</td>\n",
              "      <td>192944.0</td>\n",
              "      <td>1079864.0</td>\n",
              "      <td>692420.0</td>\n",
              "      <td>1158247.5</td>\n",
              "      <td>0.0</td>\n",
              "      <td>16576457.0</td>\n",
              "      <td>22452691.0</td>\n",
              "      <td>0.0</td>\n",
              "      <td>0.0</td>\n",
              "      <td>0.0</td>\n",
              "      <td>0.0</td>\n",
              "      <td>0.0</td>\n",
              "      <td>89.535</td>\n",
              "      <td>5961.6375</td>\n",
              "      <td>5550.000</td>\n",
              "      <td>60.660</td>\n",
              "      <td>1597.5</td>\n",
              "      <td>4746.0</td>\n",
              "      <td>3164.0</td>\n",
              "      <td>60.0</td>\n",
              "      <td>15696.0</td>\n",
              "      <td>5658.0</td>\n",
              "      <td>14508.0</td>\n",
              "      <td>70.0</td>\n",
              "      <td>0.6666</td>\n",
              "      <td>0.0</td>\n",
              "      <td>0.0</td>\n",
              "      <td>12.0</td>\n",
              "      <td>0.0</td>\n",
              "      <td>6.0</td>\n",
              "      <td>0.0</td>\n",
              "      <td>149.6805</td>\n",
              "      <td>118.32525</td>\n",
              "      <td>0.162965</td>\n",
              "      <td>18.18</td>\n",
              "      <td>0.791136</td>\n",
              "      <td>0.0</td>\n",
              "      <td>0.0</td>\n",
              "      <td>316.707639</td>\n",
              "      <td>1.513370</td>\n",
              "      <td>0.011640</td>\n",
              "      <td>charge</td>\n",
              "    </tr>\n",
              "    <tr>\n",
              "      <th>3</th>\n",
              "      <td>3372.0</td>\n",
              "      <td>0.17005</td>\n",
              "      <td>0.5050</td>\n",
              "      <td>0.0000</td>\n",
              "      <td>0.0000</td>\n",
              "      <td>192166.0</td>\n",
              "      <td>3044703.0</td>\n",
              "      <td>385499.0</td>\n",
              "      <td>3986472.0</td>\n",
              "      <td>3621979.0</td>\n",
              "      <td>692420.0</td>\n",
              "      <td>771776.0</td>\n",
              "      <td>1186839.0</td>\n",
              "      <td>48187375.0</td>\n",
              "      <td>136297820.0</td>\n",
              "      <td>0.0</td>\n",
              "      <td>0.0</td>\n",
              "      <td>0.0</td>\n",
              "      <td>1.0</td>\n",
              "      <td>1.0</td>\n",
              "      <td>120.120</td>\n",
              "      <td>8580.0000</td>\n",
              "      <td>0.000</td>\n",
              "      <td>85.800</td>\n",
              "      <td>1701.0</td>\n",
              "      <td>4014.0</td>\n",
              "      <td>2676.0</td>\n",
              "      <td>60.0</td>\n",
              "      <td>11679.0</td>\n",
              "      <td>5658.0</td>\n",
              "      <td>10584.0</td>\n",
              "      <td>522.0</td>\n",
              "      <td>7.8334</td>\n",
              "      <td>1.0</td>\n",
              "      <td>1.0</td>\n",
              "      <td>4.0</td>\n",
              "      <td>8.0</td>\n",
              "      <td>4.0</td>\n",
              "      <td>1.0</td>\n",
              "      <td>150.0000</td>\n",
              "      <td>118.32525</td>\n",
              "      <td>0.488884</td>\n",
              "      <td>2.02</td>\n",
              "      <td>0.685168</td>\n",
              "      <td>0.0</td>\n",
              "      <td>0.0</td>\n",
              "      <td>89.940100</td>\n",
              "      <td>0.664452</td>\n",
              "      <td>0.082729</td>\n",
              "      <td>charge</td>\n",
              "    </tr>\n",
              "    <tr>\n",
              "      <th>4</th>\n",
              "      <td>3370.0</td>\n",
              "      <td>0.77270</td>\n",
              "      <td>1.1010</td>\n",
              "      <td>0.0000</td>\n",
              "      <td>0.0000</td>\n",
              "      <td>1556.0</td>\n",
              "      <td>214728.0</td>\n",
              "      <td>214728.0</td>\n",
              "      <td>1284089.0</td>\n",
              "      <td>361770.0</td>\n",
              "      <td>396391.0</td>\n",
              "      <td>818456.0</td>\n",
              "      <td>511535.0</td>\n",
              "      <td>28141427.0</td>\n",
              "      <td>15292757.0</td>\n",
              "      <td>0.0</td>\n",
              "      <td>0.0</td>\n",
              "      <td>0.0</td>\n",
              "      <td>3.0</td>\n",
              "      <td>3.0</td>\n",
              "      <td>104.535</td>\n",
              "      <td>8360.1900</td>\n",
              "      <td>10326.450</td>\n",
              "      <td>115.335</td>\n",
              "      <td>1551.0</td>\n",
              "      <td>3285.0</td>\n",
              "      <td>2190.0</td>\n",
              "      <td>60.0</td>\n",
              "      <td>19437.0</td>\n",
              "      <td>12958.0</td>\n",
              "      <td>5202.0</td>\n",
              "      <td>272.0</td>\n",
              "      <td>1.0000</td>\n",
              "      <td>0.0</td>\n",
              "      <td>0.0</td>\n",
              "      <td>24.0</td>\n",
              "      <td>2.0</td>\n",
              "      <td>24.0</td>\n",
              "      <td>0.0</td>\n",
              "      <td>150.0135</td>\n",
              "      <td>118.32525</td>\n",
              "      <td>0.275000</td>\n",
              "      <td>12.12</td>\n",
              "      <td>0.438168</td>\n",
              "      <td>0.0</td>\n",
              "      <td>0.0</td>\n",
              "      <td>97.887502</td>\n",
              "      <td>1.427891</td>\n",
              "      <td>0.045630</td>\n",
              "      <td>charge</td>\n",
              "    </tr>\n",
              "    <tr>\n",
              "      <th>...</th>\n",
              "      <td>...</td>\n",
              "      <td>...</td>\n",
              "      <td>...</td>\n",
              "      <td>...</td>\n",
              "      <td>...</td>\n",
              "      <td>...</td>\n",
              "      <td>...</td>\n",
              "      <td>...</td>\n",
              "      <td>...</td>\n",
              "      <td>...</td>\n",
              "      <td>...</td>\n",
              "      <td>...</td>\n",
              "      <td>...</td>\n",
              "      <td>...</td>\n",
              "      <td>...</td>\n",
              "      <td>...</td>\n",
              "      <td>...</td>\n",
              "      <td>...</td>\n",
              "      <td>...</td>\n",
              "      <td>...</td>\n",
              "      <td>...</td>\n",
              "      <td>...</td>\n",
              "      <td>...</td>\n",
              "      <td>...</td>\n",
              "      <td>...</td>\n",
              "      <td>...</td>\n",
              "      <td>...</td>\n",
              "      <td>...</td>\n",
              "      <td>...</td>\n",
              "      <td>...</td>\n",
              "      <td>...</td>\n",
              "      <td>...</td>\n",
              "      <td>...</td>\n",
              "      <td>...</td>\n",
              "      <td>...</td>\n",
              "      <td>...</td>\n",
              "      <td>...</td>\n",
              "      <td>...</td>\n",
              "      <td>...</td>\n",
              "      <td>...</td>\n",
              "      <td>...</td>\n",
              "      <td>...</td>\n",
              "      <td>...</td>\n",
              "      <td>...</td>\n",
              "      <td>...</td>\n",
              "      <td>...</td>\n",
              "      <td>...</td>\n",
              "      <td>...</td>\n",
              "      <td>...</td>\n",
              "      <td>...</td>\n",
              "    </tr>\n",
              "    <tr>\n",
              "      <th>79995</th>\n",
              "      <td>3258.0</td>\n",
              "      <td>0.37925</td>\n",
              "      <td>0.5698</td>\n",
              "      <td>5.1282</td>\n",
              "      <td>0.0000</td>\n",
              "      <td>0.0</td>\n",
              "      <td>2280318.0</td>\n",
              "      <td>963942.0</td>\n",
              "      <td>5512519.0</td>\n",
              "      <td>2280318.0</td>\n",
              "      <td>1743887.0</td>\n",
              "      <td>1158247.5</td>\n",
              "      <td>0.0</td>\n",
              "      <td>21973443.0</td>\n",
              "      <td>126128971.0</td>\n",
              "      <td>0.0</td>\n",
              "      <td>0.0</td>\n",
              "      <td>0.0</td>\n",
              "      <td>0.0</td>\n",
              "      <td>0.0</td>\n",
              "      <td>89.535</td>\n",
              "      <td>5961.6375</td>\n",
              "      <td>5550.000</td>\n",
              "      <td>60.660</td>\n",
              "      <td>547.5</td>\n",
              "      <td>8214.0</td>\n",
              "      <td>5110.0</td>\n",
              "      <td>304.0</td>\n",
              "      <td>3741.0</td>\n",
              "      <td>2068.0</td>\n",
              "      <td>10584.0</td>\n",
              "      <td>24.0</td>\n",
              "      <td>0.3334</td>\n",
              "      <td>0.0</td>\n",
              "      <td>0.0</td>\n",
              "      <td>6.0</td>\n",
              "      <td>0.0</td>\n",
              "      <td>6.0</td>\n",
              "      <td>0.0</td>\n",
              "      <td>150.0000</td>\n",
              "      <td>92.69100</td>\n",
              "      <td>1.100000</td>\n",
              "      <td>0.00</td>\n",
              "      <td>0.800000</td>\n",
              "      <td>0.0</td>\n",
              "      <td>1.0</td>\n",
              "      <td>316.707639</td>\n",
              "      <td>0.000000</td>\n",
              "      <td>0.169760</td>\n",
              "      <td>charge</td>\n",
              "    </tr>\n",
              "    <tr>\n",
              "      <th>79996</th>\n",
              "      <td>3514.0</td>\n",
              "      <td>0.95260</td>\n",
              "      <td>0.0000</td>\n",
              "      <td>0.0000</td>\n",
              "      <td>0.0000</td>\n",
              "      <td>1494538.0</td>\n",
              "      <td>4773419.0</td>\n",
              "      <td>4773419.0</td>\n",
              "      <td>89718571.0</td>\n",
              "      <td>12999991.0</td>\n",
              "      <td>692420.0</td>\n",
              "      <td>48989882.0</td>\n",
              "      <td>97696961.0</td>\n",
              "      <td>96375139.0</td>\n",
              "      <td>84083128.0</td>\n",
              "      <td>0.0</td>\n",
              "      <td>0.0</td>\n",
              "      <td>0.0</td>\n",
              "      <td>3.0</td>\n",
              "      <td>3.0</td>\n",
              "      <td>123.195</td>\n",
              "      <td>11663.0550</td>\n",
              "      <td>5550.000</td>\n",
              "      <td>123.195</td>\n",
              "      <td>1485.0</td>\n",
              "      <td>6387.0</td>\n",
              "      <td>4258.0</td>\n",
              "      <td>60772.0</td>\n",
              "      <td>14691.0</td>\n",
              "      <td>3286.0</td>\n",
              "      <td>10584.0</td>\n",
              "      <td>586.0</td>\n",
              "      <td>14.1666</td>\n",
              "      <td>0.0</td>\n",
              "      <td>0.0</td>\n",
              "      <td>10.0</td>\n",
              "      <td>2.0</td>\n",
              "      <td>8.0</td>\n",
              "      <td>0.0</td>\n",
              "      <td>150.0000</td>\n",
              "      <td>125.02200</td>\n",
              "      <td>0.000000</td>\n",
              "      <td>12.12</td>\n",
              "      <td>0.196400</td>\n",
              "      <td>0.0</td>\n",
              "      <td>0.0</td>\n",
              "      <td>4200.072959</td>\n",
              "      <td>3.000000</td>\n",
              "      <td>0.930931</td>\n",
              "      <td>charge</td>\n",
              "    </tr>\n",
              "    <tr>\n",
              "      <th>79997</th>\n",
              "      <td>3302.0</td>\n",
              "      <td>0.05755</td>\n",
              "      <td>4.2394</td>\n",
              "      <td>0.0000</td>\n",
              "      <td>25.4376</td>\n",
              "      <td>0.0</td>\n",
              "      <td>49403.0</td>\n",
              "      <td>963942.0</td>\n",
              "      <td>5512519.0</td>\n",
              "      <td>49403.0</td>\n",
              "      <td>215895.0</td>\n",
              "      <td>1158247.5</td>\n",
              "      <td>0.0</td>\n",
              "      <td>21973443.0</td>\n",
              "      <td>84083128.0</td>\n",
              "      <td>0.0</td>\n",
              "      <td>0.0</td>\n",
              "      <td>0.0</td>\n",
              "      <td>0.0</td>\n",
              "      <td>1.0</td>\n",
              "      <td>89.535</td>\n",
              "      <td>13080.0000</td>\n",
              "      <td>5550.000</td>\n",
              "      <td>60.660</td>\n",
              "      <td>2304.0</td>\n",
              "      <td>8214.0</td>\n",
              "      <td>5110.0</td>\n",
              "      <td>60.0</td>\n",
              "      <td>10038.0</td>\n",
              "      <td>5658.0</td>\n",
              "      <td>5109.0</td>\n",
              "      <td>202.0</td>\n",
              "      <td>5.3334</td>\n",
              "      <td>0.0</td>\n",
              "      <td>0.0</td>\n",
              "      <td>8.0</td>\n",
              "      <td>4.0</td>\n",
              "      <td>2.0</td>\n",
              "      <td>0.0</td>\n",
              "      <td>150.0000</td>\n",
              "      <td>118.32525</td>\n",
              "      <td>1.100000</td>\n",
              "      <td>1.01</td>\n",
              "      <td>0.800000</td>\n",
              "      <td>0.0</td>\n",
              "      <td>0.0</td>\n",
              "      <td>316.707639</td>\n",
              "      <td>4.855060</td>\n",
              "      <td>0.169760</td>\n",
              "      <td>charge</td>\n",
              "    </tr>\n",
              "    <tr>\n",
              "      <th>79998</th>\n",
              "      <td>3334.0</td>\n",
              "      <td>0.75670</td>\n",
              "      <td>1.4428</td>\n",
              "      <td>0.0000</td>\n",
              "      <td>0.0000</td>\n",
              "      <td>0.0</td>\n",
              "      <td>2513329.0</td>\n",
              "      <td>37733.0</td>\n",
              "      <td>393668.0</td>\n",
              "      <td>2551062.0</td>\n",
              "      <td>121757.0</td>\n",
              "      <td>355935.0</td>\n",
              "      <td>673748.0</td>\n",
              "      <td>16576457.0</td>\n",
              "      <td>84083128.0</td>\n",
              "      <td>1.0</td>\n",
              "      <td>2.0</td>\n",
              "      <td>2.0</td>\n",
              "      <td>2.0</td>\n",
              "      <td>2.0</td>\n",
              "      <td>129.435</td>\n",
              "      <td>13024.9950</td>\n",
              "      <td>13024.995</td>\n",
              "      <td>138.450</td>\n",
              "      <td>706.5</td>\n",
              "      <td>2463.0</td>\n",
              "      <td>1642.0</td>\n",
              "      <td>0.0</td>\n",
              "      <td>6297.0</td>\n",
              "      <td>2312.0</td>\n",
              "      <td>10584.0</td>\n",
              "      <td>62.0</td>\n",
              "      <td>2.6666</td>\n",
              "      <td>0.0</td>\n",
              "      <td>0.0</td>\n",
              "      <td>12.0</td>\n",
              "      <td>0.0</td>\n",
              "      <td>4.0</td>\n",
              "      <td>0.0</td>\n",
              "      <td>150.0000</td>\n",
              "      <td>31.19550</td>\n",
              "      <td>0.440000</td>\n",
              "      <td>2.02</td>\n",
              "      <td>0.519776</td>\n",
              "      <td>0.0</td>\n",
              "      <td>0.0</td>\n",
              "      <td>27.325129</td>\n",
              "      <td>0.818733</td>\n",
              "      <td>0.023749</td>\n",
              "      <td>charge</td>\n",
              "    </tr>\n",
              "    <tr>\n",
              "      <th>79999</th>\n",
              "      <td>3324.0</td>\n",
              "      <td>0.44840</td>\n",
              "      <td>2.3170</td>\n",
              "      <td>6.7176</td>\n",
              "      <td>0.0000</td>\n",
              "      <td>0.0</td>\n",
              "      <td>5305182.0</td>\n",
              "      <td>963942.0</td>\n",
              "      <td>18885950.0</td>\n",
              "      <td>5361587.0</td>\n",
              "      <td>1121098.0</td>\n",
              "      <td>0.0</td>\n",
              "      <td>3031477.0</td>\n",
              "      <td>48187375.0</td>\n",
              "      <td>84083128.0</td>\n",
              "      <td>0.0</td>\n",
              "      <td>0.0</td>\n",
              "      <td>0.0</td>\n",
              "      <td>0.0</td>\n",
              "      <td>1.0</td>\n",
              "      <td>89.535</td>\n",
              "      <td>5961.6375</td>\n",
              "      <td>5550.000</td>\n",
              "      <td>124.980</td>\n",
              "      <td>9319.5</td>\n",
              "      <td>30204.0</td>\n",
              "      <td>20136.0</td>\n",
              "      <td>60.0</td>\n",
              "      <td>30204.0</td>\n",
              "      <td>9672.0</td>\n",
              "      <td>10584.0</td>\n",
              "      <td>1634.0</td>\n",
              "      <td>24.8334</td>\n",
              "      <td>0.0</td>\n",
              "      <td>0.0</td>\n",
              "      <td>6.0</td>\n",
              "      <td>8.0</td>\n",
              "      <td>0.0</td>\n",
              "      <td>0.0</td>\n",
              "      <td>150.0000</td>\n",
              "      <td>112.30350</td>\n",
              "      <td>0.314281</td>\n",
              "      <td>3.03</td>\n",
              "      <td>0.544352</td>\n",
              "      <td>0.0</td>\n",
              "      <td>1.0</td>\n",
              "      <td>316.707639</td>\n",
              "      <td>0.000000</td>\n",
              "      <td>0.391927</td>\n",
              "      <td>charge</td>\n",
              "    </tr>\n",
              "  </tbody>\n",
              "</table>\n",
              "<p>80000 rows × 50 columns</p>\n",
              "</div>"
            ],
            "text/plain": [
              "       form_field1  form_field2  ...  form_field50  form_field47\n",
              "0           3436.0      0.28505  ...      0.044335        charge\n",
              "1           3456.0      0.67400  ...      0.322436        charge\n",
              "2           3276.0      0.53845  ...      0.011640        charge\n",
              "3           3372.0      0.17005  ...      0.082729        charge\n",
              "4           3370.0      0.77270  ...      0.045630        charge\n",
              "...            ...          ...  ...           ...           ...\n",
              "79995       3258.0      0.37925  ...      0.169760        charge\n",
              "79996       3514.0      0.95260  ...      0.930931        charge\n",
              "79997       3302.0      0.05755  ...      0.169760        charge\n",
              "79998       3334.0      0.75670  ...      0.023749        charge\n",
              "79999       3324.0      0.44840  ...      0.391927        charge\n",
              "\n",
              "[80000 rows x 50 columns]"
            ]
          },
          "metadata": {
            "tags": []
          },
          "execution_count": 70
        }
      ]
    },
    {
      "cell_type": "code",
      "metadata": {
        "id": "3fsYbfsYnNHB"
      },
      "source": [
        "#label encoding categorical varriables\n",
        "\n",
        "le = LabelEncoder()\n",
        "data_joined['form_field47'] = le.fit_transform(data_joined['form_field47'])\n",
        "# removing unnecassary columns\n",
        "\n",
        "data_joined =data_joined.drop(['form_field47'], axis = 1)"
      ],
      "execution_count": 71,
      "outputs": []
    },
    {
      "cell_type": "code",
      "metadata": {
        "id": "7g2Wz29yoY85",
        "outputId": "c0e32d65-98d9-4117-8918-037ca55341c6",
        "colab": {
          "base_uri": "https://localhost:8080/",
          "height": 50
        }
      },
      "source": [
        "\n",
        "# separating train and test datasets from data\n",
        "\n",
        "x_train = data_joined.iloc[:56000,:]\n",
        "x_test = data_joined.iloc[56000:,:]\n",
        "\n",
        "# checking the shape of train and test\n",
        "print(\"Shape of train :\", x_train.shape)\n",
        "print(\"Shape of test :\", x_test.shape)"
      ],
      "execution_count": 72,
      "outputs": [
        {
          "output_type": "stream",
          "text": [
            "Shape of train : (56000, 49)\n",
            "Shape of test : (24000, 49)\n"
          ],
          "name": "stdout"
        }
      ]
    },
    {
      "cell_type": "code",
      "metadata": {
        "id": "E9g2EnKUlj82",
        "outputId": "8f2a6e3d-809d-4afa-96f3-dbfa100b2b9d",
        "colab": {
          "base_uri": "https://localhost:8080/",
          "height": 84
        }
      },
      "source": [
        "# train and valid sets from train\n",
        "x_train, x_valid, y_train, y_valid = train_test_split(x_train, y_train, test_size = 0.2, random_state = 0)\n",
        "\n",
        "# checking the shapes\n",
        "print(x_train.shape)\n",
        "print(y_train.shape)\n",
        "print(x_valid.shape)\n",
        "print(y_valid.shape)"
      ],
      "execution_count": 73,
      "outputs": [
        {
          "output_type": "stream",
          "text": [
            "(44800, 49)\n",
            "(44800,)\n",
            "(11200, 49)\n",
            "(11200,)\n"
          ],
          "name": "stdout"
        }
      ]
    },
    {
      "cell_type": "code",
      "metadata": {
        "id": "IOXrwP5opjbs"
      },
      "source": [
        "\n",
        "# standardization techniques\n",
        "\n",
        "from sklearn.preprocessing import StandardScaler\n",
        "\n",
        "sc = StandardScaler()\n",
        "x_train = sc.fit_transform(x_train)\n",
        "x_valid = sc.transform(x_valid)\n",
        "x_test = sc.transform(x_test)"
      ],
      "execution_count": 74,
      "outputs": []
    },
    {
      "cell_type": "code",
      "metadata": {
        "id": "S-zyycLqqY1r"
      },
      "source": [
        "import hyperopt\n",
        "from hyperopt import STATUS_OK, Trials, fmin, hp, tpe, space_eval\n",
        "from sklearn.base import BaseEstimator\n",
        "from sklearn.base import ClassifierMixin\n",
        "from sklearn.base import TransformerMixin\n",
        "from sklearn.base import clone"
      ],
      "execution_count": 75,
      "outputs": []
    },
    {
      "cell_type": "code",
      "metadata": {
        "id": "sixGEBCDkvIJ",
        "outputId": "bbdfeec4-9316-4160-ca59-b978ee2d3912",
        "colab": {
          "base_uri": "https://localhost:8080/",
          "height": 154
        }
      },
      "source": [
        "#models\n",
        "'''from sklearn.linear_model import  RidgeClassifier\n",
        "rdgc = make_pipeline(RobustScaler(), RidgeClassifier())\n",
        "knn=KNeighborsClassifier(n_neighbors=4,n_jobs=-1)\n",
        "adac=AdaBoostClassifier(learning_rate=0.02,n_estimators=50)\n",
        "gbrc=GradientBoostingClassifier(max_depth=8,n_estimators=900)\n",
        "    \n",
        "etc=ExtraTreesClassifier(n_estimators=400,\n",
        "                                     max_features=49,\n",
        "                                     criterion= 'entropy',\n",
        "                                     min_samples_split=2,\n",
        "                                     max_depth=49,\n",
        "                                     min_samples_leaf=2, ## the default is 1 (note we use more than one sample for the split)\n",
        "                                     class_weight='balanced_subsample',\n",
        "                                     random_state=1,\n",
        "                                     verbose=1)\n",
        "\n",
        "        \n",
        "rfc=RandomForestClassifier(random_state=0, n_jobs=-1, n_estimators=400, max_depth=4)\n",
        "        \n",
        "xgbc=XGBClassifier(random_state=0, n_jobs=-1, learning_rate=0.1, n_estimators=200, max_depth=4)\n",
        "          \n",
        "lgbc=LGBMClassifier(boosting_type='gbdt', class_weight=None, colsample_bytree=1.0\n",
        "               importance_type='split', learning_rate=0.1, max_depth=-1,\n",
        "               min_child_samples=20, min_child_weight=0.001, min_split_gain=0.0,\n",
        "               n_estimators=100, n_jobs=-1, num_leaves=31, objective=None,\n",
        "               random_state=None, reg_alpha=0.0, reg_lambda=0.0, silent=True,\n",
        "               subsample=1.0, subsample_for_bin=200000, subsample_freq=0)'''\n",
        "#enet = make_pipeline(RobustScaler(), ElasticNet(alpha=0.005, l1_ratio=.9, random_state=3))"
      ],
      "execution_count": 76,
      "outputs": [
        {
          "output_type": "execute_result",
          "data": {
            "application/vnd.google.colaboratory.intrinsic+json": {
              "type": "string"
            },
            "text/plain": [
              "\"from sklearn.linear_model import  RidgeClassifier\\nrdgc = make_pipeline(RobustScaler(), RidgeClassifier())\\nknn=KNeighborsClassifier(n_neighbors=4,n_jobs=-1)\\nadac=AdaBoostClassifier(learning_rate=0.02,n_estimators=50)\\ngbrc=GradientBoostingClassifier(max_depth=8,n_estimators=900)\\n    \\netc=ExtraTreesClassifier(n_estimators=400,\\n                                     max_features=49,\\n                                     criterion= 'entropy',\\n                                     min_samples_split=2,\\n                                     max_depth=49,\\n                                     min_samples_leaf=2, ## the default is 1 (note we use more than one sample for the split)\\n                                     class_weight='balanced_subsample',\\n                                     random_state=1,\\n                                     verbose=1)\\n\\n        \\nrfc=RandomForestClassifier(random_state=0, n_jobs=-1, n_estimators=400, max_depth=4)\\n        \\nxgbc=XGBClassifier(random_state=0, n_jobs=-1, learning_rate=0.1, n_estimators=200, max_depth=4)\\n          \\nlgbc=LGBMClassifier(boosting_type='gbdt', class_weight=None, colsample_bytree=1.0\\n               importance_type='split', learning_rate=0.1, max_depth=-1,\\n               min_child_samples=20, min_child_weight=0.001, min_split_gain=0.0,\\n               n_estimators=100, n_jobs=-1, num_leaves=31, objective=None,\\n               random_state=None, reg_alpha=0.0, reg_lambda=0.0, silent=True,\\n               subsample=1.0, subsample_for_bin=200000, subsample_freq=0)\""
            ]
          },
          "metadata": {
            "tags": []
          },
          "execution_count": 76
        }
      ]
    },
    {
      "cell_type": "code",
      "metadata": {
        "id": "1SILAqjfQkAj",
        "outputId": "bd1fb9df-f6b7-43b9-92cf-4d1a1191205a",
        "colab": {
          "base_uri": "https://localhost:8080/",
          "height": 87
        }
      },
      "source": [
        "from sklearn.linear_model import  RidgeClassifier\n",
        "rdgc =make_pipeline(RobustScaler(),RidgeClassifier())\n",
        "rdgc.fit(x_train, y_train)\n",
        "y_pred =rdgc.predict(x_valid)\n",
        "rocauc =roc_auc_score(y_valid, y_pred)\n",
        "print(\"ROC-Ridge :\",rocauc)"
      ],
      "execution_count": 77,
      "outputs": [
        {
          "output_type": "stream",
          "text": [
            "ROC-Ridge : 0.6324172406899847\n"
          ],
          "name": "stdout"
        },
        {
          "output_type": "stream",
          "text": [
            "/usr/local/lib/python3.6/dist-packages/sklearn/linear_model/_ridge.py:148: LinAlgWarning: Ill-conditioned matrix (rcond=2.48582e-17): result may not be accurate.\n",
            "  overwrite_a=True).T\n"
          ],
          "name": "stderr"
        }
      ]
    },
    {
      "cell_type": "code",
      "metadata": {
        "id": "w6kG99EUXSlc",
        "outputId": "074d1a53-5c55-469a-aa94-60220ff8b35a",
        "colab": {
          "base_uri": "https://localhost:8080/",
          "height": 34
        }
      },
      "source": [
        "knn=KNeighborsClassifier(n_neighbors=4,n_jobs=-1)\n",
        "knn.fit(x_train, y_train)\n",
        "y_pred =rdgc.predict(x_valid)\n",
        "rocauc =roc_auc_score(y_valid, y_pred)\n",
        "print(\"ROC-Knn :\",rocauc)"
      ],
      "execution_count": 78,
      "outputs": [
        {
          "output_type": "stream",
          "text": [
            "ROC-Knn : 0.6324172406899847\n"
          ],
          "name": "stdout"
        }
      ]
    },
    {
      "cell_type": "code",
      "metadata": {
        "id": "l6hfQvwvXTSX",
        "outputId": "a8e8d9da-c483-44ea-c049-b09ef1e53072",
        "colab": {
          "base_uri": "https://localhost:8080/",
          "height": 34
        }
      },
      "source": [
        "adac=AdaBoostClassifier(learning_rate=0.02,n_estimators=50)\n",
        "adac.fit(x_train, y_train)\n",
        "y_pred =adac.predict(x_valid)\n",
        "rocauc =roc_auc_score(y_valid, y_pred)\n",
        "print(\"ROC-ada :\",rocauc)"
      ],
      "execution_count": 79,
      "outputs": [
        {
          "output_type": "stream",
          "text": [
            "ROC-ada : 0.5\n"
          ],
          "name": "stdout"
        }
      ]
    },
    {
      "cell_type": "code",
      "metadata": {
        "id": "W942K_EgXTmY",
        "outputId": "be31b727-0c0a-43f2-8074-00b6eabe94fa",
        "colab": {
          "base_uri": "https://localhost:8080/",
          "height": 34
        }
      },
      "source": [
        "gbrc=GradientBoostingClassifier(max_depth=8,n_estimators=900)\n",
        "gbrc.fit(x_train, y_train)\n",
        "y_pred =gbrc.predict(x_valid)\n",
        "rocauc =roc_auc_score(y_valid, y_pred)\n",
        "print(\"ROC-gbr :\",rocauc)"
      ],
      "execution_count": 80,
      "outputs": [
        {
          "output_type": "stream",
          "text": [
            "ROC-gbr : 0.6780439532727275\n"
          ],
          "name": "stdout"
        }
      ]
    },
    {
      "cell_type": "code",
      "metadata": {
        "id": "UN4PwZu0XTve",
        "outputId": "e9c74e6d-0748-4f2f-e8e5-aa30ce2a1bfd",
        "colab": {
          "base_uri": "https://localhost:8080/",
          "height": 101
        }
      },
      "source": [
        "etc=ExtraTreesClassifier(n_estimators=400,\n",
        "                                     max_features=49,\n",
        "                                     criterion= 'entropy',\n",
        "                                     min_samples_split=2,\n",
        "                                     max_depth=49,\n",
        "                                     min_samples_leaf=2, ## the default is 1 (note we use more than one sample for the split)\n",
        "                                     class_weight='balanced_subsample',\n",
        "                                     random_state=1,\n",
        "                                     verbose=1)\n",
        "\n",
        "etc.fit(x_train, y_train)\n",
        "y_pred =etc.predict(x_valid)\n",
        "rocauc =roc_auc_score(y_valid, y_pred)\n",
        "print(\"ROC-etc :\",rocauc)"
      ],
      "execution_count": 81,
      "outputs": [
        {
          "output_type": "stream",
          "text": [
            "[Parallel(n_jobs=1)]: Using backend SequentialBackend with 1 concurrent workers.\n",
            "[Parallel(n_jobs=1)]: Done 400 out of 400 | elapsed:  2.4min finished\n",
            "[Parallel(n_jobs=1)]: Using backend SequentialBackend with 1 concurrent workers.\n"
          ],
          "name": "stderr"
        },
        {
          "output_type": "stream",
          "text": [
            "ROC-etc : 0.6778066210226875\n"
          ],
          "name": "stdout"
        },
        {
          "output_type": "stream",
          "text": [
            "[Parallel(n_jobs=1)]: Done 400 out of 400 | elapsed:    1.5s finished\n"
          ],
          "name": "stderr"
        }
      ]
    },
    {
      "cell_type": "code",
      "metadata": {
        "id": "Vgo1f2y7XTjC",
        "outputId": "e144017d-feae-4c17-99bf-98db1a5d9483",
        "colab": {
          "base_uri": "https://localhost:8080/",
          "height": 34
        }
      },
      "source": [
        "rfc=RandomForestClassifier(random_state=0, n_jobs=-1, n_estimators=400, max_depth=4)\n",
        "rfc.fit(x_train, y_train)\n",
        "y_pred =rfc.predict(x_valid)\n",
        "rocauc =roc_auc_score(y_valid, y_pred)\n",
        "print(\"ROC-rfc :\",rocauc)"
      ],
      "execution_count": 82,
      "outputs": [
        {
          "output_type": "stream",
          "text": [
            "ROC-rfc : 0.5881589443517096\n"
          ],
          "name": "stdout"
        }
      ]
    },
    {
      "cell_type": "code",
      "metadata": {
        "id": "NTSlMT0cXTfO",
        "outputId": "1cd1d4dd-e03c-48de-de20-4b04fac65f7b",
        "colab": {
          "base_uri": "https://localhost:8080/",
          "height": 34
        }
      },
      "source": [
        "xgbc=XGBClassifier(random_state=0, n_jobs=-1, learning_rate=0.1, n_estimators=200, max_depth=4)\n",
        "xgbc.fit(x_train, y_train)\n",
        "y_pred =xgbc.predict(x_valid)\n",
        "rocauc =roc_auc_score(y_valid, y_pred)\n",
        "print(\"ROC-xgbc :\",rocauc)"
      ],
      "execution_count": 83,
      "outputs": [
        {
          "output_type": "stream",
          "text": [
            "ROC-xgbc : 0.6750241109766641\n"
          ],
          "name": "stdout"
        }
      ]
    },
    {
      "cell_type": "code",
      "metadata": {
        "id": "3SyxJ1JuXTaT",
        "outputId": "dac2553b-34f6-4f76-eb04-c52b590a0805",
        "colab": {
          "base_uri": "https://localhost:8080/",
          "height": 34
        }
      },
      "source": [
        "lgbc=LGBMClassifier(boosting_type='gbdt', class_weight=None, colsample_bytree=1.0,\n",
        "               importance_type='split', learning_rate=0.1, max_depth=-1,\n",
        "               min_child_samples=20, min_child_weight=0.001, min_split_gain=0.0,\n",
        "               n_estimators=100, n_jobs=-1, num_leaves=31, objective=None,\n",
        "               random_state=None, reg_alpha=0.0, reg_lambda=0.0, silent=True,\n",
        "               subsample=1.0, subsample_for_bin=200000, subsample_freq=0)\n",
        "lgbc.fit(x_train, y_train)\n",
        "y_pred =lgbc.predict(x_valid)\n",
        "rocauc =roc_auc_score(y_valid, y_pred)\n",
        "print(\"ROC-lgbc :\",rocauc)"
      ],
      "execution_count": 84,
      "outputs": [
        {
          "output_type": "stream",
          "text": [
            "ROC-lgbc : 0.6788862960555259\n"
          ],
          "name": "stdout"
        }
      ]
    },
    {
      "cell_type": "code",
      "metadata": {
        "id": "CYQFtLAqmts0"
      },
      "source": [
        "from sklearn.model_selection import KFold, cross_val_score\n",
        "n_folds = 5 # number of folds\n",
        "def get_cv_scores(model, X, y, print_scores=True):\n",
        "    kf = KFold(n_folds, shuffle=True, random_state=42).get_n_splits(X) # create folds\n",
        "    rocauc = (cross_val_score(model, X, y, scoring=\"roc_auc\", cv = kf)) # get rmse\n",
        "    if print_scores:\n",
        "        print('ROC AUC:',rocauc.mean() ,rocauc.std())\n",
        "    return [rocauc]"
      ],
      "execution_count": 85,
      "outputs": []
    },
    {
      "cell_type": "code",
      "metadata": {
        "id": "qGZRLFIf1Hgl",
        "outputId": "02e149f5-26c2-4525-a967-ec7dfaa6fef1",
        "colab": {
          "base_uri": "https://localhost:8080/",
          "height": 558
        }
      },
      "source": [
        "for model in [rdgc,knn,adac, gbrc,etc, rfc, xgbc, lgbc]:\n",
        "    get_cv_scores(model,x_train, y_train)"
      ],
      "execution_count": 86,
      "outputs": [
        {
          "output_type": "stream",
          "text": [
            "/usr/local/lib/python3.6/dist-packages/sklearn/linear_model/_ridge.py:148: LinAlgWarning: Ill-conditioned matrix (rcond=2.43671e-17): result may not be accurate.\n",
            "  overwrite_a=True).T\n",
            "/usr/local/lib/python3.6/dist-packages/sklearn/linear_model/_ridge.py:148: LinAlgWarning: Ill-conditioned matrix (rcond=2.5588e-17): result may not be accurate.\n",
            "  overwrite_a=True).T\n",
            "/usr/local/lib/python3.6/dist-packages/sklearn/linear_model/_ridge.py:148: LinAlgWarning: Ill-conditioned matrix (rcond=2.43691e-17): result may not be accurate.\n",
            "  overwrite_a=True).T\n",
            "/usr/local/lib/python3.6/dist-packages/sklearn/linear_model/_ridge.py:148: LinAlgWarning: Ill-conditioned matrix (rcond=2.1515e-17): result may not be accurate.\n",
            "  overwrite_a=True).T\n",
            "/usr/local/lib/python3.6/dist-packages/sklearn/linear_model/_ridge.py:148: LinAlgWarning: Ill-conditioned matrix (rcond=2.93524e-17): result may not be accurate.\n",
            "  overwrite_a=True).T\n"
          ],
          "name": "stderr"
        },
        {
          "output_type": "stream",
          "text": [
            "ROC AUC: 0.811153871398864 0.0036420412443870513\n",
            "ROC AUC: 0.7284440219194357 0.0035067274409724077\n",
            "ROC AUC: 0.7786555680841772 0.005960503892509992\n"
          ],
          "name": "stdout"
        },
        {
          "output_type": "error",
          "ename": "KeyboardInterrupt",
          "evalue": "ignored",
          "traceback": [
            "\u001b[0;31m---------------------------------------------------------------------------\u001b[0m",
            "\u001b[0;31mKeyboardInterrupt\u001b[0m                         Traceback (most recent call last)",
            "\u001b[0;32m<ipython-input-86-58adbe7da413>\u001b[0m in \u001b[0;36m<module>\u001b[0;34m()\u001b[0m\n\u001b[1;32m      1\u001b[0m \u001b[0;32mfor\u001b[0m \u001b[0mmodel\u001b[0m \u001b[0;32min\u001b[0m \u001b[0;34m[\u001b[0m\u001b[0mrdgc\u001b[0m\u001b[0;34m,\u001b[0m\u001b[0mknn\u001b[0m\u001b[0;34m,\u001b[0m\u001b[0madac\u001b[0m\u001b[0;34m,\u001b[0m \u001b[0mgbrc\u001b[0m\u001b[0;34m,\u001b[0m\u001b[0metc\u001b[0m\u001b[0;34m,\u001b[0m \u001b[0mrfc\u001b[0m\u001b[0;34m,\u001b[0m \u001b[0mxgbc\u001b[0m\u001b[0;34m,\u001b[0m \u001b[0mlgbc\u001b[0m\u001b[0;34m]\u001b[0m\u001b[0;34m:\u001b[0m\u001b[0;34m\u001b[0m\u001b[0;34m\u001b[0m\u001b[0m\n\u001b[0;32m----> 2\u001b[0;31m     \u001b[0mget_cv_scores\u001b[0m\u001b[0;34m(\u001b[0m\u001b[0mmodel\u001b[0m\u001b[0;34m,\u001b[0m\u001b[0mx_train\u001b[0m\u001b[0;34m,\u001b[0m \u001b[0my_train\u001b[0m\u001b[0;34m)\u001b[0m\u001b[0;34m\u001b[0m\u001b[0;34m\u001b[0m\u001b[0m\n\u001b[0m",
            "\u001b[0;32m<ipython-input-85-937d9fcc1d53>\u001b[0m in \u001b[0;36mget_cv_scores\u001b[0;34m(model, X, y, print_scores)\u001b[0m\n\u001b[1;32m      3\u001b[0m \u001b[0;32mdef\u001b[0m \u001b[0mget_cv_scores\u001b[0m\u001b[0;34m(\u001b[0m\u001b[0mmodel\u001b[0m\u001b[0;34m,\u001b[0m \u001b[0mX\u001b[0m\u001b[0;34m,\u001b[0m \u001b[0my\u001b[0m\u001b[0;34m,\u001b[0m \u001b[0mprint_scores\u001b[0m\u001b[0;34m=\u001b[0m\u001b[0;32mTrue\u001b[0m\u001b[0;34m)\u001b[0m\u001b[0;34m:\u001b[0m\u001b[0;34m\u001b[0m\u001b[0;34m\u001b[0m\u001b[0m\n\u001b[1;32m      4\u001b[0m     \u001b[0mkf\u001b[0m \u001b[0;34m=\u001b[0m \u001b[0mKFold\u001b[0m\u001b[0;34m(\u001b[0m\u001b[0mn_folds\u001b[0m\u001b[0;34m,\u001b[0m \u001b[0mshuffle\u001b[0m\u001b[0;34m=\u001b[0m\u001b[0;32mTrue\u001b[0m\u001b[0;34m,\u001b[0m \u001b[0mrandom_state\u001b[0m\u001b[0;34m=\u001b[0m\u001b[0;36m42\u001b[0m\u001b[0;34m)\u001b[0m\u001b[0;34m.\u001b[0m\u001b[0mget_n_splits\u001b[0m\u001b[0;34m(\u001b[0m\u001b[0mX\u001b[0m\u001b[0;34m)\u001b[0m \u001b[0;31m# create folds\u001b[0m\u001b[0;34m\u001b[0m\u001b[0;34m\u001b[0m\u001b[0m\n\u001b[0;32m----> 5\u001b[0;31m     \u001b[0mrocauc\u001b[0m \u001b[0;34m=\u001b[0m \u001b[0;34m(\u001b[0m\u001b[0mcross_val_score\u001b[0m\u001b[0;34m(\u001b[0m\u001b[0mmodel\u001b[0m\u001b[0;34m,\u001b[0m \u001b[0mX\u001b[0m\u001b[0;34m,\u001b[0m \u001b[0my\u001b[0m\u001b[0;34m,\u001b[0m \u001b[0mscoring\u001b[0m\u001b[0;34m=\u001b[0m\u001b[0;34m\"roc_auc\"\u001b[0m\u001b[0;34m,\u001b[0m \u001b[0mcv\u001b[0m \u001b[0;34m=\u001b[0m \u001b[0mkf\u001b[0m\u001b[0;34m)\u001b[0m\u001b[0;34m)\u001b[0m \u001b[0;31m# get rmse\u001b[0m\u001b[0;34m\u001b[0m\u001b[0;34m\u001b[0m\u001b[0m\n\u001b[0m\u001b[1;32m      6\u001b[0m     \u001b[0;32mif\u001b[0m \u001b[0mprint_scores\u001b[0m\u001b[0;34m:\u001b[0m\u001b[0;34m\u001b[0m\u001b[0;34m\u001b[0m\u001b[0m\n\u001b[1;32m      7\u001b[0m         \u001b[0mprint\u001b[0m\u001b[0;34m(\u001b[0m\u001b[0;34m'ROC AUC:'\u001b[0m\u001b[0;34m,\u001b[0m\u001b[0mrocauc\u001b[0m\u001b[0;34m.\u001b[0m\u001b[0mmean\u001b[0m\u001b[0;34m(\u001b[0m\u001b[0;34m)\u001b[0m \u001b[0;34m,\u001b[0m\u001b[0mrocauc\u001b[0m\u001b[0;34m.\u001b[0m\u001b[0mstd\u001b[0m\u001b[0;34m(\u001b[0m\u001b[0;34m)\u001b[0m\u001b[0;34m)\u001b[0m\u001b[0;34m\u001b[0m\u001b[0;34m\u001b[0m\u001b[0m\n",
            "\u001b[0;32m/usr/local/lib/python3.6/dist-packages/sklearn/model_selection/_validation.py\u001b[0m in \u001b[0;36mcross_val_score\u001b[0;34m(estimator, X, y, groups, scoring, cv, n_jobs, verbose, fit_params, pre_dispatch, error_score)\u001b[0m\n\u001b[1;32m    388\u001b[0m                                 \u001b[0mfit_params\u001b[0m\u001b[0;34m=\u001b[0m\u001b[0mfit_params\u001b[0m\u001b[0;34m,\u001b[0m\u001b[0;34m\u001b[0m\u001b[0;34m\u001b[0m\u001b[0m\n\u001b[1;32m    389\u001b[0m                                 \u001b[0mpre_dispatch\u001b[0m\u001b[0;34m=\u001b[0m\u001b[0mpre_dispatch\u001b[0m\u001b[0;34m,\u001b[0m\u001b[0;34m\u001b[0m\u001b[0;34m\u001b[0m\u001b[0m\n\u001b[0;32m--> 390\u001b[0;31m                                 error_score=error_score)\n\u001b[0m\u001b[1;32m    391\u001b[0m     \u001b[0;32mreturn\u001b[0m \u001b[0mcv_results\u001b[0m\u001b[0;34m[\u001b[0m\u001b[0;34m'test_score'\u001b[0m\u001b[0;34m]\u001b[0m\u001b[0;34m\u001b[0m\u001b[0;34m\u001b[0m\u001b[0m\n\u001b[1;32m    392\u001b[0m \u001b[0;34m\u001b[0m\u001b[0m\n",
            "\u001b[0;32m/usr/local/lib/python3.6/dist-packages/sklearn/model_selection/_validation.py\u001b[0m in \u001b[0;36mcross_validate\u001b[0;34m(estimator, X, y, groups, scoring, cv, n_jobs, verbose, fit_params, pre_dispatch, return_train_score, return_estimator, error_score)\u001b[0m\n\u001b[1;32m    234\u001b[0m             \u001b[0mreturn_times\u001b[0m\u001b[0;34m=\u001b[0m\u001b[0;32mTrue\u001b[0m\u001b[0;34m,\u001b[0m \u001b[0mreturn_estimator\u001b[0m\u001b[0;34m=\u001b[0m\u001b[0mreturn_estimator\u001b[0m\u001b[0;34m,\u001b[0m\u001b[0;34m\u001b[0m\u001b[0;34m\u001b[0m\u001b[0m\n\u001b[1;32m    235\u001b[0m             error_score=error_score)\n\u001b[0;32m--> 236\u001b[0;31m         for train, test in cv.split(X, y, groups))\n\u001b[0m\u001b[1;32m    237\u001b[0m \u001b[0;34m\u001b[0m\u001b[0m\n\u001b[1;32m    238\u001b[0m     \u001b[0mzipped_scores\u001b[0m \u001b[0;34m=\u001b[0m \u001b[0mlist\u001b[0m\u001b[0;34m(\u001b[0m\u001b[0mzip\u001b[0m\u001b[0;34m(\u001b[0m\u001b[0;34m*\u001b[0m\u001b[0mscores\u001b[0m\u001b[0;34m)\u001b[0m\u001b[0;34m)\u001b[0m\u001b[0;34m\u001b[0m\u001b[0;34m\u001b[0m\u001b[0m\n",
            "\u001b[0;32m/usr/local/lib/python3.6/dist-packages/joblib/parallel.py\u001b[0m in \u001b[0;36m__call__\u001b[0;34m(self, iterable)\u001b[0m\n\u001b[1;32m   1030\u001b[0m                 \u001b[0mself\u001b[0m\u001b[0;34m.\u001b[0m\u001b[0m_iterating\u001b[0m \u001b[0;34m=\u001b[0m \u001b[0mself\u001b[0m\u001b[0;34m.\u001b[0m\u001b[0m_original_iterator\u001b[0m \u001b[0;32mis\u001b[0m \u001b[0;32mnot\u001b[0m \u001b[0;32mNone\u001b[0m\u001b[0;34m\u001b[0m\u001b[0;34m\u001b[0m\u001b[0m\n\u001b[1;32m   1031\u001b[0m \u001b[0;34m\u001b[0m\u001b[0m\n\u001b[0;32m-> 1032\u001b[0;31m             \u001b[0;32mwhile\u001b[0m \u001b[0mself\u001b[0m\u001b[0;34m.\u001b[0m\u001b[0mdispatch_one_batch\u001b[0m\u001b[0;34m(\u001b[0m\u001b[0miterator\u001b[0m\u001b[0;34m)\u001b[0m\u001b[0;34m:\u001b[0m\u001b[0;34m\u001b[0m\u001b[0;34m\u001b[0m\u001b[0m\n\u001b[0m\u001b[1;32m   1033\u001b[0m                 \u001b[0;32mpass\u001b[0m\u001b[0;34m\u001b[0m\u001b[0;34m\u001b[0m\u001b[0m\n\u001b[1;32m   1034\u001b[0m \u001b[0;34m\u001b[0m\u001b[0m\n",
            "\u001b[0;32m/usr/local/lib/python3.6/dist-packages/joblib/parallel.py\u001b[0m in \u001b[0;36mdispatch_one_batch\u001b[0;34m(self, iterator)\u001b[0m\n\u001b[1;32m    845\u001b[0m                 \u001b[0;32mreturn\u001b[0m \u001b[0;32mFalse\u001b[0m\u001b[0;34m\u001b[0m\u001b[0;34m\u001b[0m\u001b[0m\n\u001b[1;32m    846\u001b[0m             \u001b[0;32melse\u001b[0m\u001b[0;34m:\u001b[0m\u001b[0;34m\u001b[0m\u001b[0;34m\u001b[0m\u001b[0m\n\u001b[0;32m--> 847\u001b[0;31m                 \u001b[0mself\u001b[0m\u001b[0;34m.\u001b[0m\u001b[0m_dispatch\u001b[0m\u001b[0;34m(\u001b[0m\u001b[0mtasks\u001b[0m\u001b[0;34m)\u001b[0m\u001b[0;34m\u001b[0m\u001b[0;34m\u001b[0m\u001b[0m\n\u001b[0m\u001b[1;32m    848\u001b[0m                 \u001b[0;32mreturn\u001b[0m \u001b[0;32mTrue\u001b[0m\u001b[0;34m\u001b[0m\u001b[0;34m\u001b[0m\u001b[0m\n\u001b[1;32m    849\u001b[0m \u001b[0;34m\u001b[0m\u001b[0m\n",
            "\u001b[0;32m/usr/local/lib/python3.6/dist-packages/joblib/parallel.py\u001b[0m in \u001b[0;36m_dispatch\u001b[0;34m(self, batch)\u001b[0m\n\u001b[1;32m    763\u001b[0m         \u001b[0;32mwith\u001b[0m \u001b[0mself\u001b[0m\u001b[0;34m.\u001b[0m\u001b[0m_lock\u001b[0m\u001b[0;34m:\u001b[0m\u001b[0;34m\u001b[0m\u001b[0;34m\u001b[0m\u001b[0m\n\u001b[1;32m    764\u001b[0m             \u001b[0mjob_idx\u001b[0m \u001b[0;34m=\u001b[0m \u001b[0mlen\u001b[0m\u001b[0;34m(\u001b[0m\u001b[0mself\u001b[0m\u001b[0;34m.\u001b[0m\u001b[0m_jobs\u001b[0m\u001b[0;34m)\u001b[0m\u001b[0;34m\u001b[0m\u001b[0;34m\u001b[0m\u001b[0m\n\u001b[0;32m--> 765\u001b[0;31m             \u001b[0mjob\u001b[0m \u001b[0;34m=\u001b[0m \u001b[0mself\u001b[0m\u001b[0;34m.\u001b[0m\u001b[0m_backend\u001b[0m\u001b[0;34m.\u001b[0m\u001b[0mapply_async\u001b[0m\u001b[0;34m(\u001b[0m\u001b[0mbatch\u001b[0m\u001b[0;34m,\u001b[0m \u001b[0mcallback\u001b[0m\u001b[0;34m=\u001b[0m\u001b[0mcb\u001b[0m\u001b[0;34m)\u001b[0m\u001b[0;34m\u001b[0m\u001b[0;34m\u001b[0m\u001b[0m\n\u001b[0m\u001b[1;32m    766\u001b[0m             \u001b[0;31m# A job can complete so quickly than its callback is\u001b[0m\u001b[0;34m\u001b[0m\u001b[0;34m\u001b[0m\u001b[0;34m\u001b[0m\u001b[0m\n\u001b[1;32m    767\u001b[0m             \u001b[0;31m# called before we get here, causing self._jobs to\u001b[0m\u001b[0;34m\u001b[0m\u001b[0;34m\u001b[0m\u001b[0;34m\u001b[0m\u001b[0m\n",
            "\u001b[0;32m/usr/local/lib/python3.6/dist-packages/joblib/_parallel_backends.py\u001b[0m in \u001b[0;36mapply_async\u001b[0;34m(self, func, callback)\u001b[0m\n\u001b[1;32m    206\u001b[0m     \u001b[0;32mdef\u001b[0m \u001b[0mapply_async\u001b[0m\u001b[0;34m(\u001b[0m\u001b[0mself\u001b[0m\u001b[0;34m,\u001b[0m \u001b[0mfunc\u001b[0m\u001b[0;34m,\u001b[0m \u001b[0mcallback\u001b[0m\u001b[0;34m=\u001b[0m\u001b[0;32mNone\u001b[0m\u001b[0;34m)\u001b[0m\u001b[0;34m:\u001b[0m\u001b[0;34m\u001b[0m\u001b[0;34m\u001b[0m\u001b[0m\n\u001b[1;32m    207\u001b[0m         \u001b[0;34m\"\"\"Schedule a func to be run\"\"\"\u001b[0m\u001b[0;34m\u001b[0m\u001b[0;34m\u001b[0m\u001b[0m\n\u001b[0;32m--> 208\u001b[0;31m         \u001b[0mresult\u001b[0m \u001b[0;34m=\u001b[0m \u001b[0mImmediateResult\u001b[0m\u001b[0;34m(\u001b[0m\u001b[0mfunc\u001b[0m\u001b[0;34m)\u001b[0m\u001b[0;34m\u001b[0m\u001b[0;34m\u001b[0m\u001b[0m\n\u001b[0m\u001b[1;32m    209\u001b[0m         \u001b[0;32mif\u001b[0m \u001b[0mcallback\u001b[0m\u001b[0;34m:\u001b[0m\u001b[0;34m\u001b[0m\u001b[0;34m\u001b[0m\u001b[0m\n\u001b[1;32m    210\u001b[0m             \u001b[0mcallback\u001b[0m\u001b[0;34m(\u001b[0m\u001b[0mresult\u001b[0m\u001b[0;34m)\u001b[0m\u001b[0;34m\u001b[0m\u001b[0;34m\u001b[0m\u001b[0m\n",
            "\u001b[0;32m/usr/local/lib/python3.6/dist-packages/joblib/_parallel_backends.py\u001b[0m in \u001b[0;36m__init__\u001b[0;34m(self, batch)\u001b[0m\n\u001b[1;32m    570\u001b[0m         \u001b[0;31m# Don't delay the application, to avoid keeping the input\u001b[0m\u001b[0;34m\u001b[0m\u001b[0;34m\u001b[0m\u001b[0;34m\u001b[0m\u001b[0m\n\u001b[1;32m    571\u001b[0m         \u001b[0;31m# arguments in memory\u001b[0m\u001b[0;34m\u001b[0m\u001b[0;34m\u001b[0m\u001b[0;34m\u001b[0m\u001b[0m\n\u001b[0;32m--> 572\u001b[0;31m         \u001b[0mself\u001b[0m\u001b[0;34m.\u001b[0m\u001b[0mresults\u001b[0m \u001b[0;34m=\u001b[0m \u001b[0mbatch\u001b[0m\u001b[0;34m(\u001b[0m\u001b[0;34m)\u001b[0m\u001b[0;34m\u001b[0m\u001b[0;34m\u001b[0m\u001b[0m\n\u001b[0m\u001b[1;32m    573\u001b[0m \u001b[0;34m\u001b[0m\u001b[0m\n\u001b[1;32m    574\u001b[0m     \u001b[0;32mdef\u001b[0m \u001b[0mget\u001b[0m\u001b[0;34m(\u001b[0m\u001b[0mself\u001b[0m\u001b[0;34m)\u001b[0m\u001b[0;34m:\u001b[0m\u001b[0;34m\u001b[0m\u001b[0;34m\u001b[0m\u001b[0m\n",
            "\u001b[0;32m/usr/local/lib/python3.6/dist-packages/joblib/parallel.py\u001b[0m in \u001b[0;36m__call__\u001b[0;34m(self)\u001b[0m\n\u001b[1;32m    251\u001b[0m         \u001b[0;32mwith\u001b[0m \u001b[0mparallel_backend\u001b[0m\u001b[0;34m(\u001b[0m\u001b[0mself\u001b[0m\u001b[0;34m.\u001b[0m\u001b[0m_backend\u001b[0m\u001b[0;34m,\u001b[0m \u001b[0mn_jobs\u001b[0m\u001b[0;34m=\u001b[0m\u001b[0mself\u001b[0m\u001b[0;34m.\u001b[0m\u001b[0m_n_jobs\u001b[0m\u001b[0;34m)\u001b[0m\u001b[0;34m:\u001b[0m\u001b[0;34m\u001b[0m\u001b[0;34m\u001b[0m\u001b[0m\n\u001b[1;32m    252\u001b[0m             return [func(*args, **kwargs)\n\u001b[0;32m--> 253\u001b[0;31m                     for func, args, kwargs in self.items]\n\u001b[0m\u001b[1;32m    254\u001b[0m \u001b[0;34m\u001b[0m\u001b[0m\n\u001b[1;32m    255\u001b[0m     \u001b[0;32mdef\u001b[0m \u001b[0m__reduce__\u001b[0m\u001b[0;34m(\u001b[0m\u001b[0mself\u001b[0m\u001b[0;34m)\u001b[0m\u001b[0;34m:\u001b[0m\u001b[0;34m\u001b[0m\u001b[0;34m\u001b[0m\u001b[0m\n",
            "\u001b[0;32m/usr/local/lib/python3.6/dist-packages/joblib/parallel.py\u001b[0m in \u001b[0;36m<listcomp>\u001b[0;34m(.0)\u001b[0m\n\u001b[1;32m    251\u001b[0m         \u001b[0;32mwith\u001b[0m \u001b[0mparallel_backend\u001b[0m\u001b[0;34m(\u001b[0m\u001b[0mself\u001b[0m\u001b[0;34m.\u001b[0m\u001b[0m_backend\u001b[0m\u001b[0;34m,\u001b[0m \u001b[0mn_jobs\u001b[0m\u001b[0;34m=\u001b[0m\u001b[0mself\u001b[0m\u001b[0;34m.\u001b[0m\u001b[0m_n_jobs\u001b[0m\u001b[0;34m)\u001b[0m\u001b[0;34m:\u001b[0m\u001b[0;34m\u001b[0m\u001b[0;34m\u001b[0m\u001b[0m\n\u001b[1;32m    252\u001b[0m             return [func(*args, **kwargs)\n\u001b[0;32m--> 253\u001b[0;31m                     for func, args, kwargs in self.items]\n\u001b[0m\u001b[1;32m    254\u001b[0m \u001b[0;34m\u001b[0m\u001b[0m\n\u001b[1;32m    255\u001b[0m     \u001b[0;32mdef\u001b[0m \u001b[0m__reduce__\u001b[0m\u001b[0;34m(\u001b[0m\u001b[0mself\u001b[0m\u001b[0;34m)\u001b[0m\u001b[0;34m:\u001b[0m\u001b[0;34m\u001b[0m\u001b[0;34m\u001b[0m\u001b[0m\n",
            "\u001b[0;32m/usr/local/lib/python3.6/dist-packages/sklearn/model_selection/_validation.py\u001b[0m in \u001b[0;36m_fit_and_score\u001b[0;34m(estimator, X, y, scorer, train, test, verbose, parameters, fit_params, return_train_score, return_parameters, return_n_test_samples, return_times, return_estimator, error_score)\u001b[0m\n\u001b[1;32m    513\u001b[0m             \u001b[0mestimator\u001b[0m\u001b[0;34m.\u001b[0m\u001b[0mfit\u001b[0m\u001b[0;34m(\u001b[0m\u001b[0mX_train\u001b[0m\u001b[0;34m,\u001b[0m \u001b[0;34m**\u001b[0m\u001b[0mfit_params\u001b[0m\u001b[0;34m)\u001b[0m\u001b[0;34m\u001b[0m\u001b[0;34m\u001b[0m\u001b[0m\n\u001b[1;32m    514\u001b[0m         \u001b[0;32melse\u001b[0m\u001b[0;34m:\u001b[0m\u001b[0;34m\u001b[0m\u001b[0;34m\u001b[0m\u001b[0m\n\u001b[0;32m--> 515\u001b[0;31m             \u001b[0mestimator\u001b[0m\u001b[0;34m.\u001b[0m\u001b[0mfit\u001b[0m\u001b[0;34m(\u001b[0m\u001b[0mX_train\u001b[0m\u001b[0;34m,\u001b[0m \u001b[0my_train\u001b[0m\u001b[0;34m,\u001b[0m \u001b[0;34m**\u001b[0m\u001b[0mfit_params\u001b[0m\u001b[0;34m)\u001b[0m\u001b[0;34m\u001b[0m\u001b[0;34m\u001b[0m\u001b[0m\n\u001b[0m\u001b[1;32m    516\u001b[0m \u001b[0;34m\u001b[0m\u001b[0m\n\u001b[1;32m    517\u001b[0m     \u001b[0;32mexcept\u001b[0m \u001b[0mException\u001b[0m \u001b[0;32mas\u001b[0m \u001b[0me\u001b[0m\u001b[0;34m:\u001b[0m\u001b[0;34m\u001b[0m\u001b[0;34m\u001b[0m\u001b[0m\n",
            "\u001b[0;32m/usr/local/lib/python3.6/dist-packages/sklearn/ensemble/_gb.py\u001b[0m in \u001b[0;36mfit\u001b[0;34m(self, X, y, sample_weight, monitor)\u001b[0m\n\u001b[1;32m   1535\u001b[0m         n_stages = self._fit_stages(\n\u001b[1;32m   1536\u001b[0m             \u001b[0mX\u001b[0m\u001b[0;34m,\u001b[0m \u001b[0my\u001b[0m\u001b[0;34m,\u001b[0m \u001b[0mraw_predictions\u001b[0m\u001b[0;34m,\u001b[0m \u001b[0msample_weight\u001b[0m\u001b[0;34m,\u001b[0m \u001b[0mself\u001b[0m\u001b[0;34m.\u001b[0m\u001b[0m_rng\u001b[0m\u001b[0;34m,\u001b[0m \u001b[0mX_val\u001b[0m\u001b[0;34m,\u001b[0m \u001b[0my_val\u001b[0m\u001b[0;34m,\u001b[0m\u001b[0;34m\u001b[0m\u001b[0;34m\u001b[0m\u001b[0m\n\u001b[0;32m-> 1537\u001b[0;31m             sample_weight_val, begin_at_stage, monitor, X_idx_sorted)\n\u001b[0m\u001b[1;32m   1538\u001b[0m \u001b[0;34m\u001b[0m\u001b[0m\n\u001b[1;32m   1539\u001b[0m         \u001b[0;31m# change shape of arrays after fit (early-stopping or additional ests)\u001b[0m\u001b[0;34m\u001b[0m\u001b[0;34m\u001b[0m\u001b[0;34m\u001b[0m\u001b[0m\n",
            "\u001b[0;32m/usr/local/lib/python3.6/dist-packages/sklearn/ensemble/_gb.py\u001b[0m in \u001b[0;36m_fit_stages\u001b[0;34m(self, X, y, raw_predictions, sample_weight, random_state, X_val, y_val, sample_weight_val, begin_at_stage, monitor, X_idx_sorted)\u001b[0m\n\u001b[1;32m   1592\u001b[0m             raw_predictions = self._fit_stage(\n\u001b[1;32m   1593\u001b[0m                 \u001b[0mi\u001b[0m\u001b[0;34m,\u001b[0m \u001b[0mX\u001b[0m\u001b[0;34m,\u001b[0m \u001b[0my\u001b[0m\u001b[0;34m,\u001b[0m \u001b[0mraw_predictions\u001b[0m\u001b[0;34m,\u001b[0m \u001b[0msample_weight\u001b[0m\u001b[0;34m,\u001b[0m \u001b[0msample_mask\u001b[0m\u001b[0;34m,\u001b[0m\u001b[0;34m\u001b[0m\u001b[0;34m\u001b[0m\u001b[0m\n\u001b[0;32m-> 1594\u001b[0;31m                 random_state, X_idx_sorted, X_csc, X_csr)\n\u001b[0m\u001b[1;32m   1595\u001b[0m \u001b[0;34m\u001b[0m\u001b[0m\n\u001b[1;32m   1596\u001b[0m             \u001b[0;31m# track deviance (= loss)\u001b[0m\u001b[0;34m\u001b[0m\u001b[0;34m\u001b[0m\u001b[0;34m\u001b[0m\u001b[0m\n",
            "\u001b[0;32m/usr/local/lib/python3.6/dist-packages/sklearn/ensemble/_gb.py\u001b[0m in \u001b[0;36m_fit_stage\u001b[0;34m(self, i, X, y, raw_predictions, sample_weight, sample_mask, random_state, X_idx_sorted, X_csc, X_csr)\u001b[0m\n\u001b[1;32m   1243\u001b[0m             \u001b[0mX\u001b[0m \u001b[0;34m=\u001b[0m \u001b[0mX_csr\u001b[0m \u001b[0;32mif\u001b[0m \u001b[0mX_csr\u001b[0m \u001b[0;32mis\u001b[0m \u001b[0;32mnot\u001b[0m \u001b[0;32mNone\u001b[0m \u001b[0;32melse\u001b[0m \u001b[0mX\u001b[0m\u001b[0;34m\u001b[0m\u001b[0;34m\u001b[0m\u001b[0m\n\u001b[1;32m   1244\u001b[0m             tree.fit(X, residual, sample_weight=sample_weight,\n\u001b[0;32m-> 1245\u001b[0;31m                      check_input=False, X_idx_sorted=X_idx_sorted)\n\u001b[0m\u001b[1;32m   1246\u001b[0m \u001b[0;34m\u001b[0m\u001b[0m\n\u001b[1;32m   1247\u001b[0m             \u001b[0;31m# update tree leaves\u001b[0m\u001b[0;34m\u001b[0m\u001b[0;34m\u001b[0m\u001b[0;34m\u001b[0m\u001b[0m\n",
            "\u001b[0;32m/usr/local/lib/python3.6/dist-packages/sklearn/tree/_classes.py\u001b[0m in \u001b[0;36mfit\u001b[0;34m(self, X, y, sample_weight, check_input, X_idx_sorted)\u001b[0m\n\u001b[1;32m   1223\u001b[0m             \u001b[0msample_weight\u001b[0m\u001b[0;34m=\u001b[0m\u001b[0msample_weight\u001b[0m\u001b[0;34m,\u001b[0m\u001b[0;34m\u001b[0m\u001b[0;34m\u001b[0m\u001b[0m\n\u001b[1;32m   1224\u001b[0m             \u001b[0mcheck_input\u001b[0m\u001b[0;34m=\u001b[0m\u001b[0mcheck_input\u001b[0m\u001b[0;34m,\u001b[0m\u001b[0;34m\u001b[0m\u001b[0;34m\u001b[0m\u001b[0m\n\u001b[0;32m-> 1225\u001b[0;31m             X_idx_sorted=X_idx_sorted)\n\u001b[0m\u001b[1;32m   1226\u001b[0m         \u001b[0;32mreturn\u001b[0m \u001b[0mself\u001b[0m\u001b[0;34m\u001b[0m\u001b[0;34m\u001b[0m\u001b[0m\n\u001b[1;32m   1227\u001b[0m \u001b[0;34m\u001b[0m\u001b[0m\n",
            "\u001b[0;32m/usr/local/lib/python3.6/dist-packages/sklearn/tree/_classes.py\u001b[0m in \u001b[0;36mfit\u001b[0;34m(self, X, y, sample_weight, check_input, X_idx_sorted)\u001b[0m\n\u001b[1;32m    365\u001b[0m                                            min_impurity_split)\n\u001b[1;32m    366\u001b[0m \u001b[0;34m\u001b[0m\u001b[0m\n\u001b[0;32m--> 367\u001b[0;31m         \u001b[0mbuilder\u001b[0m\u001b[0;34m.\u001b[0m\u001b[0mbuild\u001b[0m\u001b[0;34m(\u001b[0m\u001b[0mself\u001b[0m\u001b[0;34m.\u001b[0m\u001b[0mtree_\u001b[0m\u001b[0;34m,\u001b[0m \u001b[0mX\u001b[0m\u001b[0;34m,\u001b[0m \u001b[0my\u001b[0m\u001b[0;34m,\u001b[0m \u001b[0msample_weight\u001b[0m\u001b[0;34m,\u001b[0m \u001b[0mX_idx_sorted\u001b[0m\u001b[0;34m)\u001b[0m\u001b[0;34m\u001b[0m\u001b[0;34m\u001b[0m\u001b[0m\n\u001b[0m\u001b[1;32m    368\u001b[0m \u001b[0;34m\u001b[0m\u001b[0m\n\u001b[1;32m    369\u001b[0m         \u001b[0;32mif\u001b[0m \u001b[0mself\u001b[0m\u001b[0;34m.\u001b[0m\u001b[0mn_outputs_\u001b[0m \u001b[0;34m==\u001b[0m \u001b[0;36m1\u001b[0m \u001b[0;32mand\u001b[0m \u001b[0mis_classifier\u001b[0m\u001b[0;34m(\u001b[0m\u001b[0mself\u001b[0m\u001b[0;34m)\u001b[0m\u001b[0;34m:\u001b[0m\u001b[0;34m\u001b[0m\u001b[0;34m\u001b[0m\u001b[0m\n",
            "\u001b[0;31mKeyboardInterrupt\u001b[0m: "
          ]
        }
      ]
    },
    {
      "cell_type": "code",
      "metadata": {
        "id": "ZyPLcas72MTg"
      },
      "source": [
        "\n",
        "#using Averaging Ensembling\n",
        "\n",
        "class AveragedModels(BaseEstimator,ClassifierMixin, TransformerMixin):\n",
        "    def __init__(self, models):\n",
        "        self.models = models\n",
        "        \n",
        "    def fit(self, X, y):\n",
        "        self.models_ = [clone(x) for x in self.models]\n",
        "        \n",
        "        # Train cloned base models\n",
        "        for model in self.models_:\n",
        "            model.fit(X, y)\n",
        "        return self\n",
        "    \n",
        "    def predict(self, X):\n",
        "        predictions = np.column_stack([\n",
        "            model.predict_proba(X)[:,1] for model in self.models_\n",
        "        ])\n",
        "        return np.mean(predictions, axis=1)"
      ],
      "execution_count": null,
      "outputs": []
    },
    {
      "cell_type": "code",
      "metadata": {
        "id": "fiXYJgX__T5-"
      },
      "source": [
        "averaged_models = AveragedModels([rdgc,knn,adac, gbrc,etc, rfc, xgbc, lgbc])\n",
        "get_cv_scores(averaged_models, x_train, y_train)\n"
      ],
      "execution_count": null,
      "outputs": []
    },
    {
      "cell_type": "code",
      "metadata": {
        "id": "5KoR5ywCK5pU"
      },
      "source": [
        "averaged_models.fit(x_train, y_train)\n",
        "y_pred = averaged_models.predict_proba(x_valid)[:,1]\n",
        "\n",
        "Aveg_rocauc = roc_auc_score(y_valid, y_pred)\n",
        "\n",
        "print(\"Average_ROC :\",Aveg_rocauc)\n",
        "\n",
        "y_pred=averaged_models.predict_proba(x_test)"
      ],
      "execution_count": null,
      "outputs": []
    },
    {
      "cell_type": "code",
      "metadata": {
        "id": "26O_oHl2BNjD"
      },
      "source": [
        "#Prediction for averaging model our Submission file\n",
        "my_submission = pd.DataFrame({'Application ID':Application_id, 'default_status':y_pred})\n",
        "my_submission.to_csv('submission_ayanlola_averaged_model.csv', index=False)"
      ],
      "execution_count": null,
      "outputs": []
    },
    {
      "cell_type": "code",
      "metadata": {
        "id": "cL2mw6bu8LVx"
      },
      "source": [
        "'''perf_rmse_scores=[777.670,800.209,753.085,752.220,741.768,777.670]\n",
        "total=sum(perf_rmse_scores)\n",
        "percent_list=[]\n",
        "\n",
        "for i in range(len(perf_rmse_scores)):\n",
        "  per= 100* perf_rmse_scores[i]/total\n",
        "  percent_list.append(per)\n",
        "\n",
        "percent_list'''"
      ],
      "execution_count": null,
      "outputs": []
    },
    {
      "cell_type": "code",
      "metadata": {
        "id": "MOyIJs5mma0y"
      },
      "source": [
        "'''S_train, S_test = stacking(models,                   \n",
        "                           x_train,y_train,x_test,   \n",
        "                           regression=False, \n",
        "     \n",
        "                           mode='oof_pred_bag', \n",
        "       \n",
        "                           needs_proba=True,\n",
        "                      \n",
        "         \n",
        "                           save_dir=None, \n",
        "    \n",
        "                           n_folds=4, \n",
        "                 \n",
        "                           stratified=True,\n",
        "            \n",
        "                           shuffle=True,  \n",
        "            \n",
        "                           random_state=0,    \n",
        "         \n",
        "                           verbose=2)'''"
      ],
      "execution_count": null,
      "outputs": []
    },
    {
      "cell_type": "code",
      "metadata": {
        "id": "2IH1eziLm8Q7"
      },
      "source": [
        "'''model = XGBClassifier(\n",
        " learning_rate =0.1,\n",
        " n_estimators=200,\n",
        " max_depth=4,\n",
        " min_child_weight=7.0,\n",
        " gamma=0.3,\n",
        " subsample=0.9,\n",
        " colsample_bytree=0.9,\n",
        " reg_alpha=0.03,\n",
        " objective= 'binary:logistic',\n",
        " seed=20\n",
        " )\n",
        "    \n",
        "model = model.fit(S_train, y_train)\n",
        "y_pred = model.predict_proba(S_test)[:,1]\n",
        "#print('Final prediction score: [%.8f]' % accuracy_score(y_valid, y_pred))'''"
      ],
      "execution_count": null,
      "outputs": []
    },
    {
      "cell_type": "code",
      "metadata": {
        "id": "sjO5RC_Ftfij"
      },
      "source": [
        "\n",
        "#Prepare our Submission file\n",
        "'''my_submission = pd.DataFrame({'Application ID':Application_id, 'default_status':y_pred})\n",
        "my_submission.to_csv('submission_ayanlola_simple_median_morestacking7.csv', index=False)'''"
      ],
      "execution_count": null,
      "outputs": []
    },
    {
      "cell_type": "code",
      "metadata": {
        "id": "m2P7Fi61xDJ8"
      },
      "source": [
        ""
      ],
      "execution_count": null,
      "outputs": []
    }
  ]
}