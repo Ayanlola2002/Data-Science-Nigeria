{
  "nbformat": 4,
  "nbformat_minor": 0,
  "metadata": {
    "colab": {
      "name": "developing_Staff_promotion_algorithm.ipynb",
      "provenance": [],
      "collapsed_sections": [],
      "include_colab_link": true
    },
    "kernelspec": {
      "name": "python3",
      "display_name": "Python 3"
    }
  },
  "cells": [
    {
      "cell_type": "markdown",
      "metadata": {
        "id": "view-in-github",
        "colab_type": "text"
      },
      "source": [
        "<a href=\"https://colab.research.google.com/github/Ayanlola2002/Data-Science-Nigeria/blob/master/developing_Staff_promotion_algorithm.ipynb\" target=\"_parent\"><img src=\"https://colab.research.google.com/assets/colab-badge.svg\" alt=\"Open In Colab\"/></a>"
      ]
    },
    {
      "cell_type": "code",
      "metadata": {
        "id": "K_6ELIgc30Yz",
        "colab_type": "code",
        "colab": {}
      },
      "source": [
        "!pip install -q kaggle\n",
        "!mkdir -p ~/.kaggle\n",
        "!cp kaggle.json ~/.kaggle"
      ],
      "execution_count": 0,
      "outputs": []
    },
    {
      "cell_type": "code",
      "metadata": {
        "id": "SZJB26--5L_N",
        "colab_type": "code",
        "colab": {}
      },
      "source": [
        "!chmod 600 /root/.kaggle/kaggle.json"
      ],
      "execution_count": 0,
      "outputs": []
    },
    {
      "cell_type": "code",
      "metadata": {
        "id": "3-40ualr5OLF",
        "colab_type": "code",
        "outputId": "d6e2e8d2-6da8-4262-97c9-ff96711b66a2",
        "colab": {
          "base_uri": "https://localhost:8080/",
          "height": 105
        }
      },
      "source": [
        "!kaggle competitions download -c intercampusai2019"
      ],
      "execution_count": 67,
      "outputs": [
        {
          "output_type": "stream",
          "text": [
            "Warning: Looks like you're using an outdated API Version, please consider updating (server 1.5.6 / client 1.5.4)\n",
            "sample_submission2.csv: Skipping, found more recently modified local copy (use --force to force download)\n",
            "test.csv.zip: Skipping, found more recently modified local copy (use --force to force download)\n",
            "train.csv.zip: Skipping, found more recently modified local copy (use --force to force download)\n"
          ],
          "name": "stdout"
        }
      ]
    },
    {
      "cell_type": "code",
      "metadata": {
        "id": "ZEfKyqNc6bIY",
        "colab_type": "code",
        "colab": {}
      },
      "source": [
        "#unzippig the us-data file\n",
        "from shutil import unpack_archive\n",
        "#unpack_archive('all.zip')\n",
        "unpack_archive('train.csv.zip')\n",
        "unpack_archive('test.csv.zip')"
      ],
      "execution_count": 0,
      "outputs": []
    },
    {
      "cell_type": "code",
      "metadata": {
        "id": "IFAEG3ER6n2V",
        "colab_type": "code",
        "colab": {}
      },
      "source": [
        "import numpy as np # linear algebra\n",
        "import pandas as pd # data processing, CSV file I/O (e.g. pd.read_csv)\n",
        "%matplotlib inline\n",
        "import matplotlib.pyplot as plt  # Matlab-style plotting\n",
        "from sklearn.feature_selection import SelectKBest\n",
        "from sklearn.feature_selection import chi2\n",
        "import seaborn as sns\n",
        "color = sns.color_palette()\n",
        "sns.set_style('darkgrid')\n",
        "import warnings\n",
        "def ignore_warn(*args, **kwargs):\n",
        "    pass\n",
        "warnings.warn = ignore_warn #ignore annoying warning (from sklearn and seaborn)"
      ],
      "execution_count": 0,
      "outputs": []
    },
    {
      "cell_type": "code",
      "metadata": {
        "id": "Ay_2Bi5X6ylI",
        "colab_type": "code",
        "colab": {}
      },
      "source": [
        "from scipy import stats\n",
        "from scipy.stats import norm, skew #for some statistics"
      ],
      "execution_count": 0,
      "outputs": []
    },
    {
      "cell_type": "code",
      "metadata": {
        "id": "dry6lHkU68Hy",
        "colab_type": "code",
        "colab": {}
      },
      "source": [
        "pd.set_option('display.float_format', lambda x: '{:.3f}'.format(x)) #Limiting floats output to 3 decimal points"
      ],
      "execution_count": 0,
      "outputs": []
    },
    {
      "cell_type": "code",
      "metadata": {
        "id": "0eOhKa8E6-l3",
        "colab_type": "code",
        "colab": {}
      },
      "source": [
        "#train = pd.read_csv('train.csv',parse_dates=[['weblog_date'],['date_of_advert'],['last_advert_online']])\n",
        "#test = pd.read_csv('test.csv',parse_dates=[weblog_date],[[date_of_advert],[last_advert_online])\n",
        "train = pd.read_csv('train.csv')\n",
        "test = pd.read_csv('test.csv')"
      ],
      "execution_count": 0,
      "outputs": []
    },
    {
      "cell_type": "code",
      "metadata": {
        "id": "qh8SblpVtWSY",
        "colab_type": "code",
        "colab": {}
      },
      "source": [
        "sample=pd.read_csv('sample_submission2.csv')"
      ],
      "execution_count": 0,
      "outputs": []
    },
    {
      "cell_type": "code",
      "metadata": {
        "id": "RBBC-NXrtmEX",
        "colab_type": "code",
        "outputId": "d1e2aba7-cf07-417b-ddc0-04d7caf19505",
        "colab": {
          "base_uri": "https://localhost:8080/",
          "height": 204
        }
      },
      "source": [
        "sample.head()"
      ],
      "execution_count": 74,
      "outputs": [
        {
          "output_type": "execute_result",
          "data": {
            "text/html": [
              "<div>\n",
              "<style scoped>\n",
              "    .dataframe tbody tr th:only-of-type {\n",
              "        vertical-align: middle;\n",
              "    }\n",
              "\n",
              "    .dataframe tbody tr th {\n",
              "        vertical-align: top;\n",
              "    }\n",
              "\n",
              "    .dataframe thead th {\n",
              "        text-align: right;\n",
              "    }\n",
              "</style>\n",
              "<table border=\"1\" class=\"dataframe\">\n",
              "  <thead>\n",
              "    <tr style=\"text-align: right;\">\n",
              "      <th></th>\n",
              "      <th>EmployeeNo</th>\n",
              "      <th>Promoted_or_Not</th>\n",
              "    </tr>\n",
              "  </thead>\n",
              "  <tbody>\n",
              "    <tr>\n",
              "      <th>0</th>\n",
              "      <td>YAK/S/34385</td>\n",
              "      <td>1</td>\n",
              "    </tr>\n",
              "    <tr>\n",
              "      <th>1</th>\n",
              "      <td>YAK/S/27825</td>\n",
              "      <td>1</td>\n",
              "    </tr>\n",
              "    <tr>\n",
              "      <th>2</th>\n",
              "      <td>YAK/S/23870</td>\n",
              "      <td>1</td>\n",
              "    </tr>\n",
              "    <tr>\n",
              "      <th>3</th>\n",
              "      <td>YAK/S/54784</td>\n",
              "      <td>1</td>\n",
              "    </tr>\n",
              "    <tr>\n",
              "      <th>4</th>\n",
              "      <td>YAK/S/25058</td>\n",
              "      <td>1</td>\n",
              "    </tr>\n",
              "  </tbody>\n",
              "</table>\n",
              "</div>"
            ],
            "text/plain": [
              "    EmployeeNo  Promoted_or_Not\n",
              "0  YAK/S/34385                1\n",
              "1  YAK/S/27825                1\n",
              "2  YAK/S/23870                1\n",
              "3  YAK/S/54784                1\n",
              "4  YAK/S/25058                1"
            ]
          },
          "metadata": {
            "tags": []
          },
          "execution_count": 74
        }
      ]
    },
    {
      "cell_type": "code",
      "metadata": {
        "id": "ns-G6gqa7C7R",
        "colab_type": "code",
        "colab": {}
      },
      "source": [
        "train_copy=train.copy()\n",
        "test_copy=test.copy()"
      ],
      "execution_count": 0,
      "outputs": []
    },
    {
      "cell_type": "code",
      "metadata": {
        "id": "99loH9F97KZU",
        "colab_type": "code",
        "outputId": "3537ce72-915a-49d5-cda2-d78b8d136dab",
        "colab": {
          "base_uri": "https://localhost:8080/",
          "height": 411
        }
      },
      "source": [
        "##display the first five rows of the train dataset.\n",
        "train.head()"
      ],
      "execution_count": 76,
      "outputs": [
        {
          "output_type": "execute_result",
          "data": {
            "text/html": [
              "<div>\n",
              "<style scoped>\n",
              "    .dataframe tbody tr th:only-of-type {\n",
              "        vertical-align: middle;\n",
              "    }\n",
              "\n",
              "    .dataframe tbody tr th {\n",
              "        vertical-align: top;\n",
              "    }\n",
              "\n",
              "    .dataframe thead th {\n",
              "        text-align: right;\n",
              "    }\n",
              "</style>\n",
              "<table border=\"1\" class=\"dataframe\">\n",
              "  <thead>\n",
              "    <tr style=\"text-align: right;\">\n",
              "      <th></th>\n",
              "      <th>EmployeeNo</th>\n",
              "      <th>Division</th>\n",
              "      <th>Qualification</th>\n",
              "      <th>Gender</th>\n",
              "      <th>Channel_of_Recruitment</th>\n",
              "      <th>Trainings_Attended</th>\n",
              "      <th>Year_of_birth</th>\n",
              "      <th>Last_performance_score</th>\n",
              "      <th>Year_of_recruitment</th>\n",
              "      <th>Targets_met</th>\n",
              "      <th>Previous_Award</th>\n",
              "      <th>Training_score_average</th>\n",
              "      <th>State_Of_Origin</th>\n",
              "      <th>Foreign_schooled</th>\n",
              "      <th>Marital_Status</th>\n",
              "      <th>Past_Disciplinary_Action</th>\n",
              "      <th>Previous_IntraDepartmental_Movement</th>\n",
              "      <th>No_of_previous_employers</th>\n",
              "      <th>Promoted_or_Not</th>\n",
              "    </tr>\n",
              "  </thead>\n",
              "  <tbody>\n",
              "    <tr>\n",
              "      <th>0</th>\n",
              "      <td>YAK/S/00001</td>\n",
              "      <td>Commercial Sales and Marketing</td>\n",
              "      <td>MSc, MBA and PhD</td>\n",
              "      <td>Female</td>\n",
              "      <td>Direct Internal process</td>\n",
              "      <td>2</td>\n",
              "      <td>1986</td>\n",
              "      <td>12.500</td>\n",
              "      <td>2011</td>\n",
              "      <td>1</td>\n",
              "      <td>0</td>\n",
              "      <td>41</td>\n",
              "      <td>ANAMBRA</td>\n",
              "      <td>No</td>\n",
              "      <td>Married</td>\n",
              "      <td>No</td>\n",
              "      <td>No</td>\n",
              "      <td>0</td>\n",
              "      <td>0</td>\n",
              "    </tr>\n",
              "    <tr>\n",
              "      <th>1</th>\n",
              "      <td>YAK/S/00002</td>\n",
              "      <td>Customer Support and Field Operations</td>\n",
              "      <td>First Degree or HND</td>\n",
              "      <td>Male</td>\n",
              "      <td>Agency and others</td>\n",
              "      <td>2</td>\n",
              "      <td>1991</td>\n",
              "      <td>12.500</td>\n",
              "      <td>2015</td>\n",
              "      <td>0</td>\n",
              "      <td>0</td>\n",
              "      <td>52</td>\n",
              "      <td>ANAMBRA</td>\n",
              "      <td>Yes</td>\n",
              "      <td>Married</td>\n",
              "      <td>No</td>\n",
              "      <td>No</td>\n",
              "      <td>0</td>\n",
              "      <td>0</td>\n",
              "    </tr>\n",
              "    <tr>\n",
              "      <th>2</th>\n",
              "      <td>YAK/S/00003</td>\n",
              "      <td>Commercial Sales and Marketing</td>\n",
              "      <td>First Degree or HND</td>\n",
              "      <td>Male</td>\n",
              "      <td>Direct Internal process</td>\n",
              "      <td>2</td>\n",
              "      <td>1987</td>\n",
              "      <td>7.500</td>\n",
              "      <td>2012</td>\n",
              "      <td>0</td>\n",
              "      <td>0</td>\n",
              "      <td>42</td>\n",
              "      <td>KATSINA</td>\n",
              "      <td>Yes</td>\n",
              "      <td>Married</td>\n",
              "      <td>No</td>\n",
              "      <td>No</td>\n",
              "      <td>0</td>\n",
              "      <td>0</td>\n",
              "    </tr>\n",
              "    <tr>\n",
              "      <th>3</th>\n",
              "      <td>YAK/S/00004</td>\n",
              "      <td>Commercial Sales and Marketing</td>\n",
              "      <td>First Degree or HND</td>\n",
              "      <td>Male</td>\n",
              "      <td>Agency and others</td>\n",
              "      <td>3</td>\n",
              "      <td>1982</td>\n",
              "      <td>2.500</td>\n",
              "      <td>2009</td>\n",
              "      <td>0</td>\n",
              "      <td>0</td>\n",
              "      <td>42</td>\n",
              "      <td>NIGER</td>\n",
              "      <td>Yes</td>\n",
              "      <td>Single</td>\n",
              "      <td>No</td>\n",
              "      <td>No</td>\n",
              "      <td>1</td>\n",
              "      <td>0</td>\n",
              "    </tr>\n",
              "    <tr>\n",
              "      <th>4</th>\n",
              "      <td>YAK/S/00006</td>\n",
              "      <td>Information and Strategy</td>\n",
              "      <td>First Degree or HND</td>\n",
              "      <td>Male</td>\n",
              "      <td>Direct Internal process</td>\n",
              "      <td>3</td>\n",
              "      <td>1990</td>\n",
              "      <td>7.500</td>\n",
              "      <td>2012</td>\n",
              "      <td>0</td>\n",
              "      <td>0</td>\n",
              "      <td>77</td>\n",
              "      <td>AKWA IBOM</td>\n",
              "      <td>Yes</td>\n",
              "      <td>Married</td>\n",
              "      <td>No</td>\n",
              "      <td>No</td>\n",
              "      <td>1</td>\n",
              "      <td>0</td>\n",
              "    </tr>\n",
              "  </tbody>\n",
              "</table>\n",
              "</div>"
            ],
            "text/plain": [
              "    EmployeeNo  ... Promoted_or_Not\n",
              "0  YAK/S/00001  ...               0\n",
              "1  YAK/S/00002  ...               0\n",
              "2  YAK/S/00003  ...               0\n",
              "3  YAK/S/00004  ...               0\n",
              "4  YAK/S/00006  ...               0\n",
              "\n",
              "[5 rows x 19 columns]"
            ]
          },
          "metadata": {
            "tags": []
          },
          "execution_count": 76
        }
      ]
    },
    {
      "cell_type": "code",
      "metadata": {
        "id": "zO6QqA087arf",
        "colab_type": "code",
        "outputId": "5acd89c9-6c91-4e8f-f9df-f4bb8fed9d04",
        "colab": {
          "base_uri": "https://localhost:8080/",
          "height": 513
        }
      },
      "source": [
        "##display the first five rows of the test dataset.\n",
        "test.head()"
      ],
      "execution_count": 77,
      "outputs": [
        {
          "output_type": "execute_result",
          "data": {
            "text/html": [
              "<div>\n",
              "<style scoped>\n",
              "    .dataframe tbody tr th:only-of-type {\n",
              "        vertical-align: middle;\n",
              "    }\n",
              "\n",
              "    .dataframe tbody tr th {\n",
              "        vertical-align: top;\n",
              "    }\n",
              "\n",
              "    .dataframe thead th {\n",
              "        text-align: right;\n",
              "    }\n",
              "</style>\n",
              "<table border=\"1\" class=\"dataframe\">\n",
              "  <thead>\n",
              "    <tr style=\"text-align: right;\">\n",
              "      <th></th>\n",
              "      <th>EmployeeNo</th>\n",
              "      <th>Division</th>\n",
              "      <th>Qualification</th>\n",
              "      <th>Gender</th>\n",
              "      <th>Channel_of_Recruitment</th>\n",
              "      <th>Trainings_Attended</th>\n",
              "      <th>Year_of_birth</th>\n",
              "      <th>Last_performance_score</th>\n",
              "      <th>Year_of_recruitment</th>\n",
              "      <th>Targets_met</th>\n",
              "      <th>Previous_Award</th>\n",
              "      <th>Training_score_average</th>\n",
              "      <th>State_Of_Origin</th>\n",
              "      <th>Foreign_schooled</th>\n",
              "      <th>Marital_Status</th>\n",
              "      <th>Past_Disciplinary_Action</th>\n",
              "      <th>Previous_IntraDepartmental_Movement</th>\n",
              "      <th>No_of_previous_employers</th>\n",
              "    </tr>\n",
              "  </thead>\n",
              "  <tbody>\n",
              "    <tr>\n",
              "      <th>0</th>\n",
              "      <td>YAK/S/00005</td>\n",
              "      <td>Information Technology and Solution Support</td>\n",
              "      <td>First Degree or HND</td>\n",
              "      <td>Male</td>\n",
              "      <td>Agency and others</td>\n",
              "      <td>2</td>\n",
              "      <td>1976</td>\n",
              "      <td>7.500</td>\n",
              "      <td>2017</td>\n",
              "      <td>0</td>\n",
              "      <td>0</td>\n",
              "      <td>65</td>\n",
              "      <td>FCT</td>\n",
              "      <td>Yes</td>\n",
              "      <td>Married</td>\n",
              "      <td>No</td>\n",
              "      <td>No</td>\n",
              "      <td>1</td>\n",
              "    </tr>\n",
              "    <tr>\n",
              "      <th>1</th>\n",
              "      <td>YAK/S/00011</td>\n",
              "      <td>Information Technology and Solution Support</td>\n",
              "      <td>NaN</td>\n",
              "      <td>Male</td>\n",
              "      <td>Direct Internal process</td>\n",
              "      <td>2</td>\n",
              "      <td>1991</td>\n",
              "      <td>0.000</td>\n",
              "      <td>2018</td>\n",
              "      <td>0</td>\n",
              "      <td>0</td>\n",
              "      <td>69</td>\n",
              "      <td>OGUN</td>\n",
              "      <td>Yes</td>\n",
              "      <td>Married</td>\n",
              "      <td>No</td>\n",
              "      <td>No</td>\n",
              "      <td>1</td>\n",
              "    </tr>\n",
              "    <tr>\n",
              "      <th>2</th>\n",
              "      <td>YAK/S/00015</td>\n",
              "      <td>Research and Innovation</td>\n",
              "      <td>MSc, MBA and PhD</td>\n",
              "      <td>Male</td>\n",
              "      <td>Direct Internal process</td>\n",
              "      <td>2</td>\n",
              "      <td>1984</td>\n",
              "      <td>7.500</td>\n",
              "      <td>2012</td>\n",
              "      <td>0</td>\n",
              "      <td>0</td>\n",
              "      <td>76</td>\n",
              "      <td>KANO</td>\n",
              "      <td>Yes</td>\n",
              "      <td>Married</td>\n",
              "      <td>No</td>\n",
              "      <td>No</td>\n",
              "      <td>1</td>\n",
              "    </tr>\n",
              "    <tr>\n",
              "      <th>3</th>\n",
              "      <td>YAK/S/00016</td>\n",
              "      <td>Customer Support and Field Operations</td>\n",
              "      <td>First Degree or HND</td>\n",
              "      <td>Male</td>\n",
              "      <td>Agency and others</td>\n",
              "      <td>2</td>\n",
              "      <td>1984</td>\n",
              "      <td>2.500</td>\n",
              "      <td>2009</td>\n",
              "      <td>0</td>\n",
              "      <td>0</td>\n",
              "      <td>52</td>\n",
              "      <td>RIVERS</td>\n",
              "      <td>No</td>\n",
              "      <td>Single</td>\n",
              "      <td>No</td>\n",
              "      <td>No</td>\n",
              "      <td>1</td>\n",
              "    </tr>\n",
              "    <tr>\n",
              "      <th>4</th>\n",
              "      <td>YAK/S/00017</td>\n",
              "      <td>Information Technology and Solution Support</td>\n",
              "      <td>First Degree or HND</td>\n",
              "      <td>Male</td>\n",
              "      <td>Agency and others</td>\n",
              "      <td>2</td>\n",
              "      <td>1983</td>\n",
              "      <td>7.500</td>\n",
              "      <td>2014</td>\n",
              "      <td>1</td>\n",
              "      <td>0</td>\n",
              "      <td>69</td>\n",
              "      <td>FCT</td>\n",
              "      <td>Yes</td>\n",
              "      <td>Married</td>\n",
              "      <td>No</td>\n",
              "      <td>No</td>\n",
              "      <td>0</td>\n",
              "    </tr>\n",
              "  </tbody>\n",
              "</table>\n",
              "</div>"
            ],
            "text/plain": [
              "    EmployeeNo  ... No_of_previous_employers\n",
              "0  YAK/S/00005  ...                        1\n",
              "1  YAK/S/00011  ...                        1\n",
              "2  YAK/S/00015  ...                        1\n",
              "3  YAK/S/00016  ...                        1\n",
              "4  YAK/S/00017  ...                        0\n",
              "\n",
              "[5 rows x 18 columns]"
            ]
          },
          "metadata": {
            "tags": []
          },
          "execution_count": 77
        }
      ]
    },
    {
      "cell_type": "code",
      "metadata": {
        "id": "bGuF-w9V7fht",
        "colab_type": "code",
        "outputId": "3c20bf97-de19-4d0e-a059-60a12a1456ac",
        "colab": {
          "base_uri": "https://localhost:8080/",
          "height": 51
        }
      },
      "source": [
        "#check the numbers of samples and features\n",
        "print(\"The train data size before dropping Id feature is : {} \".format(train.shape))\n",
        "print(\"The test data size before dropping Id feature is : {} \".format(test.shape))"
      ],
      "execution_count": 78,
      "outputs": [
        {
          "output_type": "stream",
          "text": [
            "The train data size before dropping Id feature is : (38312, 19) \n",
            "The test data size before dropping Id feature is : (16496, 18) \n"
          ],
          "name": "stdout"
        }
      ]
    },
    {
      "cell_type": "code",
      "metadata": {
        "id": "5tZ_OpCz76-z",
        "colab_type": "code",
        "colab": {}
      },
      "source": [
        "#Save the 'Id' column\n",
        "train_ID = train['EmployeeNo']\n",
        "test_ID = test['EmployeeNo']"
      ],
      "execution_count": 0,
      "outputs": []
    },
    {
      "cell_type": "code",
      "metadata": {
        "id": "wDSUuKWc8De2",
        "colab_type": "code",
        "colab": {}
      },
      "source": [
        "#Now drop the  'Id' colum since it's unnecessary for  the prediction process.\n",
        "train.drop(\"EmployeeNo\", axis = 1, inplace = True)\n",
        "test.drop(\"EmployeeNo\", axis = 1, inplace = True)"
      ],
      "execution_count": 0,
      "outputs": []
    },
    {
      "cell_type": "code",
      "metadata": {
        "id": "E5qwXCJQu3Jx",
        "colab_type": "code",
        "colab": {}
      },
      "source": [
        "#save and drop the target varriable\n",
        "y_train=train['Promoted_or_Not']"
      ],
      "execution_count": 0,
      "outputs": []
    },
    {
      "cell_type": "code",
      "metadata": {
        "id": "KnAb0Ay8vUr8",
        "colab_type": "code",
        "colab": {}
      },
      "source": [
        "#dropping the target varriable\n",
        "train.drop('Promoted_or_Not',axis=1,inplace=True)"
      ],
      "execution_count": 0,
      "outputs": []
    },
    {
      "cell_type": "code",
      "metadata": {
        "id": "64RIdm6G7sn-",
        "colab_type": "code",
        "colab": {}
      },
      "source": [
        "#separate categorical varriable from numerical varriable\n",
        "quantitative = [f for f in train.columns if train.dtypes[f] != 'object']\n",
        "#quantitative.remove('SalePrice')\n",
        "#quantitative.remove('Id')\n",
        "qualitative = [f for f in train.columns if train.dtypes[f] == 'object']"
      ],
      "execution_count": 0,
      "outputs": []
    },
    {
      "cell_type": "code",
      "metadata": {
        "id": "4QP5bkfHCoU3",
        "colab_type": "code",
        "outputId": "77254ce7-24f9-4f16-84be-cccec5414406",
        "colab": {
          "base_uri": "https://localhost:8080/",
          "height": 136
        }
      },
      "source": [
        "quantitative"
      ],
      "execution_count": 84,
      "outputs": [
        {
          "output_type": "execute_result",
          "data": {
            "text/plain": [
              "['Trainings_Attended',\n",
              " 'Year_of_birth',\n",
              " 'Last_performance_score',\n",
              " 'Year_of_recruitment',\n",
              " 'Targets_met',\n",
              " 'Previous_Award',\n",
              " 'Training_score_average']"
            ]
          },
          "metadata": {
            "tags": []
          },
          "execution_count": 84
        }
      ]
    },
    {
      "cell_type": "code",
      "metadata": {
        "id": "hbGgrOr9CvTR",
        "colab_type": "code",
        "outputId": "78d6ed36-447a-4b6b-9da9-cc188fb47080",
        "colab": {
          "base_uri": "https://localhost:8080/",
          "height": 187
        }
      },
      "source": [
        "qualitative"
      ],
      "execution_count": 85,
      "outputs": [
        {
          "output_type": "execute_result",
          "data": {
            "text/plain": [
              "['Division',\n",
              " 'Qualification',\n",
              " 'Gender',\n",
              " 'Channel_of_Recruitment',\n",
              " 'State_Of_Origin',\n",
              " 'Foreign_schooled',\n",
              " 'Marital_Status',\n",
              " 'Past_Disciplinary_Action',\n",
              " 'Previous_IntraDepartmental_Movement',\n",
              " 'No_of_previous_employers']"
            ]
          },
          "metadata": {
            "tags": []
          },
          "execution_count": 85
        }
      ]
    },
    {
      "cell_type": "code",
      "metadata": {
        "id": "owb8g8oV8ly9",
        "colab_type": "code",
        "outputId": "01d3ffc8-342e-4684-c97f-ae63f432f8cc",
        "colab": {
          "base_uri": "https://localhost:8080/",
          "height": 339
        }
      },
      "source": [
        "#missing values\n",
        "sns.set_style(\"whitegrid\")\n",
        "missing = train.isnull().sum()\n",
        "missing = missing[missing > 0]\n",
        "missing.sort_values(inplace=True)\n",
        "missing.plot.bar()"
      ],
      "execution_count": 86,
      "outputs": [
        {
          "output_type": "execute_result",
          "data": {
            "text/plain": [
              "<matplotlib.axes._subplots.AxesSubplot at 0x7f5fe09ddf98>"
            ]
          },
          "metadata": {
            "tags": []
          },
          "execution_count": 86
        },
        {
          "output_type": "display_data",
          "data": {
            "image/png": "[encoded data removed]",
            "text/plain": [
              "<Figure size 432x288 with 1 Axes>"
            ]
          },
          "metadata": {
            "tags": []
          }
        }
      ]
    },
    {
      "cell_type": "code",
      "metadata": {
        "id": "JK9kpsFi8tfq",
        "colab_type": "code",
        "outputId": "7b39e38c-c965-4fed-a2c8-fd7695124fbe",
        "colab": {
          "base_uri": "https://localhost:8080/",
          "height": 114
        }
      },
      "source": [
        "# check number & percentage of missing value in the columns\n",
        "def missing_values_table(df):\n",
        "  mis_val = df.isnull().sum() #total missing values\n",
        "  mis_val_percent = 100 * df.isnull().sum() / len(df) #percentage of missing values\n",
        "  mis_val_table = pd.concat([mis_val, mis_val_percent], axis=1) #make a table with the results\n",
        "  mis_val_table_ren_columns = mis_val_table.rename(\n",
        "  columns = {0 : 'Missing Values', 1 : '% of Total Values'}) #rename the columns\n",
        "     # sort the table by percentage of missing value\n",
        "  mis_val_table_ren_columns = mis_val_table_ren_columns[\n",
        "  mis_val_table_ren_columns.iloc[:,1] != 0].sort_values(\n",
        "        '% of Total Values', ascending=False).round(1)\n",
        "\n",
        "        #print same summary information\n",
        "  print (\"Your selected dataframe has \" + str(df.shape[1]) + \" columns.\\n\"      \n",
        "            \"There are \" + str(mis_val_table_ren_columns.shape[0]) +\n",
        "              \" columns that have missing values.\")\n",
        "\n",
        "          # return the dataframe with missing information\n",
        "  return mis_val_table_ren_columns\n",
        "  \n",
        "missing_values = missing_values_table(train)\n",
        "missing_values.head()"
      ],
      "execution_count": 87,
      "outputs": [
        {
          "output_type": "stream",
          "text": [
            "Your selected dataframe has 17 columns.\n",
            "There are 1 columns that have missing values.\n"
          ],
          "name": "stdout"
        },
        {
          "output_type": "execute_result",
          "data": {
            "text/html": [
              "<div>\n",
              "<style scoped>\n",
              "    .dataframe tbody tr th:only-of-type {\n",
              "        vertical-align: middle;\n",
              "    }\n",
              "\n",
              "    .dataframe tbody tr th {\n",
              "        vertical-align: top;\n",
              "    }\n",
              "\n",
              "    .dataframe thead th {\n",
              "        text-align: right;\n",
              "    }\n",
              "</style>\n",
              "<table border=\"1\" class=\"dataframe\">\n",
              "  <thead>\n",
              "    <tr style=\"text-align: right;\">\n",
              "      <th></th>\n",
              "      <th>Missing Values</th>\n",
              "      <th>% of Total Values</th>\n",
              "    </tr>\n",
              "  </thead>\n",
              "  <tbody>\n",
              "    <tr>\n",
              "      <th>Qualification</th>\n",
              "      <td>1679</td>\n",
              "      <td>4.400</td>\n",
              "    </tr>\n",
              "  </tbody>\n",
              "</table>\n",
              "</div>"
            ],
            "text/plain": [
              "               Missing Values  % of Total Values\n",
              "Qualification            1679              4.400"
            ]
          },
          "metadata": {
            "tags": []
          },
          "execution_count": 87
        }
      ]
    },
    {
      "cell_type": "code",
      "metadata": {
        "id": "jksYWfiI8-kS",
        "colab_type": "code",
        "colab": {}
      },
      "source": [
        "cols_with_missing = [col for col in train.columns if train[col].isnull().any()]\n",
        "\n",
        "reduced_train =train.drop(cols_with_missing, axis=1)\n",
        "reduced_test = test.drop(cols_with_missing, axis=1)"
      ],
      "execution_count": 0,
      "outputs": []
    },
    {
      "cell_type": "code",
      "metadata": {
        "id": "1Rn95E3tDDlx",
        "colab_type": "code",
        "outputId": "cc3fb716-0c17-4674-fb39-abd87262e965",
        "colab": {
          "base_uri": "https://localhost:8080/",
          "height": 51
        }
      },
      "source": [
        "#Handling missing values\n",
        "train['Qualification'].unique()"
      ],
      "execution_count": 89,
      "outputs": [
        {
          "output_type": "execute_result",
          "data": {
            "text/plain": [
              "array(['MSc, MBA and PhD', 'First Degree or HND', nan,\n",
              "       'Non-University Education'], dtype=object)"
            ]
          },
          "metadata": {
            "tags": []
          },
          "execution_count": 89
        }
      ]
    },
    {
      "cell_type": "code",
      "metadata": {
        "id": "WAczc-5DHW0V",
        "colab_type": "code",
        "colab": {}
      },
      "source": [
        "train['Qualification'].fillna('NA',inplace=True)\n",
        "test['Qualification'].fillna('NA',inplace=True)"
      ],
      "execution_count": 0,
      "outputs": []
    },
    {
      "cell_type": "code",
      "metadata": {
        "id": "VBU_Ig1GFq09",
        "colab_type": "code",
        "outputId": "fa184fe7-0798-4ca1-fc69-8f6f90425e76",
        "colab": {
          "base_uri": "https://localhost:8080/",
          "height": 54
        }
      },
      "source": [
        "'''def ConvertQualificationToFeature(desc):\n",
        "  Qualification={\n",
        "      'MSc, MBA and PhD':3,\n",
        "      'First Degree or HND':2,\n",
        "      'Non-University Education':0,\n",
        "      'NA':0\n",
        "      }\n",
        "  return Qualification[desc]'''"
      ],
      "execution_count": 91,
      "outputs": [
        {
          "output_type": "execute_result",
          "data": {
            "text/plain": [
              "\"def ConvertQualificationToFeature(desc):\\n  Qualification={\\n      'MSc, MBA and PhD':3,\\n      'First Degree or HND':2,\\n      'Non-University Education':0,\\n      'NA':0\\n      }\\n  return Qualification[desc]\""
            ]
          },
          "metadata": {
            "tags": []
          },
          "execution_count": 91
        }
      ]
    },
    {
      "cell_type": "code",
      "metadata": {
        "id": "eE911kfyIwZa",
        "colab_type": "code",
        "colab": {}
      },
      "source": [
        "#train['Qualification']=train['Qualification'].apply(ConvertQualificationToFeature)"
      ],
      "execution_count": 0,
      "outputs": []
    },
    {
      "cell_type": "code",
      "metadata": {
        "id": "aiWh6jXaJ4Hs",
        "colab_type": "code",
        "outputId": "461d46a0-0dfd-46e8-c387-cfe3043d2f57",
        "colab": {
          "base_uri": "https://localhost:8080/",
          "height": 411
        }
      },
      "source": [
        "train.head()\n",
        "#qualification done"
      ],
      "execution_count": 93,
      "outputs": [
        {
          "output_type": "execute_result",
          "data": {
            "text/html": [
              "<div>\n",
              "<style scoped>\n",
              "    .dataframe tbody tr th:only-of-type {\n",
              "        vertical-align: middle;\n",
              "    }\n",
              "\n",
              "    .dataframe tbody tr th {\n",
              "        vertical-align: top;\n",
              "    }\n",
              "\n",
              "    .dataframe thead th {\n",
              "        text-align: right;\n",
              "    }\n",
              "</style>\n",
              "<table border=\"1\" class=\"dataframe\">\n",
              "  <thead>\n",
              "    <tr style=\"text-align: right;\">\n",
              "      <th></th>\n",
              "      <th>Division</th>\n",
              "      <th>Qualification</th>\n",
              "      <th>Gender</th>\n",
              "      <th>Channel_of_Recruitment</th>\n",
              "      <th>Trainings_Attended</th>\n",
              "      <th>Year_of_birth</th>\n",
              "      <th>Last_performance_score</th>\n",
              "      <th>Year_of_recruitment</th>\n",
              "      <th>Targets_met</th>\n",
              "      <th>Previous_Award</th>\n",
              "      <th>Training_score_average</th>\n",
              "      <th>State_Of_Origin</th>\n",
              "      <th>Foreign_schooled</th>\n",
              "      <th>Marital_Status</th>\n",
              "      <th>Past_Disciplinary_Action</th>\n",
              "      <th>Previous_IntraDepartmental_Movement</th>\n",
              "      <th>No_of_previous_employers</th>\n",
              "    </tr>\n",
              "  </thead>\n",
              "  <tbody>\n",
              "    <tr>\n",
              "      <th>0</th>\n",
              "      <td>Commercial Sales and Marketing</td>\n",
              "      <td>MSc, MBA and PhD</td>\n",
              "      <td>Female</td>\n",
              "      <td>Direct Internal process</td>\n",
              "      <td>2</td>\n",
              "      <td>1986</td>\n",
              "      <td>12.500</td>\n",
              "      <td>2011</td>\n",
              "      <td>1</td>\n",
              "      <td>0</td>\n",
              "      <td>41</td>\n",
              "      <td>ANAMBRA</td>\n",
              "      <td>No</td>\n",
              "      <td>Married</td>\n",
              "      <td>No</td>\n",
              "      <td>No</td>\n",
              "      <td>0</td>\n",
              "    </tr>\n",
              "    <tr>\n",
              "      <th>1</th>\n",
              "      <td>Customer Support and Field Operations</td>\n",
              "      <td>First Degree or HND</td>\n",
              "      <td>Male</td>\n",
              "      <td>Agency and others</td>\n",
              "      <td>2</td>\n",
              "      <td>1991</td>\n",
              "      <td>12.500</td>\n",
              "      <td>2015</td>\n",
              "      <td>0</td>\n",
              "      <td>0</td>\n",
              "      <td>52</td>\n",
              "      <td>ANAMBRA</td>\n",
              "      <td>Yes</td>\n",
              "      <td>Married</td>\n",
              "      <td>No</td>\n",
              "      <td>No</td>\n",
              "      <td>0</td>\n",
              "    </tr>\n",
              "    <tr>\n",
              "      <th>2</th>\n",
              "      <td>Commercial Sales and Marketing</td>\n",
              "      <td>First Degree or HND</td>\n",
              "      <td>Male</td>\n",
              "      <td>Direct Internal process</td>\n",
              "      <td>2</td>\n",
              "      <td>1987</td>\n",
              "      <td>7.500</td>\n",
              "      <td>2012</td>\n",
              "      <td>0</td>\n",
              "      <td>0</td>\n",
              "      <td>42</td>\n",
              "      <td>KATSINA</td>\n",
              "      <td>Yes</td>\n",
              "      <td>Married</td>\n",
              "      <td>No</td>\n",
              "      <td>No</td>\n",
              "      <td>0</td>\n",
              "    </tr>\n",
              "    <tr>\n",
              "      <th>3</th>\n",
              "      <td>Commercial Sales and Marketing</td>\n",
              "      <td>First Degree or HND</td>\n",
              "      <td>Male</td>\n",
              "      <td>Agency and others</td>\n",
              "      <td>3</td>\n",
              "      <td>1982</td>\n",
              "      <td>2.500</td>\n",
              "      <td>2009</td>\n",
              "      <td>0</td>\n",
              "      <td>0</td>\n",
              "      <td>42</td>\n",
              "      <td>NIGER</td>\n",
              "      <td>Yes</td>\n",
              "      <td>Single</td>\n",
              "      <td>No</td>\n",
              "      <td>No</td>\n",
              "      <td>1</td>\n",
              "    </tr>\n",
              "    <tr>\n",
              "      <th>4</th>\n",
              "      <td>Information and Strategy</td>\n",
              "      <td>First Degree or HND</td>\n",
              "      <td>Male</td>\n",
              "      <td>Direct Internal process</td>\n",
              "      <td>3</td>\n",
              "      <td>1990</td>\n",
              "      <td>7.500</td>\n",
              "      <td>2012</td>\n",
              "      <td>0</td>\n",
              "      <td>0</td>\n",
              "      <td>77</td>\n",
              "      <td>AKWA IBOM</td>\n",
              "      <td>Yes</td>\n",
              "      <td>Married</td>\n",
              "      <td>No</td>\n",
              "      <td>No</td>\n",
              "      <td>1</td>\n",
              "    </tr>\n",
              "  </tbody>\n",
              "</table>\n",
              "</div>"
            ],
            "text/plain": [
              "                                Division  ... No_of_previous_employers\n",
              "0         Commercial Sales and Marketing  ...                        0\n",
              "1  Customer Support and Field Operations  ...                        0\n",
              "2         Commercial Sales and Marketing  ...                        0\n",
              "3         Commercial Sales and Marketing  ...                        1\n",
              "4               Information and Strategy  ...                        1\n",
              "\n",
              "[5 rows x 17 columns]"
            ]
          },
          "metadata": {
            "tags": []
          },
          "execution_count": 93
        }
      ]
    },
    {
      "cell_type": "code",
      "metadata": {
        "id": "tah_VexHKGxM",
        "colab_type": "code",
        "outputId": "52caafb5-75e9-4759-899e-2b2e556a7ebf",
        "colab": {
          "base_uri": "https://localhost:8080/",
          "height": 34
        }
      },
      "source": [
        "train['Gender'].unique()"
      ],
      "execution_count": 94,
      "outputs": [
        {
          "output_type": "execute_result",
          "data": {
            "text/plain": [
              "array(['Female', 'Male'], dtype=object)"
            ]
          },
          "metadata": {
            "tags": []
          },
          "execution_count": 94
        }
      ]
    },
    {
      "cell_type": "code",
      "metadata": {
        "id": "ItfuvJG8KQOd",
        "colab_type": "code",
        "outputId": "1701fd51-8871-4f21-fc58-16f41bfdf38d",
        "colab": {
          "base_uri": "https://localhost:8080/",
          "height": 68
        }
      },
      "source": [
        "#one hot encode gender since it does not show hirarchy male cant be said to be more importance than female\n",
        "train['Gender'].value_counts()"
      ],
      "execution_count": 95,
      "outputs": [
        {
          "output_type": "execute_result",
          "data": {
            "text/plain": [
              "Male      26880\n",
              "Female    11432\n",
              "Name: Gender, dtype: int64"
            ]
          },
          "metadata": {
            "tags": []
          },
          "execution_count": 95
        }
      ]
    },
    {
      "cell_type": "code",
      "metadata": {
        "id": "mdrELoCPMa6e",
        "colab_type": "code",
        "outputId": "2b048632-252d-4175-b1b0-595f2e86576b",
        "colab": {
          "base_uri": "https://localhost:8080/",
          "height": 187
        }
      },
      "source": [
        "#one hot encode\n",
        "train['Division'].value_counts()"
      ],
      "execution_count": 96,
      "outputs": [
        {
          "output_type": "execute_result",
          "data": {
            "text/plain": [
              "Commercial Sales and Marketing                 11695\n",
              "Customer Support and Field Operations           7973\n",
              "Sourcing and Purchasing                         5052\n",
              "Information Technology and Solution Support     4952\n",
              "Information and Strategy                        3721\n",
              "Business Finance Operations                     1786\n",
              "People/HR Management                            1704\n",
              "Regulatory and Legal services                    733\n",
              "Research and Innovation                          696\n",
              "Name: Division, dtype: int64"
            ]
          },
          "metadata": {
            "tags": []
          },
          "execution_count": 96
        }
      ]
    },
    {
      "cell_type": "code",
      "metadata": {
        "id": "iJCuICTcM0J-",
        "colab_type": "code",
        "outputId": "b33d831c-5e66-4d14-b5b9-4489c01f3694",
        "colab": {
          "base_uri": "https://localhost:8080/",
          "height": 136
        }
      },
      "source": [
        "train['Division'].unique()"
      ],
      "execution_count": 97,
      "outputs": [
        {
          "output_type": "execute_result",
          "data": {
            "text/plain": [
              "array(['Commercial Sales and Marketing',\n",
              "       'Customer Support and Field Operations',\n",
              "       'Information and Strategy',\n",
              "       'Information Technology and Solution Support',\n",
              "       'Sourcing and Purchasing', 'Business Finance Operations',\n",
              "       'People/HR Management', 'Research and Innovation',\n",
              "       'Regulatory and Legal services'], dtype=object)"
            ]
          },
          "metadata": {
            "tags": []
          },
          "execution_count": 97
        }
      ]
    },
    {
      "cell_type": "code",
      "metadata": {
        "id": "X6grMnSrNGI4",
        "colab_type": "code",
        "outputId": "2cf319d5-246b-4613-8dc6-78d6667025c2",
        "colab": {
          "base_uri": "https://localhost:8080/",
          "height": 54
        }
      },
      "source": [
        "'''def ConvertDivisionToFeature(desc):\n",
        "  Division={\n",
        "      'Commercial Sales and Marketing':'CSM',\n",
        "      'Customer Support and Field Operations':'CSFO',\n",
        "      'Information and Strategy':'IS',\n",
        "      'Information Technology and Solution Support':'ITSS',\n",
        "      'Sourcing and Purchasing':'SP',\n",
        "      'Business Finance Operations':'BFO',\n",
        "      'People/HR Management':'PHM',\n",
        "      'Research and Innovation':'RI',\n",
        "      'Regulatory and Legal services':'RLS'\n",
        "      }\n",
        "  return Division[desc]'''"
      ],
      "execution_count": 98,
      "outputs": [
        {
          "output_type": "execute_result",
          "data": {
            "text/plain": [
              "\"def ConvertDivisionToFeature(desc):\\n  Division={\\n      'Commercial Sales and Marketing':'CSM',\\n      'Customer Support and Field Operations':'CSFO',\\n      'Information and Strategy':'IS',\\n      'Information Technology and Solution Support':'ITSS',\\n      'Sourcing and Purchasing':'SP',\\n      'Business Finance Operations':'BFO',\\n      'People/HR Management':'PHM',\\n      'Research and Innovation':'RI',\\n      'Regulatory and Legal services':'RLS'\\n      }\\n  return Division[desc]\""
            ]
          },
          "metadata": {
            "tags": []
          },
          "execution_count": 98
        }
      ]
    },
    {
      "cell_type": "code",
      "metadata": {
        "id": "xuItzVTmQP2_",
        "colab_type": "code",
        "colab": {}
      },
      "source": [
        "#train['Division']=train['Division'].apply(ConvertDivisionToFeature)"
      ],
      "execution_count": 0,
      "outputs": []
    },
    {
      "cell_type": "code",
      "metadata": {
        "id": "GcCX-TU3Qozq",
        "colab_type": "code",
        "outputId": "6f555d56-588a-4ba1-8365-948a479e48bb",
        "colab": {
          "base_uri": "https://localhost:8080/",
          "height": 411
        }
      },
      "source": [
        "train.head()"
      ],
      "execution_count": 100,
      "outputs": [
        {
          "output_type": "execute_result",
          "data": {
            "text/html": [
              "<div>\n",
              "<style scoped>\n",
              "    .dataframe tbody tr th:only-of-type {\n",
              "        vertical-align: middle;\n",
              "    }\n",
              "\n",
              "    .dataframe tbody tr th {\n",
              "        vertical-align: top;\n",
              "    }\n",
              "\n",
              "    .dataframe thead th {\n",
              "        text-align: right;\n",
              "    }\n",
              "</style>\n",
              "<table border=\"1\" class=\"dataframe\">\n",
              "  <thead>\n",
              "    <tr style=\"text-align: right;\">\n",
              "      <th></th>\n",
              "      <th>Division</th>\n",
              "      <th>Qualification</th>\n",
              "      <th>Gender</th>\n",
              "      <th>Channel_of_Recruitment</th>\n",
              "      <th>Trainings_Attended</th>\n",
              "      <th>Year_of_birth</th>\n",
              "      <th>Last_performance_score</th>\n",
              "      <th>Year_of_recruitment</th>\n",
              "      <th>Targets_met</th>\n",
              "      <th>Previous_Award</th>\n",
              "      <th>Training_score_average</th>\n",
              "      <th>State_Of_Origin</th>\n",
              "      <th>Foreign_schooled</th>\n",
              "      <th>Marital_Status</th>\n",
              "      <th>Past_Disciplinary_Action</th>\n",
              "      <th>Previous_IntraDepartmental_Movement</th>\n",
              "      <th>No_of_previous_employers</th>\n",
              "    </tr>\n",
              "  </thead>\n",
              "  <tbody>\n",
              "    <tr>\n",
              "      <th>0</th>\n",
              "      <td>Commercial Sales and Marketing</td>\n",
              "      <td>MSc, MBA and PhD</td>\n",
              "      <td>Female</td>\n",
              "      <td>Direct Internal process</td>\n",
              "      <td>2</td>\n",
              "      <td>1986</td>\n",
              "      <td>12.500</td>\n",
              "      <td>2011</td>\n",
              "      <td>1</td>\n",
              "      <td>0</td>\n",
              "      <td>41</td>\n",
              "      <td>ANAMBRA</td>\n",
              "      <td>No</td>\n",
              "      <td>Married</td>\n",
              "      <td>No</td>\n",
              "      <td>No</td>\n",
              "      <td>0</td>\n",
              "    </tr>\n",
              "    <tr>\n",
              "      <th>1</th>\n",
              "      <td>Customer Support and Field Operations</td>\n",
              "      <td>First Degree or HND</td>\n",
              "      <td>Male</td>\n",
              "      <td>Agency and others</td>\n",
              "      <td>2</td>\n",
              "      <td>1991</td>\n",
              "      <td>12.500</td>\n",
              "      <td>2015</td>\n",
              "      <td>0</td>\n",
              "      <td>0</td>\n",
              "      <td>52</td>\n",
              "      <td>ANAMBRA</td>\n",
              "      <td>Yes</td>\n",
              "      <td>Married</td>\n",
              "      <td>No</td>\n",
              "      <td>No</td>\n",
              "      <td>0</td>\n",
              "    </tr>\n",
              "    <tr>\n",
              "      <th>2</th>\n",
              "      <td>Commercial Sales and Marketing</td>\n",
              "      <td>First Degree or HND</td>\n",
              "      <td>Male</td>\n",
              "      <td>Direct Internal process</td>\n",
              "      <td>2</td>\n",
              "      <td>1987</td>\n",
              "      <td>7.500</td>\n",
              "      <td>2012</td>\n",
              "      <td>0</td>\n",
              "      <td>0</td>\n",
              "      <td>42</td>\n",
              "      <td>KATSINA</td>\n",
              "      <td>Yes</td>\n",
              "      <td>Married</td>\n",
              "      <td>No</td>\n",
              "      <td>No</td>\n",
              "      <td>0</td>\n",
              "    </tr>\n",
              "    <tr>\n",
              "      <th>3</th>\n",
              "      <td>Commercial Sales and Marketing</td>\n",
              "      <td>First Degree or HND</td>\n",
              "      <td>Male</td>\n",
              "      <td>Agency and others</td>\n",
              "      <td>3</td>\n",
              "      <td>1982</td>\n",
              "      <td>2.500</td>\n",
              "      <td>2009</td>\n",
              "      <td>0</td>\n",
              "      <td>0</td>\n",
              "      <td>42</td>\n",
              "      <td>NIGER</td>\n",
              "      <td>Yes</td>\n",
              "      <td>Single</td>\n",
              "      <td>No</td>\n",
              "      <td>No</td>\n",
              "      <td>1</td>\n",
              "    </tr>\n",
              "    <tr>\n",
              "      <th>4</th>\n",
              "      <td>Information and Strategy</td>\n",
              "      <td>First Degree or HND</td>\n",
              "      <td>Male</td>\n",
              "      <td>Direct Internal process</td>\n",
              "      <td>3</td>\n",
              "      <td>1990</td>\n",
              "      <td>7.500</td>\n",
              "      <td>2012</td>\n",
              "      <td>0</td>\n",
              "      <td>0</td>\n",
              "      <td>77</td>\n",
              "      <td>AKWA IBOM</td>\n",
              "      <td>Yes</td>\n",
              "      <td>Married</td>\n",
              "      <td>No</td>\n",
              "      <td>No</td>\n",
              "      <td>1</td>\n",
              "    </tr>\n",
              "  </tbody>\n",
              "</table>\n",
              "</div>"
            ],
            "text/plain": [
              "                                Division  ... No_of_previous_employers\n",
              "0         Commercial Sales and Marketing  ...                        0\n",
              "1  Customer Support and Field Operations  ...                        0\n",
              "2         Commercial Sales and Marketing  ...                        0\n",
              "3         Commercial Sales and Marketing  ...                        1\n",
              "4               Information and Strategy  ...                        1\n",
              "\n",
              "[5 rows x 17 columns]"
            ]
          },
          "metadata": {
            "tags": []
          },
          "execution_count": 100
        }
      ]
    },
    {
      "cell_type": "code",
      "metadata": {
        "id": "grWBJo-NQumc",
        "colab_type": "code",
        "outputId": "48db2aac-7d7d-4392-c7d7-18933d265ead",
        "colab": {
          "base_uri": "https://localhost:8080/",
          "height": 85
        }
      },
      "source": [
        "#one encode\n",
        "train['Channel_of_Recruitment'].value_counts()"
      ],
      "execution_count": 101,
      "outputs": [
        {
          "output_type": "execute_result",
          "data": {
            "text/plain": [
              "Agency and others                  21310\n",
              "Direct Internal process            16194\n",
              "Referral and Special candidates      808\n",
              "Name: Channel_of_Recruitment, dtype: int64"
            ]
          },
          "metadata": {
            "tags": []
          },
          "execution_count": 101
        }
      ]
    },
    {
      "cell_type": "code",
      "metadata": {
        "id": "lzVYREzPRKn8",
        "colab_type": "code",
        "outputId": "5991956a-74b8-4362-bea5-7510a3166e7b",
        "colab": {
          "base_uri": "https://localhost:8080/",
          "height": 51
        }
      },
      "source": [
        "train['Channel_of_Recruitment'].unique()"
      ],
      "execution_count": 102,
      "outputs": [
        {
          "output_type": "execute_result",
          "data": {
            "text/plain": [
              "array(['Direct Internal process', 'Agency and others',\n",
              "       'Referral and Special candidates'], dtype=object)"
            ]
          },
          "metadata": {
            "tags": []
          },
          "execution_count": 102
        }
      ]
    },
    {
      "cell_type": "code",
      "metadata": {
        "id": "T3VyPnhoRdxd",
        "colab_type": "code",
        "outputId": "d29787a7-fc35-4840-ac90-9b0d76201578",
        "colab": {
          "base_uri": "https://localhost:8080/",
          "height": 54
        }
      },
      "source": [
        "'''def convertChannelToFeature(desc):\n",
        "  Channel={\n",
        "      'Direct Internal process':'DIP',\n",
        "      'Agency and others':'AO',\n",
        "      'Referral and Special candidates':'RSC'\n",
        "      }\n",
        "  return Channel[desc]'''"
      ],
      "execution_count": 103,
      "outputs": [
        {
          "output_type": "execute_result",
          "data": {
            "text/plain": [
              "\"def convertChannelToFeature(desc):\\n  Channel={\\n      'Direct Internal process':'DIP',\\n      'Agency and others':'AO',\\n      'Referral and Special candidates':'RSC'\\n      }\\n  return Channel[desc]\""
            ]
          },
          "metadata": {
            "tags": []
          },
          "execution_count": 103
        }
      ]
    },
    {
      "cell_type": "code",
      "metadata": {
        "id": "k-Q47hqgSYsO",
        "colab_type": "code",
        "colab": {}
      },
      "source": [
        "#train['Channel_of_Recruitment']=train['Channel_of_Recruitment'].apply(convertChannelToFeature)"
      ],
      "execution_count": 0,
      "outputs": []
    },
    {
      "cell_type": "code",
      "metadata": {
        "id": "paqQh20QStp6",
        "colab_type": "code",
        "outputId": "b7f36a24-8b9d-40a8-e5fc-3fa8dbaf5583",
        "colab": {
          "base_uri": "https://localhost:8080/",
          "height": 411
        }
      },
      "source": [
        "train.head()"
      ],
      "execution_count": 105,
      "outputs": [
        {
          "output_type": "execute_result",
          "data": {
            "text/html": [
              "<div>\n",
              "<style scoped>\n",
              "    .dataframe tbody tr th:only-of-type {\n",
              "        vertical-align: middle;\n",
              "    }\n",
              "\n",
              "    .dataframe tbody tr th {\n",
              "        vertical-align: top;\n",
              "    }\n",
              "\n",
              "    .dataframe thead th {\n",
              "        text-align: right;\n",
              "    }\n",
              "</style>\n",
              "<table border=\"1\" class=\"dataframe\">\n",
              "  <thead>\n",
              "    <tr style=\"text-align: right;\">\n",
              "      <th></th>\n",
              "      <th>Division</th>\n",
              "      <th>Qualification</th>\n",
              "      <th>Gender</th>\n",
              "      <th>Channel_of_Recruitment</th>\n",
              "      <th>Trainings_Attended</th>\n",
              "      <th>Year_of_birth</th>\n",
              "      <th>Last_performance_score</th>\n",
              "      <th>Year_of_recruitment</th>\n",
              "      <th>Targets_met</th>\n",
              "      <th>Previous_Award</th>\n",
              "      <th>Training_score_average</th>\n",
              "      <th>State_Of_Origin</th>\n",
              "      <th>Foreign_schooled</th>\n",
              "      <th>Marital_Status</th>\n",
              "      <th>Past_Disciplinary_Action</th>\n",
              "      <th>Previous_IntraDepartmental_Movement</th>\n",
              "      <th>No_of_previous_employers</th>\n",
              "    </tr>\n",
              "  </thead>\n",
              "  <tbody>\n",
              "    <tr>\n",
              "      <th>0</th>\n",
              "      <td>Commercial Sales and Marketing</td>\n",
              "      <td>MSc, MBA and PhD</td>\n",
              "      <td>Female</td>\n",
              "      <td>Direct Internal process</td>\n",
              "      <td>2</td>\n",
              "      <td>1986</td>\n",
              "      <td>12.500</td>\n",
              "      <td>2011</td>\n",
              "      <td>1</td>\n",
              "      <td>0</td>\n",
              "      <td>41</td>\n",
              "      <td>ANAMBRA</td>\n",
              "      <td>No</td>\n",
              "      <td>Married</td>\n",
              "      <td>No</td>\n",
              "      <td>No</td>\n",
              "      <td>0</td>\n",
              "    </tr>\n",
              "    <tr>\n",
              "      <th>1</th>\n",
              "      <td>Customer Support and Field Operations</td>\n",
              "      <td>First Degree or HND</td>\n",
              "      <td>Male</td>\n",
              "      <td>Agency and others</td>\n",
              "      <td>2</td>\n",
              "      <td>1991</td>\n",
              "      <td>12.500</td>\n",
              "      <td>2015</td>\n",
              "      <td>0</td>\n",
              "      <td>0</td>\n",
              "      <td>52</td>\n",
              "      <td>ANAMBRA</td>\n",
              "      <td>Yes</td>\n",
              "      <td>Married</td>\n",
              "      <td>No</td>\n",
              "      <td>No</td>\n",
              "      <td>0</td>\n",
              "    </tr>\n",
              "    <tr>\n",
              "      <th>2</th>\n",
              "      <td>Commercial Sales and Marketing</td>\n",
              "      <td>First Degree or HND</td>\n",
              "      <td>Male</td>\n",
              "      <td>Direct Internal process</td>\n",
              "      <td>2</td>\n",
              "      <td>1987</td>\n",
              "      <td>7.500</td>\n",
              "      <td>2012</td>\n",
              "      <td>0</td>\n",
              "      <td>0</td>\n",
              "      <td>42</td>\n",
              "      <td>KATSINA</td>\n",
              "      <td>Yes</td>\n",
              "      <td>Married</td>\n",
              "      <td>No</td>\n",
              "      <td>No</td>\n",
              "      <td>0</td>\n",
              "    </tr>\n",
              "    <tr>\n",
              "      <th>3</th>\n",
              "      <td>Commercial Sales and Marketing</td>\n",
              "      <td>First Degree or HND</td>\n",
              "      <td>Male</td>\n",
              "      <td>Agency and others</td>\n",
              "      <td>3</td>\n",
              "      <td>1982</td>\n",
              "      <td>2.500</td>\n",
              "      <td>2009</td>\n",
              "      <td>0</td>\n",
              "      <td>0</td>\n",
              "      <td>42</td>\n",
              "      <td>NIGER</td>\n",
              "      <td>Yes</td>\n",
              "      <td>Single</td>\n",
              "      <td>No</td>\n",
              "      <td>No</td>\n",
              "      <td>1</td>\n",
              "    </tr>\n",
              "    <tr>\n",
              "      <th>4</th>\n",
              "      <td>Information and Strategy</td>\n",
              "      <td>First Degree or HND</td>\n",
              "      <td>Male</td>\n",
              "      <td>Direct Internal process</td>\n",
              "      <td>3</td>\n",
              "      <td>1990</td>\n",
              "      <td>7.500</td>\n",
              "      <td>2012</td>\n",
              "      <td>0</td>\n",
              "      <td>0</td>\n",
              "      <td>77</td>\n",
              "      <td>AKWA IBOM</td>\n",
              "      <td>Yes</td>\n",
              "      <td>Married</td>\n",
              "      <td>No</td>\n",
              "      <td>No</td>\n",
              "      <td>1</td>\n",
              "    </tr>\n",
              "  </tbody>\n",
              "</table>\n",
              "</div>"
            ],
            "text/plain": [
              "                                Division  ... No_of_previous_employers\n",
              "0         Commercial Sales and Marketing  ...                        0\n",
              "1  Customer Support and Field Operations  ...                        0\n",
              "2         Commercial Sales and Marketing  ...                        0\n",
              "3         Commercial Sales and Marketing  ...                        1\n",
              "4               Information and Strategy  ...                        1\n",
              "\n",
              "[5 rows x 17 columns]"
            ]
          },
          "metadata": {
            "tags": []
          },
          "execution_count": 105
        }
      ]
    },
    {
      "cell_type": "code",
      "metadata": {
        "id": "xyRdtBCxS5MV",
        "colab_type": "code",
        "outputId": "e19dc17c-4874-42ae-b850-644ce6bb6d3b",
        "colab": {
          "base_uri": "https://localhost:8080/",
          "height": 187
        }
      },
      "source": [
        "qualitative"
      ],
      "execution_count": 106,
      "outputs": [
        {
          "output_type": "execute_result",
          "data": {
            "text/plain": [
              "['Division',\n",
              " 'Qualification',\n",
              " 'Gender',\n",
              " 'Channel_of_Recruitment',\n",
              " 'State_Of_Origin',\n",
              " 'Foreign_schooled',\n",
              " 'Marital_Status',\n",
              " 'Past_Disciplinary_Action',\n",
              " 'Previous_IntraDepartmental_Movement',\n",
              " 'No_of_previous_employers']"
            ]
          },
          "metadata": {
            "tags": []
          },
          "execution_count": 106
        }
      ]
    },
    {
      "cell_type": "code",
      "metadata": {
        "id": "-mxiLbkQS-Gm",
        "colab_type": "code",
        "outputId": "712c7445-077f-427d-b8f1-fa06049a2f48",
        "colab": {
          "base_uri": "https://localhost:8080/",
          "height": 663
        }
      },
      "source": [
        "train['State_Of_Origin'].value_counts()"
      ],
      "execution_count": 107,
      "outputs": [
        {
          "output_type": "execute_result",
          "data": {
            "text/plain": [
              "LAGOS          6204\n",
              "FCT            2389\n",
              "OGUN           2302\n",
              "RIVERS         2222\n",
              "ANAMBRA        1710\n",
              "KANO           1649\n",
              "DELTA          1594\n",
              "OYO            1508\n",
              "KADUNA         1399\n",
              "IMO            1307\n",
              "EDO            1259\n",
              "ENUGU          1025\n",
              "ABIA            950\n",
              "OSUN            929\n",
              "ONDO            875\n",
              "NIGER           857\n",
              "KWARA           765\n",
              "PLATEAU         739\n",
              "AKWA IBOM       673\n",
              "NASSARAWA       632\n",
              "KATSINA         615\n",
              "ADAMAWA         605\n",
              "BENUE           579\n",
              "BAUCHI          557\n",
              "KOGI            542\n",
              "SOKOTO          499\n",
              "CROSS RIVER     495\n",
              "EKITI           455\n",
              "BORNO           447\n",
              "TARABA          400\n",
              "KEBBI           393\n",
              "BAYELSA         324\n",
              "EBONYI          313\n",
              "GOMBE           291\n",
              "ZAMFARA         290\n",
              "JIGAWA          262\n",
              "YOBE            257\n",
              "Name: State_Of_Origin, dtype: int64"
            ]
          },
          "metadata": {
            "tags": []
          },
          "execution_count": 107
        }
      ]
    },
    {
      "cell_type": "code",
      "metadata": {
        "id": "DAFnGJWiTUfV",
        "colab_type": "code",
        "outputId": "ed90a4ea-6daf-48a7-ce83-02fe1f37233d",
        "colab": {
          "base_uri": "https://localhost:8080/",
          "height": 54
        }
      },
      "source": [
        "#categorized into six geo-political zones\n",
        "'''def ConvertToGeoPoliticalZone(desc):\n",
        "  \n",
        "  State={\n",
        "      \n",
        "      'BENUE':'NC',\n",
        "      'KOGI':'NC',\n",
        "      'KWARA':'NC',\n",
        "      'NASSARAWA':'NC',\n",
        "      'NIGER':'NC',\n",
        "      'PLATEAU':'NC',\n",
        "      'FCT':'NC',\n",
        "      \n",
        "      'ADAMAWA':'NE',\n",
        "      'BAUCHI':'NE',\n",
        "      'BORNO':'NE',\n",
        "      'GOMBE':'NE',\n",
        "      'TARABA':'NE',\n",
        "      'YOBE':'NE',\n",
        "      \n",
        "      \n",
        "          \n",
        "      'JIGAWA':'NW',\n",
        "      'KADUNA':'NW',\n",
        "      'KANO':'NW',\n",
        "      'KATSINA':'NW',\n",
        "      'KEBBI':'NW',\n",
        "      'SOKOTO':'NW',\n",
        "      'ZAMFARA':'NW',\n",
        "      \n",
        "          \n",
        "      'ABIA':'SE',\n",
        "      'ANAMBRA':'SE',\n",
        "      'EBONYI':'SE',\n",
        "      'ENUGU':'SE',\n",
        "      'IMO':'SE',\n",
        "      \n",
        "      'AKWA IBOM':'SS',\n",
        "      'BAYELSA':'SS',\n",
        "      'CROSS RIVER':'SS',\n",
        "      'RIVERS':'SS',\n",
        "      'DELTA':'SS',\n",
        "      'EDO':'SS',\n",
        "     \n",
        "        \n",
        "      'EKITI':'SW',\n",
        "      'LAGOS':'SW',\n",
        "      'OGUN':'SW',\n",
        "      'ONDO':'SW',\n",
        "      'OSUN':'SW',\n",
        "      'OYO':'SW'\n",
        "      }\n",
        "  return State[desc]'''"
      ],
      "execution_count": 108,
      "outputs": [
        {
          "output_type": "execute_result",
          "data": {
            "text/plain": [
              "\"def ConvertToGeoPoliticalZone(desc):\\n  \\n  State={\\n      \\n      'BENUE':'NC',\\n      'KOGI':'NC',\\n      'KWARA':'NC',\\n      'NASSARAWA':'NC',\\n      'NIGER':'NC',\\n      'PLATEAU':'NC',\\n      'FCT':'NC',\\n      \\n      'ADAMAWA':'NE',\\n      'BAUCHI':'NE',\\n      'BORNO':'NE',\\n      'GOMBE':'NE',\\n      'TARABA':'NE',\\n      'YOBE':'NE',\\n      \\n      \\n          \\n      'JIGAWA':'NW',\\n      'KADUNA':'NW',\\n      'KANO':'NW',\\n      'KATSINA':'NW',\\n      'KEBBI':'NW',\\n      'SOKOTO':'NW',\\n      'ZAMFARA':'NW',\\n      \\n          \\n      'ABIA':'SE',\\n      'ANAMBRA':'SE',\\n      'EBONYI':'SE',\\n      'ENUGU':'SE',\\n      'IMO':'SE',\\n      \\n      'AKWA IBOM':'SS',\\n      'BAYELSA':'SS',\\n      'CROSS RIVER':'SS',\\n      'RIVERS':'SS',\\n      'DELTA':'SS',\\n      'EDO':'SS',\\n     \\n        \\n      'EKITI':'SW',\\n      'LAGOS':'SW',\\n      'OGUN':'SW',\\n      'ONDO':'SW',\\n      'OSUN':'SW',\\n      'OYO':'SW'\\n      }\\n  return State[desc]\""
            ]
          },
          "metadata": {
            "tags": []
          },
          "execution_count": 108
        }
      ]
    },
    {
      "cell_type": "code",
      "metadata": {
        "id": "s1shEAHOY6e2",
        "colab_type": "code",
        "colab": {}
      },
      "source": [
        "#one hot encode\n",
        "#train['State_Of_Origin']=train['State_Of_Origin'].apply(ConvertToGeoPoliticalZone)"
      ],
      "execution_count": 0,
      "outputs": []
    },
    {
      "cell_type": "code",
      "metadata": {
        "id": "XCZS_H21b4jN",
        "colab_type": "code",
        "outputId": "056aca8f-59f8-4f13-e627-654e8db5e8ed",
        "colab": {
          "base_uri": "https://localhost:8080/",
          "height": 411
        }
      },
      "source": [
        "train.head()"
      ],
      "execution_count": 110,
      "outputs": [
        {
          "output_type": "execute_result",
          "data": {
            "text/html": [
              "<div>\n",
              "<style scoped>\n",
              "    .dataframe tbody tr th:only-of-type {\n",
              "        vertical-align: middle;\n",
              "    }\n",
              "\n",
              "    .dataframe tbody tr th {\n",
              "        vertical-align: top;\n",
              "    }\n",
              "\n",
              "    .dataframe thead th {\n",
              "        text-align: right;\n",
              "    }\n",
              "</style>\n",
              "<table border=\"1\" class=\"dataframe\">\n",
              "  <thead>\n",
              "    <tr style=\"text-align: right;\">\n",
              "      <th></th>\n",
              "      <th>Division</th>\n",
              "      <th>Qualification</th>\n",
              "      <th>Gender</th>\n",
              "      <th>Channel_of_Recruitment</th>\n",
              "      <th>Trainings_Attended</th>\n",
              "      <th>Year_of_birth</th>\n",
              "      <th>Last_performance_score</th>\n",
              "      <th>Year_of_recruitment</th>\n",
              "      <th>Targets_met</th>\n",
              "      <th>Previous_Award</th>\n",
              "      <th>Training_score_average</th>\n",
              "      <th>State_Of_Origin</th>\n",
              "      <th>Foreign_schooled</th>\n",
              "      <th>Marital_Status</th>\n",
              "      <th>Past_Disciplinary_Action</th>\n",
              "      <th>Previous_IntraDepartmental_Movement</th>\n",
              "      <th>No_of_previous_employers</th>\n",
              "    </tr>\n",
              "  </thead>\n",
              "  <tbody>\n",
              "    <tr>\n",
              "      <th>0</th>\n",
              "      <td>Commercial Sales and Marketing</td>\n",
              "      <td>MSc, MBA and PhD</td>\n",
              "      <td>Female</td>\n",
              "      <td>Direct Internal process</td>\n",
              "      <td>2</td>\n",
              "      <td>1986</td>\n",
              "      <td>12.500</td>\n",
              "      <td>2011</td>\n",
              "      <td>1</td>\n",
              "      <td>0</td>\n",
              "      <td>41</td>\n",
              "      <td>ANAMBRA</td>\n",
              "      <td>No</td>\n",
              "      <td>Married</td>\n",
              "      <td>No</td>\n",
              "      <td>No</td>\n",
              "      <td>0</td>\n",
              "    </tr>\n",
              "    <tr>\n",
              "      <th>1</th>\n",
              "      <td>Customer Support and Field Operations</td>\n",
              "      <td>First Degree or HND</td>\n",
              "      <td>Male</td>\n",
              "      <td>Agency and others</td>\n",
              "      <td>2</td>\n",
              "      <td>1991</td>\n",
              "      <td>12.500</td>\n",
              "      <td>2015</td>\n",
              "      <td>0</td>\n",
              "      <td>0</td>\n",
              "      <td>52</td>\n",
              "      <td>ANAMBRA</td>\n",
              "      <td>Yes</td>\n",
              "      <td>Married</td>\n",
              "      <td>No</td>\n",
              "      <td>No</td>\n",
              "      <td>0</td>\n",
              "    </tr>\n",
              "    <tr>\n",
              "      <th>2</th>\n",
              "      <td>Commercial Sales and Marketing</td>\n",
              "      <td>First Degree or HND</td>\n",
              "      <td>Male</td>\n",
              "      <td>Direct Internal process</td>\n",
              "      <td>2</td>\n",
              "      <td>1987</td>\n",
              "      <td>7.500</td>\n",
              "      <td>2012</td>\n",
              "      <td>0</td>\n",
              "      <td>0</td>\n",
              "      <td>42</td>\n",
              "      <td>KATSINA</td>\n",
              "      <td>Yes</td>\n",
              "      <td>Married</td>\n",
              "      <td>No</td>\n",
              "      <td>No</td>\n",
              "      <td>0</td>\n",
              "    </tr>\n",
              "    <tr>\n",
              "      <th>3</th>\n",
              "      <td>Commercial Sales and Marketing</td>\n",
              "      <td>First Degree or HND</td>\n",
              "      <td>Male</td>\n",
              "      <td>Agency and others</td>\n",
              "      <td>3</td>\n",
              "      <td>1982</td>\n",
              "      <td>2.500</td>\n",
              "      <td>2009</td>\n",
              "      <td>0</td>\n",
              "      <td>0</td>\n",
              "      <td>42</td>\n",
              "      <td>NIGER</td>\n",
              "      <td>Yes</td>\n",
              "      <td>Single</td>\n",
              "      <td>No</td>\n",
              "      <td>No</td>\n",
              "      <td>1</td>\n",
              "    </tr>\n",
              "    <tr>\n",
              "      <th>4</th>\n",
              "      <td>Information and Strategy</td>\n",
              "      <td>First Degree or HND</td>\n",
              "      <td>Male</td>\n",
              "      <td>Direct Internal process</td>\n",
              "      <td>3</td>\n",
              "      <td>1990</td>\n",
              "      <td>7.500</td>\n",
              "      <td>2012</td>\n",
              "      <td>0</td>\n",
              "      <td>0</td>\n",
              "      <td>77</td>\n",
              "      <td>AKWA IBOM</td>\n",
              "      <td>Yes</td>\n",
              "      <td>Married</td>\n",
              "      <td>No</td>\n",
              "      <td>No</td>\n",
              "      <td>1</td>\n",
              "    </tr>\n",
              "  </tbody>\n",
              "</table>\n",
              "</div>"
            ],
            "text/plain": [
              "                                Division  ... No_of_previous_employers\n",
              "0         Commercial Sales and Marketing  ...                        0\n",
              "1  Customer Support and Field Operations  ...                        0\n",
              "2         Commercial Sales and Marketing  ...                        0\n",
              "3         Commercial Sales and Marketing  ...                        1\n",
              "4               Information and Strategy  ...                        1\n",
              "\n",
              "[5 rows x 17 columns]"
            ]
          },
          "metadata": {
            "tags": []
          },
          "execution_count": 110
        }
      ]
    },
    {
      "cell_type": "code",
      "metadata": {
        "id": "YTy_JavAcGxY",
        "colab_type": "code",
        "outputId": "b50fbbc0-1752-4208-d472-36b1004a03cd",
        "colab": {
          "base_uri": "https://localhost:8080/",
          "height": 68
        }
      },
      "source": [
        "#hirarchy coding 2,1 \n",
        "#one hot encode first later perform hirarchical encoding\n",
        "train['Foreign_schooled'].value_counts()"
      ],
      "execution_count": 111,
      "outputs": [
        {
          "output_type": "execute_result",
          "data": {
            "text/plain": [
              "Yes    34995\n",
              "No      3317\n",
              "Name: Foreign_schooled, dtype: int64"
            ]
          },
          "metadata": {
            "tags": []
          },
          "execution_count": 111
        }
      ]
    },
    {
      "cell_type": "code",
      "metadata": {
        "id": "ZWvsbPYedwix",
        "colab_type": "code",
        "colab": {}
      },
      "source": [
        "#we could add hirarchical feature of people that foreigned schooled and PHD:4,with First degree :3,Local(PHD):3,Local Bsc:2,uneducated:1,noinfo:1 "
      ],
      "execution_count": 0,
      "outputs": []
    },
    {
      "cell_type": "code",
      "metadata": {
        "id": "2GXFcU5scZxI",
        "colab_type": "code",
        "outputId": "c391686f-e59d-4990-85a2-7def4fd214bb",
        "colab": {
          "base_uri": "https://localhost:8080/",
          "height": 85
        }
      },
      "source": [
        "#one ehot encode\n",
        "train['Marital_Status'].value_counts()"
      ],
      "execution_count": 113,
      "outputs": [
        {
          "output_type": "execute_result",
          "data": {
            "text/plain": [
              "Married     31022\n",
              "Single       6927\n",
              "Not_Sure      363\n",
              "Name: Marital_Status, dtype: int64"
            ]
          },
          "metadata": {
            "tags": []
          },
          "execution_count": 113
        }
      ]
    },
    {
      "cell_type": "code",
      "metadata": {
        "id": "KYbMmfYacqfg",
        "colab_type": "code",
        "outputId": "5422385d-18d4-45f6-e2dc-562b33f096fb",
        "colab": {
          "base_uri": "https://localhost:8080/",
          "height": 68
        }
      },
      "source": [
        "#Do Hirarchical encoding NO:1  ,yes :0\n",
        "train['Past_Disciplinary_Action'].value_counts()"
      ],
      "execution_count": 114,
      "outputs": [
        {
          "output_type": "execute_result",
          "data": {
            "text/plain": [
              "No     38161\n",
              "Yes      151\n",
              "Name: Past_Disciplinary_Action, dtype: int64"
            ]
          },
          "metadata": {
            "tags": []
          },
          "execution_count": 114
        }
      ]
    },
    {
      "cell_type": "code",
      "metadata": {
        "id": "h9gfTUmjgsYJ",
        "colab_type": "code",
        "outputId": "f3ce5793-3fc7-45ad-9a34-2c61e58c738f",
        "colab": {
          "base_uri": "https://localhost:8080/",
          "height": 54
        }
      },
      "source": [
        "'''def ConvertDisciplinaryToFeature(desc):\n",
        "  DisciplinaryAction={\n",
        "      'Yes':0,\n",
        "      'No':1\n",
        "      \n",
        "  }\n",
        "  return DisciplinaryAction[desc]'''"
      ],
      "execution_count": 115,
      "outputs": [
        {
          "output_type": "execute_result",
          "data": {
            "text/plain": [
              "\"def ConvertDisciplinaryToFeature(desc):\\n  DisciplinaryAction={\\n      'Yes':0,\\n      'No':1\\n      \\n  }\\n  return DisciplinaryAction[desc]\""
            ]
          },
          "metadata": {
            "tags": []
          },
          "execution_count": 115
        }
      ]
    },
    {
      "cell_type": "code",
      "metadata": {
        "id": "CYHuDe-rhY47",
        "colab_type": "code",
        "colab": {}
      },
      "source": [
        "#it is logical to rate those without dicsciplinary action higher than those that have\n",
        "#train['Past_Disciplinary_Action']=train['Past_Disciplinary_Action'].apply(ConvertDisciplinaryToFeature)"
      ],
      "execution_count": 0,
      "outputs": []
    },
    {
      "cell_type": "code",
      "metadata": {
        "id": "UJqD3iUlhsih",
        "colab_type": "code",
        "outputId": "725b7081-1d51-4e3c-a3ca-4c6ea2cd9148",
        "colab": {
          "base_uri": "https://localhost:8080/",
          "height": 411
        }
      },
      "source": [
        "train.head()"
      ],
      "execution_count": 117,
      "outputs": [
        {
          "output_type": "execute_result",
          "data": {
            "text/html": [
              "<div>\n",
              "<style scoped>\n",
              "    .dataframe tbody tr th:only-of-type {\n",
              "        vertical-align: middle;\n",
              "    }\n",
              "\n",
              "    .dataframe tbody tr th {\n",
              "        vertical-align: top;\n",
              "    }\n",
              "\n",
              "    .dataframe thead th {\n",
              "        text-align: right;\n",
              "    }\n",
              "</style>\n",
              "<table border=\"1\" class=\"dataframe\">\n",
              "  <thead>\n",
              "    <tr style=\"text-align: right;\">\n",
              "      <th></th>\n",
              "      <th>Division</th>\n",
              "      <th>Qualification</th>\n",
              "      <th>Gender</th>\n",
              "      <th>Channel_of_Recruitment</th>\n",
              "      <th>Trainings_Attended</th>\n",
              "      <th>Year_of_birth</th>\n",
              "      <th>Last_performance_score</th>\n",
              "      <th>Year_of_recruitment</th>\n",
              "      <th>Targets_met</th>\n",
              "      <th>Previous_Award</th>\n",
              "      <th>Training_score_average</th>\n",
              "      <th>State_Of_Origin</th>\n",
              "      <th>Foreign_schooled</th>\n",
              "      <th>Marital_Status</th>\n",
              "      <th>Past_Disciplinary_Action</th>\n",
              "      <th>Previous_IntraDepartmental_Movement</th>\n",
              "      <th>No_of_previous_employers</th>\n",
              "    </tr>\n",
              "  </thead>\n",
              "  <tbody>\n",
              "    <tr>\n",
              "      <th>0</th>\n",
              "      <td>Commercial Sales and Marketing</td>\n",
              "      <td>MSc, MBA and PhD</td>\n",
              "      <td>Female</td>\n",
              "      <td>Direct Internal process</td>\n",
              "      <td>2</td>\n",
              "      <td>1986</td>\n",
              "      <td>12.500</td>\n",
              "      <td>2011</td>\n",
              "      <td>1</td>\n",
              "      <td>0</td>\n",
              "      <td>41</td>\n",
              "      <td>ANAMBRA</td>\n",
              "      <td>No</td>\n",
              "      <td>Married</td>\n",
              "      <td>No</td>\n",
              "      <td>No</td>\n",
              "      <td>0</td>\n",
              "    </tr>\n",
              "    <tr>\n",
              "      <th>1</th>\n",
              "      <td>Customer Support and Field Operations</td>\n",
              "      <td>First Degree or HND</td>\n",
              "      <td>Male</td>\n",
              "      <td>Agency and others</td>\n",
              "      <td>2</td>\n",
              "      <td>1991</td>\n",
              "      <td>12.500</td>\n",
              "      <td>2015</td>\n",
              "      <td>0</td>\n",
              "      <td>0</td>\n",
              "      <td>52</td>\n",
              "      <td>ANAMBRA</td>\n",
              "      <td>Yes</td>\n",
              "      <td>Married</td>\n",
              "      <td>No</td>\n",
              "      <td>No</td>\n",
              "      <td>0</td>\n",
              "    </tr>\n",
              "    <tr>\n",
              "      <th>2</th>\n",
              "      <td>Commercial Sales and Marketing</td>\n",
              "      <td>First Degree or HND</td>\n",
              "      <td>Male</td>\n",
              "      <td>Direct Internal process</td>\n",
              "      <td>2</td>\n",
              "      <td>1987</td>\n",
              "      <td>7.500</td>\n",
              "      <td>2012</td>\n",
              "      <td>0</td>\n",
              "      <td>0</td>\n",
              "      <td>42</td>\n",
              "      <td>KATSINA</td>\n",
              "      <td>Yes</td>\n",
              "      <td>Married</td>\n",
              "      <td>No</td>\n",
              "      <td>No</td>\n",
              "      <td>0</td>\n",
              "    </tr>\n",
              "    <tr>\n",
              "      <th>3</th>\n",
              "      <td>Commercial Sales and Marketing</td>\n",
              "      <td>First Degree or HND</td>\n",
              "      <td>Male</td>\n",
              "      <td>Agency and others</td>\n",
              "      <td>3</td>\n",
              "      <td>1982</td>\n",
              "      <td>2.500</td>\n",
              "      <td>2009</td>\n",
              "      <td>0</td>\n",
              "      <td>0</td>\n",
              "      <td>42</td>\n",
              "      <td>NIGER</td>\n",
              "      <td>Yes</td>\n",
              "      <td>Single</td>\n",
              "      <td>No</td>\n",
              "      <td>No</td>\n",
              "      <td>1</td>\n",
              "    </tr>\n",
              "    <tr>\n",
              "      <th>4</th>\n",
              "      <td>Information and Strategy</td>\n",
              "      <td>First Degree or HND</td>\n",
              "      <td>Male</td>\n",
              "      <td>Direct Internal process</td>\n",
              "      <td>3</td>\n",
              "      <td>1990</td>\n",
              "      <td>7.500</td>\n",
              "      <td>2012</td>\n",
              "      <td>0</td>\n",
              "      <td>0</td>\n",
              "      <td>77</td>\n",
              "      <td>AKWA IBOM</td>\n",
              "      <td>Yes</td>\n",
              "      <td>Married</td>\n",
              "      <td>No</td>\n",
              "      <td>No</td>\n",
              "      <td>1</td>\n",
              "    </tr>\n",
              "  </tbody>\n",
              "</table>\n",
              "</div>"
            ],
            "text/plain": [
              "                                Division  ... No_of_previous_employers\n",
              "0         Commercial Sales and Marketing  ...                        0\n",
              "1  Customer Support and Field Operations  ...                        0\n",
              "2         Commercial Sales and Marketing  ...                        0\n",
              "3         Commercial Sales and Marketing  ...                        1\n",
              "4               Information and Strategy  ...                        1\n",
              "\n",
              "[5 rows x 17 columns]"
            ]
          },
          "metadata": {
            "tags": []
          },
          "execution_count": 117
        }
      ]
    },
    {
      "cell_type": "code",
      "metadata": {
        "id": "WplOp3iBiW6g",
        "colab_type": "code",
        "outputId": "9c5561c4-b6b6-451b-e159-9ab4c7760104",
        "colab": {
          "base_uri": "https://localhost:8080/",
          "height": 68
        }
      },
      "source": [
        "\n",
        "#You might want to try rating those with more intra deptmental movement high cos looks like they might understand the flow of the business more\n",
        "#will try one hot encoding first\n",
        "train['Previous_IntraDepartmental_Movement'].value_counts()"
      ],
      "execution_count": 118,
      "outputs": [
        {
          "output_type": "execute_result",
          "data": {
            "text/plain": [
              "No     34709\n",
              "Yes     3603\n",
              "Name: Previous_IntraDepartmental_Movement, dtype: int64"
            ]
          },
          "metadata": {
            "tags": []
          },
          "execution_count": 118
        }
      ]
    },
    {
      "cell_type": "code",
      "metadata": {
        "id": "XGpqD2PjmJu0",
        "colab_type": "code",
        "outputId": "9518abaa-1b86-4874-80f4-8865f33d6f8b",
        "colab": {
          "base_uri": "https://localhost:8080/",
          "height": 153
        }
      },
      "source": [
        "train['No_of_previous_employers'].value_counts()"
      ],
      "execution_count": 119,
      "outputs": [
        {
          "output_type": "execute_result",
          "data": {
            "text/plain": [
              "1              18867\n",
              "0              13272\n",
              "2               1918\n",
              "3               1587\n",
              "4               1324\n",
              "5                943\n",
              "More than 5      401\n",
              "Name: No_of_previous_employers, dtype: int64"
            ]
          },
          "metadata": {
            "tags": []
          },
          "execution_count": 119
        }
      ]
    },
    {
      "cell_type": "code",
      "metadata": {
        "id": "A3HdmqsWmzKn",
        "colab_type": "code",
        "outputId": "fca3f330-6b21-4945-f422-ebcdf19862fd",
        "colab": {
          "base_uri": "https://localhost:8080/",
          "height": 34
        }
      },
      "source": [
        "train['No_of_previous_employers'].unique()"
      ],
      "execution_count": 120,
      "outputs": [
        {
          "output_type": "execute_result",
          "data": {
            "text/plain": [
              "array(['0', '1', '4', '3', '2', 'More than 5', '5'], dtype=object)"
            ]
          },
          "metadata": {
            "tags": []
          },
          "execution_count": 120
        }
      ]
    },
    {
      "cell_type": "code",
      "metadata": {
        "id": "uL_bxexMoSCB",
        "colab_type": "code",
        "outputId": "f31636a5-98fb-4c3a-a7d5-20b0e56e4904",
        "colab": {
          "base_uri": "https://localhost:8080/",
          "height": 629
        }
      },
      "source": [
        "#no of years spent in establishment can be calculated\n",
        "train['Year_of_recruitment'].value_counts()"
      ],
      "execution_count": 121,
      "outputs": [
        {
          "output_type": "execute_result",
          "data": {
            "text/plain": [
              "2016    4916\n",
              "2015    4757\n",
              "2017    4656\n",
              "2014    4101\n",
              "2012    3909\n",
              "2013    3314\n",
              "2018    3194\n",
              "2011    2011\n",
              "2010    1865\n",
              "2009    1497\n",
              "2008     619\n",
              "2007     570\n",
              "2006     472\n",
              "2004     422\n",
              "2003     394\n",
              "2005     376\n",
              "2002     293\n",
              "2001     269\n",
              "2000     230\n",
              "1999      90\n",
              "1998      53\n",
              "1995      51\n",
              "1996      46\n",
              "1997      38\n",
              "1994      35\n",
              "1993      27\n",
              "1990      22\n",
              "1991      21\n",
              "1992      20\n",
              "1988      13\n",
              "1989      11\n",
              "1987       8\n",
              "1986       7\n",
              "1985       4\n",
              "1982       1\n",
              "Name: Year_of_recruitment, dtype: int64"
            ]
          },
          "metadata": {
            "tags": []
          },
          "execution_count": 121
        }
      ]
    },
    {
      "cell_type": "code",
      "metadata": {
        "id": "UrKiHfbgpT-f",
        "colab_type": "code",
        "outputId": "01d3b259-ba80-4938-f680-e95d47f9a2aa",
        "colab": {
          "base_uri": "https://localhost:8080/",
          "height": 867
        }
      },
      "source": [
        "#age feature could be added\n",
        "train['Year_of_birth'].value_counts()"
      ],
      "execution_count": 122,
      "outputs": [
        {
          "output_type": "execute_result",
          "data": {
            "text/plain": [
              "1991    2544\n",
              "1990    2506\n",
              "1989    2441\n",
              "1992    2380\n",
              "1988    2268\n",
              "1993    2217\n",
              "1987    2157\n",
              "1994    1985\n",
              "1986    1882\n",
              "1985    1766\n",
              "1984    1505\n",
              "1995    1416\n",
              "1983    1342\n",
              "1982    1195\n",
              "1981    1162\n",
              "1996     910\n",
              "1980     893\n",
              "1979     797\n",
              "1978     685\n",
              "1977     600\n",
              "1997     596\n",
              "1976     551\n",
              "1975     508\n",
              "1973     397\n",
              "1974     394\n",
              "1971     353\n",
              "1972     312\n",
              "1998     305\n",
              "1970     256\n",
              "1969     249\n",
              "1968     233\n",
              "1966     207\n",
              "1967     195\n",
              "1965     178\n",
              "1964     168\n",
              "1999     167\n",
              "1963     161\n",
              "1961     147\n",
              "1962     134\n",
              "2001      71\n",
              "2000      66\n",
              "1957       4\n",
              "1958       3\n",
              "1960       1\n",
              "1959       1\n",
              "1956       1\n",
              "1955       1\n",
              "1950       1\n",
              "1952       1\n",
              "Name: Year_of_birth, dtype: int64"
            ]
          },
          "metadata": {
            "tags": []
          },
          "execution_count": 122
        }
      ]
    },
    {
      "cell_type": "code",
      "metadata": {
        "id": "70hibyD-uc6q",
        "colab_type": "code",
        "colab": {}
      },
      "source": [
        "from datetime import date\n",
        "def CalculateYear(year):\n",
        "  today=date.today()\n",
        "  age=today.year-year\n",
        "  return age\n"
      ],
      "execution_count": 0,
      "outputs": []
    },
    {
      "cell_type": "code",
      "metadata": {
        "id": "p6K03XqcyMpE",
        "colab_type": "code",
        "colab": {}
      },
      "source": [
        "train['No_Of_Year_Spent']=train['Year_of_recruitment'].apply(CalculateYear)\n",
        "test['No_Of_Year_Spent']=test['Year_of_recruitment'].apply(CalculateYear)"
      ],
      "execution_count": 0,
      "outputs": []
    },
    {
      "cell_type": "code",
      "metadata": {
        "id": "D0bNatyFUbjV",
        "colab_type": "code",
        "colab": {}
      },
      "source": [
        "train['Age_in_years']=train['Year_of_birth'].apply(CalculateYear)\n",
        "test['Age_in_years']=test['Year_of_birth'].apply(CalculateYear)"
      ],
      "execution_count": 0,
      "outputs": []
    },
    {
      "cell_type": "code",
      "metadata": {
        "id": "Chjme7l0T0LX",
        "colab_type": "code",
        "colab": {
          "base_uri": "https://localhost:8080/",
          "height": 411
        },
        "outputId": "2907f3e6-e07d-4646-f3e1-8131b8f3621b"
      },
      "source": [
        "train.head()\n"
      ],
      "execution_count": 126,
      "outputs": [
        {
          "output_type": "execute_result",
          "data": {
            "text/html": [
              "<div>\n",
              "<style scoped>\n",
              "    .dataframe tbody tr th:only-of-type {\n",
              "        vertical-align: middle;\n",
              "    }\n",
              "\n",
              "    .dataframe tbody tr th {\n",
              "        vertical-align: top;\n",
              "    }\n",
              "\n",
              "    .dataframe thead th {\n",
              "        text-align: right;\n",
              "    }\n",
              "</style>\n",
              "<table border=\"1\" class=\"dataframe\">\n",
              "  <thead>\n",
              "    <tr style=\"text-align: right;\">\n",
              "      <th></th>\n",
              "      <th>Division</th>\n",
              "      <th>Qualification</th>\n",
              "      <th>Gender</th>\n",
              "      <th>Channel_of_Recruitment</th>\n",
              "      <th>Trainings_Attended</th>\n",
              "      <th>Year_of_birth</th>\n",
              "      <th>Last_performance_score</th>\n",
              "      <th>Year_of_recruitment</th>\n",
              "      <th>Targets_met</th>\n",
              "      <th>Previous_Award</th>\n",
              "      <th>Training_score_average</th>\n",
              "      <th>State_Of_Origin</th>\n",
              "      <th>Foreign_schooled</th>\n",
              "      <th>Marital_Status</th>\n",
              "      <th>Past_Disciplinary_Action</th>\n",
              "      <th>Previous_IntraDepartmental_Movement</th>\n",
              "      <th>No_of_previous_employers</th>\n",
              "      <th>No_Of_Year_Spent</th>\n",
              "      <th>Age_in_years</th>\n",
              "    </tr>\n",
              "  </thead>\n",
              "  <tbody>\n",
              "    <tr>\n",
              "      <th>0</th>\n",
              "      <td>Commercial Sales and Marketing</td>\n",
              "      <td>MSc, MBA and PhD</td>\n",
              "      <td>Female</td>\n",
              "      <td>Direct Internal process</td>\n",
              "      <td>2</td>\n",
              "      <td>1986</td>\n",
              "      <td>12.500</td>\n",
              "      <td>2011</td>\n",
              "      <td>1</td>\n",
              "      <td>0</td>\n",
              "      <td>41</td>\n",
              "      <td>ANAMBRA</td>\n",
              "      <td>No</td>\n",
              "      <td>Married</td>\n",
              "      <td>No</td>\n",
              "      <td>No</td>\n",
              "      <td>0</td>\n",
              "      <td>8</td>\n",
              "      <td>33</td>\n",
              "    </tr>\n",
              "    <tr>\n",
              "      <th>1</th>\n",
              "      <td>Customer Support and Field Operations</td>\n",
              "      <td>First Degree or HND</td>\n",
              "      <td>Male</td>\n",
              "      <td>Agency and others</td>\n",
              "      <td>2</td>\n",
              "      <td>1991</td>\n",
              "      <td>12.500</td>\n",
              "      <td>2015</td>\n",
              "      <td>0</td>\n",
              "      <td>0</td>\n",
              "      <td>52</td>\n",
              "      <td>ANAMBRA</td>\n",
              "      <td>Yes</td>\n",
              "      <td>Married</td>\n",
              "      <td>No</td>\n",
              "      <td>No</td>\n",
              "      <td>0</td>\n",
              "      <td>4</td>\n",
              "      <td>28</td>\n",
              "    </tr>\n",
              "    <tr>\n",
              "      <th>2</th>\n",
              "      <td>Commercial Sales and Marketing</td>\n",
              "      <td>First Degree or HND</td>\n",
              "      <td>Male</td>\n",
              "      <td>Direct Internal process</td>\n",
              "      <td>2</td>\n",
              "      <td>1987</td>\n",
              "      <td>7.500</td>\n",
              "      <td>2012</td>\n",
              "      <td>0</td>\n",
              "      <td>0</td>\n",
              "      <td>42</td>\n",
              "      <td>KATSINA</td>\n",
              "      <td>Yes</td>\n",
              "      <td>Married</td>\n",
              "      <td>No</td>\n",
              "      <td>No</td>\n",
              "      <td>0</td>\n",
              "      <td>7</td>\n",
              "      <td>32</td>\n",
              "    </tr>\n",
              "    <tr>\n",
              "      <th>3</th>\n",
              "      <td>Commercial Sales and Marketing</td>\n",
              "      <td>First Degree or HND</td>\n",
              "      <td>Male</td>\n",
              "      <td>Agency and others</td>\n",
              "      <td>3</td>\n",
              "      <td>1982</td>\n",
              "      <td>2.500</td>\n",
              "      <td>2009</td>\n",
              "      <td>0</td>\n",
              "      <td>0</td>\n",
              "      <td>42</td>\n",
              "      <td>NIGER</td>\n",
              "      <td>Yes</td>\n",
              "      <td>Single</td>\n",
              "      <td>No</td>\n",
              "      <td>No</td>\n",
              "      <td>1</td>\n",
              "      <td>10</td>\n",
              "      <td>37</td>\n",
              "    </tr>\n",
              "    <tr>\n",
              "      <th>4</th>\n",
              "      <td>Information and Strategy</td>\n",
              "      <td>First Degree or HND</td>\n",
              "      <td>Male</td>\n",
              "      <td>Direct Internal process</td>\n",
              "      <td>3</td>\n",
              "      <td>1990</td>\n",
              "      <td>7.500</td>\n",
              "      <td>2012</td>\n",
              "      <td>0</td>\n",
              "      <td>0</td>\n",
              "      <td>77</td>\n",
              "      <td>AKWA IBOM</td>\n",
              "      <td>Yes</td>\n",
              "      <td>Married</td>\n",
              "      <td>No</td>\n",
              "      <td>No</td>\n",
              "      <td>1</td>\n",
              "      <td>7</td>\n",
              "      <td>29</td>\n",
              "    </tr>\n",
              "  </tbody>\n",
              "</table>\n",
              "</div>"
            ],
            "text/plain": [
              "                                Division  ... Age_in_years\n",
              "0         Commercial Sales and Marketing  ...           33\n",
              "1  Customer Support and Field Operations  ...           28\n",
              "2         Commercial Sales and Marketing  ...           32\n",
              "3         Commercial Sales and Marketing  ...           37\n",
              "4               Information and Strategy  ...           29\n",
              "\n",
              "[5 rows x 19 columns]"
            ]
          },
          "metadata": {
            "tags": []
          },
          "execution_count": 126
        }
      ]
    },
    {
      "cell_type": "code",
      "metadata": {
        "id": "lgO_PMwwUzq2",
        "colab_type": "code",
        "colab": {}
      },
      "source": [
        "#dropping Year_of_recruitment and Year_of_birth\n",
        "train.drop('Year_of_recruitment', axis = 1, inplace = True)\n",
        "test.drop('Year_of_recruitment', axis = 1, inplace = True)\n",
        "\n",
        "train.drop('Year_of_birth', axis = 1, inplace = True)\n",
        "test.drop('Year_of_birth', axis = 1, inplace = True)\n"
      ],
      "execution_count": 0,
      "outputs": []
    },
    {
      "cell_type": "code",
      "metadata": {
        "id": "mP2267LZYSpj",
        "colab_type": "code",
        "colab": {
          "base_uri": "https://localhost:8080/",
          "height": 411
        },
        "outputId": "d278a4a6-adb7-4961-ef61-417851263146"
      },
      "source": [
        "train.head()"
      ],
      "execution_count": 128,
      "outputs": [
        {
          "output_type": "execute_result",
          "data": {
            "text/html": [
              "<div>\n",
              "<style scoped>\n",
              "    .dataframe tbody tr th:only-of-type {\n",
              "        vertical-align: middle;\n",
              "    }\n",
              "\n",
              "    .dataframe tbody tr th {\n",
              "        vertical-align: top;\n",
              "    }\n",
              "\n",
              "    .dataframe thead th {\n",
              "        text-align: right;\n",
              "    }\n",
              "</style>\n",
              "<table border=\"1\" class=\"dataframe\">\n",
              "  <thead>\n",
              "    <tr style=\"text-align: right;\">\n",
              "      <th></th>\n",
              "      <th>Division</th>\n",
              "      <th>Qualification</th>\n",
              "      <th>Gender</th>\n",
              "      <th>Channel_of_Recruitment</th>\n",
              "      <th>Trainings_Attended</th>\n",
              "      <th>Last_performance_score</th>\n",
              "      <th>Targets_met</th>\n",
              "      <th>Previous_Award</th>\n",
              "      <th>Training_score_average</th>\n",
              "      <th>State_Of_Origin</th>\n",
              "      <th>Foreign_schooled</th>\n",
              "      <th>Marital_Status</th>\n",
              "      <th>Past_Disciplinary_Action</th>\n",
              "      <th>Previous_IntraDepartmental_Movement</th>\n",
              "      <th>No_of_previous_employers</th>\n",
              "      <th>No_Of_Year_Spent</th>\n",
              "      <th>Age_in_years</th>\n",
              "    </tr>\n",
              "  </thead>\n",
              "  <tbody>\n",
              "    <tr>\n",
              "      <th>0</th>\n",
              "      <td>Commercial Sales and Marketing</td>\n",
              "      <td>MSc, MBA and PhD</td>\n",
              "      <td>Female</td>\n",
              "      <td>Direct Internal process</td>\n",
              "      <td>2</td>\n",
              "      <td>12.500</td>\n",
              "      <td>1</td>\n",
              "      <td>0</td>\n",
              "      <td>41</td>\n",
              "      <td>ANAMBRA</td>\n",
              "      <td>No</td>\n",
              "      <td>Married</td>\n",
              "      <td>No</td>\n",
              "      <td>No</td>\n",
              "      <td>0</td>\n",
              "      <td>8</td>\n",
              "      <td>33</td>\n",
              "    </tr>\n",
              "    <tr>\n",
              "      <th>1</th>\n",
              "      <td>Customer Support and Field Operations</td>\n",
              "      <td>First Degree or HND</td>\n",
              "      <td>Male</td>\n",
              "      <td>Agency and others</td>\n",
              "      <td>2</td>\n",
              "      <td>12.500</td>\n",
              "      <td>0</td>\n",
              "      <td>0</td>\n",
              "      <td>52</td>\n",
              "      <td>ANAMBRA</td>\n",
              "      <td>Yes</td>\n",
              "      <td>Married</td>\n",
              "      <td>No</td>\n",
              "      <td>No</td>\n",
              "      <td>0</td>\n",
              "      <td>4</td>\n",
              "      <td>28</td>\n",
              "    </tr>\n",
              "    <tr>\n",
              "      <th>2</th>\n",
              "      <td>Commercial Sales and Marketing</td>\n",
              "      <td>First Degree or HND</td>\n",
              "      <td>Male</td>\n",
              "      <td>Direct Internal process</td>\n",
              "      <td>2</td>\n",
              "      <td>7.500</td>\n",
              "      <td>0</td>\n",
              "      <td>0</td>\n",
              "      <td>42</td>\n",
              "      <td>KATSINA</td>\n",
              "      <td>Yes</td>\n",
              "      <td>Married</td>\n",
              "      <td>No</td>\n",
              "      <td>No</td>\n",
              "      <td>0</td>\n",
              "      <td>7</td>\n",
              "      <td>32</td>\n",
              "    </tr>\n",
              "    <tr>\n",
              "      <th>3</th>\n",
              "      <td>Commercial Sales and Marketing</td>\n",
              "      <td>First Degree or HND</td>\n",
              "      <td>Male</td>\n",
              "      <td>Agency and others</td>\n",
              "      <td>3</td>\n",
              "      <td>2.500</td>\n",
              "      <td>0</td>\n",
              "      <td>0</td>\n",
              "      <td>42</td>\n",
              "      <td>NIGER</td>\n",
              "      <td>Yes</td>\n",
              "      <td>Single</td>\n",
              "      <td>No</td>\n",
              "      <td>No</td>\n",
              "      <td>1</td>\n",
              "      <td>10</td>\n",
              "      <td>37</td>\n",
              "    </tr>\n",
              "    <tr>\n",
              "      <th>4</th>\n",
              "      <td>Information and Strategy</td>\n",
              "      <td>First Degree or HND</td>\n",
              "      <td>Male</td>\n",
              "      <td>Direct Internal process</td>\n",
              "      <td>3</td>\n",
              "      <td>7.500</td>\n",
              "      <td>0</td>\n",
              "      <td>0</td>\n",
              "      <td>77</td>\n",
              "      <td>AKWA IBOM</td>\n",
              "      <td>Yes</td>\n",
              "      <td>Married</td>\n",
              "      <td>No</td>\n",
              "      <td>No</td>\n",
              "      <td>1</td>\n",
              "      <td>7</td>\n",
              "      <td>29</td>\n",
              "    </tr>\n",
              "  </tbody>\n",
              "</table>\n",
              "</div>"
            ],
            "text/plain": [
              "                                Division  ... Age_in_years\n",
              "0         Commercial Sales and Marketing  ...           33\n",
              "1  Customer Support and Field Operations  ...           28\n",
              "2         Commercial Sales and Marketing  ...           32\n",
              "3         Commercial Sales and Marketing  ...           37\n",
              "4               Information and Strategy  ...           29\n",
              "\n",
              "[5 rows x 17 columns]"
            ]
          },
          "metadata": {
            "tags": []
          },
          "execution_count": 128
        }
      ]
    },
    {
      "cell_type": "code",
      "metadata": {
        "id": "ugF5zqcE5Pkh",
        "colab_type": "code",
        "outputId": "c0472a86-f1b5-4e8f-8185-e96579093368",
        "colab": {
          "base_uri": "https://localhost:8080/",
          "height": 187
        }
      },
      "source": [
        "qualitative"
      ],
      "execution_count": 129,
      "outputs": [
        {
          "output_type": "execute_result",
          "data": {
            "text/plain": [
              "['Division',\n",
              " 'Qualification',\n",
              " 'Gender',\n",
              " 'Channel_of_Recruitment',\n",
              " 'State_Of_Origin',\n",
              " 'Foreign_schooled',\n",
              " 'Marital_Status',\n",
              " 'Past_Disciplinary_Action',\n",
              " 'Previous_IntraDepartmental_Movement',\n",
              " 'No_of_previous_employers']"
            ]
          },
          "metadata": {
            "tags": []
          },
          "execution_count": 129
        }
      ]
    },
    {
      "cell_type": "code",
      "metadata": {
        "id": "aoJ1ANto4-ur",
        "colab_type": "code",
        "colab": {}
      },
      "source": [
        "#one hot encode categorical varribles\n",
        "\n",
        "for column in qualitative:\n",
        "    dummies = pd.get_dummies(train[column], prefix=column[:5])\n",
        "    train = pd.concat([train, dummies], axis=1)\n",
        "\n",
        "for column in qualitative:\n",
        "    dummies = pd.get_dummies(test[column], prefix=column[:5])\n",
        "    test = pd.concat([test, dummies], axis=1)"
      ],
      "execution_count": 0,
      "outputs": []
    },
    {
      "cell_type": "code",
      "metadata": {
        "id": "KlRYI7FU92sv",
        "colab_type": "code",
        "colab": {}
      },
      "source": [
        "#drop all categorical column\n",
        "train.drop(qualitative,axis=1,inplace=True)"
      ],
      "execution_count": 0,
      "outputs": []
    },
    {
      "cell_type": "code",
      "metadata": {
        "id": "bhSn6Uds-ioe",
        "colab_type": "code",
        "colab": {}
      },
      "source": [
        "test.drop(qualitative,axis=1,inplace=True)"
      ],
      "execution_count": 0,
      "outputs": []
    },
    {
      "cell_type": "code",
      "metadata": {
        "id": "DaZ-mCKnppA6",
        "colab_type": "code",
        "colab": {}
      },
      "source": [
        "# train and valid sets from train\n",
        "from sklearn.ensemble import RandomForestClassifier\n",
        "from sklearn.model_selection import train_test_split\n",
        "\n",
        "x_trn,x_valid, y_trn, y_valid = train_test_split(train,y_train, test_size = 0.2, random_state = 0)"
      ],
      "execution_count": 0,
      "outputs": []
    },
    {
      "cell_type": "code",
      "metadata": {
        "id": "pbeQMn2j1BQC",
        "colab_type": "code",
        "outputId": "ef6ff253-719f-4ab6-cd17-674bda3f74bf",
        "colab": {
          "base_uri": "https://localhost:8080/",
          "height": 136
        }
      },
      "source": [
        "model=RandomForestClassifier(n_estimators=200,random_state=200,max_features=0.5,min_samples_leaf=3,oob_score=True,n_jobs=-1)\n",
        "model.fit(train,y_train)"
      ],
      "execution_count": 134,
      "outputs": [
        {
          "output_type": "execute_result",
          "data": {
            "text/plain": [
              "RandomForestClassifier(bootstrap=True, class_weight=None, criterion='gini',\n",
              "                       max_depth=None, max_features=0.5, max_leaf_nodes=None,\n",
              "                       min_impurity_decrease=0.0, min_impurity_split=None,\n",
              "                       min_samples_leaf=3, min_samples_split=2,\n",
              "                       min_weight_fraction_leaf=0.0, n_estimators=200,\n",
              "                       n_jobs=-1, oob_score=True, random_state=200, verbose=0,\n",
              "                       warm_start=False)"
            ]
          },
          "metadata": {
            "tags": []
          },
          "execution_count": 134
        }
      ]
    },
    {
      "cell_type": "code",
      "metadata": {
        "id": "Ypo9MxHk_PsF",
        "colab_type": "code",
        "outputId": "f0e8caea-bdd7-41dd-eb74-46f89ee87569",
        "colab": {
          "base_uri": "https://localhost:8080/",
          "height": 34
        }
      },
      "source": [
        "#Our Score on Validation Data\n",
        "model.score(x_valid,y_valid)"
      ],
      "execution_count": 135,
      "outputs": [
        {
          "output_type": "execute_result",
          "data": {
            "text/plain": [
              "0.9569359258775937"
            ]
          },
          "metadata": {
            "tags": []
          },
          "execution_count": 135
        }
      ]
    },
    {
      "cell_type": "code",
      "metadata": {
        "id": "5jqypm39_tdn",
        "colab_type": "code",
        "colab": {}
      },
      "source": [
        "#Prediction on Test Set\n",
        "predict_y = model.predict(test)"
      ],
      "execution_count": 0,
      "outputs": []
    },
    {
      "cell_type": "code",
      "metadata": {
        "id": "y8fZQTh9_vfz",
        "colab_type": "code",
        "outputId": "d7fada35-2461-4d80-b154-4fd711b149b0",
        "colab": {
          "base_uri": "https://localhost:8080/",
          "height": 34
        }
      },
      "source": [
        "#Our Score on Training data\n",
        "model.score(x_trn,y_trn)"
      ],
      "execution_count": 137,
      "outputs": [
        {
          "output_type": "execute_result",
          "data": {
            "text/plain": [
              "0.9529511566445887"
            ]
          },
          "metadata": {
            "tags": []
          },
          "execution_count": 137
        }
      ]
    },
    {
      "cell_type": "code",
      "metadata": {
        "id": "zaOh8kza_8OU",
        "colab_type": "code",
        "colab": {}
      },
      "source": [
        "#Prepare our Submission file\n",
        "my_submission = pd.DataFrame({'EmployeeNo':test_ID, 'Promoted_or_Not': predict_y })\n",
        "my_submission.to_csv('submission_ayanlola.csv', index=False)"
      ],
      "execution_count": 0,
      "outputs": []
    },
    {
      "cell_type": "code",
      "metadata": {
        "id": "4xLo2B4RA3ON",
        "colab_type": "code",
        "outputId": "540839df-6404-470c-d8af-e69ecf1f5780",
        "colab": {
          "base_uri": "https://localhost:8080/",
          "height": 88
        }
      },
      "source": [
        "!kaggle competitions submit -c intercampusai2019 -f submission_ayanlola.csv -m \"BOOTCAMP\""
      ],
      "execution_count": 139,
      "outputs": [
        {
          "output_type": "stream",
          "text": [
            "Warning: Looks like you're using an outdated API Version, please consider updating (server 1.5.6 / client 1.5.4)\n",
            "100% 226k/226k [00:01<00:00, 134kB/s]\n",
            "Successfully submitted to Data Science Nigeria Staff Promotion Algorithm "
          ],
          "name": "stdout"
        }
      ]
    },
    {
      "cell_type": "code",
      "metadata": {
        "id": "EYHLjXe0DAHa",
        "colab_type": "code",
        "outputId": "191a56d8-71f1-472f-aaa1-e9946e13c51b",
        "colab": {
          "base_uri": "https://localhost:8080/",
          "height": 122
        }
      },
      "source": [
        "!kaggle competitions submissions -c intercampusai2019"
      ],
      "execution_count": 140,
      "outputs": [
        {
          "output_type": "stream",
          "text": [
            "Warning: Looks like you're using an outdated API Version, please consider updating (server 1.5.6 / client 1.5.4)\n",
            "fileName                 date                 description  status    publicScore  privateScore  \n",
            "-----------------------  -------------------  -----------  --------  -----------  ------------  \n",
            "submission_ayanlola.csv  2019-10-13 23:11:24  BOOTCAMP     complete  0.94421      None          \n",
            "submission_ayanlola.csv  2019-09-24 02:13:53  BOOTCAMP     complete  0.94401      None          \n"
          ],
          "name": "stdout"
        }
      ]
    },
    {
      "cell_type": "code",
      "metadata": {
        "id": "mvJ2jCiNDo2V",
        "colab_type": "code",
        "colab": {}
      },
      "source": [
        ""
      ],
      "execution_count": 0,
      "outputs": []
    }
  ]
}